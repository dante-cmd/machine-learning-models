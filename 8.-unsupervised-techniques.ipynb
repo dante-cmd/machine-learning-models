{
 "cells": [
  {
   "cell_type": "markdown",
   "metadata": {},
   "source": [
    "# Unsupervised Techniques"
   ]
  },
  {
   "cell_type": "markdown",
   "metadata": {},
   "source": [
    "<!-- * Given the join distribution for r.v.s $X$ and $Y$ is $Pr(X,Y)= Pr(Y|X)\\;Pr(X)$. -->\n",
    "* While the *supervised learning* is interesed on $Pr(Y|X)$, *unsupervised learning* is interesed on $Pr(X)$\n",
    "    * Later we has a set of $N$ observations $(x_1, x_2, ... , x_N)$ of a random $p-vector$ $X$ having joint density $Pr(X)$. \n",
    "    * We aim to directly infer the properties of this probability density without the help of a supervisor or teacher providing correct answers.\n",
    "* In the context of *unsupervised learning*, there is no such direct measure of success.\n",
    "* *Cluster analysis* attempts to find multiple convex regions of the $X-space$ that contain modes of $Pr(X)$. This can tell whether or not $Pr(X)$ can be represented by a mixture of simpler densities representing distinct types or classes of observations.\n",
    "\n",
    "* *Association rules* attempt to construct simple descriptions (conjunctive rules) that describe regions of high density in the special case of very high dimensional binary-valued data."
   ]
  },
  {
   "cell_type": "markdown",
   "metadata": {},
   "source": [
    "## Association Rules"
   ]
  },
  {
   "cell_type": "markdown",
   "metadata": {},
   "source": [
    "* It's a popular tool for mining comercial data bases.\n",
    "* The goal is to find join values of Variables $X = (X_1, ..., X_p)$ that apear most frequently in the database\n",
    "* In *Market basket analysis* the $X_j$ is a *binary-value*, that is $X_j\\in\\{0, 1\\}$, where $X_j$ is a item, and take of the value of $1$ if was bought, and $0$ if not. \n",
    "* Where  the rows represent the transactions and the variables represent all of the items sold in the store.\n",
    "* Those variables that frequently have joint values of one represent items that are frequently purchased together.\n",
    "* This information can be quite useful for cross-marketing in sales promotions  and consumer segmentation based on buying patterns"
   ]
  },
  {
   "cell_type": "markdown",
   "metadata": {},
   "source": [
    "## Association Pattern Mining"
   ]
  },
  {
   "cell_type": "markdown",
   "metadata": {},
   "source": [
    "The problem of association pattern mining is defined in the context of supermarket data containing sets of items bought by customers, which are refered like *transactions*\n",
    "\n",
    "The goal is to determine the *association* between groups of items bought by customers. This can be like a correlations\n",
    "\n",
    "The model used to discover the association is *frequency* of sets\n",
    "\n",
    "Applications: Supermarket data, text mining, ...\n"
   ]
  },
  {
   "cell_type": "markdown",
   "metadata": {},
   "source": [
    "Because the frequent pattern mining problem was originally proposed in the context of market basket data, a significant amount of terminology used to describe both the data (e.g., `transactions`) and the output (e.g., `itemsets`) is borrowed from the supermarket analogy"
   ]
  },
  {
   "cell_type": "markdown",
   "metadata": {},
   "source": [
    "A *frequent pattern* may be defined as *frequent subset*. (e.g. \\{\\{egg, milk\\},\\{milk, bread\\}, \\{milk, bread\\}\\}). Here the frequent subset is \\{milk, bread\\} "
   ]
  },
  {
   "cell_type": "markdown",
   "metadata": {},
   "source": [
    "Frequent itemsets can be used to generate `association rules` of the form $X \\rightarrow Y$, where $X$ and $Y$ are set of items.\n",
    "\n",
    "e.g. $\\{Beer\\} \\rightarrow \\{deaper \\} $ \n",
    "\n",
    "This rule suggests that buying *beer* makes it more likely that *diapers* will also be bought. Given this information can tale some decision"
   ]
  },
  {
   "cell_type": "markdown",
   "metadata": {},
   "source": [
    "### The Frequent Pattern Mining Model"
   ]
  },
  {
   "cell_type": "markdown",
   "metadata": {},
   "source": [
    "The problem on association is defined on `unordered data`. (JSON especially)."
   ]
  },
  {
   "cell_type": "markdown",
   "metadata": {},
   "source": [
    "Assumption:\n",
    "* The data has $n$ transactions, denote by $T_1, T_2, \\dots ,T_n$\n",
    "* Each transaction is drawn from an universe of items $U$.\n",
    "* The extraction can be defined binary attributes, where $1$ means the item was bought and $0$ otherwise.\n",
    "\n",
    "Definition\n",
    "* itemset is a *set of items*. $k-\\text{itemset}$ is a set of item that have $k$ items."
   ]
  },
  {
   "cell_type": "markdown",
   "metadata": {},
   "source": [
    "> **Support** \n",
    "> \n",
    "> The support of an itemset $I$ is defined as the fraction of the $n$ transactions in the database  that contain $I$ as a subset. Defined $Sup(I)$"
   ]
  },
  {
   "cell_type": "markdown",
   "metadata": {},
   "source": [
    "Items correlationated will have hight support\n",
    "\n",
    "We usually define a `minsup`, minimun support to analize.\n",
    "\n"
   ]
  },
  {
   "cell_type": "code",
   "execution_count": 1,
   "metadata": {},
   "outputs": [],
   "source": [
    "import os"
   ]
  },
  {
   "cell_type": "code",
   "execution_count": 89,
   "metadata": {},
   "outputs": [],
   "source": [
    "import pandas as pd\n",
    "import numpy as np"
   ]
  },
  {
   "cell_type": "code",
   "execution_count": 82,
   "metadata": {},
   "outputs": [],
   "source": [
    "df = pd.read_json(r'./assets/unsupervised/data.json')"
   ]
  },
  {
   "cell_type": "code",
   "execution_count": 83,
   "metadata": {},
   "outputs": [],
   "source": [
    "df.set_index('id', inplace=True)"
   ]
  },
  {
   "cell_type": "code",
   "execution_count": 84,
   "metadata": {},
   "outputs": [],
   "source": [
    "df['items'] = df['items'].astype('str')\n",
    "df['items'] = df['items'].replace(r\"\\[|\\]|[']| \", '', regex=True) "
   ]
  },
  {
   "cell_type": "code",
   "execution_count": 85,
   "metadata": {},
   "outputs": [],
   "source": [
    "data_normalize = df['items'].str.get_dummies(',')"
   ]
  },
  {
   "cell_type": "code",
   "execution_count": null,
   "metadata": {},
   "outputs": [],
   "source": [
    "data_normalize"
   ]
  },
  {
   "cell_type": "markdown",
   "metadata": {},
   "source": [
    "We can compute $\\text{Suport}(\\text{Milk}, \\text{Bread})$"
   ]
  },
  {
   "cell_type": "code",
   "execution_count": 87,
   "metadata": {},
   "outputs": [
    {
     "name": "stdout",
     "output_type": "stream",
     "text": [
      "Suport({milk, bread}) =  0.4\n"
     ]
    }
   ],
   "source": [
    "milk_bread = ((data_normalize.Bread == 1) & (data_normalize.Milk == 1))\n",
    "print('Suport({milk, bread}) = ', milk_bread.mean())"
   ]
  },
  {
   "cell_type": "markdown",
   "metadata": {},
   "source": [
    "We can compute the $\\text{Suport}(\\text{bread})$  as well"
   ]
  },
  {
   "cell_type": "code",
   "execution_count": 101,
   "metadata": {},
   "outputs": [
    {
     "name": "stdout",
     "output_type": "stream",
     "text": [
      "Suport({bread}) =  0.4\n"
     ]
    }
   ],
   "source": [
    "bread = (data_normalize.Bread == 1)\n",
    "print('Suport({bread}) = ', bread.mean())"
   ]
  },
  {
   "cell_type": "markdown",
   "metadata": {},
   "source": [
    "Recall, the analysis is done for a sample, so, if the result $Support(\\{bread\\}) = 0.4$ is for a sample of size 100, we can build a *Confidence Interval* "
   ]
  },
  {
   "cell_type": "code",
   "execution_count": 99,
   "metadata": {},
   "outputs": [
    {
     "name": "stdout",
     "output_type": "stream",
     "text": [
      "> p + 1.96 √p(1-p)/n: 0.4960199979171006\n",
      "> p - 1.96 √p(1-p)/n: 0.30398000208289944\n"
     ]
    }
   ],
   "source": [
    "se = 1.96*np.sqrt(0.4*(1-0.4)/100)\n",
    "ub = 0.4 + se\n",
    "lb = 0.4 - se\n",
    "print(f\"> p + 1.96 \\u221Ap(1-p)/n: {ub}\")\n",
    "print(f\"> p - 1.96 \\u221Ap(1-p)/n: {lb}\")"
   ]
  },
  {
   "cell_type": "markdown",
   "metadata": {},
   "source": [
    "## Association Rule Generation Framework"
   ]
  },
  {
   "cell_type": "markdown",
   "metadata": {},
   "source": [
    "Frequent itemsets can be used to generate *association* rules, with the use of a measure known as the *confidence*.\n",
    "\n",
    "The $\\text{conf}({X \\rightarrow Y})$ is the conditional probabity that a transaction contains the set of items $Y$ , given that it contains the set $X$. That is $P(Y|X)$"
   ]
  },
  {
   "cell_type": "markdown",
   "metadata": {},
   "source": [
    "> **Confidence**\n",
    "> \n",
    "> Let $X$ and $Y$ be two sets of items. The confidence $Conf(X ⇒ Y)$  is the conditional probability of $ X ∪ Y$ occurring in a transaction, given that the transaction contains $X$"
   ]
  },
  {
   "cell_type": "markdown",
   "metadata": {},
   "source": [
    "$$Conf(X ⇒ Y) = \\frac{Sup (X ∪ Y)} {Sup (X)}$$"
   ]
  },
  {
   "cell_type": "code",
   "execution_count": 107,
   "metadata": {},
   "outputs": [
    {
     "name": "stdout",
     "output_type": "stream",
     "text": [
      "Conf({bread} -> {milk}) = 1.0\n"
     ]
    }
   ],
   "source": [
    "print('Conf({bread} -> {milk}) = %s'%(milk_bread.mean()/bread.mean()))"
   ]
  },
  {
   "cell_type": "markdown",
   "metadata": {},
   "source": [
    "But the support of $\\{milk\\}$, that is $Sup(\\{milk\\})$ , already is 1, so the result don't change, if previously is bought bread"
   ]
  },
  {
   "cell_type": "code",
   "execution_count": 108,
   "metadata": {},
   "outputs": [
    {
     "name": "stdout",
     "output_type": "stream",
     "text": [
      "Suport({milk}) =  1.0\n"
     ]
    }
   ],
   "source": [
    "milk = (data_normalize.Milk == 1)\n",
    "print('Suport({milk}) = ', milk.mean())"
   ]
  },
  {
   "cell_type": "markdown",
   "metadata": {},
   "source": [
    "Technically talking, the itemsets $X$ and $Y$ are said to be the *antecedent* and the *consequent* of the rule"
   ]
  },
  {
   "cell_type": "markdown",
   "metadata": {},
   "source": [
    "The *expected confidence* is defined as the support of the *consecuent*, $Y$, that is $Sup(Y)$, which is an estimate of the unconditional probability $Pr(Y)$, so the result above, $Suport(\\{milk\\}) =  1.0$ is *expected confidence*"
   ]
  },
  {
   "cell_type": "markdown",
   "metadata": {},
   "source": [
    "The last definition is *lift*\n",
    "\n",
    "The *lift* of the rule is defined as the *confidence* divided by the *expected confidence*\n",
    "\n",
    "$$L(X ⇒ Y) = \\frac{C(X ⇒ Y)}{Sup (Y)}$$"
   ]
  },
  {
   "cell_type": "markdown",
   "metadata": {},
   "source": [
    "In terms of probability can be written like a ratio\n",
    "\n",
    "$$P(Y|X)/P(Y)$$"
   ]
  },
  {
   "cell_type": "code",
   "execution_count": 117,
   "metadata": {},
   "outputs": [
    {
     "name": "stdout",
     "output_type": "stream",
     "text": [
      "L({bread} => {milk}) = 1.0\n"
     ]
    }
   ],
   "source": [
    "milk = (data_normalize.Milk == 1)\n",
    "print('L({bread} => {milk}) = %s'%((milk_bread.mean()/bread.mean())/milk.mean()))"
   ]
  },
  {
   "cell_type": "markdown",
   "metadata": {},
   "source": [
    "As we can see the contribution of bread to buy milk is null\n",
    "\n",
    "What if the *consecuent* is $\\{bread\\}$ and and *antecedent* is $\\{milk\\}$?"
   ]
  },
  {
   "cell_type": "code",
   "execution_count": 120,
   "metadata": {},
   "outputs": [
    {
     "data": {
      "text/plain": [
       "1.0"
      ]
     },
     "execution_count": 120,
     "metadata": {},
     "output_type": "execute_result"
    }
   ],
   "source": [
    "(milk_bread.mean()/milk.mean())/(bread.mean())"
   ]
  },
  {
   "cell_type": "markdown",
   "metadata": {},
   "source": [
    "We can see don't have any effect"
   ]
  },
  {
   "cell_type": "markdown",
   "metadata": {},
   "source": [
    "##  The Apriori Algorithm\n",
    "\n",
    "The Apriori Algorithm solves with a small number of passes over the data. Specifically, for a given support threshold $t$:\n",
    "\n",
    "The first pass over the data computes the support of all single-item sets. Those whose support is less than the threshold are discarded. The second pass computes the support of all item sets of size two that can be formed from pairs of the single items surviving the first pass.\n",
    "\n",
    "The Apriori algorithm represents one of the major advances in data mining technology"
   ]
  },
  {
   "cell_type": "code",
   "execution_count": 1,
   "metadata": {},
   "outputs": [],
   "source": [
    "import numpy as np\n",
    "from itertools import combinations, product\n",
    "import pandas as pd, re"
   ]
  },
  {
   "cell_type": "code",
   "execution_count": 2,
   "metadata": {},
   "outputs": [],
   "source": [
    "class Basket:\n",
    "    \n",
    "    def __init__(self, df:pd.DataFrame) -> None:\n",
    "        \"\"\"\n",
    "        Columns of data frame must be binary values. I = 0 or 1\n",
    "        Rows must be an id id some customer\n",
    "        \"\"\"\n",
    "        # Convert to np.array\n",
    "        self.x = df.values\n",
    "        # Convert to boolean\n",
    "        self.x_bool = (self.x == 1)\n",
    "        # Columns to string\n",
    "        self.columns = df.columns.astype(str).values\n",
    "    \n",
    "    def UniSupport(self, t=0):\n",
    "        \"\"\" \n",
    "        This compute the support of itemset I, where length is 1, |I|=1 \n",
    "        \"\"\"\n",
    "        self.t = t\n",
    "        x_support = self.x_bool.mean(axis=0)\n",
    "        self.condition = x_support>t\n",
    "        self.x_support_serie = pd.Series(x_support[self.condition],self.columns[self.condition] , name = 'UniSupport',)\n",
    "        x_support_serie_export = self.x_support_serie.copy()\n",
    "        x_support_serie_export.index = x_support_serie_export.index.str.replace(r'((?:.|\\s)+)', r'Sup(\\1)', regex=True)\n",
    "\n",
    "        return x_support_serie_export\n",
    "    \n",
    "    def PairSupport(self, t):\n",
    "        \"\"\" \n",
    "        This compute the support of itemset I, where length is 2, |I|=2,\n",
    "        given the min support above specified\n",
    "        \"\"\"\n",
    "        self.pair_t = t\n",
    "        feat_indx = np.where(self.condition)[0]\n",
    "        support_pair_select = {}\n",
    "\n",
    "        for comb in combinations(feat_indx, 2):\n",
    "            X_support_select = self.x_bool[:, comb].all(axis = 1).mean()\n",
    "            columns_select = self.columns[np.asarray(comb)]\n",
    "            if X_support_select > t:\n",
    "                support_pair_select[tuple(columns_select)] = X_support_select\n",
    "        self.support_pair_select_serie = pd.Series(support_pair_select, name='PairSupport')\n",
    "        support_pair_select_serie_export = self.support_pair_select_serie.copy()\n",
    "        support_pair_select_serie_export.index = ['Sup('+','.join(x) +')' for x in  support_pair_select_serie_export.index]\n",
    "        support_pair_select_serie_export.index.name = 'Sup(A,B)'\n",
    "        \n",
    "        return support_pair_select_serie_export\n",
    "\n",
    "    def Confidence(self, given_set = 'A'):\n",
    "        \n",
    "        self.given_set = given_set\n",
    "        df_support_uni = self.x_support_serie.reset_index().copy()\n",
    "        df_support_uni.rename(columns={'index':f'{self.given_set}', 'UniSupport':f'UniSupport_{self.given_set}'}, inplace=True)\n",
    "        df_support_uni[f'Sup({self.given_set})'] = self.UniSupport(self.t).index\n",
    "        \n",
    "        self.support_pair_select_serie.index = self.support_pair_select_serie.index.set_names(['A', 'B'])\n",
    "        df_support_pair = self.support_pair_select_serie.reset_index()\n",
    "        df_support_pair['Sup(A,B)'] = self.PairSupport(self.pair_t).index\n",
    "\n",
    "        df_support_total = df_support_pair.merge(df_support_uni, on=f'{self.given_set}')\n",
    "        df_support_total[f'Sup(A,B)/Sup({self.given_set})'] = df_support_total['Sup(A,B)'].add('/' + df_support_total[f'Sup({self.given_set})'])\n",
    "        df_support_total.set_index(f'Sup(A,B)/Sup({self.given_set})', inplace=True)\n",
    "        df_support_total['Confidence'] = df_support_total['PairSupport']/df_support_total[f'UniSupport_{self.given_set}']\n",
    "        self.df_support_total = df_support_total\n",
    "        \n",
    "        return  df_support_total['Confidence']\n",
    "\n",
    "    def Lift(self):\n",
    "        lift_set = 'B' if self.given_set == 'A' else 'A'\n",
    "        \n",
    "        df_support_uni = self.x_support_serie.reset_index().copy()\n",
    "        df_support_uni.rename(columns={'index':f'{lift_set}', 'UniSupport':f'UniSupport_{lift_set}'}, inplace=True)\n",
    "        df_support_uni[f'Sup({lift_set})'] = self.UniSupport(self.t).index\n",
    "\n",
    "        df_support_total_lift = self.df_support_total.merge(df_support_uni, on = f'{lift_set}', how='left')\n",
    "        df_support_total_lift['Lift'] = df_support_total_lift['Confidence']/df_support_total_lift[f'UniSupport_{lift_set}']\n",
    "        df_support_total_lift.index = (\n",
    "            df_support_total_lift[\"Sup(A,B)\"] + \"/\" + df_support_total_lift[f\"Sup({self.given_set})\"] + df_support_total_lift[f\"Sup({lift_set})\"])\n",
    "        df_support_total_lift.index.name = f\"Sup(A,B)/Sup({self.given_set})Sup({lift_set})\"\n",
    "\n",
    "        return  df_support_total_lift['Lift']"
   ]
  },
  {
   "cell_type": "code",
   "execution_count": 3,
   "metadata": {},
   "outputs": [],
   "source": [
    "data_microsoft = pd.read_csv(r'C:\\Users\\LENOVO\\Desktop\\projects\\3.- STS\\data_microsoft.csv', sep=',')"
   ]
  },
  {
   "cell_type": "code",
   "execution_count": 4,
   "metadata": {},
   "outputs": [],
   "source": [
    "attribute_by_idx = pd.crosstab(data_microsoft['user_ID'], data_microsoft['attribute_ID'])\n",
    "attribute_by_idx.columns = attribute_by_idx.columns.astype(str)"
   ]
  },
  {
   "cell_type": "code",
   "execution_count": 13,
   "metadata": {},
   "outputs": [],
   "source": [
    "sales_normalize = pd.read_csv(r'C:\\Users\\LENOVO\\Desktop\\python_course\\PySpark\\Learning\\assets\\files\\sales_normalize.csv')\n",
    "product_id_by_sales_id = pd.crosstab(sales_normalize['sales_id'], sales_normalize['product_id'])"
   ]
  },
  {
   "cell_type": "code",
   "execution_count": 15,
   "metadata": {},
   "outputs": [],
   "source": [
    "basket = Basket(product_id_by_sales_id)"
   ]
  },
  {
   "cell_type": "code",
   "execution_count": 22,
   "metadata": {},
   "outputs": [
    {
     "data": {
      "text/plain": [
       "Sup(14242)    0.0182\n",
       "Sup(18460)    0.0171\n",
       "Sup(19888)    0.0171\n",
       "Name: UniSupport, dtype: float64"
      ]
     },
     "execution_count": 22,
     "metadata": {},
     "output_type": "execute_result"
    }
   ],
   "source": [
    "basket.UniSupport(0.017)"
   ]
  },
  {
   "cell_type": "code",
   "execution_count": 27,
   "metadata": {},
   "outputs": [
    {
     "data": {
      "text/plain": [
       "Sup(A,B)\n",
       "Sup(14242,18460)    0.0005\n",
       "Sup(14242,19888)    0.0004\n",
       "Sup(18460,19888)    0.0007\n",
       "Name: PairSupport, dtype: float64"
      ]
     },
     "execution_count": 27,
     "metadata": {},
     "output_type": "execute_result"
    }
   ],
   "source": [
    "basket.PairSupport(t=0)"
   ]
  },
  {
   "cell_type": "code",
   "execution_count": 28,
   "metadata": {},
   "outputs": [
    {
     "data": {
      "text/plain": [
       "Sup(A,B)/Sup(A)\n",
       "Sup(14242,18460)/Sup(14242)    0.027473\n",
       "Sup(14242,19888)/Sup(14242)    0.021978\n",
       "Sup(18460,19888)/Sup(18460)    0.040936\n",
       "Name: Confidence, dtype: float64"
      ]
     },
     "execution_count": 28,
     "metadata": {},
     "output_type": "execute_result"
    }
   ],
   "source": [
    "basket.Confidence('A')"
   ]
  },
  {
   "cell_type": "code",
   "execution_count": 29,
   "metadata": {},
   "outputs": [
    {
     "data": {
      "text/plain": [
       "Sup(A,B)/Sup(A)Sup(B)\n",
       "Sup(14242,18460)/Sup(14242)Sup(18460)    1.606581\n",
       "Sup(14242,19888)/Sup(14242)Sup(19888)    1.285264\n",
       "Sup(18460,19888)/Sup(18460)Sup(19888)    2.393899\n",
       "Name: Lift, dtype: float64"
      ]
     },
     "execution_count": 29,
     "metadata": {},
     "output_type": "execute_result"
    }
   ],
   "source": [
    "basket.Lift()"
   ]
  },
  {
   "cell_type": "code",
   "execution_count": null,
   "metadata": {},
   "outputs": [],
   "source": []
  },
  {
   "cell_type": "code",
   "execution_count": 5,
   "metadata": {},
   "outputs": [],
   "source": [
    "columns_products = attribute_by_idx.columns[attribute_by_idx.columns.str.contains(r'\\d{4}$', regex=True)]"
   ]
  },
  {
   "cell_type": "code",
   "execution_count": 6,
   "metadata": {},
   "outputs": [],
   "source": [
    "basket = Basket(attribute_by_idx[columns_products])"
   ]
  },
  {
   "cell_type": "markdown",
   "metadata": {},
   "source": [
    "We choose as a treshold $5\\%$ since, this is the size data that will be used to compute the $Conf$ "
   ]
  },
  {
   "cell_type": "code",
   "execution_count": 7,
   "metadata": {},
   "outputs": [
    {
     "data": {
      "text/plain": [
       "Sup(1001)    0.136070\n",
       "Sup(1003)    0.090734\n",
       "Sup(1004)    0.258720\n",
       "Sup(1008)    0.331265\n",
       "Sup(1009)    0.141481\n",
       "Sup(1017)    0.156155\n",
       "Sup(1018)    0.162942\n",
       "Sup(1025)    0.064902\n",
       "Sup(1026)    0.098438\n",
       "Sup(1034)    0.286845\n",
       "Sup(1035)    0.054752\n",
       "Name: UniSupport, dtype: float64"
      ]
     },
     "execution_count": 7,
     "metadata": {},
     "output_type": "execute_result"
    }
   ],
   "source": [
    "basket.UniSupport(0.05)"
   ]
  },
  {
   "cell_type": "code",
   "execution_count": 26,
   "metadata": {},
   "outputs": [
    {
     "data": {
      "text/plain": [
       "Sup(A,B)\n",
       "Sup(1001,1003)    0.055211\n",
       "Sup(1001,1004)    0.048577\n",
       "Sup(1001,1018)    0.059430\n",
       "Sup(1003,1018)    0.046896\n",
       "Sup(1004,1008)    0.060438\n",
       "Sup(1004,1017)    0.049891\n",
       "Sup(1004,1018)    0.044786\n",
       "Sup(1004,1034)    0.053285\n",
       "Sup(1008,1009)    0.077925\n",
       "Sup(1008,1017)    0.061233\n",
       "Sup(1008,1018)    0.073064\n",
       "Sup(1008,1034)    0.160802\n",
       "Sup(1009,1018)    0.045000\n",
       "Sup(1017,1034)    0.047354\n",
       "Sup(1018,1034)    0.042982\n",
       "Sup(1018,1035)    0.046070\n",
       "Name: PairSupport, dtype: float64"
      ]
     },
     "execution_count": 26,
     "metadata": {},
     "output_type": "execute_result"
    }
   ],
   "source": [
    "basket.PairSupport(0.04)"
   ]
  },
  {
   "cell_type": "code",
   "execution_count": 27,
   "metadata": {},
   "outputs": [
    {
     "data": {
      "text/plain": [
       "Sup(A,B)/Sup(A)\n",
       "Sup(1001,1003)/Sup(1001)    0.405752\n",
       "Sup(1001,1004)/Sup(1001)    0.356998\n",
       "Sup(1001,1018)/Sup(1001)    0.436756\n",
       "Sup(1003,1018)/Sup(1003)    0.516846\n",
       "Sup(1004,1008)/Sup(1004)    0.233605\n",
       "Sup(1004,1017)/Sup(1004)    0.192839\n",
       "Sup(1004,1018)/Sup(1004)    0.173106\n",
       "Sup(1004,1034)/Sup(1004)    0.205955\n",
       "Sup(1008,1009)/Sup(1008)    0.235234\n",
       "Sup(1008,1017)/Sup(1008)    0.184847\n",
       "Sup(1008,1018)/Sup(1008)    0.220561\n",
       "Sup(1008,1034)/Sup(1008)    0.485419\n",
       "Sup(1009,1018)/Sup(1009)    0.318064\n",
       "Sup(1017,1034)/Sup(1017)    0.303250\n",
       "Sup(1018,1034)/Sup(1018)    0.263790\n",
       "Sup(1018,1035)/Sup(1018)    0.282739\n",
       "Name: Confidence, dtype: float64"
      ]
     },
     "execution_count": 27,
     "metadata": {},
     "output_type": "execute_result"
    }
   ],
   "source": [
    "basket.Confidence('A') "
   ]
  },
  {
   "cell_type": "code",
   "execution_count": 28,
   "metadata": {},
   "outputs": [
    {
     "data": {
      "text/plain": [
       "Sup(A,B)/Sup(A)Sup(B)\n",
       "Sup(1001,1003)/Sup(1001)Sup(1003)    4.471879\n",
       "Sup(1001,1004)/Sup(1001)Sup(1004)    1.379862\n",
       "Sup(1001,1018)/Sup(1001)Sup(1018)    2.680435\n",
       "Sup(1003,1018)/Sup(1003)Sup(1018)    3.171963\n",
       "Sup(1004,1008)/Sup(1004)Sup(1008)    0.705192\n",
       "Sup(1004,1017)/Sup(1004)Sup(1017)    1.234920\n",
       "Sup(1004,1018)/Sup(1004)Sup(1018)    1.062380\n",
       "Sup(1004,1034)/Sup(1004)Sup(1034)    0.718001\n",
       "Sup(1008,1009)/Sup(1008)Sup(1009)    1.662652\n",
       "Sup(1008,1017)/Sup(1008)Sup(1017)    1.183736\n",
       "Sup(1008,1018)/Sup(1008)Sup(1018)    1.353616\n",
       "Sup(1008,1034)/Sup(1008)Sup(1034)    1.692267\n",
       "Sup(1009,1018)/Sup(1009)Sup(1018)    1.952006\n",
       "Sup(1017,1034)/Sup(1017)Sup(1034)    1.057189\n",
       "Sup(1018,1034)/Sup(1018)Sup(1034)    0.919624\n",
       "Sup(1018,1035)/Sup(1018)Sup(1035)    5.163977\n",
       "Name: Lift, dtype: float64"
      ]
     },
     "execution_count": 28,
     "metadata": {},
     "output_type": "execute_result"
    }
   ],
   "source": [
    "basket.Lift() "
   ]
  },
  {
   "cell_type": "markdown",
   "metadata": {},
   "source": [
    "#### Understanding $\\text{Lift}$\n",
    "\n",
    "In actually $\\text{Lift}$ compare the $P(A)$ against $P(A|B)$. This comparation allow us point out if the event $B$ has an effect on $A$. But, there is a problem. \n",
    "\n",
    "When compute $P(A)$ this is compute with all data, for instance $\\text{P(1003)} = \\text{Sup(1003)} = 0.090734 $ is compute with $32711$ rows, while $\\text{P(1003|1001)} = \\text{Sup(1001,1003)/Sup(1001)}=0.405752$ is compute using $1806$ rows, only the $ 1806/32711 \\sim 6\\%$ of the total data"
   ]
  },
  {
   "cell_type": "markdown",
   "metadata": {},
   "source": []
  },
  {
   "cell_type": "markdown",
   "metadata": {},
   "source": [
    "If we only would have a sample, we can use bootstraping to find the *Confidence Interval*"
   ]
  },
  {
   "cell_type": "code",
   "execution_count": null,
   "metadata": {},
   "outputs": [],
   "source": [
    "# Take a sample\n",
    "sample = attribute_by_idx.sample(frac=0.05)"
   ]
  },
  {
   "cell_type": "code",
   "execution_count": null,
   "metadata": {},
   "outputs": [],
   "source": [
    "a = 0\n",
    "treshold = 10000\n",
    "lift_boots = []\n",
    "\n",
    "while a < treshold:\n",
    "    # 1. bootstraping sample (with replacement)\n",
    "    boots_sample = sample.sample(n = sample.shape[0], replace=True)\n",
    "    # 2. build the `lift`\n",
    "    code_1001_1003 = ((boots_sample.get('1001') == 1) & (boots_sample.get('1003') == 1))\n",
    "    code_1003 = boots_sample.get('1003')\n",
    "    code_1001 = boots_sample.get('1001')\n",
    "    lift = (code_1001_1003.mean()/code_1003.mean())/code_1001.mean()\n",
    "    lift_boots.append(lift)\n",
    "    a+=1"
   ]
  },
  {
   "cell_type": "code",
   "execution_count": null,
   "metadata": {},
   "outputs": [],
   "source": [
    "import numpy as np\n",
    "import matplotlib.pyplot as plt"
   ]
  },
  {
   "cell_type": "code",
   "execution_count": null,
   "metadata": {},
   "outputs": [
    {
     "data": {
      "image/png": "[encoded data removed]",
      "text/plain": [
       "<Figure size 648x432 with 1 Axes>"
      ]
     },
     "metadata": {},
     "output_type": "display_data"
    },
    {
     "name": "stdout",
     "output_type": "stream",
     "text": [
      "> Percentile Bootstrap confidence interval: <4.0013898573511995, 5.326907428459153>\n"
     ]
    }
   ],
   "source": [
    "fig, ax = plt.subplots(figsize =(9, 6))\n",
    "\n",
    "ax.hist(lift_boots, density=True, alpha = 0.5, bins = 30)\n",
    "ci = [(np.quantile(lift_boots, 0.025)), np.quantile(lift_boots, 0.925)]\n",
    "ax.vlines(ci, 0, 0.25, color = 'k')\n",
    "plt.show()\n",
    "print(f'> Percentile Bootstrap confidence interval: <{ci[0]}, {ci[1]}>')"
   ]
  },
  {
   "cell_type": "markdown",
   "metadata": {},
   "source": [
    "# Cluster Analysis\n",
    "\n",
    "The goal of cluster analysis is grouping or segmetation a collection of objects in subsets.\n",
    "\n",
    "Central to all of the goals of cluster analysis is the notion of the degree of similarity (or dissimilarity) between the individual objects being clustered.\n",
    "\n",
    "A clustering method attempts to group the objects based on the definition of similarity supplied to it.\n",
    "\n",
    "There are the `cost associated` with an inaccurate prediction depends on considerations outside the data.\n",
    "\n",
    "To all `clustering techniques` is the choice of *distance* or *dissimilarity* *measure* between two objects."
   ]
  },
  {
   "cell_type": "markdown",
   "metadata": {},
   "source": [
    "## Proximity Matrices"
   ]
  },
  {
   "cell_type": "markdown",
   "metadata": {},
   "source": [
    "\n",
    "\n",
    "The proximity of the data can be measured by *similarity* or *dissimilarity*, this is usually the input of the algorithm to get the clusters.\n",
    "\n",
    "Given $x_{i,j}$ where $i=1, 2, ..., N$ is the record for each variable $j = 1, 2, ..., p$\n",
    "\n",
    "In the step $1$ we define a  dissimilarity measurement between the observations.\n",
    "\n",
    "Given the *dissimilarity* between values of the $j$ th attribute is defined by $d_{j}(x_{i,j}, x_{i′,j})$, we can define the *dissimilarity*  between object $i$ and $i´$ like\n",
    "$$D(x_{i}, x_{i′}) = \\sum_{j=1}^{p}d_{j}(x_{i,j}, x_{i′,j})$$\n",
    "\n",
    "The most common choice is squared distance\n",
    "\n",
    "$$d_j(x_{i,j}, x_{i′,j}) = (x_{i,j} − x_{i′,j})^2$$"
   ]
  },
  {
   "cell_type": "markdown",
   "metadata": {},
   "source": [
    "For example, given the following Table 1\n",
    "<center>\n",
    "\n",
    "|$x_1$|$x_2$|$x_3$|\n",
    "|:---:|:---:|:---:|\n",
    "|1.5|2.6|9.5|\n",
    "|2.5|2.8|5|\n",
    "|3.5|8|7|\n",
    "|3.7|4.5|7.6|\n",
    "\n",
    "</center>\n",
    "\n",
    "We can compute the dissimilarity between the $1^{st}$ record and $2^{nd}$ record for the $x_3$ variable.\n",
    "\n",
    "$$d_3(x_{1,3}, x_{2,3}) = (9.5 - 5)^2  = 20.25 $$\n",
    "\n",
    "We can compute the dissimilarity between the $1^{st}$ record and $2^{nd}$ record"
   ]
  },
  {
   "cell_type": "markdown",
   "metadata": {},
   "source": [
    "$$ D(x_1,x_2 ) \\sum_{j=1}^{3} d_j(x_{1,j}, x_{2,j})  = 21.29 $$\n"
   ]
  },
  {
   "cell_type": "markdown",
   "metadata": {},
   "source": [
    "There are severals measurements for each type of variable, but we will focus on *quantitative* variable.\n",
    "\n",
    "We have yet seen one of them (squared distance), but exist others.\n",
    "\n",
    "* Absolute difference:\n",
    "$$d_j(x_{i,j}, x_{i′,j}) = l(|x_{i,j} - x_{i′,j}|)$$\n",
    "* Correlation:\n",
    "$$p_{i,i´}=\\frac{\\sum_j(x_{i,j} - \\bar{x_i}) (x_{i´,j} - \\bar{x_{i´}})}{ \\sqrt{\\sum_j (x_{i,j} - \\bar{ x_i})^2 \\sum_j(x_{i´,j} - \\bar{x_{i´}})^2}}$$\n",
    "\n",
    "with $\\bar{x_i} = \\sum_j x_{i,j}/p$. Note that this is averaged over *variables*"
   ]
  },
  {
   "cell_type": "markdown",
   "metadata": {},
   "source": [
    "Following with the above example\n",
    "* Absolute difference $d_3(x_{1,3}, x_{2,3}) = |9.5 - 5| = 4$\n",
    "* Correlation $p_{1,2} = 0.99985431$"
   ]
  },
  {
   "cell_type": "code",
   "execution_count": 25,
   "metadata": {},
   "outputs": [],
   "source": [
    "import numpy as np\n",
    "\n",
    "x = np.array([\n",
    "    [1.5, 2.6, 9.5],\n",
    "    [2.5, 2.8, 5],\n",
    "    [3.5, 8, 7],\n",
    "    [3.7, 4.5, 7.6]]\n",
    "    )"
   ]
  },
  {
   "cell_type": "code",
   "execution_count": 34,
   "metadata": {},
   "outputs": [
    {
     "name": "stdout",
     "output_type": "stream",
     "text": [
      "Corr(x_1, x_2): 0.9998543095494895\n"
     ]
    }
   ],
   "source": [
    "print('Corr(x_1, x_2):', np.corrcoef(x[:2,:])[0, 1])"
   ]
  },
  {
   "cell_type": "code",
   "execution_count": 31,
   "metadata": {},
   "outputs": [
    {
     "data": {
      "text/plain": [
       "21.29"
      ]
     },
     "execution_count": 31,
     "metadata": {},
     "output_type": "execute_result"
    }
   ],
   "source": [
    "np.sum((x[0, : ] - x[1, : ])**2)"
   ]
  },
  {
   "cell_type": "code",
   "execution_count": 19,
   "metadata": {},
   "outputs": [
    {
     "data": {
      "text/plain": [
       "5.699999999999999"
      ]
     },
     "execution_count": 19,
     "metadata": {},
     "output_type": "execute_result"
    }
   ],
   "source": [
    "np.sum(np.abs(x[0,:] - x[1,:]))"
   ]
  },
  {
   "cell_type": "markdown",
   "metadata": {},
   "source": [
    "If the observations are first standardized both *correlation* and *squared distance* are similar  "
   ]
  },
  {
   "cell_type": "markdown",
   "metadata": {},
   "source": [
    "## Object Dissimilarity"
   ]
  },
  {
   "cell_type": "markdown",
   "metadata": {},
   "source": [
    "If we know the importances of the features we can compute the *weigthed* distance.\n",
    "\n",
    "$$D(x_{i}, x_{i′}) = \\sum_{j=1}^{p} w_j d_{j}(x_{i,j}, x_{i′,j})$$\n",
    "\n",
    "where $$\\sum_{j=1}^{p}w_j = 1$$"
   ]
  },
  {
   "cell_type": "markdown",
   "metadata": {},
   "source": [
    "It is important to realize that setting the weight $w_j$ to the same value for each variable (say, $w_j = 1$ $∀j$) does not necessarily give all attributes equal infludence. \n",
    "\n",
    "The *influence* of the $j$ th attribute $X_j$ on object dissimilarity $D(x_i, x_{i′})$ depends upon its relative contribution to the average object dissimilarity measure over all pairs of observations in the data set (for all variables):\n",
    "\n",
    "$$\\bar{D}=\\frac{1}{N^2} \\sum_{i=1}^{N} \\sum_{i´=1}^{N} D(x_i, x_{i´}) = \\sum_{j=1}^{p} w_j \\bar{d_j}$$\n",
    "\n",
    "where\n",
    "\n",
    "$$\\bar{d_j} = \\frac{1}{N^2} \\sum_{i=1}^{N} \\sum_{i´=1}^{N} d_j(x_{i,j}, x_{i´,j})$$\n",
    "\n",
    "Here $\\bar{d_j}$ is the average dissimilarity on the $j$ th attribute.\n",
    "\n",
    "If we set $ w_j = {1}/{\\bar{d_j}}$ , then all variables would have the same infludence on the average object dissimilarity measure.\n",
    "\n",
    "Joining $ w_j\\bar{d_j}$ represent the relative importance of each variable $j$. Where $w_j$ is subjective (apriori) importance and $\\bar{d_j}$ is the importance that come from data. E.g. suppose that $\\bar{d}_8$ is large, but its weights $w_8$ is small updating the importante in the overall result.\n",
    "\n",
    "If we set the measure of the dissilarity as squared Euclidean distance\n",
    "$$d_j(x_{i,j}, x_{i′,j}) = (x_{i,j} − x_{i′,j})^2$$\n",
    "\n",
    "Then the average dissimilarity on the $j$ th attribute become in:\n",
    "\n",
    "$$\\bar{d_j} = \\frac{1}{N^2} \\sum_{i=1}^{N} \\sum_{i´=1}^{N} d_j(x_{i,j}, x_{i´,j}) = 2 var_j$$\n",
    "\n",
    "Thus, the relative importance of each such variable is proportional to its variance over the data sets."
   ]
  },
  {
   "cell_type": "markdown",
   "metadata": {},
   "source": [
    "> Proof\n",
    ">\n",
    "> $\\frac{1}{N^2} \\sum_{i=1}^{N} \\sum_{i´=1}^{N}  (x_{i,j} − x_{i′,j})^2$\n",
    "> \n",
    "> $\\frac{1}{N^2} \\sum_{i=1}^{N} \\sum_{i´=1}^{N} (x_{i,j}^{2} − 2\\:x_{i,j}x_{i′,j} + x_{i′,j}^2)$\n",
    "> \n",
    "> $\\frac{1}{N^2} \\sum_{i=1}^{N} \\sum_{i´=1}^{N} x_{i,j}^{2} − \\sum_{i=1}^{N} \\sum_{i´=1}^{N} 2\\:x_{i,j}x_{i′,j} + \\sum_{i=1}^{N} \\sum_{i´=1}^{N}x_{i′,j}^2$\n",
    "> \n",
    "> $\\frac{1}{N^2}[ 2\\:\\sum_{i=1}^{N} N x_{i,j}^{2} - \\sum_{i=1}^{N} \\sum_{i´=1}^{N} 2\\:x_{i,j}x_{i′,j}]$\n",
    "> \n",
    "> $\\frac{2}{N^2}[ N\\sum_{i=1}^{N} x_{i,j}^{2} - \\sum_{i=1}^{N} \\sum_{i´=1}^{N} x_{i,j}x_{i′,j}]$\n",
    ">\n",
    "> $ \\frac{2}{N}\\sum_{i=1}^{N} x_{i,j}^{2} - \\frac{2}{N^2} \\sum_{i=1}^{N} \\sum_{i´=1}^{N} x_{i,j}x_{i′,j}$\n",
    ">\n",
    "> $\\frac{2}{N}\\sum_{i=1}^{N} x_{i,j}^{2} - 2 \\bar{x_j}^2$\n",
    "> \n",
    "> $\\frac{2}{N} [\\sum_{i=1}^{N} x_{i,j}^{2} - N \\bar{x_j}^2]$\n",
    "> \n",
    "> $\\frac{2}{N} [\\sum_{i=1}^{N} x_{i,j}^{2} - 2 N \\bar{x_j}^2 + N \\bar{x_j}^2]$\n",
    "> \n",
    "> $\\frac{2}{N} [\\sum_{i=1}^{N} x_{i,j}^{2} - 2 N \\sum_{i=1}^{N} \\bar{x_j}^2+ \\sum_{i=1}^{N} \\bar{x_j}^2]$\n",
    "> \n",
    "> $\\frac{2}{N} [\\sum_{i=1}^{N} x_{i,j}^{2} - 2\\sum_{i=1}^{N} \\bar{x_j}x_{ij} + \\sum_{i=1}^{N} \\bar{x_j}^2]$\n",
    "> \n",
    "> $\\frac{2}{N} [\\sum_{i=1}^{N} (x_{i,j}^{2} - 2\\bar{x_j}x_{ij} + \\bar{x_j}^2)]$\n",
    "> \n",
    "> $\\frac{2}{N} [\\sum_{i=1}^{N} (x_{i,j} - \\bar{x_j})^2]$\n",
    ">\n",
    "> $2 \\text{Var}(x_j)$"
   ]
  },
  {
   "cell_type": "markdown",
   "metadata": {},
   "source": [
    "> In this case is no recomended to *standarize* before apply the algorithm in oder to cluster, since if we standar the data set it is as if we were applying $w_i = \\frac{1}{2var_j}$\n",
    "> \n",
    "> The standardization obscure the clusters"
   ]
  },
  {
   "cell_type": "markdown",
   "metadata": {},
   "source": [
    "Specifying an appropriate dissimilarity measure is far more important in obtaining success with clustering than choice of clustering algorithm. \n",
    "\n",
    "The *Missing values* can be dropped or we can input the median or mean of the variable $j$ on the missing values.\n"
   ]
  },
  {
   "cell_type": "markdown",
   "metadata": {},
   "source": [
    "In order to practice we wil compute the average dissimilarity of $x_3$, that is, $d_3$"
   ]
  },
  {
   "cell_type": "code",
   "execution_count": 2,
   "metadata": {},
   "outputs": [
    {
     "name": "stdout",
     "output_type": "stream",
     "text": [
      "Dissimilarity:  5.15375\n",
      "Dissimilarity:  5.1537500000000005\n"
     ]
    }
   ],
   "source": [
    "from itertools import permutations\n",
    "\n",
    "def ds(x):\n",
    "    \"\"\"\n",
    "    Compute the dissimilarity\n",
    "    \"\"\"\n",
    "    return sum((s[0] - s[1])**2 for s in permutations(x, 2))/len(x)**2\n",
    "    \n",
    "print(\"Dissimilarity: \" , ds(x[:, 2]))\n",
    "print(\"Dissimilarity: \" , 2 * x[:, 2].var()) "
   ]
  },
  {
   "cell_type": "markdown",
   "metadata": {},
   "source": [
    "## Clustering Algorithms"
   ]
  },
  {
   "cell_type": "markdown",
   "metadata": {},
   "source": []
  },
  {
   "cell_type": "markdown",
   "metadata": {},
   "source": [
    "## Combinatorial Algorithm"
   ]
  },
  {
   "cell_type": "markdown",
   "metadata": {},
   "source": [
    "Given a dataset, each observation is uniquely labeled by an integer $i ∈ {1, · · ·, N}$. \n",
    "\n",
    "A prespecified number of clusters $K < N$ is postulated, and each one is labeled by an integer $k ∈ {1, . . . , K}$. \n",
    "\n",
    "Each observation is assigned to one and only one cluster. \n",
    "\n",
    "These assignments can be characterized by a *many-to-one* mapping, or *encoder* $k = C(i)$, that assigns the $i$ th observation to the $k$ th cluster\n",
    "\n",
    "One seeks the particular encoder $C^∗(i)$ that achieves minimizing the loss function (this based on the dissimilarities $d(x_i, x_{i′}$) between every pair of observations). In particular, we must change the assigments made before until minimizing the loss function."
   ]
  },
  {
   "cell_type": "markdown",
   "metadata": {},
   "source": [
    "Since the goal is to assign close points to the same cluster, a natural *loss function* would be\n",
    "\n",
    "$$W (C) = \\frac{1}{2} \\sum_{k =1}^{K} \\sum_{C(i)=k} \\sum_{C(i´)=k} d(x_{i}, x_{i′})$$\n",
    "\n",
    "If we use the like object dissimilarity the squared Euclidean distance, that is, $d(x_i, x_{i′}) = \\sum_{j=1}^{p} (x_{ij} − x_{i′j})^2 = ||x_{i} − x_{i′}||^2 $, we can write the loss function as follows. Recall, here, $p$ is the quantity of columns.\n",
    "\n",
    "$$W (C) = \\frac{1}{2} \\sum_{k =1}^{K} \\sum_{C(i)=k} \\sum_{C(i´)=k} ||x_{i} − x_{i′}||^2$$"
   ]
  },
  {
   "cell_type": "markdown",
   "metadata": {},
   "source": [
    "An approach that try to solve directly is *Combinatorial Algorithm*, but it is so expensive for large datasets.\n",
    "\n",
    "This is the reason to use other algorithm like *k-means*, but we need to make some changes the *Loss function*."
   ]
  },
  {
   "cell_type": "markdown",
   "metadata": {},
   "source": [
    "## K-means Algorithm"
   ]
  },
  {
   "cell_type": "markdown",
   "metadata": {},
   "source": [
    "We can rewrite the loss function above \n",
    "\n",
    "$$W (C) = \\frac{1}{2} \\sum_{k =1}^{K} \\sum_{C(i)=k} \\sum_{C(i´)=k} ||x_{i} − x_{i′}||^2$$\n",
    "\n",
    "like\n",
    "\n",
    "$$W (C) = \\sum_{k =1}^{K}  N_k  \\sum_{C(i)=k} ||x_{i} − \\bar{x}_{k}||^2$$\n",
    "\n",
    "It can be proff using with p=1. \n",
    "$$\\frac{1}{N^2} \\sum_{i=1}^{N} \\sum_{i´=1}^{N} d_j(x_{i,j}, x_{i´,j}) = 2 var_j$$"
   ]
  },
  {
   "cell_type": "markdown",
   "metadata": {},
   "source": [
    "where $\\bar{x}_k = (\\bar{x}_{1k}, . . . , \\bar{x}_{pk})$ is the mean vector associated with the $k^{th}$ cluster, and $N_k = \\sum_{i=1}^{N} I(C(i) = k)$."
   ]
  },
  {
   "cell_type": "markdown",
   "metadata": {},
   "source": [
    "Thus, the criterion is minimized by assigning the observations to the $K$ clusters in such a way that within each cluster the average dissimilarity of the observations from the cluster mean, as defined by the points in that cluster, is minimized."
   ]
  },
  {
   "cell_type": "markdown",
   "metadata": {},
   "source": [
    "$$C^* = \\min_{c} \\sum_{k =1}^{K} N_k \\sum_{C(i)=k} ||x_{i} − \\bar{x}_{k}||^2$$"
   ]
  },
  {
   "cell_type": "markdown",
   "metadata": {},
   "source": [
    "\n",
    "\n",
    "<!-- can be obtained by noting that for any set of observations $S$\n",
    "\n",
    "$$\\hat{x}_S = \\argmin_m \\sum_{i∈S} ||x_i − m||^2$$ -->\n",
    "\n",
    "**Algorithm** \n",
    "\n",
    "1. For a given cluster assignment $C$, the total cluster variance  is minimized with respect to ${m_1, . . . , m_K}$ yielding the means of the currently assigned clusters.\n",
    "\n",
    "2. Given a current set of means ${m_1, . . . , m_K}$, is minimized by assigning each observation to the closest (current) cluster mean. That is, \n",
    "\n",
    "$$C(i) = \\text{argmin}_{1≤k≤K} ||x_i − m_k||^2$$\n",
    "\n",
    "3. Steps 1 and 2 are iterated until the assignments do not change.\n",
    "\n",
    "This is the reason why K-means clustering is a *top-down* procedure."
   ]
  },
  {
   "cell_type": "markdown",
   "metadata": {},
   "source": [
    "## K-Mediods Algorithm"
   ]
  },
  {
   "cell_type": "markdown",
   "metadata": {},
   "source": [
    "1. For a given cluster assignment $C$ find the observation in the cluster minimizing total distance to other points in that cluster:\n",
    "Then $m_k = x_{i^∗_k}, k = 1, 2, . . . , K$ are the current estimates of the cluster centers.\n",
    "\n",
    "$$i^{∗}_k = \\text{argmin}_{\\{i:C(i)=k\\}}\\sum _{C(i^′)=k} D(x_i , x_i^′ )$$\n",
    "\n",
    "\n",
    "2. Given a current set of cluster centers $\\{m_1, . . . , m_K\\}$, minimize the total error by assigning each observation to the closest (current) cluster center: \n",
    "$ C(i) = \\text{argmin}_{1≤k≤K} D(x_i, m_k)$\n",
    "\n",
    "3. Iterate steps 1 and 2 until the assignments do not change."
   ]
  },
  {
   "cell_type": "markdown",
   "metadata": {},
   "source": [
    "This algortihm is robustness against outliers that produce very large distances. But increase the expensive computations."
   ]
  },
  {
   "cell_type": "markdown",
   "metadata": {},
   "source": [
    "## Practical Issues\n",
    "\n",
    "In order to apply *K-means* or *K-medoids* one must select the number of clusters $K^∗$ and an initialization. \n",
    "\n",
    "The latter can be defined by specifying an initial set of centers $\\{m_1, . . . , m_K\\}$ or $\\{i_1, . . . , i_K\\}$ or an initial encoder $C(i)$. Usually specifying the centers is more convenient. Or running multiple times the *k-means* algorithm (all process) and choice the encoder such as loss function is the lowest.\n",
    "\n",
    "A choice for the number of clusters $K$ depends on the goal. For data segmentation $K$ is usually defined as part of the problem.\n",
    "For example, a company may employ K sales people, and the goal is to partition a customer database into K segments, one for each sales person, such that the customers assigned to each one are as similar as possible.\n",
    "\n",
    "But often, we need to discover the number of distinct groups in which an item can be assigned and compute descriptive statistics within each group.\n",
    "\n",
    "Data-based methods for estimating $K^∗$ typically examine the within-cluster dissimilarity $W_K$ as a function of the number of clusters $K$. Separate solutions are obtained for $K ∈ {1, 2, . . . , K_{\\text{max}}}$.\n",
    "\n",
    "\n",
    "The corresponding values ${W_1, W_2, . . . , W_{K_{\\text{max}}}}$ generally decrease with increasing $K$ since a large number of cluster centers will tend to fill the feature space densely and thus will be close to all data points."
   ]
  },
  {
   "cell_type": "markdown",
   "metadata": {},
   "source": [
    "*Gap statistic*: Gap statistic is a measure of how well the clusters are separated from each other."
   ]
  },
  {
   "cell_type": "markdown",
   "metadata": {},
   "source": [
    "There are many libraries that include this algorimth, *Sklearn*, *h2o*,  "
   ]
  },
  {
   "cell_type": "markdown",
   "metadata": {},
   "source": [
    "*H2O AI* implements K-Means Clustering in `H2OKMeansEstimator`\n",
    "\n",
    "There are many parameters limits of the cluster size (*cluster_size_constrains*) or any other, but the most important is *k*, the number of clusters. The second in importance is *init*, *init* defines the initialization mode, can be *Random*, *PlusPlus*, *Furthest*. By default is used *Furthest*, here the init center of each cluster are furthest one each other in term of euclidean distance.\n",
    "\n",
    "H2o support categorical input, but, those are converted in enum (dummies)"
   ]
  },
  {
   "cell_type": "markdown",
   "metadata": {},
   "source": [
    "How works *Furthest*\n",
    "\n",
    "**Furthest**:\n",
    "\n",
    "Choose one center $m_1$ at random.\n",
    "\n",
    "Calculate the difference between $m_1$\n",
    " and each of the remaining $N−1$ observations $x_i$\n",
    "* $d(x_i,m_1)=||(x_i−m_1)||^2$\n",
    "\n",
    "Choose $m_2$ to be the $x_i$ that maximizes $d(x_i,m_1)$\n",
    "\n",
    "Repeat until $K$\n",
    " centers have been chosen."
   ]
  },
  {
   "cell_type": "markdown",
   "metadata": {},
   "source": [
    "<a name=\"4\"></a>\n",
    "## 4 - Image compression with K-means\n",
    "\n",
    "In this exercise, you will apply K-means to image compression. \n",
    "\n",
    "* In a straightforward 32-bit color representation of an image, each pixel is represented as three 8-bit unsigned integers (ranging from 0 to 255) that specify the red, green, blue intensity values and alpha opacity for a color. This encoding is often refered to as the RGBA encoding.\n",
    "* Our image contains thousands of colors (22,237), and in this part of the exercise, you will reduce the number of\n",
    "colors to 16 colors.\n",
    "* By making this reduction, it is possible to represent (compress) the photo in an efficient way. \n",
    "* Specifically, you only need to store the RGB values of the 16 selected colors, and for each pixel in the image you now need to only store the index of the color at that location (where only 4 bits are necessary to represent 16 possibilities).\n",
    "\n",
    "In this part, you will use the K-means algorithm to select the 16 colors that will be used to represent the compressed image.\n",
    "* Concretely, you will treat every pixel in the original image as a data example and use the K-means algorithm to find the 16 colors that best group (cluster) the pixels in the 3- dimensional RGB space.\n",
    "* Once you have computed the cluster centroids on the image, you will then use the 16 colors to replace the pixels in the original image.\n",
    "\n",
    "<img src=\"PDX-224_Primary-Image_Green_hyperc.webp\" height=\"500\">\n",
    "\n",
    "### 4.1 Dataset\n",
    "\n",
    "**Load image**\n",
    "\n",
    "First, you will use `matplotlib` to read in the original image, as shown below."
   ]
  },
  {
   "cell_type": "code",
   "execution_count": 2,
   "metadata": {},
   "outputs": [],
   "source": [
    "from sklearn.cluster import KMeans\n",
    "import h2o\n",
    "from h2o.estimators import H2OKMeansEstimator\n",
    "import pandas as pd\n",
    "import numpy as np\n",
    "import matplotlib.pyplot as plt"
   ]
  },
  {
   "cell_type": "code",
   "execution_count": 29,
   "metadata": {},
   "outputs": [],
   "source": [
    "aa = np.arange(24).reshape((3, 2, 4))"
   ]
  },
  {
   "cell_type": "code",
   "execution_count": 31,
   "metadata": {},
   "outputs": [
    {
     "data": {
      "text/plain": [
       "array([[[ 0,  1,  2,  3],\n",
       "        [ 4,  5,  6,  7]],\n",
       "\n",
       "       [[ 8,  9, 10, 11],\n",
       "        [12, 13, 14, 15]],\n",
       "\n",
       "       [[16, 17, 18, 19],\n",
       "        [20, 21, 22, 23]]])"
      ]
     },
     "execution_count": 31,
     "metadata": {},
     "output_type": "execute_result"
    }
   ],
   "source": [
    "aa"
   ]
  },
  {
   "cell_type": "code",
   "execution_count": 34,
   "metadata": {},
   "outputs": [
    {
     "data": {
      "text/plain": [
       "array([[[ 0,  1],\n",
       "        [ 2,  3],\n",
       "        [ 4,  5]],\n",
       "\n",
       "       [[ 6,  7],\n",
       "        [ 8,  9],\n",
       "        [10, 11]],\n",
       "\n",
       "       [[12, 13],\n",
       "        [14, 15],\n",
       "        [16, 17]],\n",
       "\n",
       "       [[18, 19],\n",
       "        [20, 21],\n",
       "        [22, 23]]])"
      ]
     },
     "execution_count": 34,
     "metadata": {},
     "output_type": "execute_result"
    }
   ],
   "source": [
    "aa.reshape((4, 3, 2))"
   ]
  },
  {
   "cell_type": "code",
   "execution_count": 28,
   "metadata": {},
   "outputs": [
    {
     "data": {
      "text/plain": [
       "array([[0, 1],\n",
       "       [2, 3],\n",
       "       [4, 5]])"
      ]
     },
     "execution_count": 28,
     "metadata": {},
     "output_type": "execute_result"
    }
   ],
   "source": [
    "aa #.reshape((6,))"
   ]
  },
  {
   "cell_type": "code",
   "execution_count": 3,
   "metadata": {},
   "outputs": [],
   "source": [
    "# Load an image of a smartphone\n",
    "original_img = plt.imread('PDX-224_Primary-Image_Green_hyperc.webp')"
   ]
  },
  {
   "cell_type": "markdown",
   "metadata": {},
   "source": [
    "**Visualize image**\n",
    "\n",
    "You can visualize the image that was just loaded using the code below."
   ]
  },
  {
   "cell_type": "code",
   "execution_count": 6,
   "metadata": {},
   "outputs": [
    {
     "data": {
      "image/png": "[encoded data removed]",
      "text/plain": [
       "<Figure size 640x480 with 1 Axes>"
      ]
     },
     "metadata": {},
     "output_type": "display_data"
    }
   ],
   "source": [
    "# Visualizing the image\n",
    "plt.imshow(original_img);"
   ]
  },
  {
   "cell_type": "markdown",
   "metadata": {},
   "source": [
    "**Check the dimension of the variable**\n",
    "\n",
    "As always, you will print out the shape of your variable to get more familiar with the data."
   ]
  },
  {
   "cell_type": "code",
   "execution_count": 8,
   "metadata": {},
   "outputs": [
    {
     "name": "stdout",
     "output_type": "stream",
     "text": [
      "Shape of original_img is: (1200, 1200, 4)\n"
     ]
    }
   ],
   "source": [
    "print(\"Shape of original_img is:\", original_img.shape)"
   ]
  },
  {
   "cell_type": "markdown",
   "metadata": {},
   "source": [
    "As you can see, this creates a three-dimensional matrix `original_img` where \n",
    "* the first two indices identify a pixel position, and\n",
    "* the third index represents red, green, blue and alpha. "
   ]
  },
  {
   "cell_type": "markdown",
   "metadata": {},
   "source": [
    "#### Processing data\n",
    "\n",
    "To call the `run_kMeans`, you need to first transform the matrix `original_img` into a two-dimensional matrix.\n",
    "\n",
    "* The code below reshapes the matrix `original_img` to create an $m \\times 4$ matrix of pixel colors (where\n",
    "$m=1440000 = 1200\\times 1200$)\n",
    "\n",
    "*Note: If you'll try this exercise later on a JPG file, you first need to divide the pixel values by 255 so it will be in the range 0 to 1. This is not necessary for PNG files (e.g. `bird_small.png`) because it is already loaded in the required range (as mentioned in the [plt.imread() documentation](https://matplotlib.org/stable/api/_as_gen/matplotlib.pyplot.imread.html)). We commented a line below for this so you can just uncomment it later in case you want to try a different file.* "
   ]
  },
  {
   "cell_type": "code",
   "execution_count": 14,
   "metadata": {},
   "outputs": [],
   "source": [
    "normalize_img = original_img/255"
   ]
  },
  {
   "cell_type": "code",
   "execution_count": 18,
   "metadata": {},
   "outputs": [],
   "source": [
    "X_img = np.reshape(normalize_img, \n",
    "                   (normalize_img.shape[0] * normalize_img.shape[1], 4))"
   ]
  },
  {
   "cell_type": "markdown",
   "metadata": {},
   "source": [
    "- Inertia: Inertia is a metric used in K-means to evaluate the quality of a clustering. It measures the sum of squared distances of each point to its closest centroid. A lower inertia indicates better clustering.\n",
    "- Empirical Probability Distribution: K-means++ calculates a probability for each data point to be selected as the next centroid based on its distance to the already chosen centroids. Points farther from existing centroids have a higher probability of being selected.\n",
    "- Greedy Selection: The algorithm iteratively selects centroids, with each new centroid chosen based on the calculated probabilities. This is the \"greedy\" part, as it selects the best option \n",
    "- n_init: Number of times the k-means algorithm is run with different centroid seeds. The final results is the best output of n_init consecutive runs in terms of inertia."
   ]
  },
  {
   "cell_type": "code",
   "execution_count": 130,
   "metadata": {},
   "outputs": [],
   "source": [
    "k_means = KMeans(n_clusters=16, \n",
    "                 init='k-means++', \n",
    "                 n_init=10,\n",
    "                 max_iter=300,\n",
    "                 tol=1e-4,\n",
    "                 random_state=0)"
   ]
  },
  {
   "cell_type": "code",
   "execution_count": 131,
   "metadata": {},
   "outputs": [
    {
     "data": {
      "text/html": [
       "<style>#sk-container-id-6 {color: black;background-color: white;}#sk-container-id-6 pre{padding: 0;}#sk-container-id-6 div.sk-toggleable {background-color: white;}#sk-container-id-6 label.sk-toggleable__label {cursor: pointer;display: block;width: 100%;margin-bottom: 0;padding: 0.3em;box-sizing: border-box;text-align: center;}#sk-container-id-6 label.sk-toggleable__label-arrow:before {content: \"▸\";float: left;margin-right: 0.25em;color: #696969;}#sk-container-id-6 label.sk-toggleable__label-arrow:hover:before {color: black;}#sk-container-id-6 div.sk-estimator:hover label.sk-toggleable__label-arrow:before {color: black;}#sk-container-id-6 div.sk-toggleable__content {max-height: 0;max-width: 0;overflow: hidden;text-align: left;background-color: #f0f8ff;}#sk-container-id-6 div.sk-toggleable__content pre {margin: 0.2em;color: black;border-radius: 0.25em;background-color: #f0f8ff;}#sk-container-id-6 input.sk-toggleable__control:checked~div.sk-toggleable__content {max-height: 200px;max-width: 100%;overflow: auto;}#sk-container-id-6 input.sk-toggleable__control:checked~label.sk-toggleable__label-arrow:before {content: \"▾\";}#sk-container-id-6 div.sk-estimator input.sk-toggleable__control:checked~label.sk-toggleable__label {background-color: #d4ebff;}#sk-container-id-6 div.sk-label input.sk-toggleable__control:checked~label.sk-toggleable__label {background-color: #d4ebff;}#sk-container-id-6 input.sk-hidden--visually {border: 0;clip: rect(1px 1px 1px 1px);clip: rect(1px, 1px, 1px, 1px);height: 1px;margin: -1px;overflow: hidden;padding: 0;position: absolute;width: 1px;}#sk-container-id-6 div.sk-estimator {font-family: monospace;background-color: #f0f8ff;border: 1px dotted black;border-radius: 0.25em;box-sizing: border-box;margin-bottom: 0.5em;}#sk-container-id-6 div.sk-estimator:hover {background-color: #d4ebff;}#sk-container-id-6 div.sk-parallel-item::after {content: \"\";width: 100%;border-bottom: 1px solid gray;flex-grow: 1;}#sk-container-id-6 div.sk-label:hover label.sk-toggleable__label {background-color: #d4ebff;}#sk-container-id-6 div.sk-serial::before {content: \"\";position: absolute;border-left: 1px solid gray;box-sizing: border-box;top: 0;bottom: 0;left: 50%;z-index: 0;}#sk-container-id-6 div.sk-serial {display: flex;flex-direction: column;align-items: center;background-color: white;padding-right: 0.2em;padding-left: 0.2em;position: relative;}#sk-container-id-6 div.sk-item {position: relative;z-index: 1;}#sk-container-id-6 div.sk-parallel {display: flex;align-items: stretch;justify-content: center;background-color: white;position: relative;}#sk-container-id-6 div.sk-item::before, #sk-container-id-6 div.sk-parallel-item::before {content: \"\";position: absolute;border-left: 1px solid gray;box-sizing: border-box;top: 0;bottom: 0;left: 50%;z-index: -1;}#sk-container-id-6 div.sk-parallel-item {display: flex;flex-direction: column;z-index: 1;position: relative;background-color: white;}#sk-container-id-6 div.sk-parallel-item:first-child::after {align-self: flex-end;width: 50%;}#sk-container-id-6 div.sk-parallel-item:last-child::after {align-self: flex-start;width: 50%;}#sk-container-id-6 div.sk-parallel-item:only-child::after {width: 0;}#sk-container-id-6 div.sk-dashed-wrapped {border: 1px dashed gray;margin: 0 0.4em 0.5em 0.4em;box-sizing: border-box;padding-bottom: 0.4em;background-color: white;}#sk-container-id-6 div.sk-label label {font-family: monospace;font-weight: bold;display: inline-block;line-height: 1.2em;}#sk-container-id-6 div.sk-label-container {text-align: center;}#sk-container-id-6 div.sk-container {/* jupyter's `normalize.less` sets `[hidden] { display: none; }` but bootstrap.min.css set `[hidden] { display: none !important; }` so we also need the `!important` here to be able to override the default hidden behavior on the sphinx rendered scikit-learn.org. See: https://github.com/scikit-learn/scikit-learn/issues/21755 */display: inline-block !important;position: relative;}#sk-container-id-6 div.sk-text-repr-fallback {display: none;}</style><div id=\"sk-container-id-6\" class=\"sk-top-container\"><div class=\"sk-text-repr-fallback\"><pre>KMeans(init=&#x27;random&#x27;, n_clusters=16, n_init=10, random_state=0)</pre><b>In a Jupyter environment, please rerun this cell to show the HTML representation or trust the notebook. <br />On GitHub, the HTML representation is unable to render, please try loading this page with nbviewer.org.</b></div><div class=\"sk-container\" hidden><div class=\"sk-item\"><div class=\"sk-estimator sk-toggleable\"><input class=\"sk-toggleable__control sk-hidden--visually\" id=\"sk-estimator-id-6\" type=\"checkbox\" checked><label for=\"sk-estimator-id-6\" class=\"sk-toggleable__label sk-toggleable__label-arrow\">KMeans</label><div class=\"sk-toggleable__content\"><pre>KMeans(init=&#x27;random&#x27;, n_clusters=16, n_init=10, random_state=0)</pre></div></div></div></div></div>"
      ],
      "text/plain": [
       "KMeans(init='random', n_clusters=16, n_init=10, random_state=0)"
      ]
     },
     "execution_count": 131,
     "metadata": {},
     "output_type": "execute_result"
    }
   ],
   "source": [
    "k_means.fit(X_img)"
   ]
  },
  {
   "cell_type": "code",
   "execution_count": 132,
   "metadata": {},
   "outputs": [],
   "source": [
    "predict_class = k_means.predict(X_img)"
   ]
  },
  {
   "cell_type": "markdown",
   "metadata": {},
   "source": [
    "After finding the top $K=16$ colors to represent the image, you can now\n",
    "assign each pixel position to its closest centroid.\n",
    "\n",
    "* This allows you to represent the original image using the centroid assignments of each pixel. \n",
    "* Notice that you have significantly reduced the number of bits that are required to describe the image. \n",
    "    * The original image required 32 bits (i.e. 8 bits x 4 channels in RGBA encoding) for each one of the $1200\\times 1200$ pixel locations, resulting in total size of $1200 \\times 1200 \\times 32 = 46,080,000$ bits. \n",
    "    * The new representation requires some overhead storage in form of a dictionary of 16 colors, each of which require 32 bits, but the image itself then only requires 4 bits per pixel location. \n",
    "    * The final number of bits used is therefore $16 \\times 32 + 1200 \\times 1200 \\times 4 = 5,760,512$ bits, which corresponds to compressing the original image by about a factor of 8."
   ]
  },
  {
   "cell_type": "code",
   "execution_count": 133,
   "metadata": {},
   "outputs": [],
   "source": [
    "data_predict = pd.DataFrame({'Predict':predict_class})\n",
    "data_predict.index.name = 'idx'\n",
    "data_predict.reset_index(inplace=True)\n",
    "\n",
    "centroids = pd.DataFrame(data=np.abs(k_means.cluster_centers_),\n",
    "                         columns=['Red', 'Green', 'Blue', 'Alpha'])\n",
    "\n",
    "data_predict_consol = data_predict.merge(centroids, left_on='Predict', right_index=True)\n",
    "data_predict_consol.sort_values(by='idx', inplace=True)"
   ]
  },
  {
   "cell_type": "code",
   "execution_count": 134,
   "metadata": {},
   "outputs": [
    {
     "data": {
      "image/png": "[encoded data removed]",
      "text/plain": [
       "<Figure size 640x480 with 1 Axes>"
      ]
     },
     "metadata": {},
     "output_type": "display_data"
    }
   ],
   "source": [
    "X_img_predict = (data_predict_consol[['Red', 'Green', 'Blue', 'Alpha']]).values\n",
    "\n",
    "img_predict = (\n",
    "    (\n",
    "        (X_img_predict.reshape(\n",
    "            (original_img.shape[0], original_img.shape[1], 4)\n",
    "            )\n",
    "        )*255).round(0).astype(int)    \n",
    "    )\n",
    "\n",
    "plt.imshow(img_predict);"
   ]
  },
  {
   "cell_type": "markdown",
   "metadata": {},
   "source": [
    "Using H2O, you can perform unsupervised clustering."
   ]
  },
  {
   "cell_type": "code",
   "execution_count": 3,
   "metadata": {},
   "outputs": [],
   "source": [
    "import h2o\n",
    "from h2o.estimators import H2OKMeansEstimator\n",
    "import pandas as pd\n",
    "import numpy as np\n",
    "import matplotlib.pyplot as plt"
   ]
  },
  {
   "cell_type": "code",
   "execution_count": 5,
   "metadata": {},
   "outputs": [
    {
     "name": "stdout",
     "output_type": "stream",
     "text": [
      "Checking whether there is an H2O instance running at http://localhost:54321 . connected.\n",
      "Warning: Your H2O cluster version is too old (2 years, 11 months and 12 days)! Please download and install the latest version from http://h2o.ai/download/\n"
     ]
    },
    {
     "data": {
      "text/html": [
       "<div style=\"overflow:auto\"><table style=\"width:50%\"><tr><td>H2O_cluster_uptime:</td>\n",
       "<td>17 days 2 hours 22 mins</td></tr>\n",
       "<tr><td>H2O_cluster_timezone:</td>\n",
       "<td>America/Bogota</td></tr>\n",
       "<tr><td>H2O_data_parsing_timezone:</td>\n",
       "<td>UTC</td></tr>\n",
       "<tr><td>H2O_cluster_version:</td>\n",
       "<td>3.30.0.4</td></tr>\n",
       "<tr><td>H2O_cluster_version_age:</td>\n",
       "<td>2 years, 11 months and 12 days !!!</td></tr>\n",
       "<tr><td>H2O_cluster_name:</td>\n",
       "<td>H2O_from_python_caima_03dgoe</td></tr>\n",
       "<tr><td>H2O_cluster_total_nodes:</td>\n",
       "<td>1</td></tr>\n",
       "<tr><td>H2O_cluster_free_memory:</td>\n",
       "<td>511.5 Mb</td></tr>\n",
       "<tr><td>H2O_cluster_total_cores:</td>\n",
       "<td>16</td></tr>\n",
       "<tr><td>H2O_cluster_allowed_cores:</td>\n",
       "<td>16</td></tr>\n",
       "<tr><td>H2O_cluster_status:</td>\n",
       "<td>locked, healthy</td></tr>\n",
       "<tr><td>H2O_connection_url:</td>\n",
       "<td>http://localhost:54321</td></tr>\n",
       "<tr><td>H2O_connection_proxy:</td>\n",
       "<td>{\"http\": null, \"https\": null}</td></tr>\n",
       "<tr><td>H2O_internal_security:</td>\n",
       "<td>False</td></tr>\n",
       "<tr><td>H2O_API_Extensions:</td>\n",
       "<td>Amazon S3, Algos, AutoML, Core V3, TargetEncoder, Core V4</td></tr>\n",
       "<tr><td>Python_version:</td>\n",
       "<td>3.10.9 final</td></tr></table></div>"
      ],
      "text/plain": [
       "--------------------------  ---------------------------------------------------------\n",
       "H2O_cluster_uptime:         17 days 2 hours 22 mins\n",
       "H2O_cluster_timezone:       America/Bogota\n",
       "H2O_data_parsing_timezone:  UTC\n",
       "H2O_cluster_version:        3.30.0.4\n",
       "H2O_cluster_version_age:    2 years, 11 months and 12 days !!!\n",
       "H2O_cluster_name:           H2O_from_python_caima_03dgoe\n",
       "H2O_cluster_total_nodes:    1\n",
       "H2O_cluster_free_memory:    511.5 Mb\n",
       "H2O_cluster_total_cores:    16\n",
       "H2O_cluster_allowed_cores:  16\n",
       "H2O_cluster_status:         locked, healthy\n",
       "H2O_connection_url:         http://localhost:54321\n",
       "H2O_connection_proxy:       {\"http\": null, \"https\": null}\n",
       "H2O_internal_security:      False\n",
       "H2O_API_Extensions:         Amazon S3, Algos, AutoML, Core V3, TargetEncoder, Core V4\n",
       "Python_version:             3.10.9 final\n",
       "--------------------------  ---------------------------------------------------------"
      ]
     },
     "metadata": {},
     "output_type": "display_data"
    }
   ],
   "source": [
    "h2o.init(max_mem_size=2)"
   ]
  },
  {
   "cell_type": "code",
   "execution_count": 16,
   "metadata": {},
   "outputs": [
    {
     "name": "stdout",
     "output_type": "stream",
     "text": [
      "Parse progress: |█████████████████████████████████████████████████████████| 100%\n"
     ]
    }
   ],
   "source": [
    "data_crime = h2o.import_file('./data_csv/CRIME1.csv')"
   ]
  },
  {
   "cell_type": "code",
   "execution_count": 18,
   "metadata": {},
   "outputs": [],
   "source": [
    "data_crime['arr86'] = (data_crime['narr86'] == 0).ifelse(0, 1)"
   ]
  },
  {
   "cell_type": "code",
   "execution_count": 71,
   "metadata": {},
   "outputs": [],
   "source": [
    "# Selecting the features and target\n",
    "features= ['pcnv', 'avgsen', 'tottime', 'ptime86', 'qemp86']\n",
    "target = 'arr86'"
   ]
  },
  {
   "cell_type": "code",
   "execution_count": 72,
   "metadata": {},
   "outputs": [],
   "source": [
    "data_crime_train, data_crime_valid = data_crime.split_frame(ratios=[0.8], seed=1234)"
   ]
  },
  {
   "cell_type": "code",
   "execution_count": 73,
   "metadata": {},
   "outputs": [],
   "source": [
    "kmeans = H2OKMeansEstimator(k=8, init = 'Furthest', seed = 1324)"
   ]
  },
  {
   "cell_type": "code",
   "execution_count": 74,
   "metadata": {},
   "outputs": [
    {
     "name": "stdout",
     "output_type": "stream",
     "text": [
      "kmeans Model Build progress: |████████████████████████████████████████████| 100%\n"
     ]
    }
   ],
   "source": [
    "kmeans.train(x=features,\n",
    "             training_frame=data_crime_train)"
   ]
  },
  {
   "cell_type": "code",
   "execution_count": 75,
   "metadata": {},
   "outputs": [
    {
     "name": "stdout",
     "output_type": "stream",
     "text": [
      "\n",
      "ModelMetricsClustering: kmeans\n",
      "** Reported on train data. **\n",
      "\n",
      "MSE: NaN\n",
      "RMSE: NaN\n",
      "Total Within Cluster Sum of Square Error: 4671.154949234076\n",
      "Total Sum of Square Error to Grand Mean: 10990.000272364312\n",
      "Between Cluster Sum of Square Error: 6318.845323130236\n",
      "\n",
      "Centroid Statistics: \n"
     ]
    },
    {
     "data": {
      "text/html": [
       "<div>\n",
       "<style scoped>\n",
       "    .dataframe tbody tr th:only-of-type {\n",
       "        vertical-align: middle;\n",
       "    }\n",
       "\n",
       "    .dataframe tbody tr th {\n",
       "        vertical-align: top;\n",
       "    }\n",
       "\n",
       "    .dataframe thead th {\n",
       "        text-align: right;\n",
       "    }\n",
       "</style>\n",
       "<table border=\"1\" class=\"dataframe\">\n",
       "  <thead>\n",
       "    <tr style=\"text-align: right;\">\n",
       "      <th></th>\n",
       "      <th></th>\n",
       "      <th>centroid</th>\n",
       "      <th>size</th>\n",
       "      <th>within_cluster_sum_of_squares</th>\n",
       "    </tr>\n",
       "  </thead>\n",
       "  <tbody>\n",
       "    <tr>\n",
       "      <th>0</th>\n",
       "      <td></td>\n",
       "      <td>1.0</td>\n",
       "      <td>2063.0</td>\n",
       "      <td>4.157803e+03</td>\n",
       "    </tr>\n",
       "    <tr>\n",
       "      <th>1</th>\n",
       "      <td></td>\n",
       "      <td>2.0</td>\n",
       "      <td>1.0</td>\n",
       "      <td>2.639665e-13</td>\n",
       "    </tr>\n",
       "    <tr>\n",
       "      <th>2</th>\n",
       "      <td></td>\n",
       "      <td>3.0</td>\n",
       "      <td>15.0</td>\n",
       "      <td>9.726334e+01</td>\n",
       "    </tr>\n",
       "    <tr>\n",
       "      <th>3</th>\n",
       "      <td></td>\n",
       "      <td>4.0</td>\n",
       "      <td>1.0</td>\n",
       "      <td>1.090326e-13</td>\n",
       "    </tr>\n",
       "    <tr>\n",
       "      <th>4</th>\n",
       "      <td></td>\n",
       "      <td>5.0</td>\n",
       "      <td>12.0</td>\n",
       "      <td>8.601450e+01</td>\n",
       "    </tr>\n",
       "    <tr>\n",
       "      <th>5</th>\n",
       "      <td></td>\n",
       "      <td>6.0</td>\n",
       "      <td>47.0</td>\n",
       "      <td>2.137761e+02</td>\n",
       "    </tr>\n",
       "    <tr>\n",
       "      <th>6</th>\n",
       "      <td></td>\n",
       "      <td>7.0</td>\n",
       "      <td>56.0</td>\n",
       "      <td>9.783168e+01</td>\n",
       "    </tr>\n",
       "    <tr>\n",
       "      <th>7</th>\n",
       "      <td></td>\n",
       "      <td>8.0</td>\n",
       "      <td>4.0</td>\n",
       "      <td>1.846608e+01</td>\n",
       "    </tr>\n",
       "  </tbody>\n",
       "</table>\n",
       "</div>"
      ],
      "text/plain": [
       "     centroid    size  within_cluster_sum_of_squares\n",
       "0         1.0  2063.0                   4.157803e+03\n",
       "1         2.0     1.0                   2.639665e-13\n",
       "2         3.0    15.0                   9.726334e+01\n",
       "3         4.0     1.0                   1.090326e-13\n",
       "4         5.0    12.0                   8.601450e+01\n",
       "5         6.0    47.0                   2.137761e+02\n",
       "6         7.0    56.0                   9.783168e+01\n",
       "7         8.0     4.0                   1.846608e+01"
      ]
     },
     "metadata": {},
     "output_type": "display_data"
    },
    {
     "data": {
      "text/plain": []
     },
     "execution_count": 75,
     "metadata": {},
     "output_type": "execute_result"
    }
   ],
   "source": [
    "kmeans.model_performance()"
   ]
  },
  {
   "cell_type": "markdown",
   "metadata": {},
   "source": [
    "The `between-cluster sum of squares` is a measure of the variability between clusters in a clustering algorithm. It is calculated as the sum of the squared distances between each cluster center and the overall mean of all data points. The goal of clustering algorithms is to minimize this sum, which is also known as the sum of squared error (SSE) 12.\n",
    "\n",
    "The `within-cluster` sum of squares is another measure that quantifies the variability within each cluster. It is calculated as the sum of the squared distances between each data point and its assigned cluster center 2.\n",
    "\n",
    "The `between-cluster sum of squares` can be calculated by subtracting the within-cluster sum of squares from the total sum of squares. The total sum of squares is defined as the sum of the squared distances between each data point and the overall mean 2."
   ]
  },
  {
   "cell_type": "code",
   "execution_count": 76,
   "metadata": {},
   "outputs": [
    {
     "name": "stdout",
     "output_type": "stream",
     "text": [
      "kmeans prediction progress: |█████████████████████████████████████████████| 100%\n"
     ]
    }
   ],
   "source": [
    "pred = kmeans.predict(data_crime_valid)"
   ]
  },
  {
   "cell_type": "markdown",
   "metadata": {},
   "source": [
    "### Using Clustering for Preprocessing"
   ]
  },
  {
   "cell_type": "markdown",
   "metadata": {},
   "source": [
    "Given a initial model, can apply the `kmeans` like preprocessing.\n",
    "\n",
    "Firstly, the initial model"
   ]
  },
  {
   "cell_type": "code",
   "execution_count": 77,
   "metadata": {},
   "outputs": [],
   "source": [
    "from h2o.estimators.glm import H2OGeneralizedLinearEstimator"
   ]
  },
  {
   "cell_type": "code",
   "execution_count": 78,
   "metadata": {},
   "outputs": [],
   "source": [
    "logit_model  = H2OGeneralizedLinearEstimator(\n",
    "    family = 'binomial',\n",
    "    lambda_ = 0,\n",
    "    compute_p_values = True\n",
    "    )"
   ]
  },
  {
   "cell_type": "code",
   "execution_count": 79,
   "metadata": {},
   "outputs": [
    {
     "name": "stdout",
     "output_type": "stream",
     "text": [
      "glm Model Build progress: |███████████████████████████████████████████████| 100%\n"
     ]
    }
   ],
   "source": [
    "logit_model.train(features, target, training_frame=data_crime_train)"
   ]
  },
  {
   "cell_type": "code",
   "execution_count": 80,
   "metadata": {},
   "outputs": [
    {
     "name": "stdout",
     "output_type": "stream",
     "text": [
      "\n",
      "ModelMetricsBinomialGLM: glm\n",
      "** Reported on train data. **\n",
      "\n",
      "MSE: 0.19018408861429698\n",
      "RMSE: 0.43610100735299495\n",
      "LogLoss: 0.5617411552305458\n",
      "Null degrees of freedom: 2198\n",
      "Residual degrees of freedom: 2193\n",
      "Null deviance: 2585.3594528061494\n",
      "Residual deviance: 2470.5376007039404\n",
      "AIC: 2482.5376007039404\n",
      "AUC: 0.6500602046959663\n",
      "AUCPR: 0.3587212804639584\n",
      "Gini: 0.3001204093919325\n",
      "\n",
      "Confusion Matrix (Act/Pred) for max f1 @ threshold = 0.2559647885888409: \n"
     ]
    },
    {
     "data": {
      "text/html": [
       "<div>\n",
       "<style scoped>\n",
       "    .dataframe tbody tr th:only-of-type {\n",
       "        vertical-align: middle;\n",
       "    }\n",
       "\n",
       "    .dataframe tbody tr th {\n",
       "        vertical-align: top;\n",
       "    }\n",
       "\n",
       "    .dataframe thead th {\n",
       "        text-align: right;\n",
       "    }\n",
       "</style>\n",
       "<table border=\"1\" class=\"dataframe\">\n",
       "  <thead>\n",
       "    <tr style=\"text-align: right;\">\n",
       "      <th></th>\n",
       "      <th></th>\n",
       "      <th>0</th>\n",
       "      <th>1</th>\n",
       "      <th>Error</th>\n",
       "      <th>Rate</th>\n",
       "    </tr>\n",
       "  </thead>\n",
       "  <tbody>\n",
       "    <tr>\n",
       "      <th>0</th>\n",
       "      <td>0</td>\n",
       "      <td>701.0</td>\n",
       "      <td>894.0</td>\n",
       "      <td>0.5605</td>\n",
       "      <td>(894.0/1595.0)</td>\n",
       "    </tr>\n",
       "    <tr>\n",
       "      <th>1</th>\n",
       "      <td>1</td>\n",
       "      <td>120.0</td>\n",
       "      <td>484.0</td>\n",
       "      <td>0.1987</td>\n",
       "      <td>(120.0/604.0)</td>\n",
       "    </tr>\n",
       "    <tr>\n",
       "      <th>2</th>\n",
       "      <td>Total</td>\n",
       "      <td>821.0</td>\n",
       "      <td>1378.0</td>\n",
       "      <td>0.4611</td>\n",
       "      <td>(1014.0/2199.0)</td>\n",
       "    </tr>\n",
       "  </tbody>\n",
       "</table>\n",
       "</div>"
      ],
      "text/plain": [
       "              0       1   Error              Rate\n",
       "0      0  701.0   894.0  0.5605    (894.0/1595.0)\n",
       "1      1  120.0   484.0  0.1987     (120.0/604.0)\n",
       "2  Total  821.0  1378.0  0.4611   (1014.0/2199.0)"
      ]
     },
     "metadata": {},
     "output_type": "display_data"
    },
    {
     "name": "stdout",
     "output_type": "stream",
     "text": [
      "\n",
      "Maximum Metrics: Maximum metrics at their respective thresholds\n"
     ]
    },
    {
     "data": {
      "text/html": [
       "<div>\n",
       "<style scoped>\n",
       "    .dataframe tbody tr th:only-of-type {\n",
       "        vertical-align: middle;\n",
       "    }\n",
       "\n",
       "    .dataframe tbody tr th {\n",
       "        vertical-align: top;\n",
       "    }\n",
       "\n",
       "    .dataframe thead th {\n",
       "        text-align: right;\n",
       "    }\n",
       "</style>\n",
       "<table border=\"1\" class=\"dataframe\">\n",
       "  <thead>\n",
       "    <tr style=\"text-align: right;\">\n",
       "      <th></th>\n",
       "      <th>metric</th>\n",
       "      <th>threshold</th>\n",
       "      <th>value</th>\n",
       "      <th>idx</th>\n",
       "    </tr>\n",
       "  </thead>\n",
       "  <tbody>\n",
       "    <tr>\n",
       "      <th>0</th>\n",
       "      <td>max f1</td>\n",
       "      <td>0.255965</td>\n",
       "      <td>0.488396</td>\n",
       "      <td>114.0</td>\n",
       "    </tr>\n",
       "    <tr>\n",
       "      <th>1</th>\n",
       "      <td>max f2</td>\n",
       "      <td>0.140635</td>\n",
       "      <td>0.669818</td>\n",
       "      <td>196.0</td>\n",
       "    </tr>\n",
       "    <tr>\n",
       "      <th>2</th>\n",
       "      <td>max f0point5</td>\n",
       "      <td>0.270390</td>\n",
       "      <td>0.426457</td>\n",
       "      <td>102.0</td>\n",
       "    </tr>\n",
       "    <tr>\n",
       "      <th>3</th>\n",
       "      <td>max accuracy</td>\n",
       "      <td>0.461203</td>\n",
       "      <td>0.725784</td>\n",
       "      <td>4.0</td>\n",
       "    </tr>\n",
       "    <tr>\n",
       "      <th>4</th>\n",
       "      <td>max precision</td>\n",
       "      <td>0.461203</td>\n",
       "      <td>0.600000</td>\n",
       "      <td>4.0</td>\n",
       "    </tr>\n",
       "    <tr>\n",
       "      <th>5</th>\n",
       "      <td>max recall</td>\n",
       "      <td>0.118197</td>\n",
       "      <td>1.000000</td>\n",
       "      <td>206.0</td>\n",
       "    </tr>\n",
       "    <tr>\n",
       "      <th>6</th>\n",
       "      <td>max specificity</td>\n",
       "      <td>0.580395</td>\n",
       "      <td>0.999373</td>\n",
       "      <td>0.0</td>\n",
       "    </tr>\n",
       "    <tr>\n",
       "      <th>7</th>\n",
       "      <td>max absolute_mcc</td>\n",
       "      <td>0.270390</td>\n",
       "      <td>0.232041</td>\n",
       "      <td>102.0</td>\n",
       "    </tr>\n",
       "    <tr>\n",
       "      <th>8</th>\n",
       "      <td>max min_per_class_accuracy</td>\n",
       "      <td>0.270390</td>\n",
       "      <td>0.600993</td>\n",
       "      <td>102.0</td>\n",
       "    </tr>\n",
       "    <tr>\n",
       "      <th>9</th>\n",
       "      <td>max mean_per_class_accuracy</td>\n",
       "      <td>0.270390</td>\n",
       "      <td>0.628083</td>\n",
       "      <td>102.0</td>\n",
       "    </tr>\n",
       "    <tr>\n",
       "      <th>10</th>\n",
       "      <td>max tns</td>\n",
       "      <td>0.580395</td>\n",
       "      <td>1594.000000</td>\n",
       "      <td>0.0</td>\n",
       "    </tr>\n",
       "    <tr>\n",
       "      <th>11</th>\n",
       "      <td>max fns</td>\n",
       "      <td>0.580395</td>\n",
       "      <td>604.000000</td>\n",
       "      <td>0.0</td>\n",
       "    </tr>\n",
       "    <tr>\n",
       "      <th>12</th>\n",
       "      <td>max fps</td>\n",
       "      <td>0.020145</td>\n",
       "      <td>1595.000000</td>\n",
       "      <td>248.0</td>\n",
       "    </tr>\n",
       "    <tr>\n",
       "      <th>13</th>\n",
       "      <td>max tps</td>\n",
       "      <td>0.118197</td>\n",
       "      <td>604.000000</td>\n",
       "      <td>206.0</td>\n",
       "    </tr>\n",
       "    <tr>\n",
       "      <th>14</th>\n",
       "      <td>max tnr</td>\n",
       "      <td>0.580395</td>\n",
       "      <td>0.999373</td>\n",
       "      <td>0.0</td>\n",
       "    </tr>\n",
       "    <tr>\n",
       "      <th>15</th>\n",
       "      <td>max fnr</td>\n",
       "      <td>0.580395</td>\n",
       "      <td>1.000000</td>\n",
       "      <td>0.0</td>\n",
       "    </tr>\n",
       "    <tr>\n",
       "      <th>16</th>\n",
       "      <td>max fpr</td>\n",
       "      <td>0.020145</td>\n",
       "      <td>1.000000</td>\n",
       "      <td>248.0</td>\n",
       "    </tr>\n",
       "    <tr>\n",
       "      <th>17</th>\n",
       "      <td>max tpr</td>\n",
       "      <td>0.118197</td>\n",
       "      <td>1.000000</td>\n",
       "      <td>206.0</td>\n",
       "    </tr>\n",
       "  </tbody>\n",
       "</table>\n",
       "</div>"
      ],
      "text/plain": [
       "                         metric  threshold        value    idx\n",
       "0                        max f1   0.255965     0.488396  114.0\n",
       "1                        max f2   0.140635     0.669818  196.0\n",
       "2                  max f0point5   0.270390     0.426457  102.0\n",
       "3                  max accuracy   0.461203     0.725784    4.0\n",
       "4                 max precision   0.461203     0.600000    4.0\n",
       "5                    max recall   0.118197     1.000000  206.0\n",
       "6               max specificity   0.580395     0.999373    0.0\n",
       "7              max absolute_mcc   0.270390     0.232041  102.0\n",
       "8    max min_per_class_accuracy   0.270390     0.600993  102.0\n",
       "9   max mean_per_class_accuracy   0.270390     0.628083  102.0\n",
       "10                      max tns   0.580395  1594.000000    0.0\n",
       "11                      max fns   0.580395   604.000000    0.0\n",
       "12                      max fps   0.020145  1595.000000  248.0\n",
       "13                      max tps   0.118197   604.000000  206.0\n",
       "14                      max tnr   0.580395     0.999373    0.0\n",
       "15                      max fnr   0.580395     1.000000    0.0\n",
       "16                      max fpr   0.020145     1.000000  248.0\n",
       "17                      max tpr   0.118197     1.000000  206.0"
      ]
     },
     "metadata": {},
     "output_type": "display_data"
    },
    {
     "name": "stdout",
     "output_type": "stream",
     "text": [
      "\n",
      "Gains/Lift Table: Avg response rate: 27.47 %, avg score: 10.68 %\n"
     ]
    },
    {
     "data": {
      "text/html": [
       "<div>\n",
       "<style scoped>\n",
       "    .dataframe tbody tr th:only-of-type {\n",
       "        vertical-align: middle;\n",
       "    }\n",
       "\n",
       "    .dataframe tbody tr th {\n",
       "        vertical-align: top;\n",
       "    }\n",
       "\n",
       "    .dataframe thead th {\n",
       "        text-align: right;\n",
       "    }\n",
       "</style>\n",
       "<table border=\"1\" class=\"dataframe\">\n",
       "  <thead>\n",
       "    <tr style=\"text-align: right;\">\n",
       "      <th></th>\n",
       "      <th></th>\n",
       "      <th>group</th>\n",
       "      <th>cumulative_data_fraction</th>\n",
       "      <th>lower_threshold</th>\n",
       "      <th>lift</th>\n",
       "      <th>cumulative_lift</th>\n",
       "      <th>response_rate</th>\n",
       "      <th>score</th>\n",
       "      <th>cumulative_response_rate</th>\n",
       "      <th>cumulative_score</th>\n",
       "      <th>capture_rate</th>\n",
       "      <th>cumulative_capture_rate</th>\n",
       "      <th>gain</th>\n",
       "      <th>cumulative_gain</th>\n",
       "    </tr>\n",
       "  </thead>\n",
       "  <tbody>\n",
       "    <tr>\n",
       "      <th>0</th>\n",
       "      <td></td>\n",
       "      <td>1</td>\n",
       "      <td>0.010005</td>\n",
       "      <td>0.548518</td>\n",
       "      <td>0.165488</td>\n",
       "      <td>0.165488</td>\n",
       "      <td>0.045455</td>\n",
       "      <td>0.788629</td>\n",
       "      <td>0.045455</td>\n",
       "      <td>0.788629</td>\n",
       "      <td>0.001656</td>\n",
       "      <td>0.001656</td>\n",
       "      <td>-83.451234</td>\n",
       "      <td>-83.451234</td>\n",
       "    </tr>\n",
       "    <tr>\n",
       "      <th>1</th>\n",
       "      <td></td>\n",
       "      <td>2</td>\n",
       "      <td>0.020009</td>\n",
       "      <td>0.436430</td>\n",
       "      <td>0.165488</td>\n",
       "      <td>0.165488</td>\n",
       "      <td>0.045455</td>\n",
       "      <td>0.459991</td>\n",
       "      <td>0.045455</td>\n",
       "      <td>0.624310</td>\n",
       "      <td>0.001656</td>\n",
       "      <td>0.003311</td>\n",
       "      <td>-83.451234</td>\n",
       "      <td>-83.451234</td>\n",
       "    </tr>\n",
       "    <tr>\n",
       "      <th>2</th>\n",
       "      <td></td>\n",
       "      <td>3</td>\n",
       "      <td>0.030014</td>\n",
       "      <td>0.435140</td>\n",
       "      <td>0.000000</td>\n",
       "      <td>0.110325</td>\n",
       "      <td>0.000000</td>\n",
       "      <td>0.435546</td>\n",
       "      <td>0.030303</td>\n",
       "      <td>0.561388</td>\n",
       "      <td>0.000000</td>\n",
       "      <td>0.003311</td>\n",
       "      <td>-100.000000</td>\n",
       "      <td>-88.967489</td>\n",
       "    </tr>\n",
       "    <tr>\n",
       "      <th>3</th>\n",
       "      <td></td>\n",
       "      <td>4</td>\n",
       "      <td>0.040018</td>\n",
       "      <td>0.295500</td>\n",
       "      <td>0.992926</td>\n",
       "      <td>0.330975</td>\n",
       "      <td>0.272727</td>\n",
       "      <td>0.370948</td>\n",
       "      <td>0.090909</td>\n",
       "      <td>0.513778</td>\n",
       "      <td>0.009934</td>\n",
       "      <td>0.013245</td>\n",
       "      <td>-0.707405</td>\n",
       "      <td>-66.902468</td>\n",
       "    </tr>\n",
       "    <tr>\n",
       "      <th>4</th>\n",
       "      <td></td>\n",
       "      <td>5</td>\n",
       "      <td>0.050023</td>\n",
       "      <td>0.221454</td>\n",
       "      <td>1.654877</td>\n",
       "      <td>0.595756</td>\n",
       "      <td>0.454545</td>\n",
       "      <td>0.253419</td>\n",
       "      <td>0.163636</td>\n",
       "      <td>0.461707</td>\n",
       "      <td>0.016556</td>\n",
       "      <td>0.029801</td>\n",
       "      <td>65.487658</td>\n",
       "      <td>-40.424443</td>\n",
       "    </tr>\n",
       "    <tr>\n",
       "      <th>5</th>\n",
       "      <td></td>\n",
       "      <td>6</td>\n",
       "      <td>0.191451</td>\n",
       "      <td>0.124151</td>\n",
       "      <td>0.526794</td>\n",
       "      <td>0.544812</td>\n",
       "      <td>0.144695</td>\n",
       "      <td>0.129785</td>\n",
       "      <td>0.149644</td>\n",
       "      <td>0.216510</td>\n",
       "      <td>0.074503</td>\n",
       "      <td>0.104305</td>\n",
       "      <td>-47.320649</td>\n",
       "      <td>-45.518790</td>\n",
       "    </tr>\n",
       "    <tr>\n",
       "      <th>6</th>\n",
       "      <td></td>\n",
       "      <td>7</td>\n",
       "      <td>0.209186</td>\n",
       "      <td>0.114164</td>\n",
       "      <td>0.746816</td>\n",
       "      <td>0.561939</td>\n",
       "      <td>0.205128</td>\n",
       "      <td>0.114540</td>\n",
       "      <td>0.154348</td>\n",
       "      <td>0.207865</td>\n",
       "      <td>0.013245</td>\n",
       "      <td>0.117550</td>\n",
       "      <td>-25.318390</td>\n",
       "      <td>-43.806147</td>\n",
       "    </tr>\n",
       "    <tr>\n",
       "      <th>7</th>\n",
       "      <td></td>\n",
       "      <td>8</td>\n",
       "      <td>0.367440</td>\n",
       "      <td>0.094196</td>\n",
       "      <td>0.920644</td>\n",
       "      <td>0.716430</td>\n",
       "      <td>0.252874</td>\n",
       "      <td>0.101043</td>\n",
       "      <td>0.196782</td>\n",
       "      <td>0.161857</td>\n",
       "      <td>0.145695</td>\n",
       "      <td>0.263245</td>\n",
       "      <td>-7.935602</td>\n",
       "      <td>-28.356952</td>\n",
       "    </tr>\n",
       "    <tr>\n",
       "      <th>8</th>\n",
       "      <td></td>\n",
       "      <td>9</td>\n",
       "      <td>0.405184</td>\n",
       "      <td>0.089153</td>\n",
       "      <td>1.228198</td>\n",
       "      <td>0.764104</td>\n",
       "      <td>0.337349</td>\n",
       "      <td>0.090468</td>\n",
       "      <td>0.209877</td>\n",
       "      <td>0.155207</td>\n",
       "      <td>0.046358</td>\n",
       "      <td>0.309603</td>\n",
       "      <td>22.819756</td>\n",
       "      <td>-23.589649</td>\n",
       "    </tr>\n",
       "    <tr>\n",
       "      <th>9</th>\n",
       "      <td></td>\n",
       "      <td>10</td>\n",
       "      <td>0.638472</td>\n",
       "      <td>0.082468</td>\n",
       "      <td>1.043250</td>\n",
       "      <td>0.866099</td>\n",
       "      <td>0.286550</td>\n",
       "      <td>0.083021</td>\n",
       "      <td>0.237892</td>\n",
       "      <td>0.128831</td>\n",
       "      <td>0.243377</td>\n",
       "      <td>0.552980</td>\n",
       "      <td>4.324968</td>\n",
       "      <td>-13.390078</td>\n",
       "    </tr>\n",
       "    <tr>\n",
       "      <th>10</th>\n",
       "      <td></td>\n",
       "      <td>11</td>\n",
       "      <td>0.700318</td>\n",
       "      <td>0.075040</td>\n",
       "      <td>0.722792</td>\n",
       "      <td>0.853443</td>\n",
       "      <td>0.198529</td>\n",
       "      <td>0.079348</td>\n",
       "      <td>0.234416</td>\n",
       "      <td>0.124461</td>\n",
       "      <td>0.044702</td>\n",
       "      <td>0.597682</td>\n",
       "      <td>-27.720832</td>\n",
       "      <td>-14.655651</td>\n",
       "    </tr>\n",
       "    <tr>\n",
       "      <th>11</th>\n",
       "      <td></td>\n",
       "      <td>12</td>\n",
       "      <td>0.858572</td>\n",
       "      <td>0.066532</td>\n",
       "      <td>1.318195</td>\n",
       "      <td>0.939107</td>\n",
       "      <td>0.362069</td>\n",
       "      <td>0.069598</td>\n",
       "      <td>0.257945</td>\n",
       "      <td>0.114349</td>\n",
       "      <td>0.208609</td>\n",
       "      <td>0.806291</td>\n",
       "      <td>31.819479</td>\n",
       "      <td>-6.089260</td>\n",
       "    </tr>\n",
       "    <tr>\n",
       "      <th>12</th>\n",
       "      <td></td>\n",
       "      <td>13</td>\n",
       "      <td>0.945430</td>\n",
       "      <td>0.063090</td>\n",
       "      <td>1.391483</td>\n",
       "      <td>0.980668</td>\n",
       "      <td>0.382199</td>\n",
       "      <td>0.063344</td>\n",
       "      <td>0.269360</td>\n",
       "      <td>0.109663</td>\n",
       "      <td>0.120861</td>\n",
       "      <td>0.927152</td>\n",
       "      <td>39.148261</td>\n",
       "      <td>-1.933240</td>\n",
       "    </tr>\n",
       "    <tr>\n",
       "      <th>13</th>\n",
       "      <td></td>\n",
       "      <td>14</td>\n",
       "      <td>1.000000</td>\n",
       "      <td>0.050401</td>\n",
       "      <td>1.334934</td>\n",
       "      <td>1.000000</td>\n",
       "      <td>0.366667</td>\n",
       "      <td>0.056853</td>\n",
       "      <td>0.274670</td>\n",
       "      <td>0.106781</td>\n",
       "      <td>0.072848</td>\n",
       "      <td>1.000000</td>\n",
       "      <td>33.493377</td>\n",
       "      <td>0.000000</td>\n",
       "    </tr>\n",
       "  </tbody>\n",
       "</table>\n",
       "</div>"
      ],
      "text/plain": [
       "      group  cumulative_data_fraction  lower_threshold      lift  \\\n",
       "0         1                  0.010005         0.548518  0.165488   \n",
       "1         2                  0.020009         0.436430  0.165488   \n",
       "2         3                  0.030014         0.435140  0.000000   \n",
       "3         4                  0.040018         0.295500  0.992926   \n",
       "4         5                  0.050023         0.221454  1.654877   \n",
       "5         6                  0.191451         0.124151  0.526794   \n",
       "6         7                  0.209186         0.114164  0.746816   \n",
       "7         8                  0.367440         0.094196  0.920644   \n",
       "8         9                  0.405184         0.089153  1.228198   \n",
       "9        10                  0.638472         0.082468  1.043250   \n",
       "10       11                  0.700318         0.075040  0.722792   \n",
       "11       12                  0.858572         0.066532  1.318195   \n",
       "12       13                  0.945430         0.063090  1.391483   \n",
       "13       14                  1.000000         0.050401  1.334934   \n",
       "\n",
       "    cumulative_lift  response_rate     score  cumulative_response_rate  \\\n",
       "0          0.165488       0.045455  0.788629                  0.045455   \n",
       "1          0.165488       0.045455  0.459991                  0.045455   \n",
       "2          0.110325       0.000000  0.435546                  0.030303   \n",
       "3          0.330975       0.272727  0.370948                  0.090909   \n",
       "4          0.595756       0.454545  0.253419                  0.163636   \n",
       "5          0.544812       0.144695  0.129785                  0.149644   \n",
       "6          0.561939       0.205128  0.114540                  0.154348   \n",
       "7          0.716430       0.252874  0.101043                  0.196782   \n",
       "8          0.764104       0.337349  0.090468                  0.209877   \n",
       "9          0.866099       0.286550  0.083021                  0.237892   \n",
       "10         0.853443       0.198529  0.079348                  0.234416   \n",
       "11         0.939107       0.362069  0.069598                  0.257945   \n",
       "12         0.980668       0.382199  0.063344                  0.269360   \n",
       "13         1.000000       0.366667  0.056853                  0.274670   \n",
       "\n",
       "    cumulative_score  capture_rate  cumulative_capture_rate        gain  \\\n",
       "0           0.788629      0.001656                 0.001656  -83.451234   \n",
       "1           0.624310      0.001656                 0.003311  -83.451234   \n",
       "2           0.561388      0.000000                 0.003311 -100.000000   \n",
       "3           0.513778      0.009934                 0.013245   -0.707405   \n",
       "4           0.461707      0.016556                 0.029801   65.487658   \n",
       "5           0.216510      0.074503                 0.104305  -47.320649   \n",
       "6           0.207865      0.013245                 0.117550  -25.318390   \n",
       "7           0.161857      0.145695                 0.263245   -7.935602   \n",
       "8           0.155207      0.046358                 0.309603   22.819756   \n",
       "9           0.128831      0.243377                 0.552980    4.324968   \n",
       "10          0.124461      0.044702                 0.597682  -27.720832   \n",
       "11          0.114349      0.208609                 0.806291   31.819479   \n",
       "12          0.109663      0.120861                 0.927152   39.148261   \n",
       "13          0.106781      0.072848                 1.000000   33.493377   \n",
       "\n",
       "    cumulative_gain  \n",
       "0        -83.451234  \n",
       "1        -83.451234  \n",
       "2        -88.967489  \n",
       "3        -66.902468  \n",
       "4        -40.424443  \n",
       "5        -45.518790  \n",
       "6        -43.806147  \n",
       "7        -28.356952  \n",
       "8        -23.589649  \n",
       "9        -13.390078  \n",
       "10       -14.655651  \n",
       "11        -6.089260  \n",
       "12        -1.933240  \n",
       "13         0.000000  "
      ]
     },
     "metadata": {},
     "output_type": "display_data"
    },
    {
     "name": "stdout",
     "output_type": "stream",
     "text": [
      "\n"
     ]
    },
    {
     "data": {
      "text/plain": []
     },
     "execution_count": 80,
     "metadata": {},
     "output_type": "execute_result"
    }
   ],
   "source": [
    "logit_model.model_performance()"
   ]
  },
  {
   "cell_type": "code",
   "execution_count": 81,
   "metadata": {},
   "outputs": [
    {
     "name": "stdout",
     "output_type": "stream",
     "text": [
      "\n",
      "Coefficients: glm coefficients\n"
     ]
    },
    {
     "data": {
      "text/html": [
       "<div>\n",
       "<style scoped>\n",
       "    .dataframe tbody tr th:only-of-type {\n",
       "        vertical-align: middle;\n",
       "    }\n",
       "\n",
       "    .dataframe tbody tr th {\n",
       "        vertical-align: top;\n",
       "    }\n",
       "\n",
       "    .dataframe thead th {\n",
       "        text-align: right;\n",
       "    }\n",
       "</style>\n",
       "<table border=\"1\" class=\"dataframe\">\n",
       "  <thead>\n",
       "    <tr style=\"text-align: right;\">\n",
       "      <th></th>\n",
       "      <th>names</th>\n",
       "      <th>coefficients</th>\n",
       "      <th>std_error</th>\n",
       "      <th>z_value</th>\n",
       "      <th>p_value</th>\n",
       "      <th>standardized_coefficients</th>\n",
       "    </tr>\n",
       "  </thead>\n",
       "  <tbody>\n",
       "    <tr>\n",
       "      <th>0</th>\n",
       "      <td>Intercept</td>\n",
       "      <td>-0.158525</td>\n",
       "      <td>0.094196</td>\n",
       "      <td>-1.682932</td>\n",
       "      <td>9.238825e-02</td>\n",
       "      <td>-1.039223</td>\n",
       "    </tr>\n",
       "    <tr>\n",
       "      <th>1</th>\n",
       "      <td>pcnv</td>\n",
       "      <td>-0.930067</td>\n",
       "      <td>0.134708</td>\n",
       "      <td>-6.904311</td>\n",
       "      <td>5.044742e-12</td>\n",
       "      <td>-0.366944</td>\n",
       "    </tr>\n",
       "    <tr>\n",
       "      <th>2</th>\n",
       "      <td>avgsen</td>\n",
       "      <td>0.068474</td>\n",
       "      <td>0.049702</td>\n",
       "      <td>1.377700</td>\n",
       "      <td>1.682958e-01</td>\n",
       "      <td>0.230889</td>\n",
       "    </tr>\n",
       "    <tr>\n",
       "      <th>3</th>\n",
       "      <td>tottime</td>\n",
       "      <td>-0.052589</td>\n",
       "      <td>0.042345</td>\n",
       "      <td>-1.241920</td>\n",
       "      <td>2.142661e-01</td>\n",
       "      <td>-0.236041</td>\n",
       "    </tr>\n",
       "    <tr>\n",
       "      <th>4</th>\n",
       "      <td>ptime86</td>\n",
       "      <td>-0.145185</td>\n",
       "      <td>0.037008</td>\n",
       "      <td>-3.923054</td>\n",
       "      <td>8.743345e-05</td>\n",
       "      <td>-0.295367</td>\n",
       "    </tr>\n",
       "    <tr>\n",
       "      <th>5</th>\n",
       "      <td>qemp86</td>\n",
       "      <td>-0.210973</td>\n",
       "      <td>0.031051</td>\n",
       "      <td>-6.794492</td>\n",
       "      <td>1.086953e-11</td>\n",
       "      <td>-0.338283</td>\n",
       "    </tr>\n",
       "  </tbody>\n",
       "</table>\n",
       "</div>"
      ],
      "text/plain": [
       "       names  coefficients  std_error   z_value       p_value  \\\n",
       "0  Intercept     -0.158525   0.094196 -1.682932  9.238825e-02   \n",
       "1       pcnv     -0.930067   0.134708 -6.904311  5.044742e-12   \n",
       "2     avgsen      0.068474   0.049702  1.377700  1.682958e-01   \n",
       "3    tottime     -0.052589   0.042345 -1.241920  2.142661e-01   \n",
       "4    ptime86     -0.145185   0.037008 -3.923054  8.743345e-05   \n",
       "5     qemp86     -0.210973   0.031051 -6.794492  1.086953e-11   \n",
       "\n",
       "   standardized_coefficients  \n",
       "0                  -1.039223  \n",
       "1                  -0.366944  \n",
       "2                   0.230889  \n",
       "3                  -0.236041  \n",
       "4                  -0.295367  \n",
       "5                  -0.338283  "
      ]
     },
     "metadata": {},
     "output_type": "display_data"
    },
    {
     "data": {
      "text/plain": []
     },
     "execution_count": 81,
     "metadata": {},
     "output_type": "execute_result"
    }
   ],
   "source": [
    "logit_model._model_json['output']['coefficients_table']"
   ]
  },
  {
   "cell_type": "markdown",
   "metadata": {},
   "source": [
    "If we use the clusters found by *k-means* algorithm like input fectures we can improve the metrics "
   ]
  },
  {
   "cell_type": "code",
   "execution_count": 85,
   "metadata": {},
   "outputs": [
    {
     "name": "stdout",
     "output_type": "stream",
     "text": [
      "kmeans prediction progress: |█████████████████████████████████████████████| 100%\n",
      "kmeans prediction progress: |█████████████████████████████████████████████| 100%\n"
     ]
    }
   ],
   "source": [
    "data_crime_train['cluster'] = kmeans.predict(data_crime_train)\n",
    "data_crime_valid['cluster'] = kmeans.predict(data_crime_valid)"
   ]
  },
  {
   "cell_type": "code",
   "execution_count": 91,
   "metadata": {},
   "outputs": [],
   "source": [
    "data_crime_valid['cluster'] = data_crime_valid['cluster'].asfactor()\n",
    "data_crime_train['cluster'] = data_crime_train['cluster'].asfactor()"
   ]
  },
  {
   "cell_type": "code",
   "execution_count": 92,
   "metadata": {},
   "outputs": [
    {
     "name": "stdout",
     "output_type": "stream",
     "text": [
      "glm Model Build progress: |███████████████████████████████████████████████| 100%\n"
     ]
    }
   ],
   "source": [
    "features = ['pcnv', 'avgsen', 'tottime', 'ptime86', 'qemp86', 'cluster']\n",
    "logit_model.train(x=features, y=target, training_frame=data_crime_train)"
   ]
  },
  {
   "cell_type": "code",
   "execution_count": 93,
   "metadata": {},
   "outputs": [
    {
     "name": "stdout",
     "output_type": "stream",
     "text": [
      "\n",
      "ModelMetricsBinomialGLM: glm\n",
      "** Reported on train data. **\n",
      "\n",
      "MSE: 0.18929845089383657\n",
      "RMSE: 0.4350844181234678\n",
      "LogLoss: 0.5594518297328616\n",
      "Null degrees of freedom: 2198\n",
      "Residual degrees of freedom: 2186\n",
      "Null deviance: 2585.3594528061494\n",
      "Residual deviance: 2460.4691471651245\n",
      "AIC: 2486.4691471651245\n",
      "AUC: 0.6530943137702673\n",
      "AUCPR: 0.3683696203012761\n",
      "Gini: 0.30618862754053455\n",
      "\n",
      "Confusion Matrix (Act/Pred) for max f1 @ threshold = 0.2511835453591923: \n"
     ]
    },
    {
     "data": {
      "text/html": [
       "<div>\n",
       "<style scoped>\n",
       "    .dataframe tbody tr th:only-of-type {\n",
       "        vertical-align: middle;\n",
       "    }\n",
       "\n",
       "    .dataframe tbody tr th {\n",
       "        vertical-align: top;\n",
       "    }\n",
       "\n",
       "    .dataframe thead th {\n",
       "        text-align: right;\n",
       "    }\n",
       "</style>\n",
       "<table border=\"1\" class=\"dataframe\">\n",
       "  <thead>\n",
       "    <tr style=\"text-align: right;\">\n",
       "      <th></th>\n",
       "      <th></th>\n",
       "      <th>0</th>\n",
       "      <th>1</th>\n",
       "      <th>Error</th>\n",
       "      <th>Rate</th>\n",
       "    </tr>\n",
       "  </thead>\n",
       "  <tbody>\n",
       "    <tr>\n",
       "      <th>0</th>\n",
       "      <td>0</td>\n",
       "      <td>695.0</td>\n",
       "      <td>900.0</td>\n",
       "      <td>0.5643</td>\n",
       "      <td>(900.0/1595.0)</td>\n",
       "    </tr>\n",
       "    <tr>\n",
       "      <th>1</th>\n",
       "      <td>1</td>\n",
       "      <td>114.0</td>\n",
       "      <td>490.0</td>\n",
       "      <td>0.1887</td>\n",
       "      <td>(114.0/604.0)</td>\n",
       "    </tr>\n",
       "    <tr>\n",
       "      <th>2</th>\n",
       "      <td>Total</td>\n",
       "      <td>809.0</td>\n",
       "      <td>1390.0</td>\n",
       "      <td>0.4611</td>\n",
       "      <td>(1014.0/2199.0)</td>\n",
       "    </tr>\n",
       "  </tbody>\n",
       "</table>\n",
       "</div>"
      ],
      "text/plain": [
       "              0       1   Error              Rate\n",
       "0      0  695.0   900.0  0.5643    (900.0/1595.0)\n",
       "1      1  114.0   490.0  0.1887     (114.0/604.0)\n",
       "2  Total  809.0  1390.0  0.4611   (1014.0/2199.0)"
      ]
     },
     "metadata": {},
     "output_type": "display_data"
    },
    {
     "name": "stdout",
     "output_type": "stream",
     "text": [
      "\n",
      "Maximum Metrics: Maximum metrics at their respective thresholds\n"
     ]
    },
    {
     "data": {
      "text/html": [
       "<div>\n",
       "<style scoped>\n",
       "    .dataframe tbody tr th:only-of-type {\n",
       "        vertical-align: middle;\n",
       "    }\n",
       "\n",
       "    .dataframe tbody tr th {\n",
       "        vertical-align: top;\n",
       "    }\n",
       "\n",
       "    .dataframe thead th {\n",
       "        text-align: right;\n",
       "    }\n",
       "</style>\n",
       "<table border=\"1\" class=\"dataframe\">\n",
       "  <thead>\n",
       "    <tr style=\"text-align: right;\">\n",
       "      <th></th>\n",
       "      <th>metric</th>\n",
       "      <th>threshold</th>\n",
       "      <th>value</th>\n",
       "      <th>idx</th>\n",
       "    </tr>\n",
       "  </thead>\n",
       "  <tbody>\n",
       "    <tr>\n",
       "      <th>0</th>\n",
       "      <td>max f1</td>\n",
       "      <td>0.251184</td>\n",
       "      <td>0.491474</td>\n",
       "      <td>126.0</td>\n",
       "    </tr>\n",
       "    <tr>\n",
       "      <th>1</th>\n",
       "      <td>max f2</td>\n",
       "      <td>0.152603</td>\n",
       "      <td>0.671133</td>\n",
       "      <td>185.0</td>\n",
       "    </tr>\n",
       "    <tr>\n",
       "      <th>2</th>\n",
       "      <td>max f0point5</td>\n",
       "      <td>0.269722</td>\n",
       "      <td>0.426056</td>\n",
       "      <td>111.0</td>\n",
       "    </tr>\n",
       "    <tr>\n",
       "      <th>3</th>\n",
       "      <td>max accuracy</td>\n",
       "      <td>0.660588</td>\n",
       "      <td>0.726694</td>\n",
       "      <td>2.0</td>\n",
       "    </tr>\n",
       "    <tr>\n",
       "      <th>4</th>\n",
       "      <td>max precision</td>\n",
       "      <td>0.674819</td>\n",
       "      <td>1.000000</td>\n",
       "      <td>0.0</td>\n",
       "    </tr>\n",
       "    <tr>\n",
       "      <th>5</th>\n",
       "      <td>max recall</td>\n",
       "      <td>0.060230</td>\n",
       "      <td>1.000000</td>\n",
       "      <td>233.0</td>\n",
       "    </tr>\n",
       "    <tr>\n",
       "      <th>6</th>\n",
       "      <td>max specificity</td>\n",
       "      <td>0.674819</td>\n",
       "      <td>1.000000</td>\n",
       "      <td>0.0</td>\n",
       "    </tr>\n",
       "    <tr>\n",
       "      <th>7</th>\n",
       "      <td>max absolute_mcc</td>\n",
       "      <td>0.269722</td>\n",
       "      <td>0.231436</td>\n",
       "      <td>111.0</td>\n",
       "    </tr>\n",
       "    <tr>\n",
       "      <th>8</th>\n",
       "      <td>max min_per_class_accuracy</td>\n",
       "      <td>0.269722</td>\n",
       "      <td>0.600993</td>\n",
       "      <td>111.0</td>\n",
       "    </tr>\n",
       "    <tr>\n",
       "      <th>9</th>\n",
       "      <td>max mean_per_class_accuracy</td>\n",
       "      <td>0.269722</td>\n",
       "      <td>0.627769</td>\n",
       "      <td>111.0</td>\n",
       "    </tr>\n",
       "    <tr>\n",
       "      <th>10</th>\n",
       "      <td>max tns</td>\n",
       "      <td>0.674819</td>\n",
       "      <td>1595.000000</td>\n",
       "      <td>0.0</td>\n",
       "    </tr>\n",
       "    <tr>\n",
       "      <th>11</th>\n",
       "      <td>max fns</td>\n",
       "      <td>0.674819</td>\n",
       "      <td>603.000000</td>\n",
       "      <td>0.0</td>\n",
       "    </tr>\n",
       "    <tr>\n",
       "      <th>12</th>\n",
       "      <td>max fps</td>\n",
       "      <td>0.000033</td>\n",
       "      <td>1595.000000</td>\n",
       "      <td>247.0</td>\n",
       "    </tr>\n",
       "    <tr>\n",
       "      <th>13</th>\n",
       "      <td>max tps</td>\n",
       "      <td>0.060230</td>\n",
       "      <td>604.000000</td>\n",
       "      <td>233.0</td>\n",
       "    </tr>\n",
       "    <tr>\n",
       "      <th>14</th>\n",
       "      <td>max tnr</td>\n",
       "      <td>0.674819</td>\n",
       "      <td>1.000000</td>\n",
       "      <td>0.0</td>\n",
       "    </tr>\n",
       "    <tr>\n",
       "      <th>15</th>\n",
       "      <td>max fnr</td>\n",
       "      <td>0.674819</td>\n",
       "      <td>0.998344</td>\n",
       "      <td>0.0</td>\n",
       "    </tr>\n",
       "    <tr>\n",
       "      <th>16</th>\n",
       "      <td>max fpr</td>\n",
       "      <td>0.000033</td>\n",
       "      <td>1.000000</td>\n",
       "      <td>247.0</td>\n",
       "    </tr>\n",
       "    <tr>\n",
       "      <th>17</th>\n",
       "      <td>max tpr</td>\n",
       "      <td>0.060230</td>\n",
       "      <td>1.000000</td>\n",
       "      <td>233.0</td>\n",
       "    </tr>\n",
       "  </tbody>\n",
       "</table>\n",
       "</div>"
      ],
      "text/plain": [
       "                         metric  threshold        value    idx\n",
       "0                        max f1   0.251184     0.491474  126.0\n",
       "1                        max f2   0.152603     0.671133  185.0\n",
       "2                  max f0point5   0.269722     0.426056  111.0\n",
       "3                  max accuracy   0.660588     0.726694    2.0\n",
       "4                 max precision   0.674819     1.000000    0.0\n",
       "5                    max recall   0.060230     1.000000  233.0\n",
       "6               max specificity   0.674819     1.000000    0.0\n",
       "7              max absolute_mcc   0.269722     0.231436  111.0\n",
       "8    max min_per_class_accuracy   0.269722     0.600993  111.0\n",
       "9   max mean_per_class_accuracy   0.269722     0.627769  111.0\n",
       "10                      max tns   0.674819  1595.000000    0.0\n",
       "11                      max fns   0.674819   603.000000    0.0\n",
       "12                      max fps   0.000033  1595.000000  247.0\n",
       "13                      max tps   0.060230   604.000000  233.0\n",
       "14                      max tnr   0.674819     1.000000    0.0\n",
       "15                      max fnr   0.674819     0.998344    0.0\n",
       "16                      max fpr   0.000033     1.000000  247.0\n",
       "17                      max tpr   0.060230     1.000000  233.0"
      ]
     },
     "metadata": {},
     "output_type": "display_data"
    },
    {
     "name": "stdout",
     "output_type": "stream",
     "text": [
      "\n",
      "Gains/Lift Table: Avg response rate: 27.47 %, avg score: 32.80 %\n"
     ]
    },
    {
     "data": {
      "text/html": [
       "<div>\n",
       "<style scoped>\n",
       "    .dataframe tbody tr th:only-of-type {\n",
       "        vertical-align: middle;\n",
       "    }\n",
       "\n",
       "    .dataframe tbody tr th {\n",
       "        vertical-align: top;\n",
       "    }\n",
       "\n",
       "    .dataframe thead th {\n",
       "        text-align: right;\n",
       "    }\n",
       "</style>\n",
       "<table border=\"1\" class=\"dataframe\">\n",
       "  <thead>\n",
       "    <tr style=\"text-align: right;\">\n",
       "      <th></th>\n",
       "      <th></th>\n",
       "      <th>group</th>\n",
       "      <th>cumulative_data_fraction</th>\n",
       "      <th>lower_threshold</th>\n",
       "      <th>lift</th>\n",
       "      <th>cumulative_lift</th>\n",
       "      <th>response_rate</th>\n",
       "      <th>score</th>\n",
       "      <th>cumulative_response_rate</th>\n",
       "      <th>cumulative_score</th>\n",
       "      <th>capture_rate</th>\n",
       "      <th>cumulative_capture_rate</th>\n",
       "      <th>gain</th>\n",
       "      <th>cumulative_gain</th>\n",
       "    </tr>\n",
       "  </thead>\n",
       "  <tbody>\n",
       "    <tr>\n",
       "      <th>0</th>\n",
       "      <td></td>\n",
       "      <td>1</td>\n",
       "      <td>0.010005</td>\n",
       "      <td>1.108728</td>\n",
       "      <td>0.165488</td>\n",
       "      <td>0.165488</td>\n",
       "      <td>0.045455</td>\n",
       "      <td>21.671361</td>\n",
       "      <td>0.045455</td>\n",
       "      <td>21.671361</td>\n",
       "      <td>0.001656</td>\n",
       "      <td>0.001656</td>\n",
       "      <td>-83.451234</td>\n",
       "      <td>-83.451234</td>\n",
       "    </tr>\n",
       "    <tr>\n",
       "      <th>1</th>\n",
       "      <td></td>\n",
       "      <td>2</td>\n",
       "      <td>0.020009</td>\n",
       "      <td>0.629747</td>\n",
       "      <td>1.654877</td>\n",
       "      <td>0.910182</td>\n",
       "      <td>0.454545</td>\n",
       "      <td>0.788617</td>\n",
       "      <td>0.250000</td>\n",
       "      <td>11.229989</td>\n",
       "      <td>0.016556</td>\n",
       "      <td>0.018212</td>\n",
       "      <td>65.487658</td>\n",
       "      <td>-8.981788</td>\n",
       "    </tr>\n",
       "    <tr>\n",
       "      <th>2</th>\n",
       "      <td></td>\n",
       "      <td>3</td>\n",
       "      <td>0.030014</td>\n",
       "      <td>0.499554</td>\n",
       "      <td>1.158414</td>\n",
       "      <td>0.992926</td>\n",
       "      <td>0.318182</td>\n",
       "      <td>0.559026</td>\n",
       "      <td>0.272727</td>\n",
       "      <td>7.673001</td>\n",
       "      <td>0.011589</td>\n",
       "      <td>0.029801</td>\n",
       "      <td>15.841361</td>\n",
       "      <td>-0.707405</td>\n",
       "    </tr>\n",
       "    <tr>\n",
       "      <th>3</th>\n",
       "      <td></td>\n",
       "      <td>4</td>\n",
       "      <td>0.040473</td>\n",
       "      <td>0.463554</td>\n",
       "      <td>0.158293</td>\n",
       "      <td>0.777234</td>\n",
       "      <td>0.043478</td>\n",
       "      <td>0.468951</td>\n",
       "      <td>0.213483</td>\n",
       "      <td>5.811280</td>\n",
       "      <td>0.001656</td>\n",
       "      <td>0.031457</td>\n",
       "      <td>-84.170746</td>\n",
       "      <td>-22.276583</td>\n",
       "    </tr>\n",
       "    <tr>\n",
       "      <th>4</th>\n",
       "      <td></td>\n",
       "      <td>5</td>\n",
       "      <td>0.050023</td>\n",
       "      <td>0.441030</td>\n",
       "      <td>0.000000</td>\n",
       "      <td>0.628853</td>\n",
       "      <td>0.000000</td>\n",
       "      <td>0.461588</td>\n",
       "      <td>0.172727</td>\n",
       "      <td>4.789975</td>\n",
       "      <td>0.000000</td>\n",
       "      <td>0.031457</td>\n",
       "      <td>-100.000000</td>\n",
       "      <td>-37.114690</td>\n",
       "    </tr>\n",
       "    <tr>\n",
       "      <th>5</th>\n",
       "      <td></td>\n",
       "      <td>6</td>\n",
       "      <td>0.104593</td>\n",
       "      <td>0.128184</td>\n",
       "      <td>1.001200</td>\n",
       "      <td>0.823121</td>\n",
       "      <td>0.275000</td>\n",
       "      <td>0.211783</td>\n",
       "      <td>0.226087</td>\n",
       "      <td>2.401353</td>\n",
       "      <td>0.054636</td>\n",
       "      <td>0.086093</td>\n",
       "      <td>0.120033</td>\n",
       "      <td>-17.687878</td>\n",
       "    </tr>\n",
       "    <tr>\n",
       "      <th>6</th>\n",
       "      <td></td>\n",
       "      <td>7</td>\n",
       "      <td>0.199636</td>\n",
       "      <td>0.125069</td>\n",
       "      <td>0.383235</td>\n",
       "      <td>0.613699</td>\n",
       "      <td>0.105263</td>\n",
       "      <td>0.125081</td>\n",
       "      <td>0.168565</td>\n",
       "      <td>1.317661</td>\n",
       "      <td>0.036424</td>\n",
       "      <td>0.122517</td>\n",
       "      <td>-61.676542</td>\n",
       "      <td>-38.630089</td>\n",
       "    </tr>\n",
       "    <tr>\n",
       "      <th>7</th>\n",
       "      <td></td>\n",
       "      <td>8</td>\n",
       "      <td>0.200091</td>\n",
       "      <td>0.118474</td>\n",
       "      <td>0.000000</td>\n",
       "      <td>0.612304</td>\n",
       "      <td>0.000000</td>\n",
       "      <td>0.119115</td>\n",
       "      <td>0.168182</td>\n",
       "      <td>1.314937</td>\n",
       "      <td>0.000000</td>\n",
       "      <td>0.122517</td>\n",
       "      <td>-100.000000</td>\n",
       "      <td>-38.769567</td>\n",
       "    </tr>\n",
       "    <tr>\n",
       "      <th>8</th>\n",
       "      <td></td>\n",
       "      <td>9</td>\n",
       "      <td>0.374716</td>\n",
       "      <td>0.094585</td>\n",
       "      <td>0.872258</td>\n",
       "      <td>0.733448</td>\n",
       "      <td>0.239583</td>\n",
       "      <td>0.102890</td>\n",
       "      <td>0.201456</td>\n",
       "      <td>0.750100</td>\n",
       "      <td>0.152318</td>\n",
       "      <td>0.274834</td>\n",
       "      <td>-12.774214</td>\n",
       "      <td>-26.655227</td>\n",
       "    </tr>\n",
       "    <tr>\n",
       "      <th>9</th>\n",
       "      <td></td>\n",
       "      <td>10</td>\n",
       "      <td>0.409277</td>\n",
       "      <td>0.089975</td>\n",
       "      <td>1.149704</td>\n",
       "      <td>0.768598</td>\n",
       "      <td>0.315789</td>\n",
       "      <td>0.090982</td>\n",
       "      <td>0.211111</td>\n",
       "      <td>0.694441</td>\n",
       "      <td>0.039735</td>\n",
       "      <td>0.314570</td>\n",
       "      <td>14.970373</td>\n",
       "      <td>-23.140177</td>\n",
       "    </tr>\n",
       "    <tr>\n",
       "      <th>10</th>\n",
       "      <td></td>\n",
       "      <td>11</td>\n",
       "      <td>0.640746</td>\n",
       "      <td>0.082577</td>\n",
       "      <td>1.029990</td>\n",
       "      <td>0.863026</td>\n",
       "      <td>0.282908</td>\n",
       "      <td>0.083178</td>\n",
       "      <td>0.237048</td>\n",
       "      <td>0.473623</td>\n",
       "      <td>0.238411</td>\n",
       "      <td>0.552980</td>\n",
       "      <td>2.998998</td>\n",
       "      <td>-13.697423</td>\n",
       "    </tr>\n",
       "    <tr>\n",
       "      <th>11</th>\n",
       "      <td></td>\n",
       "      <td>12</td>\n",
       "      <td>0.701228</td>\n",
       "      <td>0.075288</td>\n",
       "      <td>0.739095</td>\n",
       "      <td>0.852337</td>\n",
       "      <td>0.203008</td>\n",
       "      <td>0.079806</td>\n",
       "      <td>0.234112</td>\n",
       "      <td>0.439655</td>\n",
       "      <td>0.044702</td>\n",
       "      <td>0.597682</td>\n",
       "      <td>-26.090475</td>\n",
       "      <td>-14.766344</td>\n",
       "    </tr>\n",
       "    <tr>\n",
       "      <th>12</th>\n",
       "      <td></td>\n",
       "      <td>13</td>\n",
       "      <td>0.860391</td>\n",
       "      <td>0.066656</td>\n",
       "      <td>1.310662</td>\n",
       "      <td>0.937122</td>\n",
       "      <td>0.360000</td>\n",
       "      <td>0.069855</td>\n",
       "      <td>0.257400</td>\n",
       "      <td>0.371246</td>\n",
       "      <td>0.208609</td>\n",
       "      <td>0.806291</td>\n",
       "      <td>31.066225</td>\n",
       "      <td>-6.287803</td>\n",
       "    </tr>\n",
       "    <tr>\n",
       "      <th>13</th>\n",
       "      <td></td>\n",
       "      <td>14</td>\n",
       "      <td>0.899955</td>\n",
       "      <td>0.063428</td>\n",
       "      <td>1.046186</td>\n",
       "      <td>0.941917</td>\n",
       "      <td>0.287356</td>\n",
       "      <td>0.064040</td>\n",
       "      <td>0.258717</td>\n",
       "      <td>0.357741</td>\n",
       "      <td>0.041391</td>\n",
       "      <td>0.847682</td>\n",
       "      <td>4.618634</td>\n",
       "      <td>-5.808339</td>\n",
       "    </tr>\n",
       "    <tr>\n",
       "      <th>14</th>\n",
       "      <td></td>\n",
       "      <td>15</td>\n",
       "      <td>1.000000</td>\n",
       "      <td>0.050865</td>\n",
       "      <td>1.522486</td>\n",
       "      <td>1.000000</td>\n",
       "      <td>0.418182</td>\n",
       "      <td>0.060045</td>\n",
       "      <td>0.274670</td>\n",
       "      <td>0.327958</td>\n",
       "      <td>0.152318</td>\n",
       "      <td>1.000000</td>\n",
       "      <td>52.248645</td>\n",
       "      <td>0.000000</td>\n",
       "    </tr>\n",
       "  </tbody>\n",
       "</table>\n",
       "</div>"
      ],
      "text/plain": [
       "      group  cumulative_data_fraction  lower_threshold      lift  \\\n",
       "0         1                  0.010005         1.108728  0.165488   \n",
       "1         2                  0.020009         0.629747  1.654877   \n",
       "2         3                  0.030014         0.499554  1.158414   \n",
       "3         4                  0.040473         0.463554  0.158293   \n",
       "4         5                  0.050023         0.441030  0.000000   \n",
       "5         6                  0.104593         0.128184  1.001200   \n",
       "6         7                  0.199636         0.125069  0.383235   \n",
       "7         8                  0.200091         0.118474  0.000000   \n",
       "8         9                  0.374716         0.094585  0.872258   \n",
       "9        10                  0.409277         0.089975  1.149704   \n",
       "10       11                  0.640746         0.082577  1.029990   \n",
       "11       12                  0.701228         0.075288  0.739095   \n",
       "12       13                  0.860391         0.066656  1.310662   \n",
       "13       14                  0.899955         0.063428  1.046186   \n",
       "14       15                  1.000000         0.050865  1.522486   \n",
       "\n",
       "    cumulative_lift  response_rate      score  cumulative_response_rate  \\\n",
       "0          0.165488       0.045455  21.671361                  0.045455   \n",
       "1          0.910182       0.454545   0.788617                  0.250000   \n",
       "2          0.992926       0.318182   0.559026                  0.272727   \n",
       "3          0.777234       0.043478   0.468951                  0.213483   \n",
       "4          0.628853       0.000000   0.461588                  0.172727   \n",
       "5          0.823121       0.275000   0.211783                  0.226087   \n",
       "6          0.613699       0.105263   0.125081                  0.168565   \n",
       "7          0.612304       0.000000   0.119115                  0.168182   \n",
       "8          0.733448       0.239583   0.102890                  0.201456   \n",
       "9          0.768598       0.315789   0.090982                  0.211111   \n",
       "10         0.863026       0.282908   0.083178                  0.237048   \n",
       "11         0.852337       0.203008   0.079806                  0.234112   \n",
       "12         0.937122       0.360000   0.069855                  0.257400   \n",
       "13         0.941917       0.287356   0.064040                  0.258717   \n",
       "14         1.000000       0.418182   0.060045                  0.274670   \n",
       "\n",
       "    cumulative_score  capture_rate  cumulative_capture_rate        gain  \\\n",
       "0          21.671361      0.001656                 0.001656  -83.451234   \n",
       "1          11.229989      0.016556                 0.018212   65.487658   \n",
       "2           7.673001      0.011589                 0.029801   15.841361   \n",
       "3           5.811280      0.001656                 0.031457  -84.170746   \n",
       "4           4.789975      0.000000                 0.031457 -100.000000   \n",
       "5           2.401353      0.054636                 0.086093    0.120033   \n",
       "6           1.317661      0.036424                 0.122517  -61.676542   \n",
       "7           1.314937      0.000000                 0.122517 -100.000000   \n",
       "8           0.750100      0.152318                 0.274834  -12.774214   \n",
       "9           0.694441      0.039735                 0.314570   14.970373   \n",
       "10          0.473623      0.238411                 0.552980    2.998998   \n",
       "11          0.439655      0.044702                 0.597682  -26.090475   \n",
       "12          0.371246      0.208609                 0.806291   31.066225   \n",
       "13          0.357741      0.041391                 0.847682    4.618634   \n",
       "14          0.327958      0.152318                 1.000000   52.248645   \n",
       "\n",
       "    cumulative_gain  \n",
       "0        -83.451234  \n",
       "1         -8.981788  \n",
       "2         -0.707405  \n",
       "3        -22.276583  \n",
       "4        -37.114690  \n",
       "5        -17.687878  \n",
       "6        -38.630089  \n",
       "7        -38.769567  \n",
       "8        -26.655227  \n",
       "9        -23.140177  \n",
       "10       -13.697423  \n",
       "11       -14.766344  \n",
       "12        -6.287803  \n",
       "13        -5.808339  \n",
       "14         0.000000  "
      ]
     },
     "metadata": {},
     "output_type": "display_data"
    },
    {
     "name": "stdout",
     "output_type": "stream",
     "text": [
      "\n"
     ]
    },
    {
     "data": {
      "text/plain": []
     },
     "execution_count": 93,
     "metadata": {},
     "output_type": "execute_result"
    }
   ],
   "source": [
    "logit_model.model_performance()"
   ]
  },
  {
   "cell_type": "markdown",
   "metadata": {},
   "source": [
    "We can see the *AUC* and *Accuracy* are increased ."
   ]
  },
  {
   "cell_type": "markdown",
   "metadata": {},
   "source": [
    "#### Tracking a Map\n",
    "\n",
    "The goal is monitoring the amount of color in a map, this can be applied in the bussiness, for instance, a company can monitor their infludence area or their costumers.\n",
    "\n",
    "The requirements are:\n",
    "* The images can be compared if, and only if, the size of the pixels are the same.\n",
    "* The areas are the same."
   ]
  },
  {
   "cell_type": "code",
   "execution_count": 94,
   "metadata": {},
   "outputs": [
    {
     "name": "stdout",
     "output_type": "stream",
     "text": [
      "Height: 444, Weight: 1308 in pixels descomposed in tuple 3 (red, green, blue)\n"
     ]
    }
   ],
   "source": [
    "from matplotlib.image import imread\n",
    "from IPython.display import Image as ImageDisplay\n",
    "\n",
    "# read the files and convert to numpy arrays by pixel\n",
    "image_map = imread(r'assets/unsupervised/map.JPG')\n",
    "print('Height: {}, Weight: {} in pixels descomposed in tuple {} (red, green, blue)'.format(*image_map.shape))"
   ]
  },
  {
   "cell_type": "code",
   "execution_count": 214,
   "metadata": {},
   "outputs": [],
   "source": [
    "# We join the pixels in a single array\n",
    "map_array = image_map.reshape(image_map.shape[0]*image_map.shape[1], 3)"
   ]
  },
  {
   "cell_type": "code",
   "execution_count": 231,
   "metadata": {},
   "outputs": [
    {
     "data": {
      "text/plain": [
       "array([     0,      1,      2, ..., 580749, 580750, 580751])"
      ]
     },
     "execution_count": 231,
     "metadata": {},
     "output_type": "execute_result"
    }
   ],
   "source": [
    "h2o.H2OFrame(np.arange(map_array.shape[0]))"
   ]
  },
  {
   "cell_type": "code",
   "execution_count": 216,
   "metadata": {},
   "outputs": [
    {
     "name": "stdout",
     "output_type": "stream",
     "text": [
      "Parse progress: |█████████████████████████████████████████████████████████| 100%\n"
     ]
    }
   ],
   "source": [
    "frame_map = h2o.H2OFrame(map_array, column_names=['red', 'blue', 'green'])"
   ]
  },
  {
   "cell_type": "code",
   "execution_count": 219,
   "metadata": {},
   "outputs": [
    {
     "data": {
      "text/plain": [
       "580752"
      ]
     },
     "execution_count": 219,
     "metadata": {},
     "output_type": "execute_result"
    }
   ],
   "source": [
    "frame_map.shape[0]"
   ]
  },
  {
   "cell_type": "code",
   "execution_count": 232,
   "metadata": {},
   "outputs": [
    {
     "name": "stdout",
     "output_type": "stream",
     "text": [
      "Parse progress: |█████████████████████████████████████████████████████████| 100%\n"
     ]
    }
   ],
   "source": [
    "frame_map['index'] = h2o.H2OFrame(np.arange(map_array.shape[0]))"
   ]
  },
  {
   "cell_type": "code",
   "execution_count": 234,
   "metadata": {},
   "outputs": [],
   "source": [
    "features = ['red', 'blue', 'green']"
   ]
  },
  {
   "cell_type": "code",
   "execution_count": 235,
   "metadata": {},
   "outputs": [],
   "source": [
    "kmeans_map = H2OKMeansEstimator( k=8, init = 'Furthest', seed = 1324)"
   ]
  },
  {
   "cell_type": "code",
   "execution_count": 236,
   "metadata": {},
   "outputs": [
    {
     "name": "stdout",
     "output_type": "stream",
     "text": [
      "kmeans Model Build progress: |████████████████████████████████████████████| 100%\n"
     ]
    }
   ],
   "source": [
    "kmeans_map.train(x = features, training_frame=frame_map)"
   ]
  },
  {
   "cell_type": "code",
   "execution_count": 237,
   "metadata": {},
   "outputs": [
    {
     "name": "stdout",
     "output_type": "stream",
     "text": [
      "\n",
      "ModelMetricsClustering: kmeans\n",
      "** Reported on train data. **\n",
      "\n",
      "MSE: NaN\n",
      "RMSE: NaN\n",
      "Total Within Cluster Sum of Square Error: 108115.67900803855\n",
      "Total Sum of Square Error to Grand Mean: 1742252.9981447153\n",
      "Between Cluster Sum of Square Error: 1634137.3191366768\n",
      "\n",
      "Centroid Statistics: \n"
     ]
    },
    {
     "data": {
      "text/html": [
       "<div>\n",
       "<style scoped>\n",
       "    .dataframe tbody tr th:only-of-type {\n",
       "        vertical-align: middle;\n",
       "    }\n",
       "\n",
       "    .dataframe tbody tr th {\n",
       "        vertical-align: top;\n",
       "    }\n",
       "\n",
       "    .dataframe thead th {\n",
       "        text-align: right;\n",
       "    }\n",
       "</style>\n",
       "<table border=\"1\" class=\"dataframe\">\n",
       "  <thead>\n",
       "    <tr style=\"text-align: right;\">\n",
       "      <th></th>\n",
       "      <th></th>\n",
       "      <th>centroid</th>\n",
       "      <th>size</th>\n",
       "      <th>within_cluster_sum_of_squares</th>\n",
       "    </tr>\n",
       "  </thead>\n",
       "  <tbody>\n",
       "    <tr>\n",
       "      <th>0</th>\n",
       "      <td></td>\n",
       "      <td>1.0</td>\n",
       "      <td>53127.0</td>\n",
       "      <td>12587.186672</td>\n",
       "    </tr>\n",
       "    <tr>\n",
       "      <th>1</th>\n",
       "      <td></td>\n",
       "      <td>2.0</td>\n",
       "      <td>15972.0</td>\n",
       "      <td>8553.072995</td>\n",
       "    </tr>\n",
       "    <tr>\n",
       "      <th>2</th>\n",
       "      <td></td>\n",
       "      <td>3.0</td>\n",
       "      <td>55285.0</td>\n",
       "      <td>11324.740010</td>\n",
       "    </tr>\n",
       "    <tr>\n",
       "      <th>3</th>\n",
       "      <td></td>\n",
       "      <td>4.0</td>\n",
       "      <td>53593.0</td>\n",
       "      <td>9935.115302</td>\n",
       "    </tr>\n",
       "    <tr>\n",
       "      <th>4</th>\n",
       "      <td></td>\n",
       "      <td>5.0</td>\n",
       "      <td>71704.0</td>\n",
       "      <td>16582.809044</td>\n",
       "    </tr>\n",
       "    <tr>\n",
       "      <th>5</th>\n",
       "      <td></td>\n",
       "      <td>6.0</td>\n",
       "      <td>150553.0</td>\n",
       "      <td>18549.594367</td>\n",
       "    </tr>\n",
       "    <tr>\n",
       "      <th>6</th>\n",
       "      <td></td>\n",
       "      <td>7.0</td>\n",
       "      <td>147102.0</td>\n",
       "      <td>23442.076701</td>\n",
       "    </tr>\n",
       "    <tr>\n",
       "      <th>7</th>\n",
       "      <td></td>\n",
       "      <td>8.0</td>\n",
       "      <td>33416.0</td>\n",
       "      <td>7141.083918</td>\n",
       "    </tr>\n",
       "  </tbody>\n",
       "</table>\n",
       "</div>"
      ],
      "text/plain": [
       "     centroid      size  within_cluster_sum_of_squares\n",
       "0         1.0   53127.0                   12587.186672\n",
       "1         2.0   15972.0                    8553.072995\n",
       "2         3.0   55285.0                   11324.740010\n",
       "3         4.0   53593.0                    9935.115302\n",
       "4         5.0   71704.0                   16582.809044\n",
       "5         6.0  150553.0                   18549.594367\n",
       "6         7.0  147102.0                   23442.076701\n",
       "7         8.0   33416.0                    7141.083918"
      ]
     },
     "metadata": {},
     "output_type": "display_data"
    },
    {
     "data": {
      "text/plain": []
     },
     "execution_count": 237,
     "metadata": {},
     "output_type": "execute_result"
    }
   ],
   "source": [
    "kmeans_map.model_performance()"
   ]
  },
  {
   "cell_type": "code",
   "execution_count": 238,
   "metadata": {},
   "outputs": [
    {
     "name": "stdout",
     "output_type": "stream",
     "text": [
      "kmeans prediction progress: |█████████████████████████████████████████████| 100%\n"
     ]
    }
   ],
   "source": [
    "frame_map['cluster'] = kmeans_map.predict(frame_map)"
   ]
  },
  {
   "cell_type": "code",
   "execution_count": 239,
   "metadata": {},
   "outputs": [],
   "source": [
    "grouped = frame_map.group_by(by='cluster')"
   ]
  },
  {
   "cell_type": "markdown",
   "metadata": {},
   "source": [
    "Distribution of colors"
   ]
  },
  {
   "cell_type": "code",
   "execution_count": 179,
   "metadata": {},
   "outputs": [],
   "source": [
    "count_clusters = grouped.count()\n",
    "frame_count_cluster = count_clusters.get_frame()\n",
    "counts_normalize = (frame_count_cluster['nrow']/frame_count_cluster['nrow'].sum()).as_data_frame()"
   ]
  },
  {
   "cell_type": "markdown",
   "metadata": {},
   "source": [
    "Colors"
   ]
  },
  {
   "cell_type": "code",
   "execution_count": 240,
   "metadata": {},
   "outputs": [],
   "source": [
    "mean_clusters = grouped.mean(col=['red', 'blue', 'green']).get_frame()\n",
    "mean_clusters_df = mean_clusters.as_data_frame()\n",
    "mean_clusters_df.drop(columns=['cluster'], inplace=True)\n",
    "colors =( mean_clusters_df/255).values.tolist()"
   ]
  },
  {
   "cell_type": "code",
   "execution_count": 241,
   "metadata": {},
   "outputs": [],
   "source": [
    "import matplotlib.patches as patches\n",
    "\n",
    "def color_swatches(colors:list):\n",
    "\n",
    "    ncolors = len(colors)\n",
    "    \n",
    "    # Figsize is in inches\n",
    "    fig, ax = plt.subplots(figsize=(ncolors*2, 2))\n",
    "\n",
    "    for (start_x, color) in enumerate(colors):\n",
    "        # (start_x, 0) is the origin of the rectangle\n",
    "        color_rect = patches.Rectangle((start_x, 0), 1, 1, color=color)\n",
    "        ax.add_patch(color_rect)\n",
    "\n",
    "    ax.set_xlim(0, len(colors))\n",
    "    ax.set_ylim(0, 1)\n",
    "    ax.set_yticks([])\n",
    "    ax.set_yticklabels([])\n",
    "    ax.set_xticks([])\n",
    "    ax.set_xticklabels([])\n",
    "\n",
    "    return fig"
   ]
  },
  {
   "cell_type": "code",
   "execution_count": null,
   "metadata": {},
   "outputs": [],
   "source": []
  },
  {
   "cell_type": "code",
   "execution_count": 242,
   "metadata": {},
   "outputs": [
    {
     "name": "stdout",
     "output_type": "stream",
     "text": [
      "Percentage of composition:  [ 9.  3. 10.  9. 12. 26. 25.  6.]\n"
     ]
    },
    {
     "data": {
      "image/png": "[encoded data removed]",
      "text/plain": [
       "<Figure size 1600x200 with 1 Axes>"
      ]
     },
     "metadata": {},
     "output_type": "display_data"
    }
   ],
   "source": [
    "fig = color_swatches(colors)\n",
    "fig.suptitle(\"Varying Hue\")\n",
    "print(\"Percentage of composition: \", counts_normalize.nrow.values.round(2)*100)"
   ]
  },
  {
   "cell_type": "code",
   "execution_count": 243,
   "metadata": {},
   "outputs": [],
   "source": [
    "predict_map = frame_map.merge(mean_clusters)"
   ]
  },
  {
   "cell_type": "code",
   "execution_count": 246,
   "metadata": {},
   "outputs": [],
   "source": [
    "predict_map_df = predict_map.as_data_frame()"
   ]
  },
  {
   "cell_type": "code",
   "execution_count": 248,
   "metadata": {},
   "outputs": [],
   "source": [
    "predict_map_df.sort_values('index', inplace=True)"
   ]
  },
  {
   "cell_type": "code",
   "execution_count": 250,
   "metadata": {},
   "outputs": [],
   "source": [
    "predict_map_array = predict_map_df[['mean_red', 'mean_blue', 'mean_green']].values"
   ]
  },
  {
   "cell_type": "code",
   "execution_count": 251,
   "metadata": {},
   "outputs": [],
   "source": [
    "predict_map_normalize = predict_map_array.reshape(image_map.shape)"
   ]
  },
  {
   "cell_type": "code",
   "execution_count": 253,
   "metadata": {},
   "outputs": [],
   "source": [
    "from PIL import Image\n",
    "img_map_out = Image.fromarray(predict_map_normalize.astype(\"uint8\") , 'RGB')\n",
    "img_map_out.save(\"./assets/unsupervised/map_predict.png\")"
   ]
  },
  {
   "cell_type": "code",
   "execution_count": 254,
   "metadata": {},
   "outputs": [
    {
     "data": {
      "image/png": "[encoded data removed]",
      "text/plain": [
       "<IPython.core.display.Image object>"
      ]
     },
     "execution_count": 254,
     "metadata": {},
     "output_type": "execute_result"
    }
   ],
   "source": [
    "ImageDisplay(\"assets/unsupervised/map_predict.png\")"
   ]
  },
  {
   "cell_type": "markdown",
   "metadata": {},
   "source": [
    "## Density-Based Clustering - DBSCAN"
   ]
  },
  {
   "cell_type": "markdown",
   "metadata": {},
   "source": [
    "* Clusters are dense regions in the data space, separated by regions of lower object density\n",
    "* A cluster is defined as a maximal set of densityconnected points\n",
    "* Discovers clusters of arbitrary shape"
   ]
  },
  {
   "cell_type": "markdown",
   "metadata": {},
   "source": [
    "Density Definition \n",
    "\n",
    "* $\\epsilon$ - Neighborhood: Objects within a radius of from an object.\n",
    " $$N_{\\epsilon}(p) = \\{ q | d(p, q) \\leq \\epsilon \\}$$\n",
    "\n",
    "* *High density*: $ε$ - Neighborhood of an object contains at least *MinPts* of objects.\n",
    "  \n",
    "  Given MinPts = 4, $p$ is *high density*, but $q$ is *low density*."
   ]
  },
  {
   "cell_type": "markdown",
   "metadata": {},
   "source": [
    "<div align=\"center\">\n",
    "    <img src=\"assets/unsupervised/minpts.JPG\" />\n",
    "</div>"
   ]
  },
  {
   "cell_type": "markdown",
   "metadata": {},
   "source": [
    "Given $\\epsilon$ and *MinPts*, then the data is clustering\n",
    "\n",
    "* A point is a *core point* if it has more than a specified number of points (MinPts) within Eps—These are points that are at the interior of a cluster.\n",
    "* A *border point* has fewer than *MinPts* within Eps, but is in the neighborhood of a core point.\n",
    "* A *noise point* is any point that is not a core point nor a border point\n",
    "\n",
    "<div align=\"center\">\n",
    "    <img src=\"assets/unsupervised/grouping.JPG\" />\n",
    "</div>\n",
    "\n",
    "In this case $\\epsilon = 1 cm.$ and *MinPts* $= 5$"
   ]
  },
  {
   "cell_type": "markdown",
   "metadata": {},
   "source": [
    "**Density-reachability**\n",
    "\n",
    "* Directly density-reachable\n",
    "\n",
    "  An object $q$ is directly *density-reachable* from object $p$ if $p$ is a *core object* and $q$ is in $p$’s $\\epsilon$-neighborhood. Two conditions.\n",
    "\n",
    "  So Given the following parameters $\\epsilon = 1 cm.$ and *MinPts* $= 4$ and the image.\n",
    "\n",
    "  * $q$ is directly density-reachable from $p$\n",
    "  * $p$ is not directly density-reachable from $q$\n",
    "  * Density-reachability is asymmetric\n",
    "\n",
    "<div align=\"center\">\n",
    "    <img src=\"assets/unsupervised/grouping_01.JPG\" />\n",
    "</div>\n",
    "\n",
    "* Density-Reachable (directly and indirectly)\n",
    "\n",
    "  So Given the following parameters $\\epsilon = 1 cm.$ and *MinPts* $= 7$ and the image.\n",
    "\n",
    "  * A point $p$ is directly density-reachable from $p_2$ \n",
    "  * $p_2$ is directly density-reachable from $p_1$\n",
    "  * $p_1$ is directly density-reachable from $q$\n",
    "  * $p \\leftarrow p_2 \\leftarrow  p_1 \\leftarrow q$ form a chain\n",
    "  * $p$ is (indirectly) density-reachable from $q$, the inverse is false.\n",
    "\n",
    "<div align=\"center\">\n",
    "    <img src=\"assets/unsupervised/grouping_02.JPG\" /> \n",
    "</div>"
   ]
  },
  {
   "cell_type": "markdown",
   "metadata": {},
   "source": [
    "When DBSCAN Works Well\n",
    "\n",
    "* Resistant to Noise\n",
    "* Can handle clusters of different shapes and sizes\n",
    "\n",
    "When DBSCAN Does NOT Work Well\n",
    "\n",
    "* Cannot handle varying densities\n",
    "*  sensitive to parameters—hard to determine the correct set of parameters"
   ]
  },
  {
   "cell_type": "code",
   "execution_count": 1,
   "metadata": {},
   "outputs": [],
   "source": [
    "from sklearn.cluster import DBSCAN\n",
    "from sklearn.datasets import make_moons\n",
    "\n",
    "X, y = make_moons(n_samples=1000, noise=0.05)"
   ]
  },
  {
   "cell_type": "code",
   "execution_count": null,
   "metadata": {},
   "outputs": [],
   "source": [
    "dbscan = DBSCAN(eps=0.05, min_samples=5)\n",
    "dbscan.fit(X)"
   ]
  },
  {
   "cell_type": "markdown",
   "metadata": {},
   "source": [
    "* `dbscan.labels_`: get the clusters\n",
    "  * A cluster index equal to -1 point out that they are considered as anomalies by the algorithm.\n",
    "* `dbscan.core_sample_indices_`: get the indeces of teh cores.\n",
    "* `dbscan.components_`: the data to get the cores."
   ]
  },
  {
   "cell_type": "code",
   "execution_count": 371,
   "metadata": {},
   "outputs": [],
   "source": [
    "# labels\n",
    "labels_clusters = dbscan.labels_\n",
    "\n",
    "# uniques clusters\n",
    "clusters = np.unique(labels_clusters)"
   ]
  },
  {
   "cell_type": "code",
   "execution_count": 386,
   "metadata": {},
   "outputs": [
    {
     "data": {
      "image/png": "[encoded data removed]",
      "text/plain": [
       "<Figure size 432x288 with 1 Axes>"
      ]
     },
     "metadata": {
      "needs_background": "light"
     },
     "output_type": "display_data"
    }
   ],
   "source": [
    "def plot_fig(clusters, labels_clusters):\n",
    "    _, ax = plt.subplots()\n",
    "    random_abs = np.abs(np.random.randn(len(clusters), 3))\n",
    "    colors = np.abs(random_abs)/random_abs.max()\n",
    "\n",
    "    for (cluster, color) in zip(clusters, colors):\n",
    "        ax.scatter(\n",
    "            X[labels_clusters == cluster,0], \n",
    "            X[labels_clusters == cluster,1], \n",
    "            alpha = 0.5, \n",
    "            s = 25, \n",
    "            color = tuple(color) \n",
    "        )\n",
    "\n",
    "np.random.seed(599)\n",
    "plot_fig(clusters, labels_clusters)"
   ]
  },
  {
   "cell_type": "code",
   "execution_count": 330,
   "metadata": {},
   "outputs": [
    {
     "data": {
      "text/plain": [
       "DBSCAN(eps=0.2, min_samples=10)"
      ]
     },
     "execution_count": 330,
     "metadata": {},
     "output_type": "execute_result"
    }
   ],
   "source": [
    "dbscan = DBSCAN(eps=0.2, min_samples=10)\n",
    "dbscan.fit(X)"
   ]
  },
  {
   "cell_type": "code",
   "execution_count": 367,
   "metadata": {},
   "outputs": [
    {
     "data": {
      "image/png": "[encoded data removed]",
      "text/plain": [
       "<Figure size 432x288 with 1 Axes>"
      ]
     },
     "metadata": {
      "needs_background": "light"
     },
     "output_type": "display_data"
    }
   ],
   "source": [
    "labels_clusters = dbscan.labels_\n",
    "\n",
    "clusters = np.unique(labels_clusters)\n",
    "\n",
    "np.random.seed(128)\n",
    "plot_fig(clusters, labels_clusters)"
   ]
  },
  {
   "cell_type": "markdown",
   "metadata": {},
   "source": [
    "## Hierarchical Clustering"
   ]
  },
  {
   "cell_type": "markdown",
   "metadata": {},
   "source": [
    "* K-means or K-medoids clustering algorithms depend on the choice for the number of clusters.\n",
    "\n",
    "* Hierarchical clustering methods require the user to specify a measure of dissimilarity between (disjoint) groups of observations based on the pairwise dissimilarities among the observations.  \n",
    "<!-- in the two groups. -->\n",
    "\n",
    "* They produce hierarchical representations in which the clusters at each level of the hierarchy are created by merging clusters at the next lower level. \n",
    "\n",
    "  At the lowest level, each cluster contains a single observation. At the highest level there is only one cluster containing all of the data. \n",
    "\n",
    "* Strategies:\n",
    "  * *Agglomerative*: start at the bottom and at each level recursively merge a selected pair of clusters into a single cluster. \n",
    "  \n",
    "    This produces a grouping at the next higher level with one less cluster. \n",
    "    \n",
    "    The pair chosen for merging consist of the two groups with the smallest intergroup dissimilarity. \n",
    "  \n",
    "  * *Divisive*: start at the top and at each level recursively split one of the existing clusters at that level into two new clusters. \n",
    "\n",
    "    The split is chosen to produce two new groups with the largest between-group dissimilarity. \n",
    "\n",
    "\n",
    "* With both paradigms there are N − 1 levels in the hierarchy.\n",
    "\n",
    "* Each level of the hierarchy represents a particular grouping of the data into disjoint clusters of observations. \n",
    "\n",
    "* The user to decide which level (if any) actually represents a “natural” clustering\n",
    "\n",
    "* That is, observations within each of its groups are sufficiently more similar to each other than to observations assigned to different groups at that level.\n",
    "\n",
    "**Dendrogram**\n",
    "\n",
    "* Recursive binary splitting/agglomeration can be represented by a rooted binary tree. \n",
    "\n",
    "* The nodes of the trees represent groups.\n",
    "  * The root node represents the entire data set. \n",
    "  * The $N$ terminal nodes each represent one of the individual observations (singleton clusters). \n",
    "  * Each nonterminal node (`parent`) has two daughter nodes. \n",
    "\n",
    "    * For *divisive* clustering the two daughters represent the two groups resulting from the split of the parent.\n",
    "    \n",
    "    * For *agglomerative* (the most studied) clustering the daughters represent the two groups that were merged to form the parent, starting from bottom.\n",
    "  \n",
    "  * The binary tree can be plotted so that the *height* of each node is proportional to the value of the intergroup dissimilarity between its two daughters. \n",
    "  \n",
    "  * The terminal nodes representing individual observations are all plotted at zero height.\n",
    "\n",
    "  * Cutting the *dendrogram* horizontally at a particular height partitions the data into disjoint clusters represented by the vertical lines that intersect it. These are the clusters that would be produced by terminating the procedure when the optimal intergroup dissimilarity exceeds that threshold cut value. \n",
    "\n",
    "  * Groups that merge at high values, relative to the merger values of the subgroups contained within them lower in the tree, are candidates for natural clusters.\n",
    "\n",
    "\n",
    "  * Such a dendrogram is often viewed as a graphical summary of the data itself, rather than a description of the results of the algorithm. However, such interpretations should be treated with caution. First, different hierarchical methods (see below), as well as small changes in the data, can lead to quite different dendrograms"
   ]
  },
  {
   "cell_type": "markdown",
   "metadata": {},
   "source": [
    "**Agglomerative Clustering**\n",
    "\n",
    "* Agglomerative clustering algorithms begin with every observation representing a singleton cluster. At each of the $N −1$ steps the closest two (least dissimilar) clusters are merged (given a measure of dissimilarity) into a single cluster, producing one less cluster at the next higher level\n",
    "\n",
    "* Let $G$ and $H$ represent two groups. The dissimilarity $d(G, H)$ between $G$ and $H$ is computed from the set of pairwise observation dissimilarities $d_{ii′}$ where one member of the pair $i$ is in $G$ and the other $i′$ is in $H$\n",
    "\n",
    "    * The dissimilarity $d(G, H)$ between $G$ and $H$ under **Single linkage (SL)** agglomerative clustering takes the intergroup dissimilarity to be that of the closest (least dissimilar) pair \n",
    "\n",
    "    $$d_{S,L} (G, H) = \\min_{i \\in G, i´ \\in H} d_{i, i´}$$\n",
    "\n",
    "    * **Complete linkage** (CL) agglomerative clustering (furthest-neighbor technique) takes the intergroup dissimilarity to be that of the furthest (most dissimilar) pair\n",
    "\n",
    "    $$d_{S,L} (G, H) = \\max_{i \\in G, i´ \\in H} d_{i, i´}$$\n",
    "\n",
    "    * **Group average** (GA) clustering uses the average dissimilarity between the groups\n",
    "\n",
    "    $$d_{S,L} (G, H) = \\frac{1}{N_G N_H} \\sum_{i \\in G} \\sum_{i´ \\in H} d_{i, i´}$$\n",
    "\n",
    "  * **Ward's** minimum variance criterion minimizes the total within-cluster variance. \n",
    "\n",
    "    To implement this method, at each step find the pair of clusters that leads to minimum increase in total within-cluster variance after merging. \n",
    "    \n",
    "    This increase is a weighted squared distance between cluster centers. At the initial step, all clusters are singletons (clusters containing a single point). \n",
    "    \n",
    "    To apply a recursive algorithm under this objective function, the initial distance between individual objects must be (proportional to) squared Euclidean distance.\n",
    "    \n",
    "    The initial cluster distances in Ward's minimum variance method are therefore defined to be the squared Euclidean distance between points:\n",
    "\n",
    "  $$ d_{ij}=d(\\{X_{i}\\},\\{X_{j}\\})= \\|X_{i}-X_{j}\\|^{2}.$$\n",
    "  Note: In software that implements Ward's method, it is important to check whether the function arguments should specify Euclidean distances or squared Euclidean distances.\n",
    "\n",
    "  Where $N_G$ and $N_H$ are the respective number of observations in each group.\n",
    "\n",
    "  The algorithms works very well if the data are compacted"
   ]
  },
  {
   "cell_type": "markdown",
   "metadata": {},
   "source": [
    "> User Case:\n",
    "> \n",
    "> Many clusters, possibly connectivity constraints, transductive (transduction or transductive inference is reasoning from observed, specific (training) cases to specific (test) cases)"
   ]
  },
  {
   "cell_type": "code",
   "execution_count": 1,
   "metadata": {},
   "outputs": [],
   "source": [
    "import pandas as pd\n",
    "import numpy as np\n",
    "import matplotlib.pyplot as plt\n",
    "from sklearn import model_selection\n",
    "from scipy.cluster.hierarchy import dendrogram, linkage\n",
    "from sklearn.cluster import AgglomerativeClustering"
   ]
  },
  {
   "cell_type": "code",
   "execution_count": 2,
   "metadata": {},
   "outputs": [],
   "source": [
    "# Load the data\n",
    "data_crime = pd.read_stata(r'data_dta/CRIME1.dta')\n",
    "# Metadata --> http://eswf.uni-koeln.de/daten/crime1.html\n",
    "\n",
    "# Generate the variable arr86, where a person is labeled equal to 0, if he or she has not arrested in 1986\n",
    "# otherwise 1.\n",
    "data_crime['arr86'] = np.where(data_crime.narr86 == 0, data_crime.narr86, 1)\n",
    "\n",
    "# select the columns with dtype float64\n",
    "columns_float = data_crime.dtypes[(data_crime.dtypes == np.float64) | (data_crime.dtypes == np.float32)].index.copy()"
   ]
  },
  {
   "cell_type": "code",
   "execution_count": 3,
   "metadata": {},
   "outputs": [],
   "source": [
    "cluster = AgglomerativeClustering(\n",
    "    n_clusters=2, \n",
    "    metric='euclidean', \n",
    "    linkage='ward'\n",
    "    )"
   ]
  },
  {
   "cell_type": "code",
   "execution_count": 78,
   "metadata": {},
   "outputs": [],
   "source": [
    "X = data_crime[columns_float].copy()"
   ]
  },
  {
   "cell_type": "code",
   "execution_count": 84,
   "metadata": {},
   "outputs": [
    {
     "data": {
      "text/html": [
       "<style>#sk-container-id-8 {color: black;background-color: white;}#sk-container-id-8 pre{padding: 0;}#sk-container-id-8 div.sk-toggleable {background-color: white;}#sk-container-id-8 label.sk-toggleable__label {cursor: pointer;display: block;width: 100%;margin-bottom: 0;padding: 0.3em;box-sizing: border-box;text-align: center;}#sk-container-id-8 label.sk-toggleable__label-arrow:before {content: \"▸\";float: left;margin-right: 0.25em;color: #696969;}#sk-container-id-8 label.sk-toggleable__label-arrow:hover:before {color: black;}#sk-container-id-8 div.sk-estimator:hover label.sk-toggleable__label-arrow:before {color: black;}#sk-container-id-8 div.sk-toggleable__content {max-height: 0;max-width: 0;overflow: hidden;text-align: left;background-color: #f0f8ff;}#sk-container-id-8 div.sk-toggleable__content pre {margin: 0.2em;color: black;border-radius: 0.25em;background-color: #f0f8ff;}#sk-container-id-8 input.sk-toggleable__control:checked~div.sk-toggleable__content {max-height: 200px;max-width: 100%;overflow: auto;}#sk-container-id-8 input.sk-toggleable__control:checked~label.sk-toggleable__label-arrow:before {content: \"▾\";}#sk-container-id-8 div.sk-estimator input.sk-toggleable__control:checked~label.sk-toggleable__label {background-color: #d4ebff;}#sk-container-id-8 div.sk-label input.sk-toggleable__control:checked~label.sk-toggleable__label {background-color: #d4ebff;}#sk-container-id-8 input.sk-hidden--visually {border: 0;clip: rect(1px 1px 1px 1px);clip: rect(1px, 1px, 1px, 1px);height: 1px;margin: -1px;overflow: hidden;padding: 0;position: absolute;width: 1px;}#sk-container-id-8 div.sk-estimator {font-family: monospace;background-color: #f0f8ff;border: 1px dotted black;border-radius: 0.25em;box-sizing: border-box;margin-bottom: 0.5em;}#sk-container-id-8 div.sk-estimator:hover {background-color: #d4ebff;}#sk-container-id-8 div.sk-parallel-item::after {content: \"\";width: 100%;border-bottom: 1px solid gray;flex-grow: 1;}#sk-container-id-8 div.sk-label:hover label.sk-toggleable__label {background-color: #d4ebff;}#sk-container-id-8 div.sk-serial::before {content: \"\";position: absolute;border-left: 1px solid gray;box-sizing: border-box;top: 0;bottom: 0;left: 50%;z-index: 0;}#sk-container-id-8 div.sk-serial {display: flex;flex-direction: column;align-items: center;background-color: white;padding-right: 0.2em;padding-left: 0.2em;position: relative;}#sk-container-id-8 div.sk-item {position: relative;z-index: 1;}#sk-container-id-8 div.sk-parallel {display: flex;align-items: stretch;justify-content: center;background-color: white;position: relative;}#sk-container-id-8 div.sk-item::before, #sk-container-id-8 div.sk-parallel-item::before {content: \"\";position: absolute;border-left: 1px solid gray;box-sizing: border-box;top: 0;bottom: 0;left: 50%;z-index: -1;}#sk-container-id-8 div.sk-parallel-item {display: flex;flex-direction: column;z-index: 1;position: relative;background-color: white;}#sk-container-id-8 div.sk-parallel-item:first-child::after {align-self: flex-end;width: 50%;}#sk-container-id-8 div.sk-parallel-item:last-child::after {align-self: flex-start;width: 50%;}#sk-container-id-8 div.sk-parallel-item:only-child::after {width: 0;}#sk-container-id-8 div.sk-dashed-wrapped {border: 1px dashed gray;margin: 0 0.4em 0.5em 0.4em;box-sizing: border-box;padding-bottom: 0.4em;background-color: white;}#sk-container-id-8 div.sk-label label {font-family: monospace;font-weight: bold;display: inline-block;line-height: 1.2em;}#sk-container-id-8 div.sk-label-container {text-align: center;}#sk-container-id-8 div.sk-container {/* jupyter's `normalize.less` sets `[hidden] { display: none; }` but bootstrap.min.css set `[hidden] { display: none !important; }` so we also need the `!important` here to be able to override the default hidden behavior on the sphinx rendered scikit-learn.org. See: https://github.com/scikit-learn/scikit-learn/issues/21755 */display: inline-block !important;position: relative;}#sk-container-id-8 div.sk-text-repr-fallback {display: none;}</style><div id=\"sk-container-id-8\" class=\"sk-top-container\"><div class=\"sk-text-repr-fallback\"><pre>AgglomerativeClustering(metric=&#x27;euclidean&#x27;)</pre><b>In a Jupyter environment, please rerun this cell to show the HTML representation or trust the notebook. <br />On GitHub, the HTML representation is unable to render, please try loading this page with nbviewer.org.</b></div><div class=\"sk-container\" hidden><div class=\"sk-item\"><div class=\"sk-estimator sk-toggleable\"><input class=\"sk-toggleable__control sk-hidden--visually\" id=\"sk-estimator-id-8\" type=\"checkbox\" checked><label for=\"sk-estimator-id-8\" class=\"sk-toggleable__label sk-toggleable__label-arrow\">AgglomerativeClustering</label><div class=\"sk-toggleable__content\"><pre>AgglomerativeClustering(metric=&#x27;euclidean&#x27;)</pre></div></div></div></div></div>"
      ],
      "text/plain": [
       "AgglomerativeClustering(metric='euclidean')"
      ]
     },
     "execution_count": 84,
     "metadata": {},
     "output_type": "execute_result"
    }
   ],
   "source": [
    "cluster.fit(X)"
   ]
  },
  {
   "cell_type": "code",
   "execution_count": 85,
   "metadata": {},
   "outputs": [
    {
     "data": {
      "text/plain": [
       "0.6895412844036697"
      ]
     },
     "execution_count": 85,
     "metadata": {},
     "output_type": "execute_result"
    }
   ],
   "source": [
    "# Unsupervised learning like supervised learning, but without a label.\n",
    "np.mean(cluster.labels_ == data_crime.arr86)"
   ]
  },
  {
   "cell_type": "markdown",
   "metadata": {},
   "source": [
    "Any change in the sample (for instance, in size) will produce different result.\n",
    "\n",
    "For intance, if we drop 1% of the sample the result may be different"
   ]
  },
  {
   "cell_type": "code",
   "execution_count": 251,
   "metadata": {},
   "outputs": [
    {
     "data": {
      "text/plain": [
       "0.31690140845070425"
      ]
     },
     "execution_count": 251,
     "metadata": {},
     "output_type": "execute_result"
    }
   ],
   "source": [
    "sample = X.sample(frac=0.99, replace=False)\n",
    "cluster.fit(sample)\n",
    "np.mean(cluster.labels_ == data_crime.loc[data_crime.index.isin(sample.index) , 'arr86'])"
   ]
  },
  {
   "cell_type": "code",
   "execution_count": 258,
   "metadata": {},
   "outputs": [
    {
     "data": {
      "image/png": "[encoded data removed]",
      "text/plain": [
       "<Figure size 864x504 with 1 Axes>"
      ]
     },
     "metadata": {
      "needs_background": "light"
     },
     "output_type": "display_data"
    }
   ],
   "source": [
    "sample = X.sample(frac=0.01, replace=False)\n",
    "\n",
    "values_to_dendrogram = linkage(sample, 'ward')\n",
    "\n",
    "fig, ax = plt.subplots(figsize = (12, 7))\n",
    "\n",
    "dendrogram(\n",
    "    values_to_dendrogram, \n",
    "    labels=sample.index, \n",
    "    leaf_rotation=90, ax=ax, \n",
    "    above_threshold_color='#bcbddc', \n",
    "    color_threshold=0\n",
    ")\n",
    "\n",
    "ax.set_title(r'$Hierarchical \\:Clustering\\: Dendrogram$', fontdict={'fontsize':16})\n",
    "ax.set_xlabel('Index')\n",
    "ax.set_ylabel('Distance (Ward)');"
   ]
  },
  {
   "cell_type": "markdown",
   "metadata": {},
   "source": [
    "We can use Plotly"
   ]
  },
  {
   "cell_type": "markdown",
   "metadata": {},
   "source": [
    "https://plotly.com/python/dendrogram/"
   ]
  },
  {
   "cell_type": "markdown",
   "metadata": {},
   "source": [
    "## Principal Components"
   ]
  },
  {
   "cell_type": "markdown",
   "metadata": {},
   "source": [
    "Principal components are a sequence of projections of the data, mutually uncorrelated and ordered\n",
    "in variance."
   ]
  },
  {
   "cell_type": "markdown",
   "metadata": {},
   "source": [
    "The best way to learn this topic is firstly learn Singular Value Descomposition (SVD)"
   ]
  },
  {
   "cell_type": "markdown",
   "metadata": {},
   "source": [
    "### Singular Value Descomposition"
   ]
  },
  {
   "cell_type": "markdown",
   "metadata": {},
   "source": [
    "A **singular value decomposition** of an $ m \\times n $ matrix $ X $ of rank $ p \\leq \\min(m,n) $ is\n",
    "\n",
    "\n",
    "<a id='equation-eq-svd101'></a>\n",
    "$$\n",
    "X  = U \\Sigma V^\\top \\tag{5.1}\n",
    "$$\n",
    "\n",
    "where\n",
    "\n",
    "$$\n",
    "\\begin{aligned}\n",
    "UU^\\top  &  = I  &  \\quad U^\\top  U = I \\cr\n",
    "VV^\\top  & = I & \\quad V^\\top  V = I\n",
    "\\end{aligned}\n",
    "$$\n",
    "\n",
    "and\n",
    "\n",
    "- $ U $ is an $ m \\times m $.<!-- orthogonal  matrix of **left singular vectors** of $ X $   -->\n",
    "- Columns of $ U $ are eigenvectors of $ X X^\\top $, i.e. $XX^T = U\\Sigma^2 U^\\top$\n",
    "- $ V $ is an $ n \\times n $ <!-- orthogonal matrix of **right singular vectors** of $ X $   -->\n",
    "- Columns of $ V $  are eigenvectors of $ X^\\top  X $. i.e $X^TX = V\\Sigma^2 V^\\top$ \n",
    "- $ \\Sigma $ is an $ m \\times n $ matrix in which the first $ p $ places on its main diagonal are positive numbers $ \\sigma_1, \\sigma_2, \\ldots, \\sigma_p $ called **singular values**; remaining entries of $ \\Sigma $ are all zero  \n",
    "- The $ p $ singular values are positive square roots of the eigenvalues of the $ m \\times m $ matrix  $ X X^\\top $ or $ n \\times n $ matrix $ X^\\top  X $  \n",
    "- We adopt a convention that when $ U $ is a complex valued matrix, $ U^\\top $ denotes the **conjugate-transpose** of $U$.\n",
    "  <!-- $ U_{ij}^\\top $ is the complex conjugate of $ U_{ji} $.   -->\n",
    "- Similarly, when $ V $ is a complex valued matrix, $ V^\\top $ denotes the **conjugate-transpose** of $ V $  \n",
    "\n",
    "\n",
    "The matrices $ U,\\Sigma,V $ entail linear transformations that reshape in vectors in the following ways:\n",
    "\n",
    "- multiplying vectors  by the unitary matrices $ U $ and $ V $ **rotates** them, but leaves **angles between vectors** and **lengths of vectors** unchanged.  \n",
    "- multiplying vectors by the diagonal  matrix $ \\Sigma $ leaves **angles between vectors** unchanged but **rescales** vectors.  \n",
    "\n",
    "\n",
    "Thus, representation [(5.1)](#equation-eq-svd101) asserts that multiplying an $ n \\times 1 $  vector $ y $ by the $ m \\times n $ matrix $ X $\n",
    "amounts to performing the following three multiplications of $ y $ sequentially:\n",
    "\n",
    "- **rotating** $ y $ by computing $ V^\\top  y $  \n",
    "- **rescaling** $ V^\\top  y $ by multiplying it by $ \\Sigma $  \n",
    "- **rotating** $ \\Sigma V^\\top  y $ by multiplying it by $ U $  \n",
    "\n",
    "\n",
    "This structure of the $ m \\times n $ matrix  $ X $ opens the door to constructing systems\n",
    "of data **encoders** and **decoders**.\n",
    "\n",
    "Thus,\n",
    "\n",
    "- $ V^\\top  y $ is an encoder  \n",
    "- $ \\Sigma $ is an operator to be applied to the encoded data  \n",
    "- $ U $ is a decoder to be applied to the output from applying operator $ \\Sigma $ to the encoded data  \n"
   ]
  },
  {
   "cell_type": "code",
   "execution_count": 94,
   "metadata": {},
   "outputs": [],
   "source": [
    "import numpy as np\n",
    "import numpy.linalg as LA\n",
    "import matplotlib.pyplot as plt\n",
    "import requests\n",
    "from io import BytesIO\n",
    "from PIL import Image\n",
    "import cv2"
   ]
  },
  {
   "cell_type": "code",
   "execution_count": null,
   "metadata": {},
   "outputs": [],
   "source": [
    "np.set_printoptions(precision=2)\n",
    "\n",
    "# Define the matrix\n",
    "A = np.array([[1, 2, 3, 4, 5],\n",
    "              [2, 3, 4, 5, 6],\n",
    "              [3, 4, 5, 6, 7],\n",
    "              [4, 5, 6, 7, 8],\n",
    "              [5, 6, 7, 8, 9]])\n",
    "\n",
    "# Compute the SVD of the matrix\n",
    "U, S, V = np.linalg.svd(A, full_matrices=True)\n",
    "\n",
    "# Compute the rank of the matrix\n",
    "rank = np.linalg.matrix_rank(A)\n",
    "\n",
    "# Print the rank of the matrix\n",
    "# number of columns such as is not linear combination of them\n",
    "print(\"Rank of matrix:\\n\", rank)\n",
    "print(\"S: \\n\", S)\n",
    "\n",
    "# Compute the four fundamental subspaces\n",
    "row_space = U[:, :rank]\n",
    "col_space = V[:, :rank]\n",
    "null_space = V[:, rank:]\n",
    "left_null_space = U[:, rank:]\n",
    "\n",
    "\n",
    "print(\"U:\\n\", U)\n",
    "print(\"Column space:\\n\", col_space)\n",
    "print(\"Left null space:\\n\", left_null_space)\n",
    "print(\"V.T:\\n\", V.T)\n",
    "print(\"Row space:\\n\", row_space.T)\n",
    "print(\"Right null space:\\n\", null_space.T)"
   ]
  },
  {
   "cell_type": "code",
   "execution_count": 64,
   "metadata": {},
   "outputs": [],
   "source": [
    "response = requests.get(url='https://i.ibb.co/0sMMPnM/sony-xperia-z5-01-w-1x.jpg')\n",
    "response_bytes = BytesIO(initial_bytes=response.content)\n",
    "img_readed = Image.open(fp=response_bytes)"
   ]
  },
  {
   "cell_type": "code",
   "execution_count": 307,
   "metadata": {},
   "outputs": [],
   "source": [
    "# X means matrix of the image\n",
    "X = np.array(img_readed)\n",
    "X_mean = X.mean(axis=2)"
   ]
  },
  {
   "cell_type": "code",
   "execution_count": 353,
   "metadata": {},
   "outputs": [
    {
     "data": {
      "image/png": "[encoded data removed]",
      "text/plain": [
       "<Figure size 1000x400 with 4 Axes>"
      ]
     },
     "metadata": {},
     "output_type": "display_data"
    }
   ],
   "source": [
    "U, S, VT = np.linalg.svd(X_mean, full_matrices=True)\n",
    "S_diag = np.diag(S)\n",
    "\n",
    "# plots\n",
    "fig, ax = plt.subplots(1, 4, \n",
    "                       figsize=(10, 4), sharey=True)\n",
    "\n",
    "for idx, r in enumerate([5, 20, 50, 100]):\n",
    "    x_approx = U[:, :r] @ S_diag[:r, :r] @ VT[:r, :]\n",
    "    ax[idx].imshow(x_approx, cmap='gray')\n",
    "    ax[idx].set_title(f'r={r}')\n",
    "    ax[idx].axis('off')\n",
    "\n",
    "plt.show()"
   ]
  },
  {
   "cell_type": "code",
   "execution_count": 376,
   "metadata": {},
   "outputs": [
    {
     "data": {
      "image/png": "[encoded data removed]",
      "text/plain": [
       "<Figure size 800x400 with 1 Axes>"
      ]
     },
     "metadata": {},
     "output_type": "display_data"
    }
   ],
   "source": [
    "fig, ax = plt.subplots(1, 1, figsize=(8, 4))\n",
    "\n",
    "svd_cumsum=S.cumsum()/S.sum()\n",
    "ax.plot(svd_cumsum, 'o-', linewidth=1, markersize=4, alpha = 0.3) \n",
    "ax.set_title('SVD')\n",
    "ax.set_xlabel('r')\n",
    "ax.set_ylabel('Cumulative Variance Explained');"
   ]
  },
  {
   "cell_type": "code",
   "execution_count": 377,
   "metadata": {},
   "outputs": [],
   "source": [
    "from sklearn.decomposition import PCA\n",
    "import pandas as pd"
   ]
  },
  {
   "cell_type": "code",
   "execution_count": 428,
   "metadata": {},
   "outputs": [],
   "source": [
    "def pca_(X, n_components=None):\n",
    "  \"\"\"\n",
    "  Performs Principal Component Analysis (PCA) on a data matrix.\n",
    "\n",
    "  Args:\n",
    "    X: A numpy array of shape (num_samples, num_features) representing the data.\n",
    "    n_components: (Optional) The number of principal components to return.\n",
    "                   If None, all components are returned.\n",
    "\n",
    "  Returns:\n",
    "    A tuple containing:\n",
    "      X_pca: The transformed data of shape (num_samples, n_components).\n",
    "      explained_variance: The variance explained by each principal component.\n",
    "      eigenvectors: The eigenvectors of the covariance matrix.\n",
    "  \"\"\"\n",
    "\n",
    "  # Standardize data (optional)\n",
    "  # X_std = (X - X.mean(axis=0)) / X.std(axis=0)  # Uncomment for standardization\n",
    "\n",
    "  # Centering data (recommended)\n",
    "  X_centered = X - X.mean(axis=0)\n",
    "\n",
    "  # Calculate covariance matrix\n",
    "  cov_matrix = np.cov(X_centered.T)\n",
    "  print(cov_matrix.shape)\n",
    "\n",
    "  # Calculate eigenvalues and eigenvectors\n",
    "  eigenvalues, eigenvectors = np.linalg.eig(cov_matrix)\n",
    "\n",
    "  # Sort eigenvalues and eigenvectors in descending order\n",
    "  sort_index = np.argsort(eigenvalues)[::-1]\n",
    "  eigenvalues = eigenvalues[sort_index]\n",
    "  eigenvectors = eigenvectors[:, sort_index]\n",
    "\n",
    "  # Select top n_components\n",
    "  if n_components is not None:\n",
    "    eigenvalues = eigenvalues[:n_components]\n",
    "    eigenvectors = eigenvectors[:, :n_components]\n",
    "\n",
    "  # Project data onto principal components\n",
    "  X_pca = np.dot(X_centered, eigenvectors)\n",
    "\n",
    "  # Calculate explained variance\n",
    "  explained_variance = eigenvalues / np.sum(eigenvalues)\n",
    "\n",
    "  return X_pca, explained_variance, eigenvectors"
   ]
  },
  {
   "cell_type": "code",
   "execution_count": 379,
   "metadata": {},
   "outputs": [],
   "source": [
    "# Load the data\n",
    "data_crime = pd.read_stata(r'data_dta/CRIME1.dta')\n",
    "# Metadata --> http://eswf.uni-koeln.de/daten/crime1.html\n",
    "\n",
    "# Generate the variable arr86, which a person is labeled equal to 0 if he or she has not arrested in 1986\n",
    "# otherwise 1.\n",
    "data_crime['arr86'] = np.where(data_crime.narr86 == 0, data_crime.narr86, 1)\n",
    "\n",
    "# select the columns with dtype float64\n",
    "columns_float = data_crime.dtypes[(data_crime.dtypes == np.float64) | (data_crime.dtypes == np.float32)].index.copy()"
   ]
  },
  {
   "cell_type": "code",
   "execution_count": 381,
   "metadata": {},
   "outputs": [
    {
     "data": {
      "text/html": [
       "<style>#sk-container-id-1 {color: black;background-color: white;}#sk-container-id-1 pre{padding: 0;}#sk-container-id-1 div.sk-toggleable {background-color: white;}#sk-container-id-1 label.sk-toggleable__label {cursor: pointer;display: block;width: 100%;margin-bottom: 0;padding: 0.3em;box-sizing: border-box;text-align: center;}#sk-container-id-1 label.sk-toggleable__label-arrow:before {content: \"▸\";float: left;margin-right: 0.25em;color: #696969;}#sk-container-id-1 label.sk-toggleable__label-arrow:hover:before {color: black;}#sk-container-id-1 div.sk-estimator:hover label.sk-toggleable__label-arrow:before {color: black;}#sk-container-id-1 div.sk-toggleable__content {max-height: 0;max-width: 0;overflow: hidden;text-align: left;background-color: #f0f8ff;}#sk-container-id-1 div.sk-toggleable__content pre {margin: 0.2em;color: black;border-radius: 0.25em;background-color: #f0f8ff;}#sk-container-id-1 input.sk-toggleable__control:checked~div.sk-toggleable__content {max-height: 200px;max-width: 100%;overflow: auto;}#sk-container-id-1 input.sk-toggleable__control:checked~label.sk-toggleable__label-arrow:before {content: \"▾\";}#sk-container-id-1 div.sk-estimator input.sk-toggleable__control:checked~label.sk-toggleable__label {background-color: #d4ebff;}#sk-container-id-1 div.sk-label input.sk-toggleable__control:checked~label.sk-toggleable__label {background-color: #d4ebff;}#sk-container-id-1 input.sk-hidden--visually {border: 0;clip: rect(1px 1px 1px 1px);clip: rect(1px, 1px, 1px, 1px);height: 1px;margin: -1px;overflow: hidden;padding: 0;position: absolute;width: 1px;}#sk-container-id-1 div.sk-estimator {font-family: monospace;background-color: #f0f8ff;border: 1px dotted black;border-radius: 0.25em;box-sizing: border-box;margin-bottom: 0.5em;}#sk-container-id-1 div.sk-estimator:hover {background-color: #d4ebff;}#sk-container-id-1 div.sk-parallel-item::after {content: \"\";width: 100%;border-bottom: 1px solid gray;flex-grow: 1;}#sk-container-id-1 div.sk-label:hover label.sk-toggleable__label {background-color: #d4ebff;}#sk-container-id-1 div.sk-serial::before {content: \"\";position: absolute;border-left: 1px solid gray;box-sizing: border-box;top: 0;bottom: 0;left: 50%;z-index: 0;}#sk-container-id-1 div.sk-serial {display: flex;flex-direction: column;align-items: center;background-color: white;padding-right: 0.2em;padding-left: 0.2em;position: relative;}#sk-container-id-1 div.sk-item {position: relative;z-index: 1;}#sk-container-id-1 div.sk-parallel {display: flex;align-items: stretch;justify-content: center;background-color: white;position: relative;}#sk-container-id-1 div.sk-item::before, #sk-container-id-1 div.sk-parallel-item::before {content: \"\";position: absolute;border-left: 1px solid gray;box-sizing: border-box;top: 0;bottom: 0;left: 50%;z-index: -1;}#sk-container-id-1 div.sk-parallel-item {display: flex;flex-direction: column;z-index: 1;position: relative;background-color: white;}#sk-container-id-1 div.sk-parallel-item:first-child::after {align-self: flex-end;width: 50%;}#sk-container-id-1 div.sk-parallel-item:last-child::after {align-self: flex-start;width: 50%;}#sk-container-id-1 div.sk-parallel-item:only-child::after {width: 0;}#sk-container-id-1 div.sk-dashed-wrapped {border: 1px dashed gray;margin: 0 0.4em 0.5em 0.4em;box-sizing: border-box;padding-bottom: 0.4em;background-color: white;}#sk-container-id-1 div.sk-label label {font-family: monospace;font-weight: bold;display: inline-block;line-height: 1.2em;}#sk-container-id-1 div.sk-label-container {text-align: center;}#sk-container-id-1 div.sk-container {/* jupyter's `normalize.less` sets `[hidden] { display: none; }` but bootstrap.min.css set `[hidden] { display: none !important; }` so we also need the `!important` here to be able to override the default hidden behavior on the sphinx rendered scikit-learn.org. See: https://github.com/scikit-learn/scikit-learn/issues/21755 */display: inline-block !important;position: relative;}#sk-container-id-1 div.sk-text-repr-fallback {display: none;}</style><div id=\"sk-container-id-1\" class=\"sk-top-container\"><div class=\"sk-text-repr-fallback\"><pre>PCA(n_components=14)</pre><b>In a Jupyter environment, please rerun this cell to show the HTML representation or trust the notebook. <br />On GitHub, the HTML representation is unable to render, please try loading this page with nbviewer.org.</b></div><div class=\"sk-container\" hidden><div class=\"sk-item\"><div class=\"sk-estimator sk-toggleable\"><input class=\"sk-toggleable__control sk-hidden--visually\" id=\"sk-estimator-id-1\" type=\"checkbox\" checked><label for=\"sk-estimator-id-1\" class=\"sk-toggleable__label sk-toggleable__label-arrow\">PCA</label><div class=\"sk-toggleable__content\"><pre>PCA(n_components=14)</pre></div></div></div></div></div>"
      ],
      "text/plain": [
       "PCA(n_components=14)"
      ]
     },
     "execution_count": 381,
     "metadata": {},
     "output_type": "execute_result"
    }
   ],
   "source": [
    "X = data_crime.drop(columns=['nparr86', 'narr86', 'nfarr86' , 'arr86'])\n",
    "pca_model = PCA(n_components=X.shape[1])\n",
    "pca_model.fit(X)"
   ]
  },
  {
   "cell_type": "code",
   "execution_count": 384,
   "metadata": {},
   "outputs": [
    {
     "data": {
      "image/png": "[encoded data removed]",
      "text/plain": [
       "<Figure size 1200x600 with 1 Axes>"
      ]
     },
     "metadata": {},
     "output_type": "display_data"
    }
   ],
   "source": [
    "fig, ax = plt.subplots(figsize = (12, 6))\n",
    "ax.bar(\n",
    "    x =pca.feature_names_in_, \n",
    "    height=np.round(pca_model.explained_variance_ratio_*100, 2)\n",
    ");"
   ]
  },
  {
   "cell_type": "code",
   "execution_count": 403,
   "metadata": {},
   "outputs": [],
   "source": [
    "X_trans = pca_model.transform(X)"
   ]
  },
  {
   "cell_type": "code",
   "execution_count": 406,
   "metadata": {},
   "outputs": [],
   "source": [
    "evr = pca_model.explained_variance_ratio_\n",
    "cum_evr = np.round(np.cumsum(evr), 5)\n",
    "X_trans_selected = X_trans[:, cum_evr<1].copy()"
   ]
  }
 ],
 "metadata": {
  "interpreter": {
   "hash": "7679c2132d3f6ce38c9df14d554b39c06862b36a4e6689c81f9ae15bd0911d7d"
  },
  "kernelspec": {
   "display_name": "Python 3 (ipykernel)",
   "language": "python",
   "name": "python3"
  },
  "language_info": {
   "codemirror_mode": {
    "name": "ipython",
    "version": 3
   },
   "file_extension": ".py",
   "mimetype": "text/x-python",
   "name": "python",
   "nbconvert_exporter": "python",
   "pygments_lexer": "ipython3",
   "version": "3.11.7"
  }
 },
 "nbformat": 4,
 "nbformat_minor": 4
}
