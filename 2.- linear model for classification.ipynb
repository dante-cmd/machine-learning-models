{
 "cells": [
  {
   "attachments": {},
   "cell_type": "markdown",
   "metadata": {},
   "source": [
    "# Linear Methods for Classification"
   ]
  },
  {
   "attachments": {},
   "cell_type": "markdown",
   "metadata": {},
   "source": [
    "## Introduction"
   ]
  },
  {
   "attachments": {},
   "cell_type": "markdown",
   "metadata": {},
   "source": [
    " * Since our predictor $G(x)$ takes values in a discrete set $G$, we can always divide the input space into a collection of regions labeled according to the classification.\n",
    "\n",
    " * The boundaries of these regions can be rough or smooth, depending on the prediction\n",
    "function. For the current model  these decision boundaries are *linear*.\n",
    "\n",
    "* Suppose there are $K$ classes, labeled $1, 2, ..., K$, and the fitted linear model for the $k^{th}$ indicator response variable is $\\hat{f}_k(x) = \\hat{β}_{k0} + \\hat{β}_k^T x.$, That mean we compute $\\hat{\\beta}_0$ and $\\hat{\\beta}^T$ for each class. Here $x = (x_1, ..., x_d)$.\n",
    "\n",
    "* The decision boundary between class $k$ and $l$ is that set of points for which $\\hat{f}_k(x) = \\hat{f}_l(x)$, that is, the set ${x : (\\hat{β}_{k0} − \\hat{β}_{l0}) + (\\hat{β}_k − \\hat{β}_l)^T x = 0}$, an affine set or *hyperplane*.\n",
    "\n",
    "* Above approach is a member of *discriminant functions* $δ_k(x)$, which classify $x$ to the class with the largest value for its discriminant function."
   ]
  },
  {
   "attachments": {},
   "cell_type": "markdown",
   "metadata": {},
   "source": [
    "* The other approach, is that model the posterior probabilities $Pr(G = k|X = x)$. Like a Logit, $P(G = k| X =x) = \\frac{e^z}{1 + e^z}$, where $z = B_{k0} + B_{k1}x$. We can compute *log-oods* $log(\\frac{Pr(G = k|X = x)}{1 -Pr(G = k|X = x)}) = z = B_{k0} + B_{k1}^{T}x $. The decision boundary is defined by $\\{x|β_{k0} + β_{k1}^T x = 0 \\}$, this since, we usually fix like a threshold $p=50\\%$, so this result in $z=0$ like a threshold\n",
    "\n",
    "* The decision in both is linear *hyperplane*.\n",
    "\n",
    "* The methods that explicitly look for \"separating hyperplanes.\" are two. The first is the wellknown *perceptron* model of Rosenblatt (1958), with an algorithm that finds a separating hyperplane in the training data, if one exists. \n",
    "* The second method, due to Vapnik (1996), finds an optimally separating hyperplane if one exists, else finds a hyperplane that minimizes some measure of overlap in the training data.\n",
    "\n",
    "<div align = \"center\">\n",
    "  <img src = \"assets/lin_model_class/Captura_lin_for_class_01.PNG\" />  \n",
    "</div>"
   ]
  },
  {
   "attachments": {},
   "cell_type": "markdown",
   "metadata": {},
   "source": [
    "If we use only $X_1, X_2, ..., X_p$ like a features, the boundary decision is the left but if we add other combination of features like $X_1*X_2, ... ,$ or $X_1^2,X_2^2, ..$  the boundary decision is like right."
   ]
  },
  {
   "attachments": {},
   "cell_type": "markdown",
   "metadata": {},
   "source": [
    "## Linear Discriminant Analysis"
   ]
  },
  {
   "attachments": {},
   "cell_type": "markdown",
   "metadata": {},
   "source": [
    "Let $k = 1, 2, ..., K$ be the labels to classes and Suppose $f(x|G=k) = f_k(x)$ is the density function conditioned to $G=k$ and let $π_k$ be the prior probability of class $k$, with $\\sum_{k=1}^{K} π_k = 1$.\n",
    "\n",
    "Bayes Theorem  gives us:\n",
    "\n",
    "$$Pr(G = k|X = x) = \\frac{f_k(x)π_k} {f(x)} = \\frac{f_k(x)π_k} {\\sum_{l=1}^{K}f_l(x)\\pi_l} $$"
   ]
  },
  {
   "attachments": {},
   "cell_type": "markdown",
   "metadata": {},
   "source": [
    "This is a valid, since $\\sum_{k=1}^{K} Pr(G=k|X=x) = 1$, we only need to put $\\frac{f_k(x)\\pi_k}{\\sum f_l(x)\\pi_l}$ instead $Pr(G=k|X=x)$.\n",
    "\n",
    "As we can see we use density function $f_k$ instead probability function $Pr(X=x|G=k)$"
   ]
  },
  {
   "attachments": {},
   "cell_type": "markdown",
   "metadata": {},
   "source": [
    "Suppose that we model each class density as multivariate Gaussian:\n",
    "\n",
    "$$f_k(x) = \\frac{1 }{(2π)^{p/2}|Σ_k|^{1/2}} e^{−1/2(x−µ_k)^T Σ_k^{-1}(x−µ_k)}$$\n",
    "Linear discriminant analysis (LDA) arises in the special case when we assume that the classes have a common covariance matrix $Σ_k = Σ_{∀k}$."
   ]
  },
  {
   "attachments": {},
   "cell_type": "markdown",
   "metadata": {},
   "source": [
    "In comparing two classes $k$ and $ℓ$ it is sufficient to look at the log-ratio.\n",
    "\n",
    "$$log \\frac{Pr(G = k|X = x)}{Pr(G = ℓ|X = x)} = log{f_k(x)} + log{π_k} - (log{f_ℓ(x)} + log{π_ℓ})$$\n"
   ]
  },
  {
   "attachments": {},
   "cell_type": "markdown",
   "metadata": {},
   "source": [
    "To compute the hyperplane $log{f_k(x)} + log{π_k} -  (log{f_ℓ(x)} + log{π_ℓ}) = 0$. This means $log{f_k(x)} + log{π_k} = log{f_ℓ(x)} + log{π_ℓ}$. \n",
    "\n",
    "As we can see we can use one of them to compute the hyperplane. So we choose $log{f_k(x)} + log{π_k}$, this is the linear discriminant function $δ_k(x)$"
   ]
  },
  {
   "attachments": {},
   "cell_type": "markdown",
   "metadata": {},
   "source": [
    "$$δ_k(x) = x^TΣ^{−1}µ_k − \\frac{1}{2}µ_k^T Σ^{−1} µ_k + log π_k$$"
   ]
  },
  {
   "attachments": {},
   "cell_type": "markdown",
   "metadata": {},
   "source": [
    "An equivalent description of the decision rule, with $G(x) = \\arg\\max_k{δ_k}(x)$."
   ]
  },
  {
   "attachments": {},
   "cell_type": "markdown",
   "metadata": {},
   "source": [
    "This function $δ_k(x)$ is linear in $x$, so all the decision boundaries are linear."
   ]
  },
  {
   "attachments": {},
   "cell_type": "markdown",
   "metadata": {},
   "source": [
    "<div align = \"center\">\n",
    "    <img src = \"assets/lin_model_class/Captura_lin_for_class_02.PNG\" />\n",
    "</div>"
   ]
  },
  {
   "attachments": {},
   "cell_type": "markdown",
   "metadata": {},
   "source": [
    "In practice we do not know the parameters of the Gaussian distributions, and will need to estimate them using our training data:\n",
    "    \n",
    "  * $\\hat{π}_k = N_k/N$, where $N_k$ is the number of class-k observations\n",
    "  * $\\hat{µ}_k = \\sum_{g_i=k}^{N} x_i/N_k$\n",
    "  * $\\hat{Σ} = \\sum_{k = 1}^{K} \\sum_{g_i = k}(x_i − \\hat{µ}_k)(x_i − \\hat{µ}_k)^T /(N − K)$"
   ]
  },
  {
   "attachments": {},
   "cell_type": "markdown",
   "metadata": {},
   "source": [
    "If $δ_k(x)>δ_l(x)$ The LDA rule classifies to class $k$"
   ]
  },
  {
   "attachments": {},
   "cell_type": "markdown",
   "metadata": {},
   "source": [
    "If the $Σ_k$ are not assumed to be equal, then the convenient cancellations in do not occur. \n",
    "In particular the pieces quadratic in $x$ remain. We then get *quadratic discriminant functions (QDA)*"
   ]
  },
  {
   "attachments": {},
   "cell_type": "markdown",
   "metadata": {},
   "source": [
    "$δ_k(x) = −\\frac{1}{2} log|Σ_k| − \\frac{1}{2}(x − µ_k)^T Σ_{k}^{−1}(x − µ_k) + log π_k$\n",
    "\n",
    "The decision boundary between each pair of classes $k$ and $l$ is described by a quadratic equation $\\{x : δ_k(x) = δ_ℓ(x)\\}$"
   ]
  },
  {
   "attachments": {},
   "cell_type": "markdown",
   "metadata": {},
   "source": [
    "<div align = \"center\">\n",
    "    <img src = \"assets/lin_model_class/Captura_lin_for_class_03.PNG\" />\n",
    "</div>"
   ]
  },
  {
   "attachments": {},
   "cell_type": "markdown",
   "metadata": {},
   "source": [
    "* The left plot shows the quadratic decision boundaries obtained using LDA\n",
    "in the five-dimensional space $X_1, X_2, X_1X_2, X_{1}^{2}, X_2^2$.\n",
    "\n",
    "* The The right plot shows the quadratic decision boundaries found by QDA in 2-dimentional space $X_1, X_2$\n",
    "* The differences are generallysmall but QDA is the preferred approach"
   ]
  },
  {
   "attachments": {},
   "cell_type": "markdown",
   "metadata": {},
   "source": [
    "### Regularized Discriminant Analysis"
   ]
  },
  {
   "cell_type": "code",
   "execution_count": 2,
   "metadata": {},
   "outputs": [],
   "source": [
    "import numpy as np\n",
    "import pandas as pd\n",
    "import matplotlib.pyplot  as plt\n",
    "from sklearn import model_selection, metrics\n",
    "from sklearn.preprocessing import PolynomialFeatures, StandardScaler"
   ]
  },
  {
   "cell_type": "code",
   "execution_count": 3,
   "metadata": {},
   "outputs": [],
   "source": [
    "# Load the data\n",
    "data_drime = pd.read_stata(r'data_dta/CRIME1.dta')\n",
    "\n",
    "# Generate the variable arr86, where a person is labeled equal to 0, if he has not committed a crime in 1986\n",
    "# otherwise 1.\n",
    "data_drime['arr86'] = data_drime.narr86.where(data_drime.narr86==0, 1)\n",
    "\n",
    "# Selecting the features and target\n",
    "features= ['pcnv', 'avgsen', 'tottime', 'ptime86', 'qemp86']\n",
    "target = 'arr86'\n",
    "\n",
    "X = np.array(data_drime[features])\n",
    "\n",
    "# Generate polynomial and interaction features\n",
    "poly = PolynomialFeatures(2)\n",
    "X_poly = poly.fit_transform(X)\n",
    "\n",
    "# PCA\n",
    "from sklearn.decomposition import PCA\n",
    "pca = PCA(n_components=X_poly.shape[1])\n",
    "X_trans = pca.fit_transform(X_poly)\n",
    "condition = pca.explained_variance_ratio_.cumsum() <= 0.997\n",
    "X_pca = X_trans[:,condition]\n",
    "\n",
    "y = np.array(data_drime[target])\n",
    "\n",
    "# Split the data to train and test\n",
    "X_train, X_test, y_train, y_test = model_selection.train_test_split(X_pca, y, random_state=123, test_size=0.25)"
   ]
  },
  {
   "cell_type": "code",
   "execution_count": 4,
   "metadata": {},
   "outputs": [
    {
     "data": {
      "text/plain": [
       "LinearDiscriminantAnalysis()"
      ]
     },
     "execution_count": 4,
     "metadata": {},
     "output_type": "execute_result"
    }
   ],
   "source": [
    "import numpy as np\n",
    "from sklearn.discriminant_analysis import LinearDiscriminantAnalysis\n",
    "\n",
    "clf = LinearDiscriminantAnalysis()\n",
    "clf.fit(X_train, y_train)\n",
    "\n",
    "# svd: Singular value decomposition (default). \n",
    "# Does not compute the covariance matrix, \n",
    "# therefore this solver is recommended for data with a large number of features."
   ]
  },
  {
   "cell_type": "code",
   "execution_count": 46,
   "metadata": {},
   "outputs": [],
   "source": [
    "from assets.lin_model_class import utils_metrics"
   ]
  },
  {
   "cell_type": "code",
   "execution_count": 24,
   "metadata": {},
   "outputs": [
    {
     "name": "stdout",
     "output_type": "stream",
     "text": [
      "The accuracy 0.7273\n",
      "Initial AUC value is 0.4515\n",
      "\n",
      "Probability Conditioned on Predicts\n",
      "> P(not committed a crime|low risk)   72.97%\n",
      "> P(not committed a crime|high risk)  60.00%\n",
      "> P(committed a crime|low risk)       27.03%\n",
      "> P(committed a crime|high risk)      40.00%\n",
      "\n",
      "Probability Conditioned on Outcomes\n",
      "> P(low risk|not committed a crime)   99.40%\n",
      "> P(high risk|not committed a crime)  0.60%\n",
      "> P(low risk|committed a crime)       98.92%\n",
      "> P(high risk|committed a crime)      1.08%\n",
      "\n"
     ]
    }
   ],
   "source": [
    "utils_metrics.assessment(y_test, X_test, clf)\n",
    "utils_metrics.prob_cond_pred(y_test, X_test, clf)\n",
    "utils_metrics.prob_cond_out(y_test, X_test, clf)"
   ]
  },
  {
   "attachments": {},
   "cell_type": "markdown",
   "metadata": {},
   "source": [
    "\n",
    "#### Cross - Validation for LDA"
   ]
  },
  {
   "cell_type": "code",
   "execution_count": 9,
   "metadata": {},
   "outputs": [
    {
     "name": "stdout",
     "output_type": "stream",
     "text": [
      "The accuracy 0.7273\n",
      "Initial AUC value is 0.4515\n",
      "\n",
      "Probability Conditioned on Predicts\n",
      "> P(not committed a crime|low risk)   72.97%\n",
      "> P(not committed a crime|high risk)  60.00%\n",
      "> P(committed a crime|low risk)       27.03%\n",
      "> P(committed a crime|high risk)      40.00%\n",
      "\n",
      "Probability Conditioned on Outcomes\n",
      "> P(low risk|not committed a crime)   99.40%\n",
      "> P(high risk|not committed a crime)  0.60%\n",
      "> P(low risk|committed a crime)       98.92%\n",
      "> P(high risk|committed a crime)      1.08%\n",
      "\n"
     ]
    }
   ],
   "source": [
    "fit_to_grid_cv = model_selection.GridSearchCV(\n",
    "\n",
    "    estimator=LinearDiscriminantAnalysis(\n",
    "        solver='lsqr'),\n",
    "    scoring= 'roc_auc',\n",
    "    cv=5,\n",
    "    param_grid={\n",
    "        'shrinkage': np.linspace(0,1, 10)},\n",
    "    verbose=False,\n",
    "    return_train_score=True\n",
    ")\n",
    "\n",
    "fit_to_grid_cv.fit(X_train, y_train)\n",
    "\n",
    "clf = LinearDiscriminantAnalysis(solver='lsqr', **fit_to_grid_cv.best_params_)\n",
    "clf.fit(X_train, y_train)\n",
    "\n",
    "utils_metrics.assessment(y_test, X_test, clf)\n",
    "utils_metrics.prob_cond_pred(y_test, X_test, clf)\n",
    "utils_metrics.prob_cond_out(y_test, X_test, clf)"
   ]
  },
  {
   "cell_type": "code",
   "execution_count": 110,
   "metadata": {},
   "outputs": [],
   "source": [
    "X = np.array(data_drime[features])\n",
    "\n",
    "# standrization\n",
    "scaler = StandardScaler()\n",
    "X_trans = scaler.fit_transform(X)\n",
    "\n",
    "y = np.array(data_drime[target])\n",
    "\n",
    "# Split the data to train and test\n",
    "X_train, X_test, y_train, y_test = model_selection .train_test_split(X_trans, y, random_state=123, test_size=0.25)"
   ]
  },
  {
   "cell_type": "code",
   "execution_count": 111,
   "metadata": {},
   "outputs": [
    {
     "data": {
      "text/plain": [
       "QuadraticDiscriminantAnalysis()"
      ]
     },
     "execution_count": 111,
     "metadata": {},
     "output_type": "execute_result"
    }
   ],
   "source": [
    "from sklearn.discriminant_analysis import QuadraticDiscriminantAnalysis\n",
    "import numpy as np\n",
    "\n",
    "clf = QuadraticDiscriminantAnalysis()\n",
    "clf.fit(X_train, y_train)"
   ]
  },
  {
   "cell_type": "code",
   "execution_count": 25,
   "metadata": {},
   "outputs": [
    {
     "name": "stdout",
     "output_type": "stream",
     "text": [
      "The accuracy 0.7273\n",
      "Initial AUC value is 0.4515\n",
      "\n",
      "Probability Conditioned on Predicts\n",
      "> P(not committed a crime|low risk)   72.97%\n",
      "> P(not committed a crime|high risk)  60.00%\n",
      "> P(committed a crime|low risk)       27.03%\n",
      "> P(committed a crime|high risk)      40.00%\n",
      "\n",
      "Probability Conditioned on Outcomes\n",
      "> P(low risk|not committed a crime)   99.40%\n",
      "> P(high risk|not committed a crime)  0.60%\n",
      "> P(low risk|committed a crime)       98.92%\n",
      "> P(high risk|committed a crime)      1.08%\n",
      "\n"
     ]
    }
   ],
   "source": [
    "utils_metrics.assessment(y_test, X_test, clf)\n",
    "utils_metrics.prob_cond_pred(y_test, X_test, clf)\n",
    "utils_metrics.prob_cond_out(y_test, X_test, clf)"
   ]
  },
  {
   "attachments": {},
   "cell_type": "markdown",
   "metadata": {},
   "source": [
    "## Logistic Regression"
   ]
  },
  {
   "attachments": {},
   "cell_type": "markdown",
   "metadata": {},
   "source": [
    "The logistic regression model arises from the desire to model the posterior probabilities of the $K$ classes via linear functions in $B$, while at the same time ensuring that they sum to one and remain in $[0, 1]$. The model has\n",
    "the form:\n",
    "\n"
   ]
  },
  {
   "attachments": {},
   "cell_type": "markdown",
   "metadata": {},
   "source": [
    "$$Pr(G = k|X = x) = \\frac{\\exp(β_{k0} + β_{k}^Tx)}{1 + \\sum_{ℓ=1}^{K-1} \\exp(β_{ℓ0} + β_{ℓ}^T x)} , k = 1,..., K - 1$$\n",
    "\n",
    "$$Pr(G = K|X = x) = \\frac{1}{1 + \\sum_{ℓ=1}^{K-1} \\exp(β_{ℓ0} + β_{ℓ}^T x)}$$\n",
    "\n",
    "* The model can be specified in terms of $K − 1$ log-odds or logit transformations\n",
    "* Although the model uses the last class as the denominator in the odds-ratios, the choice of denominator is arbitrary."
   ]
  },
  {
   "attachments": {},
   "cell_type": "markdown",
   "metadata": {},
   "source": [
    "$$log \\frac{Pr(G = 1|X = x)}{Pr(G = K|X = x)} = β_{10} + β_{1}^T x$$\n",
    "\n",
    "$$log \\frac{Pr(G = 2|X = x)}{Pr(G = K|X = x)} = β_{20} + β_{2}^T x$$\n",
    "\n",
    "$$ ... $$\n",
    "\n",
    "$$log \\frac{Pr(G = K - 1|X = x)}{Pr(G = K|X = x)} = β_{(K - 1)0} + β_{(K- 1)}^T x$$"
   ]
  },
  {
   "attachments": {},
   "cell_type": "markdown",
   "metadata": {},
   "source": [
    "To emphasize the dependence on the entire parameter set $θ = \\{β_{10}, β_{1}^T , ... , β_{(K−1)0}, β_{K−1}^T \\}$, we denote the probabilities $Pr(G = k|X = x) = p_k(x; θ)$."
   ]
  },
  {
   "attachments": {},
   "cell_type": "markdown",
   "metadata": {},
   "source": [
    "### Fitting Logistic Regression Models"
   ]
  },
  {
   "attachments": {},
   "cell_type": "markdown",
   "metadata": {},
   "source": [
    "If $K = 2$ the model is of binary response."
   ]
  },
  {
   "attachments": {},
   "cell_type": "markdown",
   "metadata": {},
   "source": [
    "$$Pr(G = 1|X = x) = \\frac{\\exp(β_{10} + β_{1}^Tx)}{1 + \\exp(β_{10} + β_{1}^T x)}$$\n",
    "\n",
    "$$Pr(G = 2|X = x) = \\frac{1}{1 + \\exp(β_{10} + β_{1}^T x)}$$"
   ]
  },
  {
   "attachments": {},
   "cell_type": "markdown",
   "metadata": {},
   "source": [
    "Here we can note only we need one of these equations, since, if we find, $Pr(G=2|X=x)$, automatically we can compute $Pr(G=1|X=x)$.\n",
    "\n",
    "\n",
    "The ecuation, $Pr(G = 1|X = x) = \\frac{1}{1 + \\exp(-(β_{10} + β_{1}^T x))}$ incorpore the *sigmoid function*, $\\sigma(z)=1/( 1 + \\exp(-z)$ , with $z = β_{10} + β_{1}^T x$. This take real values and map it to range [0, 1], so it create the probability"
   ]
  },
  {
   "attachments": {},
   "cell_type": "markdown",
   "metadata": {},
   "source": [
    "> Sigmoid Function\n",
    "> \n",
    "> $$\\sigma(z)=1/( 1 + \\exp(-z))$$\n",
    ">\n",
    "> The sigmoid function (named because it looks like an s) is also called the *logistic function*, and gives logistic regression its name. "
   ]
  },
  {
   "cell_type": "code",
   "execution_count": 8,
   "metadata": {},
   "outputs": [],
   "source": [
    "import matplotlib.pyplot as plt\n",
    "import pandas as pd\n",
    "import numpy as np"
   ]
  },
  {
   "cell_type": "code",
   "execution_count": 9,
   "metadata": {},
   "outputs": [
    {
     "data": {
      "image/png": "[encoded data removed]",
      "text/plain": [
       "<Figure size 900x500 with 1 Axes>"
      ]
     },
     "metadata": {},
     "output_type": "display_data"
    }
   ],
   "source": [
    "fig, ax = plt.subplots(figsize = (5, 3))\n",
    "\n",
    "x_grid = np.linspace(-5, 5, 100)\n",
    "f = lambda x:1/(1 + np.exp(-x))\n",
    "ax.plot(x_grid, f(x_grid));"
   ]
  },
  {
   "cell_type": "markdown",
   "metadata": {},
   "source": [
    "When we work with two classes is usually better work with $0/1$ response $y$. \n",
    "\n",
    "Suppose that, in actually the classes are instead $1 \\rightarrow \\text{no enrolled}$, $2 \\rightarrow \\text{enrolled}$\n",
    "\n",
    "So  $ y = 1 $ if $i$ is $\\text{enrolled}$ and $y = 0$ if $i$ is $\\text{no enrolled}$"
   ]
  },
  {
   "cell_type": "markdown",
   "metadata": {},
   "source": [
    "Let be the probabilities $Pr(G = k|X = x) = p_k(x; θ)$.\n",
    "\n",
    "Let $p(x; θ) = p_{\\text{enrolled}}(x; θ) = Pr(G = \\text{enrolled}|X = x)$, and $p_{\\text{no enrolled}}(x; θ) = 1 − p(x; θ) = Pr(G = \\text{no enrolled}|X = x)$. This means that $y$ ~ $\\text{Bern}(p(x; θ))$."
   ]
  },
  {
   "attachments": {},
   "cell_type": "markdown",
   "metadata": {},
   "source": [
    "$$p_{k}(x;\\theta)= p(x;\\theta)^{y}\\;(1-p(x;\\theta))^{(1 - y)}$$\n",
    "\n",
    "Where $p_{k}(x;\\theta)$ is $PMF$ of $y$"
   ]
  },
  {
   "attachments": {},
   "cell_type": "markdown",
   "metadata": {},
   "source": [
    "Pugging in likehood usig the $N$ samples\n",
    "\n",
    "$$l(\\theta) = \\sum_{i=1}^{N}log \\;p(x_i;\\theta)^{y_i}\\;(1-p(x_i;\\theta))^{(1 - y_i)} $$\n",
    "\n",
    "$$l(\\theta) = \\sum_{i=1}^{N} y_i\\; log \\;p(x_i;\\theta) + (1 - y_i)\\;log(1-p(x_i;\\theta)) $$\n",
    "\n",
    "In term of $\\log(\\text{odds}) = -(β_{10} + β_{1}^T x)$\n",
    "\n",
    "$$l(\\theta) = \\sum_{i=1}^{N} -y_i \\log(odds) + log(1 + e^{\\log(odds)} )$$\n",
    "\n",
    "and its derivative for a sample is  $\\frac{\\partial l}{\\partial log(odds)} = -y + \\frac{e^{log(odds)}}{ 1 + e^{log(odds)}}$. Recall,  $ \\frac{e^{log(odds)}}{ 1 + e^{log(odds)}} = p$, so the derivative can be rewritten like $\\frac{\\partial(l (y, \\log(odds)))}{\\partial \\log(odds)} =-y  + p$\n",
    "\n",
    "Let $\\theta = \\{β_{10} + β_{1}\\}$ be\n",
    "\n",
    "$ \\frac{\\partial \\log(\\text{odds})}{\\partial β_{1}^T}  = -x$\n",
    "\n",
    "$\\frac{\\partial Ll}{\\partial log(odds)} . \\frac{\\partial \\log(\\text{odds})}{\\partial β_{1}^T} = (-y +p)-x = x(y - p)$\n"
   ]
  },
  {
   "cell_type": "markdown",
   "metadata": {},
   "source": [
    "To find the coeficients we can use the  *Rapson Newton method* on gradient of $L$ or *Gradient Decent* \n",
    "\n",
    "$$\\frac{\\partial l(\\theta)}{\\partial β_{1}^T} = \\sum_{i=1}^{N} x_i\\; (y_i - p(x_i;\\theta))  = 0$$\n",
    "\n",
    "$$\\frac{\\partial l(\\theta)}{\\partial β_{10}} = \\sum_{i=1}^{N}(y_i - p(x_i;\\theta))  = 0$$\n",
    "\n",
    "For *Rapson New Method*\n",
    "\n",
    "$${\\beta_{1}^T}_{new} = {\\beta_{1}^T}_{old} - \\frac{\\partial \\partial l(\\theta)}{\\partial \\beta_{1}^T \\partial \\beta_{1}^T}^{-1} \\frac{\\partial l(\\theta)}{\\partial \\beta_{1}^T}$$\n",
    "\n",
    "$${\\beta_{10}}_{new} = {\\beta_{10}}_{old} - \\frac{\\partial \\partial l(\\theta)}{\\partial \\beta_{10} \\partial \\beta_{10}}^{-1} \\frac{\\partial l(\\theta)}{\\partial \\beta_{10}}$$"
   ]
  },
  {
   "attachments": {},
   "cell_type": "markdown",
   "metadata": {},
   "source": [
    "> The negative of this is called *negative log likehood* or *Cross Entropy* at level of record.\n",
    "> \n",
    "> $$L(y, p)=-[y\\log(p) + (1-y)\\log(1-p)]$$\n",
    "> \n",
    "> And it is used in neural network like a loss function for binary response in classification model. A general version of this is \n",
    "> \n",
    "> $$L(\\textbf{y}, \\textbf{p})=-\\sum_{k=1}^{K}y_k\\log(p_k)$$\n",
    "> \n",
    ">An example:\n",
    "> $\\textbf{p} = [0.1, 0.1, 0.6, 0.2]$ and $\\textbf{y}=[0, 0, 1, 0]$ the cross entropy would be $0.5108$. Validated with torch CrossEntropyLoss. This package take as inputs the *logits*, internally it coonvert to probabilities and then compute the cross entropy loss"
   ]
  },
  {
   "attachments": {},
   "cell_type": "markdown",
   "metadata": {},
   "source": [
    "> Logistic regression models are usually fitted by maximum likelihood.\n",
    "> \n",
    "> The log likelihood can be derived by defining, for each individual, $d_{ik} = 1$ if alternative $k$ is chosen by individual $i$, and $0$ if not, for the $K - 1$ possible outcomes. Then, for each $i$, one and only one of the $d_{ik}’s$ is $1$.\n",
    ">\n",
    "> Recall the *conditional probabilities* are *probabilities* and the maximun likelihood maximize the conditional probabilities $Pr(g_i=k|x=x_i)$ given the $\\theta$ parameters\n",
    ">\n",
    "> <!-- $$L(\\theta) = p_k(x; θ)  = \\prod_{i=1}^{N} \\prod_{k=1}^{K-1}p_{g_i}(x_i;\\theta) $$ -->\n",
    "> <!-- $$L(\\theta)  = \\prod_{i=1}^{N} \\prod_{k=1}^{K} d_{ik} Pr(g_i = k|X = x_i; θ) $$ -->\n",
    "> $$l(\\theta) = \\sum_{i=1}^{N}\\sum_{k=1}^{K} d_{ik} log \\;p_{g_i}(x_i;\\theta) $$\n",
    "> where $p_{g_i}(x_i; θ) = Pr(g_i = k|X = x_i; θ)$. The probability of the $i^{th}$ record belong to class $k$"
   ]
  },
  {
   "attachments": {},
   "cell_type": "markdown",
   "metadata": {},
   "source": [
    "### Gradient Descent"
   ]
  },
  {
   "attachments": {},
   "cell_type": "markdown",
   "metadata": {},
   "source": [
    "The goal is with *gradient descent* find optimal parameters, parameters that minimize the *loss function* on all train examples. \n",
    "\n",
    "$\\theta = (\\beta_{10}, \\beta_{1}^{T})$"
   ]
  },
  {
   "attachments": {},
   "cell_type": "markdown",
   "metadata": {},
   "source": [
    "$$\\hat{\\theta}=\\arg\\min_{\\theta} \\frac{1}{N} \\sum_{i=1}^{N} L(y_i, p(\\textbf{x}_i;\\theta))$$"
   ]
  },
  {
   "attachments": {},
   "cell_type": "markdown",
   "metadata": {},
   "source": [
    "Gradient descent is a method that finds a minimum of a function by figuring out in which direction (in the space of the parameters $\\theta$) the function’s slope is rising, and moving in the opposite direction.\n",
    "\n",
    "For logistic regression, this loss function is conveniently convex. A **convex** function has at most one minimum; there are no local minima to get stuck in, so *gradient descent* starting from any point is guaranteed to find the minimum.\n",
    "\n",
    "\n",
    "> By contrast, the loss for multi-layer neural networks is non-convex, and gradient descent may\n",
    "> get stuck in local minima for neural network training and never find the global optimum."
   ]
  },
  {
   "attachments": {},
   "cell_type": "markdown",
   "metadata": {},
   "source": [
    "The parameters are updated following the following rule\n",
    "\n",
    "$$ \\theta_{t} =\\theta_{t-1} - \\alpha \\nabla L(y, p(\\textbf{x};\\theta)) $$\n",
    "\n",
    "Where $\\alpha$ is *learning rate* and $\\nabla L(y, p(\\textbf{x};\\theta))$ is the gradient for all parameters $\\theta$ that is represented by partial derivative of $L(y, p(\\textbf{x};\\theta))$ "
   ]
  },
  {
   "attachments": {},
   "cell_type": "markdown",
   "metadata": {},
   "source": [
    "$$ \\nabla L(y, p(\\textbf{x};\\theta)) = \\begin{bmatrix}\n",
    "\\frac{\\partial L}{\\partial B_{10}} \\\\\n",
    "\\frac{\\partial L}{\\partial B_{11}} \\\\\n",
    "\n",
    "... \\\\\n",
    "\n",
    "\\frac{\\partial L}{\\partial B_{1D}}\n",
    "\\end{bmatrix}$$"
   ]
  },
  {
   "attachments": {},
   "cell_type": "markdown",
   "metadata": {},
   "source": [
    "To see how its works, we can think the partial derivatives like slope. If the slope is negative for a $\\beta$, the $\\beta$ must be updated positively $+$ (in opposite direction). Why?\n",
    "\n",
    "<center>\n",
    "\n",
    "<img src = \".\\assets\\lin_model_class\\gradient_descent.png\" height = 300>\n",
    "\n",
    "</center>\n",
    "\n",
    "If the slope is negative it means that we can minimize the loss function increasing the $\\beta$"
   ]
  },
  {
   "attachments": {},
   "cell_type": "markdown",
   "metadata": {},
   "source": [
    "Instead using the log likelihood, we will use the negative log likelihood (cross-entropy) to update the parameters ($\\theta$) in the logistic model (binomial). so instead maximize, we will minimize it.\n",
    "\n",
    "\n",
    "$$ L(y, p(\\textbf{x};\\theta)) = - [y\\; log \\;p(\\textbf{x};\\theta) + (1 - y)\\;log(1-p(\\textbf{x};\\theta))] $$\n",
    "\n",
    "For the second feature\n",
    "\n",
    "$$\\frac{ \\partial L(y, p(\\textbf{x};\\theta))}{\\partial \\beta_{2}} = -(y-\\hat{y}) x_{2} $$\n"
   ]
  },
  {
   "attachments": {},
   "cell_type": "markdown",
   "metadata": {},
   "source": [
    "The Stochastic Gradient Descent Algorithm\n",
    "\n",
    "Stochastic gradient descent is an online algorithm that minimizes the loss function\n",
    "by computing its gradient after each training example, and nudging q in the right\n",
    "direction (the opposite direction of the gradient). (An “online algorithm” is one that\n",
    "processes its input example by example, rather than waiting until it sees the entire\n",
    "input."
   ]
  },
  {
   "attachments": {},
   "cell_type": "markdown",
   "metadata": {},
   "source": [
    "Function *STOCHASTIC GRADIENT DESCENT*($ L(), f (), x, y$) returns $\\theta$\n",
    "\n",
    "where: $L$ is the loss function\n",
    "- $f$ is a function parameterized by $\\theta$\n",
    "- $\\textbf{x}$ is the set of training inputs $x_1, x_2, ..., x_N$\n",
    "- $y$ is the set of training outputs (labels) $y_1, y_2, ..., y_N$\n",
    "\n",
    "$\\theta = 0$\n",
    "\n",
    "**repeat** until done # see caption\n",
    "\n",
    "For each training tuple $(\\textbf{x}_i, y_i)$ (in random order)\n",
    "1. Optional (for reporting): # How are we doing on this tuple?\n",
    "  - Compute $\\hat{y}_i = p(\\textbf{x}_i; \\theta$) # What is our estimated output $\\hat{y}_i$?\n",
    "  - Compute the loss $L(\\hat{y}_i, y_i)$ # How far off is $\\hat{y}_i$ from the true output $y_i$?\n",
    "2. $g = \\nabla L(y, p(\\textbf{x};\\theta))$ # How should we move q to maximize loss?\n",
    "3. $\\theta_{t} =\\theta_{t-1} - \\alpha g $ # Go the other way instead\n",
    "\n",
    "**return** $\\theta$"
   ]
  },
  {
   "attachments": {},
   "cell_type": "markdown",
   "metadata": {},
   "source": [
    "The *learning rate* $\\alpha$ is a **hyperparameter** that must be adjusted. If it’s too high,\n",
    "the learner will take steps that are too large, overshooting the minimum of the loss\n",
    "function. If it’s too low, the learner will take steps that are too small, and take too\n",
    "long to get to the minimum. \n",
    "\n",
    "It is common to start with a higher learning rate and then\n",
    "slowly decrease it, so that it is a function of the iteration k of training; the notation\n",
    "hk can be used to mean the value of the learning rate at iteration k"
   ]
  },
  {
   "attachments": {},
   "cell_type": "markdown",
   "metadata": {},
   "source": [
    "Stochastic gradient descent is called stochastic because it chooses a single random\n",
    "example at a time, moving the weights so as to improve performance on that single\n",
    "example.\n",
    "\n",
    "it’s common to compute the gradient over batches of training instances rather than a single instance"
   ]
  },
  {
   "attachments": {},
   "cell_type": "markdown",
   "metadata": {},
   "source": [
    "In *batch training* we compute the gradient over the entire dataset.\n",
    "\n",
    "In *mini-batch training*: we train on a group of $m$ examples (perhaps 512, or 1024) that is less than the whole dataset"
   ]
  },
  {
   "cell_type": "code",
   "execution_count": 124,
   "metadata": {},
   "outputs": [],
   "source": [
    "import numpy as np\n",
    "import pandas as pd\n",
    "from scipy.stats import norm, uniform\n",
    "import matplotlib.pyplot as plt"
   ]
  },
  {
   "cell_type": "code",
   "execution_count": 131,
   "metadata": {},
   "outputs": [],
   "source": [
    "unif = uniform()\n",
    "e = norm()\n",
    "size = 700\n",
    "random_state = 123"
   ]
  },
  {
   "cell_type": "code",
   "execution_count": 132,
   "metadata": {},
   "outputs": [],
   "source": [
    "data = pd.DataFrame({'A':unif.rvs(size, random_state),\n",
    "                     'B':unif.rvs(size, 2*random_state)})"
   ]
  },
  {
   "cell_type": "code",
   "execution_count": 133,
   "metadata": {},
   "outputs": [],
   "source": [
    "data['y'] = 8*data['A'] + 2*data['B'] + e.rvs(size, random_state)"
   ]
  },
  {
   "cell_type": "code",
   "execution_count": 134,
   "metadata": {},
   "outputs": [
    {
     "data": {
      "text/plain": [
       "(7.821120803194643, 2.127896076708602)"
      ]
     },
     "execution_count": 134,
     "metadata": {},
     "output_type": "execute_result"
    }
   ],
   "source": [
    "epochs = 10\n",
    "ca, cb = 0, 0\n",
    "alpha = 0.01\n",
    "\n",
    "while epochs>0:\n",
    "\n",
    "    data_random = data.sample(frac=1, random_state=epochs)\n",
    "    data_splits = np.array_split(data_random, 100)\n",
    "    \n",
    "    while data_splits:        \n",
    "        data_current = data_splits.pop()\n",
    "        y_current = data_current['y'].copy()\n",
    "        y_hat = ca*data_current['A'] + cb*data_current['B']\n",
    "        la = -(y_current - y_hat)*data_current['A']\n",
    "        lb = -(y_current - y_hat)*data_current['B']\n",
    "        ca, cb = ca - alpha*np.sum(la), cb - alpha*np.sum(lb)\n",
    "    epochs-=1\n",
    "\n",
    "ca, cb"
   ]
  },
  {
   "attachments": {},
   "cell_type": "markdown",
   "metadata": {},
   "source": [
    "### Regularization\n",
    "\n",
    "There is a problem with learning weights that make the model perfectly match the\n",
    "training data. If a feature is perfectly predictive of the outcome because it happens\n",
    "to only occur in one class, it will be assigned a very high weight. \n",
    "\n",
    "The weights for\n",
    "features will attempt to perfectly fit details of the training set, in fact too perfectly,\n",
    "modeling noisy factors that just accidentally correlate with the class. This problem is\n",
    "called overfitting. A good model should be able to generalize well from the training data to the unseen test set, but a model that overfits will have poor generalization"
   ]
  },
  {
   "attachments": {},
   "cell_type": "markdown",
   "metadata": {},
   "source": [
    "To avoid overfitting, a new **regularization** term $R(\\theta)$ is added to the objective function (*likelihood*) instead loss function. Why? we can undenstand better.\n",
    "\n",
    "\n",
    "$$ \\hat{\\theta} = \\arg \\max_{\\theta}  \\sum_{i=1}^{S}  y_i\\; log \\;p(x_i;\\theta) + (1 - y_i)\\;log(1-p(x_i;\\theta)) - R(\\theta)$$\n",
    "\n",
    "Where $S$ is the size of the *mini-batch*"
   ]
  },
  {
   "cell_type": "markdown",
   "metadata": {},
   "source": [
    "This penalty is particularly useful in the $p \\gt N$ situation, or any situation where there are many correlated predictor variables"
   ]
  },
  {
   "attachments": {},
   "cell_type": "markdown",
   "metadata": {},
   "source": [
    "There are two ways to compute this regularization term. \n",
    "\n",
    "\n",
    "- **L2** *regularization*  $R(\\theta) = \\sum_{d=1}^{D} \\beta_{d}^2$. \n",
    "\n",
    "  - *Ridge regression* is known to shrink the coefficients of correlated predictors towards each\n",
    "other, allowing them to borrow strength from each other. In the extreme case of k identical\n",
    "predictors, they each get identical coefficients with 1/kth the size that any single one would\n",
    "get if fit alone\n",
    "  \n",
    "- **L1** *regularization*  $R(\\theta) = \\sum_{d=1}^{D} |\\beta_{d}|$\n",
    "  - *Lasso*, on the other hand, is somewhat indifferent to very correlated predictors, and will tend\n",
    "to pick one and ignore the rest.\n",
    "  - If we fit $y = f(X, \\beta)$ where $f(X, \\beta) = \\beta_{1}x_1 + \\beta_{2}x_2 + \\beta_{3}x_3 + \\epsilon$ and $x_1 = x_2=x_3$ perfectly correlated one each other, then *coefficient Lasso* would fit to: $f(X, \\hat{\\beta}) = \\hat{\\beta}_{1}x_1 + 0x_2 + 0x_3 $"
   ]
  },
  {
   "cell_type": "code",
   "execution_count": 1,
   "metadata": {},
   "outputs": [],
   "source": [
    "import ssl\n",
    "from io import StringIO\n",
    "import urllib\n",
    "import re\n",
    "from sklearn.linear_model import LinearRegression, Lasso"
   ]
  },
  {
   "attachments": {},
   "cell_type": "markdown",
   "metadata": {},
   "source": [
    "## Model Evaluation"
   ]
  },
  {
   "attachments": {},
   "cell_type": "markdown",
   "metadata": {},
   "source": [
    "**Accuracy**"
   ]
  },
  {
   "attachments": {},
   "cell_type": "markdown",
   "metadata": {},
   "source": [
    "The common way to evaluate a model is using accuracy, the $%$ of correct prediction"
   ]
  },
  {
   "attachments": {},
   "cell_type": "markdown",
   "metadata": {},
   "source": [
    "We usually assign $1$ to positive response that something that we need to know. Is is span? Does she like me?\n",
    "\n",
    "$$\\text{Yes}:1, \\text{No}:0$$"
   ]
  },
  {
   "attachments": {},
   "cell_type": "markdown",
   "metadata": {},
   "source": [
    "*Confusion Matrix*\n",
    "\n",
    "It is a table for visualizing how an algorithm performs with respect to the human gold labels, using two dimensions (system output and gold labels), and each cell labeling a set of possible outcomes\n",
    "\n",
    "<center>\n",
    "\n",
    "<img src = \".\\assets\\lin_model_class\\confusion_matrix.png\" height = 300>\n",
    "\n",
    "</center>"
   ]
  },
  {
   "attachments": {},
   "cell_type": "markdown",
   "metadata": {},
   "source": [
    "$$\\text{Precision} = \\frac{TP}{FP + TP} $$\n",
    "\n",
    "$$\\text{Recall} = \\frac{TP}{FN + TP} $$\n",
    "\n",
    "$$\\text{Accuracy} = \\frac{TP + TN}{TP + TN + FP + FN}$$"
   ]
  },
  {
   "attachments": {},
   "cell_type": "markdown",
   "metadata": {},
   "source": [
    "$\\text{F-Measure}$ is a simple combination of Precision and Recall. It is a harmony mean weighted by the importance of them. If both are important $\\alpha = 0.5$"
   ]
  },
  {
   "attachments": {},
   "cell_type": "markdown",
   "metadata": {},
   "source": [
    "$$F = (\\frac{1}{\\alpha \\frac{1}{P} +  (1-\\alpha)\\frac{1}{R} })$$"
   ]
  },
  {
   "attachments": {},
   "cell_type": "markdown",
   "metadata": {},
   "source": [
    "### Decision Boundary"
   ]
  },
  {
   "attachments": {},
   "cell_type": "markdown",
   "metadata": {},
   "source": [
    "How do we make a decision about which class to apply to a test instance x? For\n",
    "a given x, we say yes if the probability P(y = 1jx) is more than .5, and no otherwise.\n",
    "boundary decision We call .5 the decision boundary"
   ]
  },
  {
   "attachments": {},
   "cell_type": "markdown",
   "metadata": {},
   "source": [
    "$$\\text{If} \\: \\hat{P}(g = 1|x) \\ge 0.5 \\: \\text{then} \\: 1\\: \\text{otherwise} \\: 0 $$"
   ]
  },
  {
   "cell_type": "markdown",
   "metadata": {},
   "source": [
    "If we assign $1$ when  $\\hat{P}(g = 1|x) \\ge 0.5$  then $0.5$ is boundary decision.\n",
    "\n"
   ]
  },
  {
   "attachments": {},
   "cell_type": "markdown",
   "metadata": {},
   "source": [
    "The decision boundary can be changed (increase the threshold) with the goal to improve *precision*, but the *recall* will suffer. Will apply false to some true cases that had a model output just below the raised threshold.\n",
    "\n",
    "A way to visualize this trade-off with *ROC* curve.\n",
    "\n",
    "Here appear the concept of *ROC* and *AUC*\n",
    "\n",
    "The *ROC* curve traces the relationship between the *false positive rate*  - *[FP/(TN + TP)]*  (on the $x$ axis) and the *true positive rate* - *[TP/(FN + TP)]* (on the $y$ axis) as the probability threshold $p$ is changed."
   ]
  },
  {
   "cell_type": "markdown",
   "metadata": {},
   "source": [
    "If we increase the threshold in order to improve precision [TP/(TP + FP)], then (TP + FP) the number of records with positive prediction  decrece since we are assing 1 to record with higher probability. The TP decrece as well, but the decrecing of (TP + FP) is strong growth. The result: *increasing precision*. The *false positive rate* decreace as well, since we are assing 1 to record with higher probability to be positive and we are keeping with these. The consecuence of this action is decresing in *true positive rate*. Again, this happend since we are assing 1 to record with higher positive probability, the quantity of records that over the new threshold usually are smaller than one with small threshold."
   ]
  },
  {
   "cell_type": "markdown",
   "metadata": {},
   "source": [
    "<div align = \"center\">\n",
    "<img src=\"https://upload.wikimedia.org/wikipedia/commons/1/13/Roc_curve.svg\" height = \"400\">\n",
    "</div>\n",
    "\n",
    "Source: https://en.wikipedia.org/wiki/Receiver_operating_characteristic"
   ]
  },
  {
   "cell_type": "code",
   "execution_count": 292,
   "metadata": {},
   "outputs": [],
   "source": [
    "import numpy as np\n",
    "import pandas as pd\n",
    "import matplotlib.pyplot  as plt\n",
    "from sklearn import model_selection, metrics\n",
    "from sklearn.preprocessing import PolynomialFeatures, StandardScaler\n",
    "from sklearn.decomposition import PCA\n",
    "import re\n",
    "from io import StringIO"
   ]
  },
  {
   "cell_type": "markdown",
   "metadata": {},
   "source": [
    "In Binary Choice Model, the response is a *binary variable*. This variable can be make it based on a quantitative variable (using bining) or in actually can be a binary response $0$ (spam) and $1$ (no spam).\n",
    "\n",
    "In econometrics *binary variable* hides an choice, this choice is based on *Utility* of this choice "
   ]
  },
  {
   "cell_type": "markdown",
   "metadata": {},
   "source": [
    "Dataset extracted from: https://pages.stern.nyu.edu/~wgreene/Text/Edition7/tablelist8new.htm"
   ]
  },
  {
   "cell_type": "code",
   "execution_count": 293,
   "metadata": {},
   "outputs": [],
   "source": [
    "with open(r'assets\\lin_model_class\\pages.stern.nyu.edu_~wgreene_Text_Edition7_TableF5-1.txt') as table_5:\n",
    "    data = table_5.read()\n",
    "    data_info = re.search(r'([\\*].+?(?=\\*\\/))\\*\\/\\n(.+)', data, re.DOTALL).group(1)\n",
    "    data_cleaned = re.search(r'([\\*].+?(?=\\*\\/))\\*\\/\\n(.+)', data, re.DOTALL).group(2)\n",
    "    data_formatted = re.sub(r'[ ]+', r',', data_cleaned)\n",
    "    data_consol = pd.read_csv(StringIO(data_formatted), sep=',')"
   ]
  },
  {
   "cell_type": "code",
   "execution_count": 294,
   "metadata": {},
   "outputs": [
    {
     "name": "stdout",
     "output_type": "stream",
     "text": [
      "*\n",
      "doc LFP  \"A dummy variable = 1 if woman worked in 1975, else 0\";\n",
      "doc WHRS \"Wife's hours of work in 1975\";\n",
      "doc KL6  \"Number of children less than 6 years old in household\";\n",
      "doc K618 \"Number of children between ages 6 and 18 in household\";\n",
      "doc WA   \"Wife's age\";\n",
      "doc WE   \"Wife's educational attainment, in years\";\n",
      "doc WW   \"Wife's average hourly earnings, in 1975 dollars\";\n",
      "doc RPWG \"Wife's wage reported at the time of the 1976 interview\\\n",
      " (not the same as the 1975 estimated wage).\\\n",
      " To use the subsample with this wage, one needs to select 1975\\\n",
      " workers with LFP=1, then select only those women with non-zero RPWG.\\\n",
      " Only 325 women work in 1975 and have a non-zero RPWG in 1976.\";\n",
      "doc HHRS \"Husband's hours worked in 1975\";\n",
      "doc HA   \"Husband's age\";\n",
      "doc HE   \"Husband's educational attainment, in years\";\n",
      "doc HW   \"Husband's wage, in 1975 dollars\";\n",
      "doc FAMINC \"Family income, in 1975 dollars.\\\n",
      " This variable is used to construct the property income variable.\";\n",
      "doc MTR  \"This is the marginal tax rate facing the wife, and is taken from\\\n",
      " published federal tax tables (state and local income taxes are excluded).\\\n",
      " The taxable income on which this tax rate is calculated\\\n",
      " includes Social Security, if applicable to wife.\";\n",
      "doc WMED \"Wife's mother's educational attainment, in years\";\n",
      "doc WFED \"Wife's father's educational attainment, in years\";\n",
      "doc UN   \"Unemployment rate in county of residence, in percentage points.\\\n",
      " This taken from bracketed ranges.\";\n",
      "doc CIT  \"Dummy variable = 1 if live in large city (SMSA), else 0\";\n",
      "doc AX   \"Actual years of wife's previous labor market experience\";\n",
      "?Source:  1976 Panel Study of Income Dynamics,\n",
      "?based on data for the previous year, 1975.  \n",
      "?Of the 753 observations, the first 428 are for women with positive hours\n",
      "?worked in 1975, while the remaining 325 observations are for women who\n",
      "?did not work for pay in 1975.  A more complete discussion of the data is\n",
      "?found in Mroz [1987], Appendix 1. \n",
      "\n"
     ]
    }
   ],
   "source": [
    "print(data_info)"
   ]
  },
  {
   "cell_type": "code",
   "execution_count": 295,
   "metadata": {},
   "outputs": [],
   "source": [
    "import h2o\n",
    "from h2o.estimators import H2OGeneralizedLinearEstimator"
   ]
  },
  {
   "cell_type": "code",
   "execution_count": 296,
   "metadata": {},
   "outputs": [
    {
     "name": "stdout",
     "output_type": "stream",
     "text": [
      "Checking whether there is an H2O instance running at http://localhost:54321 ..... not found.\n",
      "Attempting to start a local H2O server...\n",
      "; OpenJDK 64-Bit Server VM JBR-11.0.13.7-1751.21-jcef (build 11.0.13+7-b1751.21, mixed mode)\n",
      "  Starting server from C:\\Users\\caima\\anaconda3\\Lib\\site-packages\\h2o\\backend\\bin\\h2o.jar\n",
      "  Ice root: C:\\Users\\caima\\AppData\\Local\\Temp\\tmpmja0rchn\n",
      "  JVM stdout: C:\\Users\\caima\\AppData\\Local\\Temp\\tmpmja0rchn\\h2o_caima_started_from_python.out\n",
      "  JVM stderr: C:\\Users\\caima\\AppData\\Local\\Temp\\tmpmja0rchn\\h2o_caima_started_from_python.err\n",
      "  Server is running at http://127.0.0.1:54321\n",
      "Connecting to H2O server at http://127.0.0.1:54321 ... successful.\n",
      "Warning: Your H2O cluster version is too old (3 years, 5 months and 27 days)! Please download and install the latest version from http://h2o.ai/download/\n"
     ]
    },
    {
     "data": {
      "text/html": [
       "<div style=\"overflow:auto\"><table style=\"width:50%\"><tr><td>H2O_cluster_uptime:</td>\n",
       "<td>01 secs</td></tr>\n",
       "<tr><td>H2O_cluster_timezone:</td>\n",
       "<td>America/Bogota</td></tr>\n",
       "<tr><td>H2O_data_parsing_timezone:</td>\n",
       "<td>UTC</td></tr>\n",
       "<tr><td>H2O_cluster_version:</td>\n",
       "<td>3.30.0.4</td></tr>\n",
       "<tr><td>H2O_cluster_version_age:</td>\n",
       "<td>3 years, 5 months and 27 days !!!</td></tr>\n",
       "<tr><td>H2O_cluster_name:</td>\n",
       "<td>H2O_from_python_caima_jto53b</td></tr>\n",
       "<tr><td>H2O_cluster_total_nodes:</td>\n",
       "<td>1</td></tr>\n",
       "<tr><td>H2O_cluster_free_memory:</td>\n",
       "<td>2.926 Gb</td></tr>\n",
       "<tr><td>H2O_cluster_total_cores:</td>\n",
       "<td>0</td></tr>\n",
       "<tr><td>H2O_cluster_allowed_cores:</td>\n",
       "<td>0</td></tr>\n",
       "<tr><td>H2O_cluster_status:</td>\n",
       "<td>accepting new members, healthy</td></tr>\n",
       "<tr><td>H2O_connection_url:</td>\n",
       "<td>http://127.0.0.1:54321</td></tr>\n",
       "<tr><td>H2O_connection_proxy:</td>\n",
       "<td>{\"http\": null, \"https\": null}</td></tr>\n",
       "<tr><td>H2O_internal_security:</td>\n",
       "<td>False</td></tr>\n",
       "<tr><td>H2O_API_Extensions:</td>\n",
       "<td>Amazon S3, Algos, AutoML, Core V3, TargetEncoder, Core V4</td></tr>\n",
       "<tr><td>Python_version:</td>\n",
       "<td>3.10.9 final</td></tr></table></div>"
      ],
      "text/plain": [
       "--------------------------  ---------------------------------------------------------\n",
       "H2O_cluster_uptime:         01 secs\n",
       "H2O_cluster_timezone:       America/Bogota\n",
       "H2O_data_parsing_timezone:  UTC\n",
       "H2O_cluster_version:        3.30.0.4\n",
       "H2O_cluster_version_age:    3 years, 5 months and 27 days !!!\n",
       "H2O_cluster_name:           H2O_from_python_caima_jto53b\n",
       "H2O_cluster_total_nodes:    1\n",
       "H2O_cluster_free_memory:    2.926 Gb\n",
       "H2O_cluster_total_cores:    0\n",
       "H2O_cluster_allowed_cores:  0\n",
       "H2O_cluster_status:         accepting new members, healthy\n",
       "H2O_connection_url:         http://127.0.0.1:54321\n",
       "H2O_connection_proxy:       {\"http\": null, \"https\": null}\n",
       "H2O_internal_security:      False\n",
       "H2O_API_Extensions:         Amazon S3, Algos, AutoML, Core V3, TargetEncoder, Core V4\n",
       "Python_version:             3.10.9 final\n",
       "--------------------------  ---------------------------------------------------------"
      ]
     },
     "metadata": {},
     "output_type": "display_data"
    }
   ],
   "source": [
    "h2o.init()"
   ]
  },
  {
   "cell_type": "code",
   "execution_count": 297,
   "metadata": {},
   "outputs": [
    {
     "name": "stdout",
     "output_type": "stream",
     "text": [
      "Parse progress: |█████████████████████████████████████████████████████████| 100%\n"
     ]
    }
   ],
   "source": [
    "data_frame = h2o.H2OFrame(data_consol)"
   ]
  },
  {
   "cell_type": "code",
   "execution_count": 314,
   "metadata": {},
   "outputs": [],
   "source": [
    "response = 'LFP'\n",
    "numerical_feats = [\"WA\", \"WE\", \"HHRS\", \"HA\", \"HE\", \"HW\", \"WMED\", \"WFED\", \"UN\", \"AX\"]\n",
    "categorical_feats = [\"KL6\", \"K618\", \"CIT\"]"
   ]
  },
  {
   "cell_type": "code",
   "execution_count": 315,
   "metadata": {},
   "outputs": [],
   "source": [
    "data_frame[response] = data_frame[response].asfactor()\n",
    "data_frame[numerical_feats] = data_frame[numerical_feats].asnumeric()\n",
    "data_frame[categorical_feats] = data_frame[categorical_feats].asfactor()"
   ]
  },
  {
   "cell_type": "code",
   "execution_count": 316,
   "metadata": {},
   "outputs": [],
   "source": [
    "train, valid, test = data_frame.split_frame(\n",
    "    ratios = [0.6, 0.2],\n",
    "    seed = 1234\n",
    ")"
   ]
  },
  {
   "cell_type": "code",
   "execution_count": 301,
   "metadata": {},
   "outputs": [
    {
     "name": "stdout",
     "output_type": "stream",
     "text": [
      "*\n",
      "doc LFP  \"A dummy variable = 1 if woman worked in 1975, else 0\";\n",
      "doc WHRS \"Wife's hours of work in 1975\";\n",
      "doc KL6  \"Number of children less than 6 years old in household\";\n",
      "doc K618 \"Number of children between ages 6 and 18 in household\";\n",
      "doc WA   \"Wife's age\";\n",
      "doc WE   \"Wife's educational attainment, in years\";\n",
      "doc WW   \"Wife's average hourly earnings, in 1975 dollars\";\n",
      "doc RPWG \"Wife's wage reported at the time of the 1976 interview\\\n",
      " (not the same as the 1975 estimated wage).\\\n",
      " To use the subsample with this wage, one needs to select 1975\\\n",
      " workers with LFP=1, then select only those women with non-zero RPWG.\\\n",
      " Only 325 women work in 1975 and have a non-zero RPWG in 1976.\";\n",
      "doc HHRS \"Husband's hours worked in 1975\";\n",
      "doc HA   \"Husband's age\";\n",
      "doc HE   \"Husband's educational attainment, in years\";\n",
      "doc HW   \"Husband's wage, in 1975 dollars\";\n",
      "doc FAMINC \"Family income, in 1975 dollars.\\\n",
      " This variable is used to construct the property income variable.\";\n",
      "doc MTR  \"This is the marginal tax rate facing the wife, and is taken from\\\n",
      " published federal tax tables (state and local income taxes are excluded).\\\n",
      " The taxable income on which this tax rate is calculated\\\n",
      " includes Social Security, if applicable to wife.\";\n",
      "doc WMED \"Wife's mother's educational attainment, in years\";\n",
      "doc WFED \"Wife's father's educational attainment, in years\";\n",
      "doc UN   \"Unemployment rate in county of residence, in percentage points.\\\n",
      " This taken from bracketed ranges.\";\n",
      "doc CIT  \"Dummy variable = 1 if live in large city (SMSA), else 0\";\n",
      "doc AX   \"Actual years of wife's previous labor market experience\";\n",
      "?Source:  1976 Panel Study of Income Dynamics,\n",
      "?based on data for the previous year, 1975.  \n",
      "?Of the 753 observations, the first 428 are for women with positive hours\n",
      "?worked in 1975, while the remaining 325 observations are for women who\n",
      "?did not work for pay in 1975.  A more complete discussion of the data is\n",
      "?found in Mroz [1987], Appendix 1. \n",
      "\n"
     ]
    }
   ],
   "source": [
    "print(data_info)"
   ]
  },
  {
   "cell_type": "markdown",
   "metadata": {},
   "source": [
    "### Explaining Models with Partial Effects"
   ]
  },
  {
   "cell_type": "markdown",
   "metadata": {},
   "source": [
    "$$\\frac{\\partial Pr(G=1|X=x)}{\\partial X_{d}} = Pr(G=1|X=x) ( 1 - Pr(G=1|X=x)) \\beta_{d}$$"
   ]
  },
  {
   "cell_type": "markdown",
   "metadata": {},
   "source": [
    "*Average Partial Effect* (APE) \n",
    "\n",
    "If the feature *d* is not dummy\n",
    "\n",
    "$$ APE = \\frac{1}{n} \\sum_{i=1}^{n} \\frac{\\partial Pr(G=1|X=x_i)}{\\partial X_{d}}$$\n",
    "\n",
    "\n",
    "but, if the feature *d* is dummy\n",
    "\n",
    "$$ APE = \\frac{1}{n} \\sum_{i=1}^{n} [Pr(G=1|X=x_{i,d}, x_d=1) - Pr(G=1|X = x_{i,d}, x_d=0)]$$\n",
    "\n",
    "Where $x_{i,d}$ means all features except $d$"
   ]
  },
  {
   "cell_type": "markdown",
   "metadata": {},
   "source": [
    "Odds\n",
    "\n",
    "It is defined like $Odds = P(G=1|X=x)/P(G=0|X=x)$. \n",
    "\n",
    "For logistic $$P(G=1|X=x)/P(G=0|X=x) = \\exp(\\beta^{T}{x})$$"
   ]
  },
  {
   "cell_type": "markdown",
   "metadata": {},
   "source": [
    "The effect of change a variable dummy on odds. *Odds Ratio*\n",
    "\n",
    "$$Odds \\: Ratio = \\frac{Odds(x_d=1)}{Odds(x_d=0 )} = \\exp(\\beta_{d})$$ "
   ]
  },
  {
   "cell_type": "code",
   "execution_count": 348,
   "metadata": {},
   "outputs": [],
   "source": [
    "logit_model = H2OGeneralizedLinearEstimator(\n",
    "    family = 'binomial', \n",
    "    link = 'Logit',\n",
    "    compute_p_values= True,\n",
    "    # Specify if the intercept should be estimated or not\n",
    "    intercept = True,\n",
    "    # lambda_ controls the amount of regularization applied to the model.\n",
    "    lambda_ = 0,\n",
    "    # alpha = 0 controls the distribution between the ℓ1 [α]\n",
    "    # (LASSO) and ℓ2 [α -1] (ridge regression) penalties\n",
    "    # if α=1, Lasso, α = 0, Ridge\n",
    "    alpha = 1,\n",
    "    # Specify whether to automatically remove collinear columns during model-building.\n",
    "    #remove_collinear_columns = False,\n",
    "    solver = 'IRLSM',\n",
    "    #seed = 1234)\n",
    ")"
   ]
  },
  {
   "cell_type": "code",
   "execution_count": 349,
   "metadata": {},
   "outputs": [
    {
     "name": "stdout",
     "output_type": "stream",
     "text": [
      "glm Model Build progress: |"
     ]
    },
    {
     "name": "stdout",
     "output_type": "stream",
     "text": [
      "███████████████████████████████████████████████| 100%\n"
     ]
    }
   ],
   "source": [
    "logit_model.train(x=numerical_feats + categorical_feats, \n",
    "                  y = response, \n",
    "                  training_frame = data_frame,\n",
    "                  validation_frame=valid)"
   ]
  },
  {
   "cell_type": "code",
   "execution_count": 358,
   "metadata": {},
   "outputs": [
    {
     "name": "stdout",
     "output_type": "stream",
     "text": [
      "\n",
      "ModelMetricsBinomialGLM: glm\n",
      "** Reported on test data. **\n",
      "\n",
      "MSE: 0.18289410470707004\n",
      "RMSE: 0.4276612031819932\n",
      "LogLoss: 0.5395201397908074\n",
      "Null degrees of freedom: 152\n",
      "Residual degrees of freedom: 130\n",
      "Null deviance: 213.61636782004203\n",
      "Residual deviance: 165.09316277598705\n",
      "AIC: 211.09316277598705\n",
      "AUC: 0.8072186110160794\n",
      "AUCPR: 0.8256290179944596\n",
      "Gini: 0.6144372220321588\n",
      "\n",
      "Confusion Matrix (Act/Pred) for max f1 @ threshold = 0.5836558570900445: \n"
     ]
    },
    {
     "data": {
      "text/html": [
       "<div>\n",
       "<style scoped>\n",
       "    .dataframe tbody tr th:only-of-type {\n",
       "        vertical-align: middle;\n",
       "    }\n",
       "\n",
       "    .dataframe tbody tr th {\n",
       "        vertical-align: top;\n",
       "    }\n",
       "\n",
       "    .dataframe thead th {\n",
       "        text-align: right;\n",
       "    }\n",
       "</style>\n",
       "<table border=\"1\" class=\"dataframe\">\n",
       "  <thead>\n",
       "    <tr style=\"text-align: right;\">\n",
       "      <th></th>\n",
       "      <th></th>\n",
       "      <th>0</th>\n",
       "      <th>1</th>\n",
       "      <th>Error</th>\n",
       "      <th>Rate</th>\n",
       "    </tr>\n",
       "  </thead>\n",
       "  <tbody>\n",
       "    <tr>\n",
       "      <th>0</th>\n",
       "      <td>0</td>\n",
       "      <td>53.0</td>\n",
       "      <td>21.0</td>\n",
       "      <td>0.2838</td>\n",
       "      <td>(21.0/74.0)</td>\n",
       "    </tr>\n",
       "    <tr>\n",
       "      <th>1</th>\n",
       "      <td>1</td>\n",
       "      <td>18.0</td>\n",
       "      <td>61.0</td>\n",
       "      <td>0.2278</td>\n",
       "      <td>(18.0/79.0)</td>\n",
       "    </tr>\n",
       "    <tr>\n",
       "      <th>2</th>\n",
       "      <td>Total</td>\n",
       "      <td>71.0</td>\n",
       "      <td>82.0</td>\n",
       "      <td>0.2549</td>\n",
       "      <td>(39.0/153.0)</td>\n",
       "    </tr>\n",
       "  </tbody>\n",
       "</table>\n",
       "</div>"
      ],
      "text/plain": [
       "             0     1   Error           Rate\n",
       "0      0  53.0  21.0  0.2838    (21.0/74.0)\n",
       "1      1  18.0  61.0  0.2278    (18.0/79.0)\n",
       "2  Total  71.0  82.0  0.2549   (39.0/153.0)"
      ]
     },
     "metadata": {},
     "output_type": "display_data"
    },
    {
     "name": "stdout",
     "output_type": "stream",
     "text": [
      "\n",
      "Maximum Metrics: Maximum metrics at their respective thresholds\n"
     ]
    },
    {
     "data": {
      "text/html": [
       "<div>\n",
       "<style scoped>\n",
       "    .dataframe tbody tr th:only-of-type {\n",
       "        vertical-align: middle;\n",
       "    }\n",
       "\n",
       "    .dataframe tbody tr th {\n",
       "        vertical-align: top;\n",
       "    }\n",
       "\n",
       "    .dataframe thead th {\n",
       "        text-align: right;\n",
       "    }\n",
       "</style>\n",
       "<table border=\"1\" class=\"dataframe\">\n",
       "  <thead>\n",
       "    <tr style=\"text-align: right;\">\n",
       "      <th></th>\n",
       "      <th>metric</th>\n",
       "      <th>threshold</th>\n",
       "      <th>value</th>\n",
       "      <th>idx</th>\n",
       "    </tr>\n",
       "  </thead>\n",
       "  <tbody>\n",
       "    <tr>\n",
       "      <th>0</th>\n",
       "      <td>max f1</td>\n",
       "      <td>0.583656</td>\n",
       "      <td>0.757764</td>\n",
       "      <td>81.0</td>\n",
       "    </tr>\n",
       "    <tr>\n",
       "      <th>1</th>\n",
       "      <td>max f2</td>\n",
       "      <td>0.212131</td>\n",
       "      <td>0.864745</td>\n",
       "      <td>134.0</td>\n",
       "    </tr>\n",
       "    <tr>\n",
       "      <th>2</th>\n",
       "      <td>max f0point5</td>\n",
       "      <td>0.772923</td>\n",
       "      <td>0.784314</td>\n",
       "      <td>43.0</td>\n",
       "    </tr>\n",
       "    <tr>\n",
       "      <th>3</th>\n",
       "      <td>max accuracy</td>\n",
       "      <td>0.601834</td>\n",
       "      <td>0.745098</td>\n",
       "      <td>73.0</td>\n",
       "    </tr>\n",
       "    <tr>\n",
       "      <th>4</th>\n",
       "      <td>max precision</td>\n",
       "      <td>0.972718</td>\n",
       "      <td>1.000000</td>\n",
       "      <td>0.0</td>\n",
       "    </tr>\n",
       "    <tr>\n",
       "      <th>5</th>\n",
       "      <td>max recall</td>\n",
       "      <td>0.119228</td>\n",
       "      <td>1.000000</td>\n",
       "      <td>144.0</td>\n",
       "    </tr>\n",
       "    <tr>\n",
       "      <th>6</th>\n",
       "      <td>max specificity</td>\n",
       "      <td>0.972718</td>\n",
       "      <td>1.000000</td>\n",
       "      <td>0.0</td>\n",
       "    </tr>\n",
       "    <tr>\n",
       "      <th>7</th>\n",
       "      <td>max absolute_mcc</td>\n",
       "      <td>0.772923</td>\n",
       "      <td>0.499336</td>\n",
       "      <td>43.0</td>\n",
       "    </tr>\n",
       "    <tr>\n",
       "      <th>8</th>\n",
       "      <td>max min_per_class_accuracy</td>\n",
       "      <td>0.588075</td>\n",
       "      <td>0.743243</td>\n",
       "      <td>77.0</td>\n",
       "    </tr>\n",
       "    <tr>\n",
       "      <th>9</th>\n",
       "      <td>max mean_per_class_accuracy</td>\n",
       "      <td>0.601834</td>\n",
       "      <td>0.745895</td>\n",
       "      <td>73.0</td>\n",
       "    </tr>\n",
       "    <tr>\n",
       "      <th>10</th>\n",
       "      <td>max tns</td>\n",
       "      <td>0.972718</td>\n",
       "      <td>74.000000</td>\n",
       "      <td>0.0</td>\n",
       "    </tr>\n",
       "    <tr>\n",
       "      <th>11</th>\n",
       "      <td>max fns</td>\n",
       "      <td>0.972718</td>\n",
       "      <td>78.000000</td>\n",
       "      <td>0.0</td>\n",
       "    </tr>\n",
       "    <tr>\n",
       "      <th>12</th>\n",
       "      <td>max fps</td>\n",
       "      <td>0.015524</td>\n",
       "      <td>74.000000</td>\n",
       "      <td>152.0</td>\n",
       "    </tr>\n",
       "    <tr>\n",
       "      <th>13</th>\n",
       "      <td>max tps</td>\n",
       "      <td>0.119228</td>\n",
       "      <td>79.000000</td>\n",
       "      <td>144.0</td>\n",
       "    </tr>\n",
       "    <tr>\n",
       "      <th>14</th>\n",
       "      <td>max tnr</td>\n",
       "      <td>0.972718</td>\n",
       "      <td>1.000000</td>\n",
       "      <td>0.0</td>\n",
       "    </tr>\n",
       "    <tr>\n",
       "      <th>15</th>\n",
       "      <td>max fnr</td>\n",
       "      <td>0.972718</td>\n",
       "      <td>0.987342</td>\n",
       "      <td>0.0</td>\n",
       "    </tr>\n",
       "    <tr>\n",
       "      <th>16</th>\n",
       "      <td>max fpr</td>\n",
       "      <td>0.015524</td>\n",
       "      <td>1.000000</td>\n",
       "      <td>152.0</td>\n",
       "    </tr>\n",
       "    <tr>\n",
       "      <th>17</th>\n",
       "      <td>max tpr</td>\n",
       "      <td>0.119228</td>\n",
       "      <td>1.000000</td>\n",
       "      <td>144.0</td>\n",
       "    </tr>\n",
       "  </tbody>\n",
       "</table>\n",
       "</div>"
      ],
      "text/plain": [
       "                         metric  threshold      value    idx\n",
       "0                        max f1   0.583656   0.757764   81.0\n",
       "1                        max f2   0.212131   0.864745  134.0\n",
       "2                  max f0point5   0.772923   0.784314   43.0\n",
       "3                  max accuracy   0.601834   0.745098   73.0\n",
       "4                 max precision   0.972718   1.000000    0.0\n",
       "5                    max recall   0.119228   1.000000  144.0\n",
       "6               max specificity   0.972718   1.000000    0.0\n",
       "7              max absolute_mcc   0.772923   0.499336   43.0\n",
       "8    max min_per_class_accuracy   0.588075   0.743243   77.0\n",
       "9   max mean_per_class_accuracy   0.601834   0.745895   73.0\n",
       "10                      max tns   0.972718  74.000000    0.0\n",
       "11                      max fns   0.972718  78.000000    0.0\n",
       "12                      max fps   0.015524  74.000000  152.0\n",
       "13                      max tps   0.119228  79.000000  144.0\n",
       "14                      max tnr   0.972718   1.000000    0.0\n",
       "15                      max fnr   0.972718   0.987342    0.0\n",
       "16                      max fpr   0.015524   1.000000  152.0\n",
       "17                      max tpr   0.119228   1.000000  144.0"
      ]
     },
     "metadata": {},
     "output_type": "display_data"
    },
    {
     "name": "stdout",
     "output_type": "stream",
     "text": [
      "\n",
      "Gains/Lift Table: Avg response rate: 51.63 %, avg score: 37.79 %\n"
     ]
    },
    {
     "data": {
      "text/html": [
       "<div>\n",
       "<style scoped>\n",
       "    .dataframe tbody tr th:only-of-type {\n",
       "        vertical-align: middle;\n",
       "    }\n",
       "\n",
       "    .dataframe tbody tr th {\n",
       "        vertical-align: top;\n",
       "    }\n",
       "\n",
       "    .dataframe thead th {\n",
       "        text-align: right;\n",
       "    }\n",
       "</style>\n",
       "<table border=\"1\" class=\"dataframe\">\n",
       "  <thead>\n",
       "    <tr style=\"text-align: right;\">\n",
       "      <th></th>\n",
       "      <th></th>\n",
       "      <th>group</th>\n",
       "      <th>cumulative_data_fraction</th>\n",
       "      <th>lower_threshold</th>\n",
       "      <th>lift</th>\n",
       "      <th>cumulative_lift</th>\n",
       "      <th>response_rate</th>\n",
       "      <th>score</th>\n",
       "      <th>cumulative_response_rate</th>\n",
       "      <th>cumulative_score</th>\n",
       "      <th>capture_rate</th>\n",
       "      <th>cumulative_capture_rate</th>\n",
       "      <th>gain</th>\n",
       "      <th>cumulative_gain</th>\n",
       "    </tr>\n",
       "  </thead>\n",
       "  <tbody>\n",
       "    <tr>\n",
       "      <th>0</th>\n",
       "      <td></td>\n",
       "      <td>1</td>\n",
       "      <td>0.013072</td>\n",
       "      <td>0.639338</td>\n",
       "      <td>0.968354</td>\n",
       "      <td>0.968354</td>\n",
       "      <td>0.500000</td>\n",
       "      <td>0.676793</td>\n",
       "      <td>0.500000</td>\n",
       "      <td>0.676793</td>\n",
       "      <td>0.012658</td>\n",
       "      <td>0.012658</td>\n",
       "      <td>-3.164557</td>\n",
       "      <td>-3.164557</td>\n",
       "    </tr>\n",
       "    <tr>\n",
       "      <th>1</th>\n",
       "      <td></td>\n",
       "      <td>2</td>\n",
       "      <td>0.026144</td>\n",
       "      <td>0.594426</td>\n",
       "      <td>0.968354</td>\n",
       "      <td>0.968354</td>\n",
       "      <td>0.500000</td>\n",
       "      <td>0.600844</td>\n",
       "      <td>0.500000</td>\n",
       "      <td>0.638818</td>\n",
       "      <td>0.012658</td>\n",
       "      <td>0.025316</td>\n",
       "      <td>-3.164557</td>\n",
       "      <td>-3.164557</td>\n",
       "    </tr>\n",
       "    <tr>\n",
       "      <th>2</th>\n",
       "      <td></td>\n",
       "      <td>3</td>\n",
       "      <td>0.032680</td>\n",
       "      <td>0.586369</td>\n",
       "      <td>0.000000</td>\n",
       "      <td>0.774684</td>\n",
       "      <td>0.000000</td>\n",
       "      <td>0.590882</td>\n",
       "      <td>0.400000</td>\n",
       "      <td>0.629231</td>\n",
       "      <td>0.000000</td>\n",
       "      <td>0.025316</td>\n",
       "      <td>-100.000000</td>\n",
       "      <td>-22.531646</td>\n",
       "    </tr>\n",
       "    <tr>\n",
       "      <th>3</th>\n",
       "      <td></td>\n",
       "      <td>4</td>\n",
       "      <td>0.045752</td>\n",
       "      <td>0.568982</td>\n",
       "      <td>0.968354</td>\n",
       "      <td>0.830018</td>\n",
       "      <td>0.500000</td>\n",
       "      <td>0.575920</td>\n",
       "      <td>0.428571</td>\n",
       "      <td>0.614000</td>\n",
       "      <td>0.012658</td>\n",
       "      <td>0.037975</td>\n",
       "      <td>-3.164557</td>\n",
       "      <td>-16.998192</td>\n",
       "    </tr>\n",
       "    <tr>\n",
       "      <th>4</th>\n",
       "      <td></td>\n",
       "      <td>5</td>\n",
       "      <td>0.052288</td>\n",
       "      <td>0.566186</td>\n",
       "      <td>1.936709</td>\n",
       "      <td>0.968354</td>\n",
       "      <td>1.000000</td>\n",
       "      <td>0.568569</td>\n",
       "      <td>0.500000</td>\n",
       "      <td>0.608321</td>\n",
       "      <td>0.012658</td>\n",
       "      <td>0.050633</td>\n",
       "      <td>93.670886</td>\n",
       "      <td>-3.164557</td>\n",
       "    </tr>\n",
       "    <tr>\n",
       "      <th>5</th>\n",
       "      <td></td>\n",
       "      <td>6</td>\n",
       "      <td>0.104575</td>\n",
       "      <td>0.541213</td>\n",
       "      <td>0.242089</td>\n",
       "      <td>0.605222</td>\n",
       "      <td>0.125000</td>\n",
       "      <td>0.555786</td>\n",
       "      <td>0.312500</td>\n",
       "      <td>0.582053</td>\n",
       "      <td>0.012658</td>\n",
       "      <td>0.063291</td>\n",
       "      <td>-75.791139</td>\n",
       "      <td>-39.477848</td>\n",
       "    </tr>\n",
       "    <tr>\n",
       "      <th>6</th>\n",
       "      <td></td>\n",
       "      <td>7</td>\n",
       "      <td>0.150327</td>\n",
       "      <td>0.480997</td>\n",
       "      <td>1.106691</td>\n",
       "      <td>0.757843</td>\n",
       "      <td>0.571429</td>\n",
       "      <td>0.509726</td>\n",
       "      <td>0.391304</td>\n",
       "      <td>0.560041</td>\n",
       "      <td>0.050633</td>\n",
       "      <td>0.113924</td>\n",
       "      <td>10.669078</td>\n",
       "      <td>-24.215740</td>\n",
       "    </tr>\n",
       "    <tr>\n",
       "      <th>7</th>\n",
       "      <td></td>\n",
       "      <td>8</td>\n",
       "      <td>0.202614</td>\n",
       "      <td>0.430170</td>\n",
       "      <td>1.210443</td>\n",
       "      <td>0.874643</td>\n",
       "      <td>0.625000</td>\n",
       "      <td>0.455192</td>\n",
       "      <td>0.451613</td>\n",
       "      <td>0.532983</td>\n",
       "      <td>0.063291</td>\n",
       "      <td>0.177215</td>\n",
       "      <td>21.044304</td>\n",
       "      <td>-12.535729</td>\n",
       "    </tr>\n",
       "    <tr>\n",
       "      <th>8</th>\n",
       "      <td></td>\n",
       "      <td>9</td>\n",
       "      <td>0.300654</td>\n",
       "      <td>0.400928</td>\n",
       "      <td>0.774684</td>\n",
       "      <td>0.842047</td>\n",
       "      <td>0.400000</td>\n",
       "      <td>0.415778</td>\n",
       "      <td>0.434783</td>\n",
       "      <td>0.494764</td>\n",
       "      <td>0.075949</td>\n",
       "      <td>0.253165</td>\n",
       "      <td>-22.531646</td>\n",
       "      <td>-15.795267</td>\n",
       "    </tr>\n",
       "    <tr>\n",
       "      <th>9</th>\n",
       "      <td></td>\n",
       "      <td>10</td>\n",
       "      <td>0.398693</td>\n",
       "      <td>0.370549</td>\n",
       "      <td>0.903797</td>\n",
       "      <td>0.857232</td>\n",
       "      <td>0.466667</td>\n",
       "      <td>0.385842</td>\n",
       "      <td>0.442623</td>\n",
       "      <td>0.467980</td>\n",
       "      <td>0.088608</td>\n",
       "      <td>0.341772</td>\n",
       "      <td>-9.620253</td>\n",
       "      <td>-14.276821</td>\n",
       "    </tr>\n",
       "    <tr>\n",
       "      <th>10</th>\n",
       "      <td></td>\n",
       "      <td>11</td>\n",
       "      <td>0.503268</td>\n",
       "      <td>0.351449</td>\n",
       "      <td>1.089399</td>\n",
       "      <td>0.905474</td>\n",
       "      <td>0.562500</td>\n",
       "      <td>0.361992</td>\n",
       "      <td>0.467532</td>\n",
       "      <td>0.445956</td>\n",
       "      <td>0.113924</td>\n",
       "      <td>0.455696</td>\n",
       "      <td>8.939873</td>\n",
       "      <td>-9.452573</td>\n",
       "    </tr>\n",
       "    <tr>\n",
       "      <th>11</th>\n",
       "      <td></td>\n",
       "      <td>12</td>\n",
       "      <td>0.601307</td>\n",
       "      <td>0.335017</td>\n",
       "      <td>1.291139</td>\n",
       "      <td>0.968354</td>\n",
       "      <td>0.666667</td>\n",
       "      <td>0.342174</td>\n",
       "      <td>0.500000</td>\n",
       "      <td>0.429035</td>\n",
       "      <td>0.126582</td>\n",
       "      <td>0.582278</td>\n",
       "      <td>29.113924</td>\n",
       "      <td>-3.164557</td>\n",
       "    </tr>\n",
       "    <tr>\n",
       "      <th>12</th>\n",
       "      <td></td>\n",
       "      <td>13</td>\n",
       "      <td>0.699346</td>\n",
       "      <td>0.321140</td>\n",
       "      <td>1.420253</td>\n",
       "      <td>1.031705</td>\n",
       "      <td>0.733333</td>\n",
       "      <td>0.327986</td>\n",
       "      <td>0.532710</td>\n",
       "      <td>0.414870</td>\n",
       "      <td>0.139241</td>\n",
       "      <td>0.721519</td>\n",
       "      <td>42.025316</td>\n",
       "      <td>3.170472</td>\n",
       "    </tr>\n",
       "    <tr>\n",
       "      <th>13</th>\n",
       "      <td></td>\n",
       "      <td>14</td>\n",
       "      <td>0.797386</td>\n",
       "      <td>0.307851</td>\n",
       "      <td>1.291139</td>\n",
       "      <td>1.063602</td>\n",
       "      <td>0.666667</td>\n",
       "      <td>0.313431</td>\n",
       "      <td>0.549180</td>\n",
       "      <td>0.402398</td>\n",
       "      <td>0.126582</td>\n",
       "      <td>0.848101</td>\n",
       "      <td>29.113924</td>\n",
       "      <td>6.360241</td>\n",
       "    </tr>\n",
       "    <tr>\n",
       "      <th>14</th>\n",
       "      <td></td>\n",
       "      <td>15</td>\n",
       "      <td>0.895425</td>\n",
       "      <td>0.287210</td>\n",
       "      <td>0.774684</td>\n",
       "      <td>1.031969</td>\n",
       "      <td>0.400000</td>\n",
       "      <td>0.299359</td>\n",
       "      <td>0.532847</td>\n",
       "      <td>0.391116</td>\n",
       "      <td>0.075949</td>\n",
       "      <td>0.924051</td>\n",
       "      <td>-22.531646</td>\n",
       "      <td>3.196896</td>\n",
       "    </tr>\n",
       "    <tr>\n",
       "      <th>15</th>\n",
       "      <td></td>\n",
       "      <td>16</td>\n",
       "      <td>1.000000</td>\n",
       "      <td>0.224614</td>\n",
       "      <td>0.726266</td>\n",
       "      <td>1.000000</td>\n",
       "      <td>0.375000</td>\n",
       "      <td>0.265115</td>\n",
       "      <td>0.516340</td>\n",
       "      <td>0.377939</td>\n",
       "      <td>0.075949</td>\n",
       "      <td>1.000000</td>\n",
       "      <td>-27.373418</td>\n",
       "      <td>0.000000</td>\n",
       "    </tr>\n",
       "  </tbody>\n",
       "</table>\n",
       "</div>"
      ],
      "text/plain": [
       "      group  cumulative_data_fraction  lower_threshold      lift  \\\n",
       "0         1                  0.013072         0.639338  0.968354   \n",
       "1         2                  0.026144         0.594426  0.968354   \n",
       "2         3                  0.032680         0.586369  0.000000   \n",
       "3         4                  0.045752         0.568982  0.968354   \n",
       "4         5                  0.052288         0.566186  1.936709   \n",
       "5         6                  0.104575         0.541213  0.242089   \n",
       "6         7                  0.150327         0.480997  1.106691   \n",
       "7         8                  0.202614         0.430170  1.210443   \n",
       "8         9                  0.300654         0.400928  0.774684   \n",
       "9        10                  0.398693         0.370549  0.903797   \n",
       "10       11                  0.503268         0.351449  1.089399   \n",
       "11       12                  0.601307         0.335017  1.291139   \n",
       "12       13                  0.699346         0.321140  1.420253   \n",
       "13       14                  0.797386         0.307851  1.291139   \n",
       "14       15                  0.895425         0.287210  0.774684   \n",
       "15       16                  1.000000         0.224614  0.726266   \n",
       "\n",
       "    cumulative_lift  response_rate     score  cumulative_response_rate  \\\n",
       "0          0.968354       0.500000  0.676793                  0.500000   \n",
       "1          0.968354       0.500000  0.600844                  0.500000   \n",
       "2          0.774684       0.000000  0.590882                  0.400000   \n",
       "3          0.830018       0.500000  0.575920                  0.428571   \n",
       "4          0.968354       1.000000  0.568569                  0.500000   \n",
       "5          0.605222       0.125000  0.555786                  0.312500   \n",
       "6          0.757843       0.571429  0.509726                  0.391304   \n",
       "7          0.874643       0.625000  0.455192                  0.451613   \n",
       "8          0.842047       0.400000  0.415778                  0.434783   \n",
       "9          0.857232       0.466667  0.385842                  0.442623   \n",
       "10         0.905474       0.562500  0.361992                  0.467532   \n",
       "11         0.968354       0.666667  0.342174                  0.500000   \n",
       "12         1.031705       0.733333  0.327986                  0.532710   \n",
       "13         1.063602       0.666667  0.313431                  0.549180   \n",
       "14         1.031969       0.400000  0.299359                  0.532847   \n",
       "15         1.000000       0.375000  0.265115                  0.516340   \n",
       "\n",
       "    cumulative_score  capture_rate  cumulative_capture_rate        gain  \\\n",
       "0           0.676793      0.012658                 0.012658   -3.164557   \n",
       "1           0.638818      0.012658                 0.025316   -3.164557   \n",
       "2           0.629231      0.000000                 0.025316 -100.000000   \n",
       "3           0.614000      0.012658                 0.037975   -3.164557   \n",
       "4           0.608321      0.012658                 0.050633   93.670886   \n",
       "5           0.582053      0.012658                 0.063291  -75.791139   \n",
       "6           0.560041      0.050633                 0.113924   10.669078   \n",
       "7           0.532983      0.063291                 0.177215   21.044304   \n",
       "8           0.494764      0.075949                 0.253165  -22.531646   \n",
       "9           0.467980      0.088608                 0.341772   -9.620253   \n",
       "10          0.445956      0.113924                 0.455696    8.939873   \n",
       "11          0.429035      0.126582                 0.582278   29.113924   \n",
       "12          0.414870      0.139241                 0.721519   42.025316   \n",
       "13          0.402398      0.126582                 0.848101   29.113924   \n",
       "14          0.391116      0.075949                 0.924051  -22.531646   \n",
       "15          0.377939      0.075949                 1.000000  -27.373418   \n",
       "\n",
       "    cumulative_gain  \n",
       "0         -3.164557  \n",
       "1         -3.164557  \n",
       "2        -22.531646  \n",
       "3        -16.998192  \n",
       "4         -3.164557  \n",
       "5        -39.477848  \n",
       "6        -24.215740  \n",
       "7        -12.535729  \n",
       "8        -15.795267  \n",
       "9        -14.276821  \n",
       "10        -9.452573  \n",
       "11        -3.164557  \n",
       "12         3.170472  \n",
       "13         6.360241  \n",
       "14         3.196896  \n",
       "15         0.000000  "
      ]
     },
     "metadata": {},
     "output_type": "display_data"
    },
    {
     "name": "stdout",
     "output_type": "stream",
     "text": [
      "\n"
     ]
    },
    {
     "data": {
      "text/plain": []
     },
     "execution_count": 358,
     "metadata": {},
     "output_type": "execute_result"
    }
   ],
   "source": [
    "logit_model.model_performance(test)"
   ]
  },
  {
   "cell_type": "code",
   "execution_count": 359,
   "metadata": {},
   "outputs": [],
   "source": [
    "coefficients_table = logit_model._model_json['output']['coefficients_table']"
   ]
  },
  {
   "cell_type": "code",
   "execution_count": 360,
   "metadata": {},
   "outputs": [],
   "source": [
    "coefficients_table_frame = coefficients_table.as_data_frame()"
   ]
  },
  {
   "cell_type": "code",
   "execution_count": 361,
   "metadata": {},
   "outputs": [
    {
     "data": {
      "text/html": [
       "<div>\n",
       "<style scoped>\n",
       "    .dataframe tbody tr th:only-of-type {\n",
       "        vertical-align: middle;\n",
       "    }\n",
       "\n",
       "    .dataframe tbody tr th {\n",
       "        vertical-align: top;\n",
       "    }\n",
       "\n",
       "    .dataframe thead th {\n",
       "        text-align: right;\n",
       "    }\n",
       "</style>\n",
       "<table border=\"1\" class=\"dataframe\">\n",
       "  <thead>\n",
       "    <tr style=\"text-align: right;\">\n",
       "      <th></th>\n",
       "      <th>names</th>\n",
       "      <th>coefficients</th>\n",
       "      <th>std_error</th>\n",
       "      <th>z_value</th>\n",
       "      <th>p_value</th>\n",
       "      <th>standardized_coefficients</th>\n",
       "    </tr>\n",
       "  </thead>\n",
       "  <tbody>\n",
       "    <tr>\n",
       "      <th>0</th>\n",
       "      <td>Intercept</td>\n",
       "      <td>2.5344</td>\n",
       "      <td>1.0200</td>\n",
       "      <td>2.4845</td>\n",
       "      <td>0.0130</td>\n",
       "      <td>0.6365</td>\n",
       "    </tr>\n",
       "    <tr>\n",
       "      <th>1</th>\n",
       "      <td>K618.1</td>\n",
       "      <td>-0.1613</td>\n",
       "      <td>0.2463</td>\n",
       "      <td>-0.6551</td>\n",
       "      <td>0.5124</td>\n",
       "      <td>-0.1613</td>\n",
       "    </tr>\n",
       "    <tr>\n",
       "      <th>2</th>\n",
       "      <td>K618.2</td>\n",
       "      <td>0.1576</td>\n",
       "      <td>0.2697</td>\n",
       "      <td>0.5844</td>\n",
       "      <td>0.5590</td>\n",
       "      <td>0.1576</td>\n",
       "    </tr>\n",
       "    <tr>\n",
       "      <th>3</th>\n",
       "      <td>K618.3</td>\n",
       "      <td>0.1879</td>\n",
       "      <td>0.3037</td>\n",
       "      <td>0.6186</td>\n",
       "      <td>0.5362</td>\n",
       "      <td>0.1879</td>\n",
       "    </tr>\n",
       "    <tr>\n",
       "      <th>4</th>\n",
       "      <td>K618.4</td>\n",
       "      <td>0.0734</td>\n",
       "      <td>0.4733</td>\n",
       "      <td>0.1550</td>\n",
       "      <td>0.8768</td>\n",
       "      <td>0.0734</td>\n",
       "    </tr>\n",
       "    <tr>\n",
       "      <th>5</th>\n",
       "      <td>K618.5</td>\n",
       "      <td>0.8141</td>\n",
       "      <td>0.6780</td>\n",
       "      <td>1.2009</td>\n",
       "      <td>0.2298</td>\n",
       "      <td>0.8141</td>\n",
       "    </tr>\n",
       "    <tr>\n",
       "      <th>6</th>\n",
       "      <td>K618.6</td>\n",
       "      <td>-8.2713</td>\n",
       "      <td>167.0575</td>\n",
       "      <td>-0.0495</td>\n",
       "      <td>0.9605</td>\n",
       "      <td>-8.2713</td>\n",
       "    </tr>\n",
       "    <tr>\n",
       "      <th>7</th>\n",
       "      <td>K618.7</td>\n",
       "      <td>-11.2847</td>\n",
       "      <td>167.0571</td>\n",
       "      <td>-0.0676</td>\n",
       "      <td>0.9461</td>\n",
       "      <td>-11.2847</td>\n",
       "    </tr>\n",
       "    <tr>\n",
       "      <th>8</th>\n",
       "      <td>K618.8</td>\n",
       "      <td>8.2326</td>\n",
       "      <td>166.5827</td>\n",
       "      <td>0.0494</td>\n",
       "      <td>0.9606</td>\n",
       "      <td>8.2326</td>\n",
       "    </tr>\n",
       "    <tr>\n",
       "      <th>9</th>\n",
       "      <td>KL6.1</td>\n",
       "      <td>-1.5073</td>\n",
       "      <td>0.2620</td>\n",
       "      <td>-5.7523</td>\n",
       "      <td>0.0000</td>\n",
       "      <td>-1.5073</td>\n",
       "    </tr>\n",
       "    <tr>\n",
       "      <th>10</th>\n",
       "      <td>KL6.2</td>\n",
       "      <td>-2.8945</td>\n",
       "      <td>0.5366</td>\n",
       "      <td>-5.3936</td>\n",
       "      <td>0.0000</td>\n",
       "      <td>-2.8945</td>\n",
       "    </tr>\n",
       "    <tr>\n",
       "      <th>11</th>\n",
       "      <td>KL6.3</td>\n",
       "      <td>-10.7237</td>\n",
       "      <td>93.5426</td>\n",
       "      <td>-0.1146</td>\n",
       "      <td>0.9087</td>\n",
       "      <td>-10.7237</td>\n",
       "    </tr>\n",
       "    <tr>\n",
       "      <th>12</th>\n",
       "      <td>CIT.1</td>\n",
       "      <td>0.0788</td>\n",
       "      <td>0.1982</td>\n",
       "      <td>0.3974</td>\n",
       "      <td>0.6911</td>\n",
       "      <td>0.0788</td>\n",
       "    </tr>\n",
       "    <tr>\n",
       "      <th>13</th>\n",
       "      <td>WA</td>\n",
       "      <td>-0.0903</td>\n",
       "      <td>0.0253</td>\n",
       "      <td>-3.5633</td>\n",
       "      <td>0.0004</td>\n",
       "      <td>-0.7288</td>\n",
       "    </tr>\n",
       "    <tr>\n",
       "      <th>14</th>\n",
       "      <td>WE</td>\n",
       "      <td>0.2517</td>\n",
       "      <td>0.0539</td>\n",
       "      <td>4.6705</td>\n",
       "      <td>0.0000</td>\n",
       "      <td>0.5740</td>\n",
       "    </tr>\n",
       "    <tr>\n",
       "      <th>15</th>\n",
       "      <td>HHRS</td>\n",
       "      <td>-0.0004</td>\n",
       "      <td>0.0002</td>\n",
       "      <td>-2.7450</td>\n",
       "      <td>0.0061</td>\n",
       "      <td>-0.2617</td>\n",
       "    </tr>\n",
       "    <tr>\n",
       "      <th>16</th>\n",
       "      <td>HA</td>\n",
       "      <td>-0.0092</td>\n",
       "      <td>0.0243</td>\n",
       "      <td>-0.3792</td>\n",
       "      <td>0.7046</td>\n",
       "      <td>-0.0741</td>\n",
       "    </tr>\n",
       "    <tr>\n",
       "      <th>17</th>\n",
       "      <td>HE</td>\n",
       "      <td>-0.0457</td>\n",
       "      <td>0.0396</td>\n",
       "      <td>-1.1528</td>\n",
       "      <td>0.2490</td>\n",
       "      <td>-0.1380</td>\n",
       "    </tr>\n",
       "    <tr>\n",
       "      <th>18</th>\n",
       "      <td>HW</td>\n",
       "      <td>-0.0494</td>\n",
       "      <td>0.0246</td>\n",
       "      <td>-2.0095</td>\n",
       "      <td>0.0445</td>\n",
       "      <td>-0.2089</td>\n",
       "    </tr>\n",
       "    <tr>\n",
       "      <th>19</th>\n",
       "      <td>WMED</td>\n",
       "      <td>0.0136</td>\n",
       "      <td>0.0332</td>\n",
       "      <td>0.4098</td>\n",
       "      <td>0.6819</td>\n",
       "      <td>0.0458</td>\n",
       "    </tr>\n",
       "    <tr>\n",
       "      <th>20</th>\n",
       "      <td>WFED</td>\n",
       "      <td>0.0013</td>\n",
       "      <td>0.0312</td>\n",
       "      <td>0.0401</td>\n",
       "      <td>0.9680</td>\n",
       "      <td>0.0045</td>\n",
       "    </tr>\n",
       "    <tr>\n",
       "      <th>21</th>\n",
       "      <td>UN</td>\n",
       "      <td>-0.0265</td>\n",
       "      <td>0.0286</td>\n",
       "      <td>-0.9279</td>\n",
       "      <td>0.3535</td>\n",
       "      <td>-0.0826</td>\n",
       "    </tr>\n",
       "    <tr>\n",
       "      <th>22</th>\n",
       "      <td>AX</td>\n",
       "      <td>0.1216</td>\n",
       "      <td>0.0139</td>\n",
       "      <td>8.7589</td>\n",
       "      <td>0.0000</td>\n",
       "      <td>0.9816</td>\n",
       "    </tr>\n",
       "  </tbody>\n",
       "</table>\n",
       "</div>"
      ],
      "text/plain": [
       "        names  coefficients  std_error  z_value  p_value  \\\n",
       "0   Intercept        2.5344     1.0200   2.4845   0.0130   \n",
       "1      K618.1       -0.1613     0.2463  -0.6551   0.5124   \n",
       "2      K618.2        0.1576     0.2697   0.5844   0.5590   \n",
       "3      K618.3        0.1879     0.3037   0.6186   0.5362   \n",
       "4      K618.4        0.0734     0.4733   0.1550   0.8768   \n",
       "5      K618.5        0.8141     0.6780   1.2009   0.2298   \n",
       "6      K618.6       -8.2713   167.0575  -0.0495   0.9605   \n",
       "7      K618.7      -11.2847   167.0571  -0.0676   0.9461   \n",
       "8      K618.8        8.2326   166.5827   0.0494   0.9606   \n",
       "9       KL6.1       -1.5073     0.2620  -5.7523   0.0000   \n",
       "10      KL6.2       -2.8945     0.5366  -5.3936   0.0000   \n",
       "11      KL6.3      -10.7237    93.5426  -0.1146   0.9087   \n",
       "12      CIT.1        0.0788     0.1982   0.3974   0.6911   \n",
       "13         WA       -0.0903     0.0253  -3.5633   0.0004   \n",
       "14         WE        0.2517     0.0539   4.6705   0.0000   \n",
       "15       HHRS       -0.0004     0.0002  -2.7450   0.0061   \n",
       "16         HA       -0.0092     0.0243  -0.3792   0.7046   \n",
       "17         HE       -0.0457     0.0396  -1.1528   0.2490   \n",
       "18         HW       -0.0494     0.0246  -2.0095   0.0445   \n",
       "19       WMED        0.0136     0.0332   0.4098   0.6819   \n",
       "20       WFED        0.0013     0.0312   0.0401   0.9680   \n",
       "21         UN       -0.0265     0.0286  -0.9279   0.3535   \n",
       "22         AX        0.1216     0.0139   8.7589   0.0000   \n",
       "\n",
       "    standardized_coefficients  \n",
       "0                      0.6365  \n",
       "1                     -0.1613  \n",
       "2                      0.1576  \n",
       "3                      0.1879  \n",
       "4                      0.0734  \n",
       "5                      0.8141  \n",
       "6                     -8.2713  \n",
       "7                    -11.2847  \n",
       "8                      8.2326  \n",
       "9                     -1.5073  \n",
       "10                    -2.8945  \n",
       "11                   -10.7237  \n",
       "12                     0.0788  \n",
       "13                    -0.7288  \n",
       "14                     0.5740  \n",
       "15                    -0.2617  \n",
       "16                    -0.0741  \n",
       "17                    -0.1380  \n",
       "18                    -0.2089  \n",
       "19                     0.0458  \n",
       "20                     0.0045  \n",
       "21                    -0.0826  \n",
       "22                     0.9816  "
      ]
     },
     "execution_count": 361,
     "metadata": {},
     "output_type": "execute_result"
    }
   ],
   "source": [
    "coefficients_table_frame.round(4)"
   ]
  },
  {
   "cell_type": "code",
   "execution_count": 334,
   "metadata": {},
   "outputs": [
    {
     "name": "stdout",
     "output_type": "stream",
     "text": [
      "\n",
      "GLM Model: summary\n"
     ]
    },
    {
     "data": {
      "text/html": [
       "<div>\n",
       "<style scoped>\n",
       "    .dataframe tbody tr th:only-of-type {\n",
       "        vertical-align: middle;\n",
       "    }\n",
       "\n",
       "    .dataframe tbody tr th {\n",
       "        vertical-align: top;\n",
       "    }\n",
       "\n",
       "    .dataframe thead th {\n",
       "        text-align: right;\n",
       "    }\n",
       "</style>\n",
       "<table border=\"1\" class=\"dataframe\">\n",
       "  <thead>\n",
       "    <tr style=\"text-align: right;\">\n",
       "      <th></th>\n",
       "      <th></th>\n",
       "      <th>family</th>\n",
       "      <th>link</th>\n",
       "      <th>regularization</th>\n",
       "      <th>number_of_predictors_total</th>\n",
       "      <th>number_of_active_predictors</th>\n",
       "      <th>number_of_iterations</th>\n",
       "      <th>training_frame</th>\n",
       "    </tr>\n",
       "  </thead>\n",
       "  <tbody>\n",
       "    <tr>\n",
       "      <th>0</th>\n",
       "      <td></td>\n",
       "      <td>binomial</td>\n",
       "      <td>logit</td>\n",
       "      <td>None</td>\n",
       "      <td>22</td>\n",
       "      <td>22</td>\n",
       "      <td>9</td>\n",
       "      <td>py_10_sid_96c0</td>\n",
       "    </tr>\n",
       "  </tbody>\n",
       "</table>\n",
       "</div>"
      ],
      "text/plain": [
       "       family   link regularization  number_of_predictors_total  \\\n",
       "0    binomial  logit           None                          22   \n",
       "\n",
       "  number_of_active_predictors  number_of_iterations  training_frame  \n",
       "0                          22                     9  py_10_sid_96c0  "
      ]
     },
     "metadata": {},
     "output_type": "display_data"
    },
    {
     "data": {
      "text/plain": []
     },
     "execution_count": 334,
     "metadata": {},
     "output_type": "execute_result"
    }
   ],
   "source": [
    "logit_model._model_json[\"output\"]['model_summary']"
   ]
  },
  {
   "cell_type": "code",
   "execution_count": null,
   "metadata": {},
   "outputs": [],
   "source": []
  },
  {
   "cell_type": "code",
   "execution_count": 5,
   "metadata": {},
   "outputs": [],
   "source": [
    "# Load the data\n",
    "data_drime = pd.read_stata(r'data_dta/CRIME1.dta')\n",
    "\n",
    "# Generate the variable arr86, where a person is labeled equal to 0, if he has not committed a crime in 1986\n",
    "# otherwise 1.\n",
    "data_drime['arr86'] = data_drime.narr86.where(data_drime.narr86==0, 1)\n",
    "\n",
    "# Selecting the features and target\n",
    "features= ['pcnv', 'avgsen', 'tottime', 'ptime86', 'qemp86']\n",
    "target = 'arr86'\n",
    "\n",
    "X = np.array(data_drime[features])\n",
    "\n",
    "# Generate polynomial and interaction features\n",
    "poly = PolynomialFeatures(2)\n",
    "X_poly = poly.fit_transform(X)\n",
    "\n",
    "pca = PCA(n_components=X_poly.shape[1])\n",
    "X_trans = pca.fit_transform(X_poly)\n",
    "condition = pca.explained_variance_ratio_.cumsum() <= 0.997\n",
    "X_pca = X_trans[:,condition]\n",
    "\n",
    "y = np.array(data_drime[target])\n",
    "\n",
    "# Split the data to train and test\n",
    "X_train, X_test, y_train, y_test = model_selection.train_test_split(X_pca, y, random_state=123, test_size=0.25)"
   ]
  },
  {
   "cell_type": "code",
   "execution_count": 21,
   "metadata": {},
   "outputs": [
    {
     "data": {
      "image/png": "[encoded data removed]",
      "text/plain": [
       "<Figure size 640x480 with 1 Axes>"
      ]
     },
     "metadata": {},
     "output_type": "display_data"
    }
   ],
   "source": [
    "data_drime.narr86.value_counts(normalize=True).plot(kind='bar', color='#0011ff')"
   ]
  },
  {
   "attachments": {},
   "cell_type": "markdown",
   "metadata": {},
   "source": [
    "#### Avoiding Harms in Classification"
   ]
  },
  {
   "cell_type": "code",
   "execution_count": null,
   "metadata": {},
   "outputs": [],
   "source": []
  },
  {
   "cell_type": "code",
   "execution_count": 1,
   "metadata": {},
   "outputs": [],
   "source": [
    "import numpy as np"
   ]
  },
  {
   "cell_type": "code",
   "execution_count": 14,
   "metadata": {},
   "outputs": [
    {
     "data": {
      "text/plain": [
       "2.0828626352604234"
      ]
     },
     "execution_count": 14,
     "metadata": {},
     "output_type": "execute_result"
    }
   ],
   "source": [
    "np.sum(-1*(np.array([0.1, 0.9])*np.log(np.array([0.9, 0.1]))))"
   ]
  },
  {
   "cell_type": "code",
   "execution_count": null,
   "metadata": {},
   "outputs": [],
   "source": []
  },
  {
   "cell_type": "code",
   "execution_count": null,
   "metadata": {},
   "outputs": [],
   "source": [
    "import numpy as np\n",
    "import pandas as pd\n",
    "import matplotlib.pyplot  as plt\n",
    "from sklearn.linear_model import LogisticRegression, LogisticRegressionCV\n",
    "from sklearn.preprocessing import PolynomialFeatures, StandardScaler\n",
    "from sklearn import model_selection, metrics\n",
    "from sklearn.decomposition import PCA\n",
    "from sklearn.metrics import f1_score"
   ]
  },
  {
   "cell_type": "code",
   "execution_count": null,
   "metadata": {},
   "outputs": [],
   "source": [
    "# Load the data\n",
    "data_drime = pd.read_stata(r'data_dta/CRIME1.dta')\n",
    "\n",
    "# Generate the variable arr86, where a person is labeled equal to 0, if he has not committed a crime in 1986\n",
    "# otherwise 1.\n",
    "data_drime['arr86'] = data_drime.narr86.where(data_drime.narr86==0, 1)\n",
    "\n",
    "# Selecting the features and target\n",
    "features= ['pcnv', 'avgsen', 'tottime', 'ptime86', 'qemp86']\n",
    "target = 'arr86'\n",
    "\n",
    "X = np.array(data_drime[features])\n",
    "y = np.array(data_drime[target])\n",
    "\n",
    "X_norm = (X - X.mean(axis=0, keepdims=True))/X.std(axis=0, keepdims=True)"
   ]
  },
  {
   "cell_type": "code",
   "execution_count": null,
   "metadata": {},
   "outputs": [],
   "source": [
    "X_train, X_test, y_train, y_test = model_selection.train_test_split(\n",
    "                X_norm, y, test_size=0.25)\n",
    "logit_model = LogisticRegression(solver='newton-cg')\n",
    "logit_model.fit(X_train, y_train)"
   ]
  },
  {
   "cell_type": "code",
   "execution_count": 48,
   "metadata": {},
   "outputs": [
    {
     "name": "stdout",
     "output_type": "stream",
     "text": [
      "The accuracy 0.7243\n",
      "Initial AUC value is 0.6703\n",
      "\n",
      "Probability Conditioned on Predicts\n",
      "> P(not committed a crime|low risk)   72.32%\n",
      "> P(not committed a crime|high risk)  20.00%\n",
      "> P(committed a crime|low risk)       27.68%\n",
      "> P(committed a crime|high risk)      80.00%\n",
      "\n",
      "Probability Conditioned on Outcomes\n",
      "> P(low risk|not committed a crime)   99.59%\n",
      "> P(high risk|not committed a crime)  0.41%\n",
      "> P(low risk|committed a crime)       95.88%\n",
      "> P(high risk|committed a crime)      4.12%\n",
      "\n"
     ]
    }
   ],
   "source": [
    "utils_metrics.assessment(y_test, X_test, logit_model)\n",
    "utils_metrics.prob_cond_pred(y_test, X_test, logit_model)\n",
    "utils_metrics.prob_cond_out(y_test, X_test, logit_model)"
   ]
  },
  {
   "attachments": {},
   "cell_type": "markdown",
   "metadata": {},
   "source": [
    "## Cross Validation for Logit"
   ]
  },
  {
   "cell_type": "code",
   "execution_count": 20,
   "metadata": {},
   "outputs": [],
   "source": [
    "from sklearn.pipeline import Pipeline"
   ]
  },
  {
   "cell_type": "code",
   "execution_count": 21,
   "metadata": {},
   "outputs": [
    {
     "data": {
      "text/plain": [
       "GridSearchCV(cv=5, estimator=LogisticRegression(solver='liblinear'),\n",
       "             param_grid={'C': array([0.1, 0.2, 0.3, 0.4, 0.5, 0.6, 0.7, 0.8, 0.9, 1. ]),\n",
       "                         'penalty': ['l1', 'l2']},\n",
       "             return_train_score=True, scoring='roc_auc', verbose=False)"
      ]
     },
     "execution_count": 21,
     "metadata": {},
     "output_type": "execute_result"
    }
   ],
   "source": [
    "scaler = StandardScaler()\n",
    "\n",
    "fit_to_grid_cv = model_selection.GridSearchCV(\n",
    "    # estimator=Pipeline(steps=[(\"scaler\", scaler),\\\n",
    "    #     (\"logistic\", LogisticRegression( class_weight=\"balanced\",solver='liblinear'))]),\n",
    "    estimator = LogisticRegression(solver='liblinear'),#  class_weight=\"balanced\"\n",
    "    scoring= 'roc_auc',\n",
    "    cv=5,\n",
    "    param_grid={\n",
    "        'penalty': [\"l1\", \"l2\"],\n",
    "        'C': np.linspace(0.1,1, 10)}, \n",
    "    verbose=False,\n",
    "    return_train_score=True\n",
    ")\n",
    "\n",
    "fit_to_grid_cv.fit(X_train, y_train)"
   ]
  },
  {
   "cell_type": "code",
   "execution_count": 23,
   "metadata": {},
   "outputs": [
    {
     "name": "stdout",
     "output_type": "stream",
     "text": [
      "The accuracy 0.7258\n",
      "Initial AUC value is 0.4437\n",
      "\n",
      "Probability Conditioned on Predicts\n",
      "> P(not committed a crime|low risk)   72.93%\n",
      "> P(not committed a crime|high risk)  66.67%\n",
      "> P(committed a crime|low risk)       27.07%\n",
      "> P(committed a crime|high risk)      33.33%\n",
      "\n",
      "Probability Conditioned on Outcomes\n",
      "> P(low risk|not committed a crime)   99.20%\n",
      "> P(high risk|not committed a crime)  0.80%\n",
      "> P(low risk|committed a crime)       98.92%\n",
      "> P(high risk|committed a crime)      1.08%\n",
      "\n"
     ]
    }
   ],
   "source": [
    "logit_model = LogisticRegression(solver='liblinear', C=0.02, penalty=\"l2\")\n",
    "logit_model.fit(X_train, y_train)\n",
    "\n",
    "utils_metrics.assessment(y_test, X_test, logit_model)\n",
    "utils_metrics.prob_cond_pred(y_test, X_test, logit_model)\n",
    "utils_metrics.prob_cond_out(y_test, X_test, logit_model)"
   ]
  },
  {
   "attachments": {},
   "cell_type": "markdown",
   "metadata": {},
   "source": [
    "### Statistical Significance Testing"
   ]
  },
  {
   "cell_type": "code",
   "execution_count": null,
   "metadata": {},
   "outputs": [],
   "source": [
    "import numpy as np\n",
    "import pandas as pd\n",
    "import matplotlib.pyplot  as plt\n",
    "from sklearn.linear_model import LogisticRegression, LogisticRegressionCV\n",
    "from sklearn.preprocessing import PolynomialFeatures, StandardScaler\n",
    "from sklearn import model_selection, metrics\n",
    "from sklearn.decomposition import PCA\n",
    "from sklearn.metrics import f1_score"
   ]
  },
  {
   "cell_type": "code",
   "execution_count": null,
   "metadata": {},
   "outputs": [],
   "source": [
    "# Load the data\n",
    "data_drime = pd.read_stata(r'data_dta/CRIME1.dta')\n",
    "\n",
    "# Generate the variable arr86, where a person is labeled equal to 0, if he has not committed a crime in 1986\n",
    "# otherwise 1.\n",
    "data_drime['arr86'] = data_drime.narr86.where(data_drime.narr86==0, 1)\n",
    "\n",
    "# Selecting the features and target\n",
    "features= ['pcnv', 'avgsen', 'tottime', 'ptime86', 'qemp86']\n",
    "target = 'arr86'\n",
    "\n",
    "X = np.array(data_drime[features])\n",
    "y = np.array(data_drime[target])"
   ]
  },
  {
   "attachments": {},
   "cell_type": "markdown",
   "metadata": {},
   "source": [
    "The `old model` is defined by normalization on features and the `new model` is defined by the generation of the polynomios of the normalized features"
   ]
  },
  {
   "cell_type": "code",
   "execution_count": null,
   "metadata": {},
   "outputs": [],
   "source": [
    "# [OLD MODEL] Normalization \n",
    "X_norm = (X - X.mean(axis=0, keepdims=True))/X.std(axis=0, keepdims=True)\n",
    "\n",
    "# [NEW MODEL] Generating polynomial and interaction features \n",
    "poly = PolynomialFeatures(2)\n",
    "X_poly = poly.fit_transform(X_norm)"
   ]
  },
  {
   "cell_type": "code",
   "execution_count": null,
   "metadata": {},
   "outputs": [],
   "source": [
    "def f1_test_data_model(X:np.ndarray):\n",
    "    X_train, X_test, y_train, y_test = model_selection.train_test_split(\n",
    "                X, y, test_size=0.25)\n",
    "    logit_model = LogisticRegression(solver='newton-cg')\n",
    "    logit_model.fit(X_train, y_train)\n",
    "    f1 = f1_score(y_test, logit_model.predict(X_test))\n",
    "    return f1, y_test, X_test, logit_model"
   ]
  },
  {
   "cell_type": "code",
   "execution_count": null,
   "metadata": {},
   "outputs": [
    {
     "name": "stdout",
     "output_type": "stream",
     "text": [
      "δ:  0.0861244019138756\n"
     ]
    }
   ],
   "source": [
    "f1_old, y_test_old, X_test_old, lm_old = f1_test_data_model(X_norm)\n",
    "f1_new, y_test_new, X_test_new, lm_new = f1_test_data_model(X_poly)\n",
    "δ_inint = f1_new - f1_old\n",
    "print(\"\\u03B4: \",δ_inint)"
   ]
  },
  {
   "attachments": {},
   "cell_type": "markdown",
   "metadata": {},
   "source": [
    "The $\\delta_\\text{init}$ score was computed using $(y_{test}^{new}, X_{test}^{new})$ and $(y_{test}^{old}, X_{test}^{old})$\n",
    "$$\\delta_\\text{init} = F_{1}^\\text{new} - F_{1}^\\text{old} = 0.077185$$\n",
    "\n",
    "The hypothesis are $$H_0: \\delta<=0$$ $$H_1: \\delta>0$$\n",
    "\n",
    "Given this dataset we resample it using *bootstrap technique*. This process will result in a distribution of $\\delta$. With this distribution we can calculate the $\\text{p-value}$ "
   ]
  },
  {
   "cell_type": "code",
   "execution_count": null,
   "metadata": {},
   "outputs": [],
   "source": [
    "def f1_score_by_idx_model(X, y, idx, model):\n",
    "    predict = model.predict(X[idx,:])\n",
    "    return f1_score(y, predict)"
   ]
  },
  {
   "cell_type": "code",
   "execution_count": null,
   "metadata": {},
   "outputs": [],
   "source": [
    "# size of the dataset\n",
    "size = len(X_test_new)\n",
    "f1_score_boots = []\n",
    "x = 0\n",
    "while x < 1000:\n",
    "    # resampling of the dataset with replacement\n",
    "    idx = np.random.choice(range(size), size, replace=True)\n",
    "    \n",
    "    # compute the f_1 score having as an input the ressampling dataset\n",
    "    f1_score_boots_new = f1_score_by_idx_model(X_test_new, y_test_new, idx, lm_new)\n",
    "    f1_score_boots_old = f1_score_by_idx_model(X_test_old, y_test_old, idx, lm_old)\n",
    "    f1_score_boots.append({\n",
    "        'f1_score_boots_new': f1_score_boots_new,\n",
    "        'f1_score_boots_old': f1_score_boots_old\n",
    "    })\n",
    "    x += 1\n"
   ]
  },
  {
   "cell_type": "code",
   "execution_count": null,
   "metadata": {},
   "outputs": [],
   "source": [
    "# convert to dataframe\n",
    "df_f1_score_boots = pd.DataFrame(f1_score_boots)\n",
    "# calculate the δ\n",
    "δ = df_f1_score_boots.eval('f1_score_boots_new - f1_score_boots_old')"
   ]
  },
  {
   "attachments": {},
   "cell_type": "markdown",
   "metadata": {},
   "source": [
    "The resampling was generate under $\\delta_\\text{init}>0$, but to compute the $\\text{p-value}$ we need to keep as true the $h_0$, that is, $\\delta<=0$, but $\\delta_\\text{init}$ point out the otherwise, so we need to transform (only by localization) the $\\delta$ generade by resampling"
   ]
  },
  {
   "cell_type": "code",
   "execution_count": null,
   "metadata": {},
   "outputs": [
    {
     "data": {
      "text/plain": [
       "<matplotlib.legend.Legend at 0x26532e8a940>"
      ]
     },
     "metadata": {},
     "output_type": "display_data"
    },
    {
     "data": {
      "image/png": "[encoded data removed]",
      "text/plain": [
       "<Figure size 648x360 with 1 Axes>"
      ]
     },
     "metadata": {},
     "output_type": "display_data"
    }
   ],
   "source": [
    "fig, ax = plt.subplots(figsize = (9, 5))\n",
    "δ.plot(kind='hist', ax =ax , color = 'k', alpha = 0.5, label = 'δ')\n",
    "δ_shift = δ - δ_inint\n",
    "δ_shift.plot(kind='hist', ax =ax, color = 'b', alpha = 0.5, label = r'$δ_{shift}$')\n",
    "plt.legend()"
   ]
  },
  {
   "cell_type": "code",
   "execution_count": null,
   "metadata": {},
   "outputs": [
    {
     "name": "stdout",
     "output_type": "stream",
     "text": [
      "p-value:  0.00%\n"
     ]
    }
   ],
   "source": [
    "print(\"p-value: \" ,f\"{np.mean(δ_shift>δ_inint):.2%}\")"
   ]
  },
  {
   "attachments": {},
   "cell_type": "markdown",
   "metadata": {},
   "source": [
    "with $\\text{p-value}=0\\%$  we can reject the null hypothesis and conclude new is better than old"
   ]
  },
  {
   "attachments": {},
   "cell_type": "markdown",
   "metadata": {},
   "source": [
    "Resources:\n",
    "\n",
    "* The Elements of Statistical Learning Data Mining, Inference, and Prediction - Second Edition - Trevor Hastie - Robert Tibshirani - Jerome Friedman. Springer.\n",
    "\n",
    "* Data Page: https://hastie.su.domains/ElemStatLearn/\n"
   ]
  },
  {
   "attachments": {},
   "cell_type": "markdown",
   "metadata": {},
   "source": [
    "# Multinomial Logitic Regression"
   ]
  },
  {
   "attachments": {},
   "cell_type": "markdown",
   "metadata": {},
   "source": [
    "We use *multinomial logistic regression*, also called *softmax regression* (in older NLP literature you will sometimes see the name *maxent classifier*)\n",
    "\n",
    "The output of $\\textbf{y}$ for each $X$ is a vector of lenght $K$, it is **one-hot vector** version of $y$, such as, $y$ can be classified in range from $1$ to $K$. It can take one and only one of these classes.\n",
    "\n",
    "If $y$ belong to the $k$ class the **one-hot vector** will be $[0, 0, ..., 1, ..., 0]$ where $y_k=1$ and set all remaining elements of $\\textbf{y}$ of zeros. "
   ]
  },
  {
   "attachments": {},
   "cell_type": "markdown",
   "metadata": {},
   "source": [
    "The job of the classifier is produce an estimate vector $\\hat{\\textbf{{y}}}$, it is a vector of probabilities $[\\hat{y}_{1},..., \\hat{y}_{K} ]$."
   ]
  },
  {
   "attachments": {},
   "cell_type": "markdown",
   "metadata": {},
   "source": [
    "This job in actually is done by *Softmax* function. This function map a vector $z=[z_1, z_2, ..., z_K]$ of values into distribution of probabilities. Each in a range $(0, 1)$ and all sum to $1$.\n",
    "\n"
   ]
  },
  {
   "attachments": {},
   "cell_type": "markdown",
   "metadata": {},
   "source": [
    "For a vector $\\textbf{z}$ of dimensionality $K$, the softmax is defined as\n",
    "\n",
    "$$ \\text{softmax}(\\textbf{z}) = [\\frac{\\exp(z_1)}{\\sum_{k=1}^{K}\\exp(z_k)}, \\frac{\\exp(z_2)}{\\sum_{k=1}^{K}\\exp(z_k)}, ..., \\frac{\\exp(z_K)}{\\sum_{k=1}^{K}\\exp(z_k)}]$$ "
   ]
  },
  {
   "cell_type": "code",
   "execution_count": 2,
   "metadata": {},
   "outputs": [],
   "source": [
    "import numpy as np"
   ]
  },
  {
   "cell_type": "code",
   "execution_count": 3,
   "metadata": {},
   "outputs": [],
   "source": [
    "z = np.array([0.6,1.1,-1.5,1.2,3.2,-1.1])"
   ]
  },
  {
   "cell_type": "code",
   "execution_count": 7,
   "metadata": {},
   "outputs": [],
   "source": [
    "def softmax(z:np.array):\n",
    "    return np.exp(z)/np.sum(np.exp(z))    "
   ]
  },
  {
   "cell_type": "code",
   "execution_count": 11,
   "metadata": {},
   "outputs": [
    {
     "data": {
      "text/plain": [
       "array([0.05482541, 0.09039182, 0.00671372, 0.09989841, 0.73815494,\n",
       "       0.0100157 ])"
      ]
     },
     "execution_count": 11,
     "metadata": {},
     "output_type": "execute_result"
    }
   ],
   "source": [
    "softmax(z)"
   ]
  },
  {
   "attachments": {},
   "cell_type": "markdown",
   "metadata": {},
   "source": [
    "Softmax can be applied in *Logistic Regression*. We only need to assign for each observation and the for $k^{th}$ category:\n",
    "\n",
    "$$z_{k} = β_{k0} + β_{k}^T\\textbf{x} $$\n",
    "\n",
    "\n",
    "$$ \\hat{y_k} =  P(y = k|\\textbf{x}) = \\frac{\\exp(β_{k0} + β_{k}^T\\textbf{x})}{\\sum_{k=1}^{K} \\exp{(β_{k0} + β_{k}^T\\textbf{x})}}  $$\n",
    "\n",
    "Where $ \\hat{y_1} + \\hat{y_2} + ... + \\hat{y_K} = 1$"
   ]
  },
  {
   "attachments": {},
   "cell_type": "markdown",
   "metadata": {},
   "source": [
    "Features in Multinomial Logistic"
   ]
  },
  {
   "attachments": {},
   "cell_type": "markdown",
   "metadata": {},
   "source": [
    "Since there is a $\\beta_0$ for each class, we need to evaluate the effect of this on eah class\n",
    "\n",
    "We suppose $\\beta_{2} = 4$ for the $k=1$, $\\beta_{2} = -1$ for the $k=2$ and $\\beta_{2} = 5.3$ for the $k=3$. Here $2$ means the second features, so we can say the second feature has a different effects on each class. e.g. the second feature increase the probability to belong to class $1$ (and to class $3$, but with more power), while the decrease the probability to belong to class $2$.  "
   ]
  },
  {
   "cell_type": "markdown",
   "metadata": {},
   "source": [
    "### Cross Entropy \n",
    "\n",
    "Loss Function of Sofmax "
   ]
  },
  {
   "cell_type": "markdown",
   "metadata": {},
   "source": [
    "In *Maximum Likehood* the likehood (or log likehood) is maximized.\n",
    "\n",
    "The requirement for a function is consired `loss function` is that this is minimized, so whe can multiply by `-`. So we get `negative log likehood` (called cross entropy) and this is the loss function for classification multiple categories."
   ]
  },
  {
   "cell_type": "markdown",
   "metadata": {},
   "source": [
    "The log likelihood can be derived by defining, for each individual, $d_{k} = 1$ if alternative $k^{th}$ is chosen by individual, and $0$ if not, for the $K - 1$ possible outcomes. Then, for each individual one and only one of the $d_{k}’s$ is $1$.\n",
    "\n",
    "Recall the *conditional probabilities* are *probabilities* and the maximun likelihood maximize the conditional probabilities $p_{k} = P(y=k|\\textbf{x};\\theta)$ given the $\\theta$ parameters. The probability of the individual choices to class $k$\n",
    "\n",
    "$$L(\\theta) = -\\sum_{k=1}^{K} d_{k} log \\;p_{k} $$\n",
    "\n"
   ]
  },
  {
   "cell_type": "code",
   "execution_count": null,
   "metadata": {},
   "outputs": [],
   "source": []
  }
 ],
 "metadata": {
  "kernelspec": {
   "display_name": "base",
   "language": "python",
   "name": "python3"
  },
  "language_info": {
   "codemirror_mode": {
    "name": "ipython",
    "version": 3
   },
   "file_extension": ".py",
   "mimetype": "text/x-python",
   "name": "python",
   "nbconvert_exporter": "python",
   "pygments_lexer": "ipython3",
   "version": "3.11.7"
  }
 },
 "nbformat": 4,
 "nbformat_minor": 2
}
