{
 "cells": [
  {
   "cell_type": "markdown",
   "metadata": {},
   "source": [
    "HTTP"
   ]
  },
  {
   "cell_type": "code",
   "execution_count": null,
   "metadata": {},
   "outputs": [],
   "source": [
    "from email.mime.multipart import MIMEMultipart\n",
    "from email.mime.text import MIMEText\n",
    "from email.mime.image import MIMEImage\n",
    "import smtplib"
   ]
  },
  {
   "cell_type": "code",
   "execution_count": null,
   "metadata": {},
   "outputs": [],
   "source": [
    "def main(to_email, server, port, from_email, password, subject, text):\n",
    "\n",
    "    # Create the message\n",
    "    msg = MIMEMultipart()\n",
    "    msg['From'] = from_email\n",
    "    msg['To'] = to_email\n",
    "    msg['Subject'] = subject\n",
    "\n",
    "    # Attach text\n",
    "    msg.attach(MIMEText(text, 'plain'))\n",
    "\n",
    "    # Attach image\n",
    "    with open(r'1_QuHou1T2IBoPgi8-dB7kBQ.webp', 'rb') as reader:\n",
    "        img_pika = reader.read()\n",
    "        msg.attach(MIMEImage(img_pika))\n",
    "\n",
    "    # Create SMTP session and connection for sending the mail\n",
    "    # The server is the server of the sender (provider) and port:587\n",
    "    session = smtplib.SMTP(server, port)\n",
    "    # Upgrade an existing standard connection into an encrypted one\n",
    "    session.starttls()\n",
    "    session.login(from_email, password)\n",
    "    \n",
    "    string_msg = msg.as_string()\n",
    "    session.sendmail(from_email, to_email, string_msg)\n",
    "    session.quit()"
   ]
  },
  {
   "cell_type": "code",
   "execution_count": null,
   "metadata": {},
   "outputs": [],
   "source": [
    "main(to_email='danteca.dtc@gmail.com',\n",
    "     server='smtp-mail.outlook.com',\n",
    "     port=587,\n",
    "     from_email='dante.toribio@icpna.edu.pe',\n",
    "     password='414254Dan@',\n",
    "     subject='With love, from ME to You',\n",
    "     text=\"\"\"this is an example\"\"\")"
   ]
  },
  {
   "cell_type": "code",
   "execution_count": null,
   "metadata": {},
   "outputs": [],
   "source": [
    "import pandas as pd\n",
    "import ssl\n",
    "from io import StringIO\n",
    "import urllib\n",
    "import re"
   ]
  },
  {
   "cell_type": "code",
   "execution_count": null,
   "metadata": {},
   "outputs": [],
   "source": [
    "response = urllib.request.urlopen(url ='https://pages.stern.nyu.edu/~wgreene/Text/Edition7/TableF2-2.txt', \n",
    "                       context=ssl._create_unverified_context() )\n",
    "print(\"status: \", response.status)\n",
    "data = response.read().decode()\n",
    "# 4 white spaces = ,\n",
    "patterns = [(r\"[ ]{4}\", r\",\"),\n",
    "            (r\"[ ]\", r\"\"),\n",
    "            (r\"(\\r\\n(?:\\d+\\.?\\d*)\\,\\r\\n|[A-Z]\\r\\n)\", r\"\\1\\n\"),\n",
    "            (r\"\\r\\n\", r\"\"),\n",
    "            (r\"(?<=[0-9\\.])\\,\\n(?=[0-9\\.]|$)\", r\"\\n\")]\n",
    "while patterns:\n",
    "    pattern, value_to_replace = patterns.pop(0)\n",
    "    data = re.sub(pattern, value_to_replace, data)\n",
    "\n",
    "data_consol = pd.read_csv(StringIO(data), sep=',')"
   ]
  }
 ],
 "metadata": {
  "kernelspec": {
   "display_name": "base",
   "language": "python",
   "name": "python3"
  },
  "language_info": {
   "name": "python",
   "version": "3.10.9"
  }
 },
 "nbformat": 4,
 "nbformat_minor": 2
}
