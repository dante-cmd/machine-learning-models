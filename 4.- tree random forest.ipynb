{
 "cells": [
  {
   "attachments": {},
   "cell_type": "markdown",
   "metadata": {},
   "source": [
    "# Bagging (Bootstrap Aggregation) vs Boosting"
   ]
  },
  {
   "cell_type": "markdown",
   "metadata": {},
   "source": [
    "> *Bagging* It is a techinque to reduce the variance of estimated prediction function. Bagging seems to work\n",
    "especially well for high-variance, low-bias procedures, such as *trees*. For\n",
    "*regression*, we simply fit the same regression tree many times to bootstrapsampled\n",
    "versions of the training data, and average the result. For *classification*,\n",
    "a committee of trees each cast a vote for the predicted class.\n",
    "\n",
    "> *Boosting* is an ensemble learning technique in machine learning that is used to improve the performance of weak learners (usually decision trees) by combining them to form a stronger model. The key idea behind boosting is to train models sequentially, where each model attempts to correct the mistakes of the previous ones. It is typically used for both regression and classification tasks."
   ]
  },
  {
   "attachments": {},
   "cell_type": "markdown",
   "metadata": {},
   "source": [
    "## Boosting \n",
    "\n",
    "Boosting and Additive Trees"
   ]
  },
  {
   "attachments": {},
   "cell_type": "markdown",
   "metadata": {},
   "source": [
    "#### AdaBoost (Freund and Schapire)"
   ]
  },
  {
   "attachments": {},
   "cell_type": "markdown",
   "metadata": {},
   "source": [
    "For the explanation is used a classification model, but we can apply the same idea for regression model.\n",
    "\n",
    "So we start here:\n",
    "\n",
    "* The output variable $Y$ is coded as $\\mathcal{K}= \\{0, 1,...K-1 \\}$\n",
    "\n",
    "* Given a vector of predictor variables $X$, a classifier $G(X)$ produces a prediction taking one class of $\\mathcal{K}$. \n",
    "\n",
    "* The error rate on *training sample* is computed:\n",
    "$$\\bar{\\text{err}} = \\frac{1}{N} \\sum_{i=1}^{N} I(y_i \\ne G(x_i) )$$\n",
    "\n",
    "* And the expected error for the future $E[I(y_i \\ne G(x_i) )]$\n",
    "\n",
    "* For final prediction Boosting uses $G(x)$ as a classifier. It is made up by `weak classifier` $G_m(x)$, a classifier whose error rate is slightly better than random guessing. \n",
    "\n",
    "> A *weak classifier* generally used is *tree*. The structure of this *tree* only contains a *node* and two *leaves*. This structure of tree is  called **stumps** as well.  \n",
    "> \n",
    "> This structures only allow to *use one feature* to *make a decision*"
   ]
  },
  {
   "attachments": {},
   "cell_type": "markdown",
   "metadata": {},
   "source": [
    "* As we said, the final prediction that Boosting uses is made up by *weak classifiers* (*stumps*). The importances or votes of of those *stumps* are not *balanced*, the importances depends on the *power of correct classification*. A  stump with *better power of correct classification* has more *about to say* than others.\n",
    "\n",
    "* Boosting method sequentially applies the *weak classification* algorithm to repeatedly modified versions of the data (weighted data). The data is weighted using $w_i$ in each iteration."
   ]
  },
  {
   "cell_type": "markdown",
   "metadata": {},
   "source": [
    "The response of the *Classification Tree*\n",
    "\n",
    "$$\\hat{f}(x) = \\sum_{n=1}^{|T|} k_n I_{\\{x_i \\in R_n\\}} $$\n",
    "\n",
    "where $k_n = \\argmax_{k} {\\hat{p}_{nk}}$, $\\hat{p}_{nk} = \\frac{1}{N_{n}}\\sum_{x_i \\in R_n} I(y_i = k)$ and the $|T|$ is the quantity of terminal nodes."
   ]
  },
  {
   "cell_type": "markdown",
   "metadata": {},
   "source": [
    "If we set $|T|=2$ (for weak classfier)"
   ]
  },
  {
   "attachments": {},
   "cell_type": "markdown",
   "metadata": {},
   "source": [
    "* So, it produces a sequence of weak classifiers $G_m(x), m = 1, 2, . . . , M.$ \n",
    "\n",
    "$$G_m(x) = \\sum_{n=1}^{2} k_n I_{\\{x_i \\in R_n\\}} $$\n",
    "\n",
    "$$G(x) = k^* =\\sum_{m}^{M} G_m \\alpha_m$$\n",
    "\n",
    "* $\\alpha_m$ (*about to say*) and $G_m$ are computed by boosting algorithm. They point out the contribution of each respective  $G_m(x)$ And $M$ is the amount of resampling.\n",
    "\n",
    "  *Boosting method*\n",
    "\n",
    "  * 1. Initialize the weights $w_i = 1/N$, $i = 1, 2, ..., N$\n",
    "  * 2. For $m = 1$ to $M$:\n",
    "  \n",
    "    * Fit the classifier $G_m(x)$ to the training data using the weights $w_i$\n",
    "\n",
    "    * Compute (*error rate*) $\\text{err}_m = \\frac{\\sum_{i=1}^{N} I(y_i \\ne G(x_i) )}{N} $\n",
    "\n",
    "    <!-- * Compute $\\text{err}_m = \\frac{\\sum_{i=1}^{N} w_i I(y_i \\ne G(x_i) )}{\\sum_{i=1}^{N} w_i} $ -->\n",
    "    \n",
    "    * Compute (log of ratio of *accuracy* vs *error rate*)  $ α_m = \\log((1 − \\text{err}_m)/\\text{err}_m)$\n",
    "    \n",
    "    * Set (weights are updated for *misclassification* record) $w_i \\leftarrow w_i.\\exp[\\alpha_m I(y_i \\ne G(x_i) )] $\n",
    "    \n",
    "  \n",
    "  * 3. $G(x) := k^* =\\sum_{m}^{M} G_m \\alpha_m$"
   ]
  },
  {
   "attachments": {},
   "cell_type": "markdown",
   "metadata": {},
   "source": [
    "Where $\\sum_{i=1}^{N}w_i = 1$ \n",
    "<!-- and  $\\text{err}_m$ compute the *weighted error rate*, that is, missclassification on some records is more important than others. -->\n",
    "\n",
    "Here $α_m$ compute the *about to say* of the *stump* (tree). If the $\\text{err}_m$ is lower *about to say* of the current *stump* is greater, the power of prediction is greater.\n",
    "\n",
    "In actually this is a log of $\\text{odds}$ of $\\text{correct}_m$, such as, $\\text{correct}_m = 1 - \\text{err}_m $ and $\\text{correct}_m^{C} = \\text{err}_m $"
   ]
  },
  {
   "attachments": {},
   "cell_type": "markdown",
   "metadata": {},
   "source": [
    "> *Odds*\n",
    "> \n",
    "> The *odds* of an event $A$ are $ \\text{odds}(A) = P(A)/P(A^c)$\n",
    ">\n",
    "> If $P(A) = 2/3$, we say the odds in favor of $A$ are $2$ to $1$"
   ]
  },
  {
   "attachments": {},
   "cell_type": "markdown",
   "metadata": {},
   "source": [
    "This $\\alpha_m$ will be used to compute the updates on $w_i$, if the $i^{th}$ record is misclassified in the *weak classifier*.\n",
    "\n",
    "The weights for missclassified recods is increased in order to for the next iteration (next *stumps* or trees) specializes in classified those records. So in each successive classifier is thereby forced to concentrate on those training observations that are missed by previous ones in the sequence."
   ]
  },
  {
   "attachments": {},
   "cell_type": "markdown",
   "metadata": {},
   "source": [
    "Recall in each iteration the weights are *rescaled* in order to sum $1$."
   ]
  },
  {
   "attachments": {},
   "cell_type": "markdown",
   "metadata": {},
   "source": [
    "<!-- * The data modifications at each boosting step consist of applying weights $w_1, w_2, . . . , w_N$ to each of the training observations $(x_i, y_i), i = 1, 2, . . . , N.$ Initially all of the weights are set to $w_i = 1/N$.\n",
    "\n",
    "* For each successive iteration $m = 2, 3, . . . , M$ the observation weights are individually modified and the classification algorithm is reapplied to the weighted observations\n",
    "\n",
    "* At step $m$, *those observations that were misclassified* by the classifier $G_{m−1}(x)$ induced at the previous step have their *weights increased*, whereas the *weights are decreased* for *those that were classified correctly*. \n",
    "\n",
    "* Thus as iterations proceed, `observations that are difficult to classify correctly receive ever-increasing influence`. Each successive classifier is thereby forced to concentrate on those training observations that are missed by previous ones in the sequence. -->\n",
    "\n",
    "* Data sets are often very large in terms of number of observations and number of variables measured on each of them. Thus, computational considerations play an important role. \n",
    "\n",
    "* The inputs tend to be mixtures of quantitative, binary, and categorical variables. Also they include `NaN`. The scales also are different in the variables.\n",
    "\n",
    "* The relevant variables that in actually are need to predict are small, but we don't know what are.\n",
    "\n",
    "* The interpretation of the models are useful in order to know the relationship between the inputs variables and the output.\n",
    "\n",
    "> An `off-the-shelf` method is one that can be directly applied to the data without requiring a great deal of timeconsuming data preprocessing or careful tunning of the learning procedure.\n",
    "\n",
    "* The decision tree is the method that is close to *off-the-shelf*.  They are relatively fast to construct and they produce interpretable models. They are invariant under (strictly monotone) transformations of the individual predictors and inmute to outliers. They are thereby resistant to the inclusion of many irrelevant predictor variables. The disadvantage is the accuracy, this is improved with the boosting, but we sacrify the speed and interpretability."
   ]
  },
  {
   "attachments": {},
   "cell_type": "markdown",
   "metadata": {},
   "source": [
    "### Boosting Trees\n",
    "\n",
    "The tree methods partition the space of all join predictor variable values into disjoint regions $R_j, j = 1, 2, ..., J$, as represented by the terminal nodes of the tree.\n",
    "\n",
    "A constant $γ_j$ is assigned to each such region and the predictive rule is\n",
    "\n",
    "$$x ∈ R_j ⇒ f(x) = γ_j.$$\n",
    "\n",
    "\n",
    "Thus a tree can be formally expressed as\n",
    "\n",
    "$$T(x; Θ) = \\sum_{j = 1}^{J} γ_jI(x ∈ R_j)$$\n",
    "\n",
    "with parameters $Θ = \\{R_j, γ_j\\}^J$\n",
    "\n",
    "The parameters are found by minimizing the empirical risk (loss function)\n",
    "\n",
    "$$ \\hat{Θ} = \\arg\\min_Θ \\sum_{j=1}^{J} \\sum_{x_i \\in R_j} L(y_i, γ_j)$$\n",
    "\n",
    "The union of all disjoin regions result the total sample $N$\n",
    " \n",
    "$$ \\hat{Θ} = \\arg\\min_Θ \\sum_{i=1}^{N} {L}(y_i, T(x_i, Θ)) $$\n",
    "\n",
    " It is useful to divide the optimization problem into two parts:\n",
    "\n",
    " 1. Finding $R_j$: Here implicitly we choice the feature in wich the we will divide the regions.\n",
    "\n",
    " 2. Finding $γ_j$ given $R_j$: Given the $R_j$, estimating the $γ_j$ is typically trivial, and often $γ_j = \\bar{y}_j$, the mean of the $y_i$ falling in region $R_j$ for regression problem."
   ]
  },
  {
   "cell_type": "markdown",
   "metadata": {},
   "source": [
    "The *boosted tree model* is a sum of such trees\n",
    "\n",
    "$$ f_M(x) = \\sum_{m=1}^M  T(x; Θ_m)$$"
   ]
  },
  {
   "cell_type": "markdown",
   "metadata": {},
   "source": [
    "At $m$ step in the forward stagewise procedure one must solve\n",
    "\n",
    "$$ \\hat{Θ}_m = \\arg \\min_{{Θ_m}} \\sum_{i=1}^{N} L(y_i, f_{m- 1 }(x_i) + T(x_i, {Θ}_m )) $$\n",
    "\n",
    "\n",
    "for the region set and constants $Θ_m = \\{R_{j_m}, γ_{j_m}\\}^J$ and the current model $f_{m−1}(x)$\n",
    "\n",
    "Given the regions $R_{j_m}$, finding the optimal constants $γ_{j_m}$ in each region is typically straightforward:\n",
    "\n",
    "\n",
    "\n",
    "$$\\hat{γ_j}_m = \\arg\\min γ_{j_m} \\sum_{x_i ∈ R_{j_m}} L (y_i, f_{m−1}(x_i) + γ_{j_m})$$\n",
    "\n",
    "- For *regression* problem it the mean.\n",
    "- For *classification* problem we apply above solution\n",
    "\n",
    "Modal class in statistics refers to a class having the highest frequency\n",
    "pag 372"
   ]
  },
  {
   "attachments": {},
   "cell_type": "markdown",
   "metadata": {},
   "source": [
    "### Regularization\n",
    "\n",
    "\n",
    "Each iteration\n",
    "usually reduces the training error, so that for $M$ large enough this error\n",
    "can be made arbitrarily small. However, fitting the training data too well\n",
    "can lead to `overfitting`, which degrades the risk on future predictions. Thus,\n",
    "there is an optimal number $M^∗$ minimizing future risk that is application\n",
    "dependent. A convenient way to estimate $M^∗$ is to monitor prediction risk\n",
    "as a function of $M$ on a *validation sample*. The value of $M$ that minimizes\n",
    "this risk is taken to be an estimate of $M^∗$."
   ]
  },
  {
   "attachments": {},
   "cell_type": "markdown",
   "metadata": {},
   "source": [
    "### Interpretation\n",
    "\n",
    "#### Relative Importance of Predictor Variables\n",
    "\n",
    "This is related to *improvements* (*reduction in error*) that can generate a variable  \n",
    "\n",
    "For a single decision tree $T$ , Breiman et al. (1984) proposed\n",
    "\n",
    "$$I^2_ℓ(T) = \\sum_{t=1}^{J−1} \\hat{ı}_t^2 I(v(t) = ℓ)$$\n",
    "\n",
    "as a measure of relevance for each predictor variable $X_ℓ$. The sum is over\n",
    "the $J − 1$ internal nodes of the tree. At each such node $t$, one of the input\n",
    "variables $X$\n",
    "$v(t)$ is used to partition the region associated with that node into\n",
    "two subregions; within each a separate constant is fit to the response values.\n",
    "The particular variable chosen is the one that gives maximal estimated\n",
    "improvement $\\hat{ı}^2_t$ in squared error risk over that for a constant fit over the\n",
    "entire region. The squared relative importance of variable $X_ℓ$ is the sum of\n",
    "such squared improvements over all internal nodes for which it was chosen\n",
    "as the splitting variable.\n"
   ]
  },
  {
   "attachments": {},
   "cell_type": "markdown",
   "metadata": {},
   "source": [
    "This importance measure is easily generalized to additive tree expansions\n",
    "(10.28); it is simply averaged over the trees\n",
    "\n",
    "$$ I^2_ℓ = \\frac{1}{M} \\sum_{m =1}^{M} I^2_ℓ(T_m)$$\n",
    "\n",
    "More informacion: [Master Thesis](https://www.ifi.uzh.ch/dam/jcr:82fc9567-e690-40fa-baff-eb7a37aa00c0/MasterThesis.pdf)"
   ]
  },
  {
   "cell_type": "code",
   "execution_count": 48,
   "metadata": {},
   "outputs": [],
   "source": [
    "from sklearn.ensemble import GradientBoostingClassifier , GradientBoostingRegressor\n",
    "from sklearn.ensemble import AdaBoostClassifier, AdaBoostRegressor\n",
    "from sklearn.pipeline import Pipeline, FeatureUnion\n",
    "from sklearn.compose import ColumnTransformer, TransformedTargetRegressor\n",
    "from sklearn.preprocessing import OneHotEncoder, StandardScaler\n",
    "from sklearn.model_selection import train_test_split, RandomizedSearchCV, GridSearchCV\n",
    "from sklearn.metrics import mean_absolute_error, mean_absolute_percentage_error, precision_score, recall_score, r2_score\n",
    "import numpy as np\n",
    "import pandas as pd\n",
    "import matplotlib.pyplot as plt\n",
    "import requests\n",
    "from scipy import stats\n",
    "import io\n",
    "import warnings"
   ]
  },
  {
   "cell_type": "code",
   "execution_count": 49,
   "metadata": {},
   "outputs": [],
   "source": [
    "warnings.filterwarnings(\"ignore\")"
   ]
  },
  {
   "cell_type": "code",
   "execution_count": 2,
   "metadata": {},
   "outputs": [],
   "source": [
    "# Load the data\n",
    "# data_crime = pd.read_csv(r'tabla_crime.csv')"
   ]
  },
  {
   "cell_type": "markdown",
   "metadata": {},
   "source": [
    "## Data Description"
   ]
  },
  {
   "cell_type": "markdown",
   "metadata": {},
   "source": [
    "The source of data is data tables of the books Econometric Analysis, 7th and 8th Editions. [link](https://pages.stern.nyu.edu/~wgreene/Text/Edition7/tablelist8new.htm)\n",
    "\n",
    "In this link can be find several tables used in the books excecute econometrics models. \n",
    "\n",
    "There are 45 tables which we only use the *TableF4-3*, **Movie Buzz Data**, a small movie data base in wich is recorded several features related to a film, budget, ranking rate, type, and so on. "
   ]
  },
  {
   "cell_type": "code",
   "execution_count": 50,
   "metadata": {},
   "outputs": [],
   "source": [
    "response = requests.get('https://pages.stern.nyu.edu/~wgreene/Text/Edition7/TableF4-3.txt', verify=False)\n",
    "data_movie = pd.read_csv(io.StringIO(response.text))\n",
    "data_movie.columns = (\n",
    "    data_movie.columns\n",
    "    .str.replace(r'\\s', '', regex=True))"
   ]
  },
  {
   "cell_type": "markdown",
   "metadata": {},
   "source": [
    "- Box = First run U.S. box office ($Mil). Refers revenue obtained to the initial release period of a movie in the United States.\n",
    "- MPRating = MPAA Rating code, 1=G, 2=PG, 3=PG13, 4=R,\n",
    "- Budget = Production budget ($Mil),\n",
    "- Starpowr = Index of star poser,\n",
    "- Sequel = 1 if movie is a sequel, 0 if not,\n",
    "- Action = 1 if action film, 0 if not,\n",
    "- Comedy = 1 if comedy film, 0 if not,\n",
    "- Animated = 1 if animated film, 0 if not,\n",
    "- Horror = 1 if horror film, 0 if not,\n",
    "- Addict = Trailer views at traileraddict.com,\n",
    "- Cmngsoon = Message board comments at comingsoon.net,\n",
    "- Fandango = Attention at fandango.com (see Example 4.12),\n",
    "- Cntwait3 = Percentage of Fandango votes that can't wait to see."
   ]
  },
  {
   "cell_type": "code",
   "execution_count": 51,
   "metadata": {},
   "outputs": [],
   "source": [
    "data_movie.BOX = data_movie.BOX/1000"
   ]
  },
  {
   "cell_type": "code",
   "execution_count": 52,
   "metadata": {},
   "outputs": [],
   "source": [
    "maximun_budget = round(data_movie.BUDGET.max())\n",
    "data_movie['BUDGET_CATEGORICAL'] = pd.cut(data_movie.BUDGET, \n",
    "                                          bins=[0, 20, 40, 60, 80, 100, maximun_budget+50], \n",
    "                                          right=False)"
   ]
  },
  {
   "cell_type": "markdown",
   "metadata": {},
   "source": [
    "## Descriptive Statistics"
   ]
  },
  {
   "cell_type": "markdown",
   "metadata": {},
   "source": [
    "#### First run U.S. box office\n",
    "\n",
    "In ($Mil). Refers revenue obtained to the initial release period of a movie in the United States."
   ]
  },
  {
   "cell_type": "code",
   "execution_count": 53,
   "metadata": {},
   "outputs": [
    {
     "data": {
      "image/png": "[encoded data removed]",
      "text/plain": [
       "<Figure size 640x480 with 1 Axes>"
      ]
     },
     "metadata": {},
     "output_type": "display_data"
    }
   ],
   "source": [
    "ax = data_movie.BOX.plot(kind='hist',bins =20, color='DarkBlue')\n",
    "xticks = ax.get_xticks()\n",
    "xticklabels = [\"\" if x<0 else \"{:,}$\".format(round(x)) for x in xticks]\n",
    "xlim = ax.get_xlim()\n",
    "ax.set_xticks(xticks)\n",
    "ax.set_xticklabels(xticklabels)\n",
    "ax.set_xlim(xlim)\n",
    "ax.set_title('Revenues Obtained to the Initial Release');"
   ]
  },
  {
   "cell_type": "code",
   "execution_count": 54,
   "metadata": {},
   "outputs": [
    {
     "data": {
      "image/png": "[encoded data removed]",
      "text/plain": [
       "<Figure size 640x480 with 1 Axes>"
      ]
     },
     "metadata": {},
     "output_type": "display_data"
    }
   ],
   "source": [
    "table = data_movie[['SEQUEL', 'ACTION','COMEDY', 'ANIMATED', 'HORROR']].sum()\n",
    "ax = (table.sort_values(ascending=False)).plot(kind='bar', color='DarkBlue', rot=0)\n",
    "yticks = ax.get_yticks()\n",
    "yticklabels = [\"\" if x<0 else \"{:0}\".format(round(x)) for x in yticks]\n",
    "ylim = ax.get_ylim()\n",
    "ax.set_yticks(yticks)\n",
    "ax.set_yticklabels(yticklabels)\n",
    "ax.set_ylim(ylim)\n",
    "ax.set_title('Movie Categorys');"
   ]
  },
  {
   "cell_type": "markdown",
   "metadata": {},
   "source": [
    "### Relation Between Box and Budget"
   ]
  },
  {
   "cell_type": "code",
   "execution_count": 55,
   "metadata": {},
   "outputs": [
    {
     "data": {
      "text/html": [
       "<style type=\"text/css\">\n",
       "</style>\n",
       "<table id=\"T_08a79\">\n",
       "  <thead>\n",
       "    <tr>\n",
       "      <th class=\"blank level0\" >&nbsp;</th>\n",
       "      <th id=\"T_08a79_level0_col0\" class=\"col_heading level0 col0\" >BOX</th>\n",
       "    </tr>\n",
       "    <tr>\n",
       "      <th class=\"index_name level0\" >BUDGET_CATEGORICAL</th>\n",
       "      <th class=\"blank col0\" >&nbsp;</th>\n",
       "    </tr>\n",
       "  </thead>\n",
       "  <tbody>\n",
       "    <tr>\n",
       "      <th id=\"T_08a79_level0_row0\" class=\"row_heading level0 row0\" >[0, 20)</th>\n",
       "      <td id=\"T_08a79_row0_col0\" class=\"data row0 col0\" >15,950</td>\n",
       "    </tr>\n",
       "    <tr>\n",
       "      <th id=\"T_08a79_level0_row1\" class=\"row_heading level0 row1\" >[20, 40)</th>\n",
       "      <td id=\"T_08a79_row1_col0\" class=\"data row1 col0\" >17,711</td>\n",
       "    </tr>\n",
       "    <tr>\n",
       "      <th id=\"T_08a79_level0_row2\" class=\"row_heading level0 row2\" >[40, 60)</th>\n",
       "      <td id=\"T_08a79_row2_col0\" class=\"data row2 col0\" >10,055</td>\n",
       "    </tr>\n",
       "    <tr>\n",
       "      <th id=\"T_08a79_level0_row3\" class=\"row_heading level0 row3\" >[60, 80)</th>\n",
       "      <td id=\"T_08a79_row3_col0\" class=\"data row3 col0\" >13,466</td>\n",
       "    </tr>\n",
       "    <tr>\n",
       "      <th id=\"T_08a79_level0_row4\" class=\"row_heading level0 row4\" >[80, 100)</th>\n",
       "      <td id=\"T_08a79_row4_col0\" class=\"data row4 col0\" >36,196</td>\n",
       "    </tr>\n",
       "    <tr>\n",
       "      <th id=\"T_08a79_level0_row5\" class=\"row_heading level0 row5\" >[100, 250)</th>\n",
       "      <td id=\"T_08a79_row5_col0\" class=\"data row5 col0\" >44,721</td>\n",
       "    </tr>\n",
       "  </tbody>\n",
       "</table>\n"
      ],
      "text/plain": [
       "<pandas.io.formats.style.Styler at 0x13932141210>"
      ]
     },
     "execution_count": 55,
     "metadata": {},
     "output_type": "execute_result"
    }
   ],
   "source": [
    "table_budget_box = data_movie.groupby(['BUDGET_CATEGORICAL'], observed=False).agg(\n",
    "    BOX = pd.NamedAgg(\n",
    "        column='BOX',\n",
    "        aggfunc='mean'\n",
    "    )\n",
    "    )\n",
    "table_budget_box.style.format(precision=0, thousands=',')"
   ]
  },
  {
   "cell_type": "markdown",
   "metadata": {},
   "source": [
    "We can see some cases (`[20, 40)`) movies with more budget got a box less than the movies with small budget."
   ]
  },
  {
   "cell_type": "markdown",
   "metadata": {},
   "source": [
    "## Prediction of an outcome of interest\n",
    "\n",
    "Does internet “buzz” help to predict movie success?\n",
    "\n",
    "Internet buzz is vaguely defined to be Internet traffic and interest on familiar Web sites such \n",
    "as RottenTomatoes.com, ImDB.com, Fandango.com, and traileraddict.com. None of these \n",
    "by itself defines Internet buzz. But, collectively, activity on these Web sites, say three weeks \n",
    "before a movie’s opening, might be a useful predictor of upcoming success"
   ]
  },
  {
   "cell_type": "markdown",
   "metadata": {},
   "source": [
    "To build a composite estimator, transformers are usually combined with other transformers or with predictors (such as classifiers or regressors). The most common tool used for composing estimators is a Pipeline.\n",
    "\n",
    "A pipeline exposes all methods provided by the last estimator: if the last step provides a transform method, then the pipeline would have a transform method and behave like a transformer. If the last step provides a predict method, then the pipeline would expose that method, and given a data X, use all steps except the last to transform the data, and then give that transformed data to the predict method of the last step of the pipeline\n",
    "\n",
    "All estimators in a pipeline, except the last one, must be transformers (i.e. must have a transform method). The last estimator may be any type (transformer, classifier, etc.)."
   ]
  },
  {
   "cell_type": "code",
   "execution_count": 56,
   "metadata": {},
   "outputs": [],
   "source": [
    "y = data_movie['BOX'].copy()\n",
    "X = data_movie[['SEQUEL', 'ACTION', 'COMEDY',\n",
    "                 'ANIMATED', 'HORROR', 'BUDGET', 'CMNGSOON', 'FANDANGO', 'CNTWAIT3']].copy()"
   ]
  },
  {
   "cell_type": "code",
   "execution_count": 57,
   "metadata": {},
   "outputs": [],
   "source": [
    "X_train, X_test, y_train, y_test = train_test_split(\n",
    "    X, y, test_size=0.2, shuffle=True, random_state=1234)"
   ]
  },
  {
   "cell_type": "code",
   "execution_count": 58,
   "metadata": {},
   "outputs": [],
   "source": [
    "preprocessor = ColumnTransformer(\n",
    "    [('standar_budget', StandardScaler(), ['BUDGET']),\n",
    "     ('standar_soon', StandardScaler(), ['CMNGSOON']),\n",
    "     ('standar_dango', StandardScaler(), ['FANDANGO']),\n",
    "     ('standar_wait', StandardScaler(), ['CNTWAIT3']),\n",
    "     ], \n",
    "      remainder='drop')"
   ]
  },
  {
   "cell_type": "code",
   "execution_count": 59,
   "metadata": {},
   "outputs": [],
   "source": [
    "model = Pipeline([('preprocessor', preprocessor),\n",
    "                 ('adaboost', TransformedTargetRegressor(\n",
    "                     regressor=AdaBoostRegressor(n_estimators=100, random_state=1234),\n",
    "                     func=lambda x:np.log(x),\n",
    "                     inverse_func=lambda x:np.exp(x)))\n",
    "                     ])"
   ]
  },
  {
   "cell_type": "code",
   "execution_count": 60,
   "metadata": {},
   "outputs": [
    {
     "data": {
      "text/html": [
       "<style>#sk-container-id-1 {color: black;background-color: white;}#sk-container-id-1 pre{padding: 0;}#sk-container-id-1 div.sk-toggleable {background-color: white;}#sk-container-id-1 label.sk-toggleable__label {cursor: pointer;display: block;width: 100%;margin-bottom: 0;padding: 0.3em;box-sizing: border-box;text-align: center;}#sk-container-id-1 label.sk-toggleable__label-arrow:before {content: \"▸\";float: left;margin-right: 0.25em;color: #696969;}#sk-container-id-1 label.sk-toggleable__label-arrow:hover:before {color: black;}#sk-container-id-1 div.sk-estimator:hover label.sk-toggleable__label-arrow:before {color: black;}#sk-container-id-1 div.sk-toggleable__content {max-height: 0;max-width: 0;overflow: hidden;text-align: left;background-color: #f0f8ff;}#sk-container-id-1 div.sk-toggleable__content pre {margin: 0.2em;color: black;border-radius: 0.25em;background-color: #f0f8ff;}#sk-container-id-1 input.sk-toggleable__control:checked~div.sk-toggleable__content {max-height: 200px;max-width: 100%;overflow: auto;}#sk-container-id-1 input.sk-toggleable__control:checked~label.sk-toggleable__label-arrow:before {content: \"▾\";}#sk-container-id-1 div.sk-estimator input.sk-toggleable__control:checked~label.sk-toggleable__label {background-color: #d4ebff;}#sk-container-id-1 div.sk-label input.sk-toggleable__control:checked~label.sk-toggleable__label {background-color: #d4ebff;}#sk-container-id-1 input.sk-hidden--visually {border: 0;clip: rect(1px 1px 1px 1px);clip: rect(1px, 1px, 1px, 1px);height: 1px;margin: -1px;overflow: hidden;padding: 0;position: absolute;width: 1px;}#sk-container-id-1 div.sk-estimator {font-family: monospace;background-color: #f0f8ff;border: 1px dotted black;border-radius: 0.25em;box-sizing: border-box;margin-bottom: 0.5em;}#sk-container-id-1 div.sk-estimator:hover {background-color: #d4ebff;}#sk-container-id-1 div.sk-parallel-item::after {content: \"\";width: 100%;border-bottom: 1px solid gray;flex-grow: 1;}#sk-container-id-1 div.sk-label:hover label.sk-toggleable__label {background-color: #d4ebff;}#sk-container-id-1 div.sk-serial::before {content: \"\";position: absolute;border-left: 1px solid gray;box-sizing: border-box;top: 0;bottom: 0;left: 50%;z-index: 0;}#sk-container-id-1 div.sk-serial {display: flex;flex-direction: column;align-items: center;background-color: white;padding-right: 0.2em;padding-left: 0.2em;position: relative;}#sk-container-id-1 div.sk-item {position: relative;z-index: 1;}#sk-container-id-1 div.sk-parallel {display: flex;align-items: stretch;justify-content: center;background-color: white;position: relative;}#sk-container-id-1 div.sk-item::before, #sk-container-id-1 div.sk-parallel-item::before {content: \"\";position: absolute;border-left: 1px solid gray;box-sizing: border-box;top: 0;bottom: 0;left: 50%;z-index: -1;}#sk-container-id-1 div.sk-parallel-item {display: flex;flex-direction: column;z-index: 1;position: relative;background-color: white;}#sk-container-id-1 div.sk-parallel-item:first-child::after {align-self: flex-end;width: 50%;}#sk-container-id-1 div.sk-parallel-item:last-child::after {align-self: flex-start;width: 50%;}#sk-container-id-1 div.sk-parallel-item:only-child::after {width: 0;}#sk-container-id-1 div.sk-dashed-wrapped {border: 1px dashed gray;margin: 0 0.4em 0.5em 0.4em;box-sizing: border-box;padding-bottom: 0.4em;background-color: white;}#sk-container-id-1 div.sk-label label {font-family: monospace;font-weight: bold;display: inline-block;line-height: 1.2em;}#sk-container-id-1 div.sk-label-container {text-align: center;}#sk-container-id-1 div.sk-container {/* jupyter's `normalize.less` sets `[hidden] { display: none; }` but bootstrap.min.css set `[hidden] { display: none !important; }` so we also need the `!important` here to be able to override the default hidden behavior on the sphinx rendered scikit-learn.org. See: https://github.com/scikit-learn/scikit-learn/issues/21755 */display: inline-block !important;position: relative;}#sk-container-id-1 div.sk-text-repr-fallback {display: none;}</style><div id=\"sk-container-id-1\" class=\"sk-top-container\"><div class=\"sk-text-repr-fallback\"><pre>Pipeline(steps=[(&#x27;preprocessor&#x27;,\n",
       "                 ColumnTransformer(transformers=[(&#x27;standar_budget&#x27;,\n",
       "                                                  StandardScaler(),\n",
       "                                                  [&#x27;BUDGET&#x27;]),\n",
       "                                                 (&#x27;standar_soon&#x27;,\n",
       "                                                  StandardScaler(),\n",
       "                                                  [&#x27;CMNGSOON&#x27;]),\n",
       "                                                 (&#x27;standar_dango&#x27;,\n",
       "                                                  StandardScaler(),\n",
       "                                                  [&#x27;FANDANGO&#x27;]),\n",
       "                                                 (&#x27;standar_wait&#x27;,\n",
       "                                                  StandardScaler(),\n",
       "                                                  [&#x27;CNTWAIT3&#x27;])])),\n",
       "                (&#x27;adaboost&#x27;,\n",
       "                 TransformedTargetRegressor(func=&lt;function &lt;lambda&gt; at 0x0000013931F91300&gt;,\n",
       "                                            inverse_func=&lt;function &lt;lambda&gt; at 0x00000139337765C0&gt;,\n",
       "                                            regressor=AdaBoostRegressor(n_estimators=100,\n",
       "                                                                        random_state=1234)))])</pre><b>In a Jupyter environment, please rerun this cell to show the HTML representation or trust the notebook. <br />On GitHub, the HTML representation is unable to render, please try loading this page with nbviewer.org.</b></div><div class=\"sk-container\" hidden><div class=\"sk-item sk-dashed-wrapped\"><div class=\"sk-label-container\"><div class=\"sk-label sk-toggleable\"><input class=\"sk-toggleable__control sk-hidden--visually\" id=\"sk-estimator-id-1\" type=\"checkbox\" ><label for=\"sk-estimator-id-1\" class=\"sk-toggleable__label sk-toggleable__label-arrow\">Pipeline</label><div class=\"sk-toggleable__content\"><pre>Pipeline(steps=[(&#x27;preprocessor&#x27;,\n",
       "                 ColumnTransformer(transformers=[(&#x27;standar_budget&#x27;,\n",
       "                                                  StandardScaler(),\n",
       "                                                  [&#x27;BUDGET&#x27;]),\n",
       "                                                 (&#x27;standar_soon&#x27;,\n",
       "                                                  StandardScaler(),\n",
       "                                                  [&#x27;CMNGSOON&#x27;]),\n",
       "                                                 (&#x27;standar_dango&#x27;,\n",
       "                                                  StandardScaler(),\n",
       "                                                  [&#x27;FANDANGO&#x27;]),\n",
       "                                                 (&#x27;standar_wait&#x27;,\n",
       "                                                  StandardScaler(),\n",
       "                                                  [&#x27;CNTWAIT3&#x27;])])),\n",
       "                (&#x27;adaboost&#x27;,\n",
       "                 TransformedTargetRegressor(func=&lt;function &lt;lambda&gt; at 0x0000013931F91300&gt;,\n",
       "                                            inverse_func=&lt;function &lt;lambda&gt; at 0x00000139337765C0&gt;,\n",
       "                                            regressor=AdaBoostRegressor(n_estimators=100,\n",
       "                                                                        random_state=1234)))])</pre></div></div></div><div class=\"sk-serial\"><div class=\"sk-item sk-dashed-wrapped\"><div class=\"sk-label-container\"><div class=\"sk-label sk-toggleable\"><input class=\"sk-toggleable__control sk-hidden--visually\" id=\"sk-estimator-id-2\" type=\"checkbox\" ><label for=\"sk-estimator-id-2\" class=\"sk-toggleable__label sk-toggleable__label-arrow\">preprocessor: ColumnTransformer</label><div class=\"sk-toggleable__content\"><pre>ColumnTransformer(transformers=[(&#x27;standar_budget&#x27;, StandardScaler(),\n",
       "                                 [&#x27;BUDGET&#x27;]),\n",
       "                                (&#x27;standar_soon&#x27;, StandardScaler(),\n",
       "                                 [&#x27;CMNGSOON&#x27;]),\n",
       "                                (&#x27;standar_dango&#x27;, StandardScaler(),\n",
       "                                 [&#x27;FANDANGO&#x27;]),\n",
       "                                (&#x27;standar_wait&#x27;, StandardScaler(),\n",
       "                                 [&#x27;CNTWAIT3&#x27;])])</pre></div></div></div><div class=\"sk-parallel\"><div class=\"sk-parallel-item\"><div class=\"sk-item\"><div class=\"sk-label-container\"><div class=\"sk-label sk-toggleable\"><input class=\"sk-toggleable__control sk-hidden--visually\" id=\"sk-estimator-id-3\" type=\"checkbox\" ><label for=\"sk-estimator-id-3\" class=\"sk-toggleable__label sk-toggleable__label-arrow\">standar_budget</label><div class=\"sk-toggleable__content\"><pre>[&#x27;BUDGET&#x27;]</pre></div></div></div><div class=\"sk-serial\"><div class=\"sk-item\"><div class=\"sk-estimator sk-toggleable\"><input class=\"sk-toggleable__control sk-hidden--visually\" id=\"sk-estimator-id-4\" type=\"checkbox\" ><label for=\"sk-estimator-id-4\" class=\"sk-toggleable__label sk-toggleable__label-arrow\">StandardScaler</label><div class=\"sk-toggleable__content\"><pre>StandardScaler()</pre></div></div></div></div></div></div><div class=\"sk-parallel-item\"><div class=\"sk-item\"><div class=\"sk-label-container\"><div class=\"sk-label sk-toggleable\"><input class=\"sk-toggleable__control sk-hidden--visually\" id=\"sk-estimator-id-5\" type=\"checkbox\" ><label for=\"sk-estimator-id-5\" class=\"sk-toggleable__label sk-toggleable__label-arrow\">standar_soon</label><div class=\"sk-toggleable__content\"><pre>[&#x27;CMNGSOON&#x27;]</pre></div></div></div><div class=\"sk-serial\"><div class=\"sk-item\"><div class=\"sk-estimator sk-toggleable\"><input class=\"sk-toggleable__control sk-hidden--visually\" id=\"sk-estimator-id-6\" type=\"checkbox\" ><label for=\"sk-estimator-id-6\" class=\"sk-toggleable__label sk-toggleable__label-arrow\">StandardScaler</label><div class=\"sk-toggleable__content\"><pre>StandardScaler()</pre></div></div></div></div></div></div><div class=\"sk-parallel-item\"><div class=\"sk-item\"><div class=\"sk-label-container\"><div class=\"sk-label sk-toggleable\"><input class=\"sk-toggleable__control sk-hidden--visually\" id=\"sk-estimator-id-7\" type=\"checkbox\" ><label for=\"sk-estimator-id-7\" class=\"sk-toggleable__label sk-toggleable__label-arrow\">standar_dango</label><div class=\"sk-toggleable__content\"><pre>[&#x27;FANDANGO&#x27;]</pre></div></div></div><div class=\"sk-serial\"><div class=\"sk-item\"><div class=\"sk-estimator sk-toggleable\"><input class=\"sk-toggleable__control sk-hidden--visually\" id=\"sk-estimator-id-8\" type=\"checkbox\" ><label for=\"sk-estimator-id-8\" class=\"sk-toggleable__label sk-toggleable__label-arrow\">StandardScaler</label><div class=\"sk-toggleable__content\"><pre>StandardScaler()</pre></div></div></div></div></div></div><div class=\"sk-parallel-item\"><div class=\"sk-item\"><div class=\"sk-label-container\"><div class=\"sk-label sk-toggleable\"><input class=\"sk-toggleable__control sk-hidden--visually\" id=\"sk-estimator-id-9\" type=\"checkbox\" ><label for=\"sk-estimator-id-9\" class=\"sk-toggleable__label sk-toggleable__label-arrow\">standar_wait</label><div class=\"sk-toggleable__content\"><pre>[&#x27;CNTWAIT3&#x27;]</pre></div></div></div><div class=\"sk-serial\"><div class=\"sk-item\"><div class=\"sk-estimator sk-toggleable\"><input class=\"sk-toggleable__control sk-hidden--visually\" id=\"sk-estimator-id-10\" type=\"checkbox\" ><label for=\"sk-estimator-id-10\" class=\"sk-toggleable__label sk-toggleable__label-arrow\">StandardScaler</label><div class=\"sk-toggleable__content\"><pre>StandardScaler()</pre></div></div></div></div></div></div></div></div><div class=\"sk-item sk-dashed-wrapped\"><div class=\"sk-label-container\"><div class=\"sk-label sk-toggleable\"><input class=\"sk-toggleable__control sk-hidden--visually\" id=\"sk-estimator-id-11\" type=\"checkbox\" ><label for=\"sk-estimator-id-11\" class=\"sk-toggleable__label sk-toggleable__label-arrow\">adaboost: TransformedTargetRegressor</label><div class=\"sk-toggleable__content\"><pre>TransformedTargetRegressor(func=&lt;function &lt;lambda&gt; at 0x0000013931F91300&gt;,\n",
       "                           inverse_func=&lt;function &lt;lambda&gt; at 0x00000139337765C0&gt;,\n",
       "                           regressor=AdaBoostRegressor(n_estimators=100,\n",
       "                                                       random_state=1234))</pre></div></div></div><div class=\"sk-parallel\"><div class=\"sk-parallel-item\"><div class=\"sk-item\"><div class=\"sk-label-container\"><div class=\"sk-label sk-toggleable\"><input class=\"sk-toggleable__control sk-hidden--visually\" id=\"sk-estimator-id-12\" type=\"checkbox\" ><label for=\"sk-estimator-id-12\" class=\"sk-toggleable__label sk-toggleable__label-arrow\">regressor: AdaBoostRegressor</label><div class=\"sk-toggleable__content\"><pre>AdaBoostRegressor(n_estimators=100, random_state=1234)</pre></div></div></div><div class=\"sk-serial\"><div class=\"sk-item\"><div class=\"sk-estimator sk-toggleable\"><input class=\"sk-toggleable__control sk-hidden--visually\" id=\"sk-estimator-id-13\" type=\"checkbox\" ><label for=\"sk-estimator-id-13\" class=\"sk-toggleable__label sk-toggleable__label-arrow\">AdaBoostRegressor</label><div class=\"sk-toggleable__content\"><pre>AdaBoostRegressor(n_estimators=100, random_state=1234)</pre></div></div></div></div></div></div></div></div></div></div></div></div>"
      ],
      "text/plain": [
       "Pipeline(steps=[('preprocessor',\n",
       "                 ColumnTransformer(transformers=[('standar_budget',\n",
       "                                                  StandardScaler(),\n",
       "                                                  ['BUDGET']),\n",
       "                                                 ('standar_soon',\n",
       "                                                  StandardScaler(),\n",
       "                                                  ['CMNGSOON']),\n",
       "                                                 ('standar_dango',\n",
       "                                                  StandardScaler(),\n",
       "                                                  ['FANDANGO']),\n",
       "                                                 ('standar_wait',\n",
       "                                                  StandardScaler(),\n",
       "                                                  ['CNTWAIT3'])])),\n",
       "                ('adaboost',\n",
       "                 TransformedTargetRegressor(func=<function <lambda> at 0x0000013931F91300>,\n",
       "                                            inverse_func=<function <lambda> at 0x00000139337765C0>,\n",
       "                                            regressor=AdaBoostRegressor(n_estimators=100,\n",
       "                                                                        random_state=1234)))])"
      ]
     },
     "execution_count": 60,
     "metadata": {},
     "output_type": "execute_result"
    }
   ],
   "source": [
    "model.fit(X_train, y_train)"
   ]
  },
  {
   "cell_type": "markdown",
   "metadata": {},
   "source": [
    "Here summarize the steps:\n",
    "\n",
    "1. To these features we will apply *Standar Scaler*:\n",
    "   - [Budget $,# Views of Trailer, # Comments, # \"Can't wait\" in Fandango.com, % \"Can't wait\" in Fandango.com].\n",
    "2. To [Sequel, Action, Comedy, Animated, Horror] already are converted to 0-1 so we won't apply any transformation\n",
    "\n",
    "3. The target [Box $] is transformated using log and back using exp.\n",
    "\n",
    "4. We set 400 as number of estimator or trees"
   ]
  },
  {
   "cell_type": "code",
   "execution_count": 61,
   "metadata": {},
   "outputs": [
    {
     "name": "stdout",
     "output_type": "stream",
     "text": [
      "Mean Absolute Error: $5,120\n",
      "Mean Absolute Percentage Error: 38.72%\n"
     ]
    }
   ],
   "source": [
    "y_predict = model.predict(X_test)\n",
    "print(\"Mean Absolute Error: ${:,.0f}\".format(\n",
    "    mean_absolute_error(y_test, y_predict))\n",
    "    )\n",
    "print(\"Mean Absolute Percentage Error: {:.2%}\".format(\n",
    "    mean_absolute_percentage_error(y_test, y_predict)))"
   ]
  },
  {
   "cell_type": "markdown",
   "metadata": {},
   "source": [
    "### Model Tuning"
   ]
  },
  {
   "cell_type": "markdown",
   "metadata": {},
   "source": [
    "* This method directly estimates the expected extra-sample error $Err = E[L(Y, \\hat{f}(X))]$\n",
    "* The average generalization error when the method $\\hat{f}(X)$ is applied to an independent test sample from the joint distribution of $X$ and $Y$."
   ]
  },
  {
   "cell_type": "markdown",
   "metadata": {},
   "source": [
    "#### K-Fold Cross-Validation\n",
    "\n",
    "* $K$-fold crossvalidation uses part of the available data to fit the model, and a different part to test it.\n",
    "* We split the data into $K$ roughly equal-sized parts, for example, when $K = 5$, the scenario looks like this"
   ]
  },
  {
   "cell_type": "markdown",
   "metadata": {},
   "source": [
    "<center>\n",
    "\n",
    "|1|2|3|4|5|\n",
    "|-|-|-|-|-|\n",
    "|train|train|validation|train|train|\n",
    "\n",
    "</center>"
   ]
  },
  {
   "cell_type": "markdown",
   "metadata": {},
   "source": [
    "* For the $k^{th}$ part (third above), we fit the model to the other $K − 1$ parts of the data, and calculate the prediction error of the fitted model when predicting the $k^{th}$ part of the data. "
   ]
  },
  {
   "cell_type": "markdown",
   "metadata": {},
   "source": [
    "The cross-validation estimate of prediction error is:\n",
    "\n",
    "$$CV(\\hat{f}) = \\frac{1}{N} \\sum_{i=1}^{N} L(y_i, \\hat{f}^{−κ(i)}(x_i))$$\n",
    "\n",
    "* For $K = 5$, the $5^{th}$ part of the training data is of size N, where the points is randomly localized.\n",
    "* The 4 parts remaining is used to fit.\n",
    "* Denote by $\\hat{f}^{−k(x)}$ the fitted function exclude $k^{th}$ part"
   ]
  },
  {
   "cell_type": "markdown",
   "metadata": {},
   "source": [
    "Given a set of models $f(x, α)$ indexed by a tuning parameter $α$, denote by $\\hat{f}^{−k(i)}{(x_i, α)}$ the $α$ th model fit with the $k$ th part of the data removed. Then for this set of models we define.\n",
    "\n",
    "$$CV(\\hat{f}, \\alpha) = \\frac{1}{N} \\sum_{i=1}^{N} L(y_i, \\hat{f}^{−κ(i)}(x_i, \\alpha_i))$$"
   ]
  },
  {
   "cell_type": "markdown",
   "metadata": {},
   "source": [
    "The function $CV(\\hat{f}, α)$ provides an estimate of the test error curve, and we find the tuning parameter $\\hat{α}$ that minimizes it"
   ]
  },
  {
   "cell_type": "markdown",
   "metadata": {},
   "source": [
    "* $K=5$ is chosen if the size of data training is enought big.  \n",
    "* Overall, five- or tenfold cross-validation are recommended as a good compromise: see Breiman and Spector (1992) and Kohavi (1995)."
   ]
  },
  {
   "cell_type": "code",
   "execution_count": 62,
   "metadata": {},
   "outputs": [],
   "source": [
    "pipeline = Pipeline([('preprocessor', preprocessor),\n",
    "                 ('adaboost', AdaBoostRegressor(n_estimators=100, random_state=1234))])\n",
    "\n",
    "transformed = TransformedTargetRegressor(\n",
    "    regressor=pipeline,\n",
    "    func=lambda x:np.log(x),\n",
    "    inverse_func=lambda x:np.exp(x))                 "
   ]
  },
  {
   "cell_type": "code",
   "execution_count": 63,
   "metadata": {},
   "outputs": [],
   "source": [
    "param_grid = {\n",
    "    \"regressor__adaboost__n_estimators\":[50, 100, 150, 200, 300, 400, 500],\n",
    "    \"regressor__adaboost__learning_rate\":[np.exp(1/2)/np.exp(x) for x in range(1, 10)]\n",
    "}\n",
    "\n",
    "grid_search = GridSearchCV(\n",
    "    transformed, param_grid=param_grid, scoring='neg_mean_absolute_error'\n",
    ")"
   ]
  },
  {
   "cell_type": "code",
   "execution_count": 64,
   "metadata": {},
   "outputs": [
    {
     "data": {
      "text/html": [
       "<style>#sk-container-id-2 {color: black;background-color: white;}#sk-container-id-2 pre{padding: 0;}#sk-container-id-2 div.sk-toggleable {background-color: white;}#sk-container-id-2 label.sk-toggleable__label {cursor: pointer;display: block;width: 100%;margin-bottom: 0;padding: 0.3em;box-sizing: border-box;text-align: center;}#sk-container-id-2 label.sk-toggleable__label-arrow:before {content: \"▸\";float: left;margin-right: 0.25em;color: #696969;}#sk-container-id-2 label.sk-toggleable__label-arrow:hover:before {color: black;}#sk-container-id-2 div.sk-estimator:hover label.sk-toggleable__label-arrow:before {color: black;}#sk-container-id-2 div.sk-toggleable__content {max-height: 0;max-width: 0;overflow: hidden;text-align: left;background-color: #f0f8ff;}#sk-container-id-2 div.sk-toggleable__content pre {margin: 0.2em;color: black;border-radius: 0.25em;background-color: #f0f8ff;}#sk-container-id-2 input.sk-toggleable__control:checked~div.sk-toggleable__content {max-height: 200px;max-width: 100%;overflow: auto;}#sk-container-id-2 input.sk-toggleable__control:checked~label.sk-toggleable__label-arrow:before {content: \"▾\";}#sk-container-id-2 div.sk-estimator input.sk-toggleable__control:checked~label.sk-toggleable__label {background-color: #d4ebff;}#sk-container-id-2 div.sk-label input.sk-toggleable__control:checked~label.sk-toggleable__label {background-color: #d4ebff;}#sk-container-id-2 input.sk-hidden--visually {border: 0;clip: rect(1px 1px 1px 1px);clip: rect(1px, 1px, 1px, 1px);height: 1px;margin: -1px;overflow: hidden;padding: 0;position: absolute;width: 1px;}#sk-container-id-2 div.sk-estimator {font-family: monospace;background-color: #f0f8ff;border: 1px dotted black;border-radius: 0.25em;box-sizing: border-box;margin-bottom: 0.5em;}#sk-container-id-2 div.sk-estimator:hover {background-color: #d4ebff;}#sk-container-id-2 div.sk-parallel-item::after {content: \"\";width: 100%;border-bottom: 1px solid gray;flex-grow: 1;}#sk-container-id-2 div.sk-label:hover label.sk-toggleable__label {background-color: #d4ebff;}#sk-container-id-2 div.sk-serial::before {content: \"\";position: absolute;border-left: 1px solid gray;box-sizing: border-box;top: 0;bottom: 0;left: 50%;z-index: 0;}#sk-container-id-2 div.sk-serial {display: flex;flex-direction: column;align-items: center;background-color: white;padding-right: 0.2em;padding-left: 0.2em;position: relative;}#sk-container-id-2 div.sk-item {position: relative;z-index: 1;}#sk-container-id-2 div.sk-parallel {display: flex;align-items: stretch;justify-content: center;background-color: white;position: relative;}#sk-container-id-2 div.sk-item::before, #sk-container-id-2 div.sk-parallel-item::before {content: \"\";position: absolute;border-left: 1px solid gray;box-sizing: border-box;top: 0;bottom: 0;left: 50%;z-index: -1;}#sk-container-id-2 div.sk-parallel-item {display: flex;flex-direction: column;z-index: 1;position: relative;background-color: white;}#sk-container-id-2 div.sk-parallel-item:first-child::after {align-self: flex-end;width: 50%;}#sk-container-id-2 div.sk-parallel-item:last-child::after {align-self: flex-start;width: 50%;}#sk-container-id-2 div.sk-parallel-item:only-child::after {width: 0;}#sk-container-id-2 div.sk-dashed-wrapped {border: 1px dashed gray;margin: 0 0.4em 0.5em 0.4em;box-sizing: border-box;padding-bottom: 0.4em;background-color: white;}#sk-container-id-2 div.sk-label label {font-family: monospace;font-weight: bold;display: inline-block;line-height: 1.2em;}#sk-container-id-2 div.sk-label-container {text-align: center;}#sk-container-id-2 div.sk-container {/* jupyter's `normalize.less` sets `[hidden] { display: none; }` but bootstrap.min.css set `[hidden] { display: none !important; }` so we also need the `!important` here to be able to override the default hidden behavior on the sphinx rendered scikit-learn.org. See: https://github.com/scikit-learn/scikit-learn/issues/21755 */display: inline-block !important;position: relative;}#sk-container-id-2 div.sk-text-repr-fallback {display: none;}</style><div id=\"sk-container-id-2\" class=\"sk-top-container\"><div class=\"sk-text-repr-fallback\"><pre>GridSearchCV(estimator=TransformedTargetRegressor(func=&lt;function &lt;lambda&gt; at 0x0000013933782520&gt;,\n",
       "                                                  inverse_func=&lt;function &lt;lambda&gt; at 0x0000013933782480&gt;,\n",
       "                                                  regressor=Pipeline(steps=[(&#x27;preprocessor&#x27;,\n",
       "                                                                             ColumnTransformer(transformers=[(&#x27;standar_budget&#x27;,\n",
       "                                                                                                              StandardScaler(),\n",
       "                                                                                                              [&#x27;BUDGET&#x27;]),\n",
       "                                                                                                             (&#x27;standar_soon&#x27;,\n",
       "                                                                                                              StandardScaler(),\n",
       "                                                                                                              [&#x27;CMNGSOON&#x27;]),\n",
       "                                                                                                             (&#x27;standar_dango&#x27;,\n",
       "                                                                                                              StandardScaler(),\n",
       "                                                                                                              [&#x27;...\n",
       "                                                                                               random_state=1234))])),\n",
       "             param_grid={&#x27;regressor__adaboost__learning_rate&#x27;: [0.6065306597126334,\n",
       "                                                                0.22313016014842982,\n",
       "                                                                0.0820849986238988,\n",
       "                                                                0.030197383422318504,\n",
       "                                                                0.011108996538242308,\n",
       "                                                                0.0040867714384640675,\n",
       "                                                                0.0015034391929775726,\n",
       "                                                                0.0005530843701478336,\n",
       "                                                                0.00020346836901064417],\n",
       "                         &#x27;regressor__adaboost__n_estimators&#x27;: [50, 100, 150,\n",
       "                                                               200, 300, 400,\n",
       "                                                               500]},\n",
       "             scoring=&#x27;neg_mean_absolute_error&#x27;)</pre><b>In a Jupyter environment, please rerun this cell to show the HTML representation or trust the notebook. <br />On GitHub, the HTML representation is unable to render, please try loading this page with nbviewer.org.</b></div><div class=\"sk-container\" hidden><div class=\"sk-item sk-dashed-wrapped\"><div class=\"sk-label-container\"><div class=\"sk-label sk-toggleable\"><input class=\"sk-toggleable__control sk-hidden--visually\" id=\"sk-estimator-id-14\" type=\"checkbox\" ><label for=\"sk-estimator-id-14\" class=\"sk-toggleable__label sk-toggleable__label-arrow\">GridSearchCV</label><div class=\"sk-toggleable__content\"><pre>GridSearchCV(estimator=TransformedTargetRegressor(func=&lt;function &lt;lambda&gt; at 0x0000013933782520&gt;,\n",
       "                                                  inverse_func=&lt;function &lt;lambda&gt; at 0x0000013933782480&gt;,\n",
       "                                                  regressor=Pipeline(steps=[(&#x27;preprocessor&#x27;,\n",
       "                                                                             ColumnTransformer(transformers=[(&#x27;standar_budget&#x27;,\n",
       "                                                                                                              StandardScaler(),\n",
       "                                                                                                              [&#x27;BUDGET&#x27;]),\n",
       "                                                                                                             (&#x27;standar_soon&#x27;,\n",
       "                                                                                                              StandardScaler(),\n",
       "                                                                                                              [&#x27;CMNGSOON&#x27;]),\n",
       "                                                                                                             (&#x27;standar_dango&#x27;,\n",
       "                                                                                                              StandardScaler(),\n",
       "                                                                                                              [&#x27;...\n",
       "                                                                                               random_state=1234))])),\n",
       "             param_grid={&#x27;regressor__adaboost__learning_rate&#x27;: [0.6065306597126334,\n",
       "                                                                0.22313016014842982,\n",
       "                                                                0.0820849986238988,\n",
       "                                                                0.030197383422318504,\n",
       "                                                                0.011108996538242308,\n",
       "                                                                0.0040867714384640675,\n",
       "                                                                0.0015034391929775726,\n",
       "                                                                0.0005530843701478336,\n",
       "                                                                0.00020346836901064417],\n",
       "                         &#x27;regressor__adaboost__n_estimators&#x27;: [50, 100, 150,\n",
       "                                                               200, 300, 400,\n",
       "                                                               500]},\n",
       "             scoring=&#x27;neg_mean_absolute_error&#x27;)</pre></div></div></div><div class=\"sk-parallel\"><div class=\"sk-parallel-item\"><div class=\"sk-item\"><div class=\"sk-label-container\"><div class=\"sk-label sk-toggleable\"><input class=\"sk-toggleable__control sk-hidden--visually\" id=\"sk-estimator-id-15\" type=\"checkbox\" ><label for=\"sk-estimator-id-15\" class=\"sk-toggleable__label sk-toggleable__label-arrow\">estimator: TransformedTargetRegressor</label><div class=\"sk-toggleable__content\"><pre>TransformedTargetRegressor(func=&lt;function &lt;lambda&gt; at 0x0000013933782520&gt;,\n",
       "                           inverse_func=&lt;function &lt;lambda&gt; at 0x0000013933782480&gt;,\n",
       "                           regressor=Pipeline(steps=[(&#x27;preprocessor&#x27;,\n",
       "                                                      ColumnTransformer(transformers=[(&#x27;standar_budget&#x27;,\n",
       "                                                                                       StandardScaler(),\n",
       "                                                                                       [&#x27;BUDGET&#x27;]),\n",
       "                                                                                      (&#x27;standar_soon&#x27;,\n",
       "                                                                                       StandardScaler(),\n",
       "                                                                                       [&#x27;CMNGSOON&#x27;]),\n",
       "                                                                                      (&#x27;standar_dango&#x27;,\n",
       "                                                                                       StandardScaler(),\n",
       "                                                                                       [&#x27;FANDANGO&#x27;]),\n",
       "                                                                                      (&#x27;standar_wait&#x27;,\n",
       "                                                                                       StandardScaler(),\n",
       "                                                                                       [&#x27;CNTWAIT3&#x27;])])),\n",
       "                                                     (&#x27;adaboost&#x27;,\n",
       "                                                      AdaBoostRegressor(n_estimators=100,\n",
       "                                                                        random_state=1234))]))</pre></div></div></div><div class=\"sk-serial\"><div class=\"sk-item sk-dashed-wrapped\"><div class=\"sk-parallel\"><div class=\"sk-parallel-item\"><div class=\"sk-item\"><div class=\"sk-label-container\"><div class=\"sk-label sk-toggleable\"><input class=\"sk-toggleable__control sk-hidden--visually\" id=\"sk-estimator-id-16\" type=\"checkbox\" ><label for=\"sk-estimator-id-16\" class=\"sk-toggleable__label sk-toggleable__label-arrow\">regressor: Pipeline</label><div class=\"sk-toggleable__content\"><pre>Pipeline(steps=[(&#x27;preprocessor&#x27;,\n",
       "                 ColumnTransformer(transformers=[(&#x27;standar_budget&#x27;,\n",
       "                                                  StandardScaler(),\n",
       "                                                  [&#x27;BUDGET&#x27;]),\n",
       "                                                 (&#x27;standar_soon&#x27;,\n",
       "                                                  StandardScaler(),\n",
       "                                                  [&#x27;CMNGSOON&#x27;]),\n",
       "                                                 (&#x27;standar_dango&#x27;,\n",
       "                                                  StandardScaler(),\n",
       "                                                  [&#x27;FANDANGO&#x27;]),\n",
       "                                                 (&#x27;standar_wait&#x27;,\n",
       "                                                  StandardScaler(),\n",
       "                                                  [&#x27;CNTWAIT3&#x27;])])),\n",
       "                (&#x27;adaboost&#x27;,\n",
       "                 AdaBoostRegressor(n_estimators=100, random_state=1234))])</pre></div></div></div><div class=\"sk-serial\"><div class=\"sk-item\"><div class=\"sk-serial\"><div class=\"sk-item sk-dashed-wrapped\"><div class=\"sk-label-container\"><div class=\"sk-label sk-toggleable\"><input class=\"sk-toggleable__control sk-hidden--visually\" id=\"sk-estimator-id-17\" type=\"checkbox\" ><label for=\"sk-estimator-id-17\" class=\"sk-toggleable__label sk-toggleable__label-arrow\">preprocessor: ColumnTransformer</label><div class=\"sk-toggleable__content\"><pre>ColumnTransformer(transformers=[(&#x27;standar_budget&#x27;, StandardScaler(),\n",
       "                                 [&#x27;BUDGET&#x27;]),\n",
       "                                (&#x27;standar_soon&#x27;, StandardScaler(),\n",
       "                                 [&#x27;CMNGSOON&#x27;]),\n",
       "                                (&#x27;standar_dango&#x27;, StandardScaler(),\n",
       "                                 [&#x27;FANDANGO&#x27;]),\n",
       "                                (&#x27;standar_wait&#x27;, StandardScaler(),\n",
       "                                 [&#x27;CNTWAIT3&#x27;])])</pre></div></div></div><div class=\"sk-parallel\"><div class=\"sk-parallel-item\"><div class=\"sk-item\"><div class=\"sk-label-container\"><div class=\"sk-label sk-toggleable\"><input class=\"sk-toggleable__control sk-hidden--visually\" id=\"sk-estimator-id-18\" type=\"checkbox\" ><label for=\"sk-estimator-id-18\" class=\"sk-toggleable__label sk-toggleable__label-arrow\">standar_budget</label><div class=\"sk-toggleable__content\"><pre>[&#x27;BUDGET&#x27;]</pre></div></div></div><div class=\"sk-serial\"><div class=\"sk-item\"><div class=\"sk-estimator sk-toggleable\"><input class=\"sk-toggleable__control sk-hidden--visually\" id=\"sk-estimator-id-19\" type=\"checkbox\" ><label for=\"sk-estimator-id-19\" class=\"sk-toggleable__label sk-toggleable__label-arrow\">StandardScaler</label><div class=\"sk-toggleable__content\"><pre>StandardScaler()</pre></div></div></div></div></div></div><div class=\"sk-parallel-item\"><div class=\"sk-item\"><div class=\"sk-label-container\"><div class=\"sk-label sk-toggleable\"><input class=\"sk-toggleable__control sk-hidden--visually\" id=\"sk-estimator-id-20\" type=\"checkbox\" ><label for=\"sk-estimator-id-20\" class=\"sk-toggleable__label sk-toggleable__label-arrow\">standar_soon</label><div class=\"sk-toggleable__content\"><pre>[&#x27;CMNGSOON&#x27;]</pre></div></div></div><div class=\"sk-serial\"><div class=\"sk-item\"><div class=\"sk-estimator sk-toggleable\"><input class=\"sk-toggleable__control sk-hidden--visually\" id=\"sk-estimator-id-21\" type=\"checkbox\" ><label for=\"sk-estimator-id-21\" class=\"sk-toggleable__label sk-toggleable__label-arrow\">StandardScaler</label><div class=\"sk-toggleable__content\"><pre>StandardScaler()</pre></div></div></div></div></div></div><div class=\"sk-parallel-item\"><div class=\"sk-item\"><div class=\"sk-label-container\"><div class=\"sk-label sk-toggleable\"><input class=\"sk-toggleable__control sk-hidden--visually\" id=\"sk-estimator-id-22\" type=\"checkbox\" ><label for=\"sk-estimator-id-22\" class=\"sk-toggleable__label sk-toggleable__label-arrow\">standar_dango</label><div class=\"sk-toggleable__content\"><pre>[&#x27;FANDANGO&#x27;]</pre></div></div></div><div class=\"sk-serial\"><div class=\"sk-item\"><div class=\"sk-estimator sk-toggleable\"><input class=\"sk-toggleable__control sk-hidden--visually\" id=\"sk-estimator-id-23\" type=\"checkbox\" ><label for=\"sk-estimator-id-23\" class=\"sk-toggleable__label sk-toggleable__label-arrow\">StandardScaler</label><div class=\"sk-toggleable__content\"><pre>StandardScaler()</pre></div></div></div></div></div></div><div class=\"sk-parallel-item\"><div class=\"sk-item\"><div class=\"sk-label-container\"><div class=\"sk-label sk-toggleable\"><input class=\"sk-toggleable__control sk-hidden--visually\" id=\"sk-estimator-id-24\" type=\"checkbox\" ><label for=\"sk-estimator-id-24\" class=\"sk-toggleable__label sk-toggleable__label-arrow\">standar_wait</label><div class=\"sk-toggleable__content\"><pre>[&#x27;CNTWAIT3&#x27;]</pre></div></div></div><div class=\"sk-serial\"><div class=\"sk-item\"><div class=\"sk-estimator sk-toggleable\"><input class=\"sk-toggleable__control sk-hidden--visually\" id=\"sk-estimator-id-25\" type=\"checkbox\" ><label for=\"sk-estimator-id-25\" class=\"sk-toggleable__label sk-toggleable__label-arrow\">StandardScaler</label><div class=\"sk-toggleable__content\"><pre>StandardScaler()</pre></div></div></div></div></div></div></div></div><div class=\"sk-item\"><div class=\"sk-estimator sk-toggleable\"><input class=\"sk-toggleable__control sk-hidden--visually\" id=\"sk-estimator-id-26\" type=\"checkbox\" ><label for=\"sk-estimator-id-26\" class=\"sk-toggleable__label sk-toggleable__label-arrow\">AdaBoostRegressor</label><div class=\"sk-toggleable__content\"><pre>AdaBoostRegressor(n_estimators=100, random_state=1234)</pre></div></div></div></div></div></div></div></div></div></div></div></div></div></div></div></div></div>"
      ],
      "text/plain": [
       "GridSearchCV(estimator=TransformedTargetRegressor(func=<function <lambda> at 0x0000013933782520>,\n",
       "                                                  inverse_func=<function <lambda> at 0x0000013933782480>,\n",
       "                                                  regressor=Pipeline(steps=[('preprocessor',\n",
       "                                                                             ColumnTransformer(transformers=[('standar_budget',\n",
       "                                                                                                              StandardScaler(),\n",
       "                                                                                                              ['BUDGET']),\n",
       "                                                                                                             ('standar_soon',\n",
       "                                                                                                              StandardScaler(),\n",
       "                                                                                                              ['CMNGSOON']),\n",
       "                                                                                                             ('standar_dango',\n",
       "                                                                                                              StandardScaler(),\n",
       "                                                                                                              ['...\n",
       "                                                                                               random_state=1234))])),\n",
       "             param_grid={'regressor__adaboost__learning_rate': [0.6065306597126334,\n",
       "                                                                0.22313016014842982,\n",
       "                                                                0.0820849986238988,\n",
       "                                                                0.030197383422318504,\n",
       "                                                                0.011108996538242308,\n",
       "                                                                0.0040867714384640675,\n",
       "                                                                0.0015034391929775726,\n",
       "                                                                0.0005530843701478336,\n",
       "                                                                0.00020346836901064417],\n",
       "                         'regressor__adaboost__n_estimators': [50, 100, 150,\n",
       "                                                               200, 300, 400,\n",
       "                                                               500]},\n",
       "             scoring='neg_mean_absolute_error')"
      ]
     },
     "execution_count": 64,
     "metadata": {},
     "output_type": "execute_result"
    }
   ],
   "source": [
    "grid_search.fit(X_train, y_train)"
   ]
  },
  {
   "cell_type": "code",
   "execution_count": 65,
   "metadata": {},
   "outputs": [
    {
     "name": "stdout",
     "output_type": "stream",
     "text": [
      "Best parameters found:  {'regressor__adaboost__learning_rate': 0.00020346836901064417, 'regressor__adaboost__n_estimators': 50}\n",
      "Best cross-validation score:  -9610.533811714993\n"
     ]
    }
   ],
   "source": [
    "print(\"Best parameters found: \", grid_search.best_params_)\n",
    "print(\"Best cross-validation score: \", grid_search.best_score_)\n",
    "best_model = grid_search.best_estimator_"
   ]
  },
  {
   "cell_type": "code",
   "execution_count": 66,
   "metadata": {},
   "outputs": [
    {
     "name": "stdout",
     "output_type": "stream",
     "text": [
      "Mean Absolute Error: $3,982\n",
      "Mean Absolute Percentage Error: 29.98%\n"
     ]
    }
   ],
   "source": [
    "y_predict_best = best_model.predict(X_test)\n",
    "print(\"Mean Absolute Error: ${:,.0f}\".format(\n",
    "    mean_absolute_error(y_test, y_predict_best))\n",
    "    )\n",
    "print(\"Mean Absolute Percentage Error: {:.2%}\".format(\n",
    "    mean_absolute_percentage_error(y_test, y_predict_best)))"
   ]
  },
  {
   "cell_type": "markdown",
   "metadata": {},
   "source": [
    "#### Off-the-Shelf"
   ]
  },
  {
   "cell_type": "markdown",
   "metadata": {},
   "source": [
    "- Since data sets are often very large in terms of number of observations and\n",
    "number of variables measured on each of them. Thus, computational considerations play an important role.\n",
    "\n",
    "- Also, the data are usually *messy*: the inputs tend to be mixtures of *quantitative*, *binary*, and *categorical variables*, the latter often with many levels. There are generally many *missing values*, complete observations being rare. \n",
    "\n",
    "- Distributions of numeric predictor and response variables are often *long-tailed* and *highly skewed*.\n",
    "\n",
    "- Only a small fraction of the large\n",
    "number of predictor variables that have been included in the analysis are\n",
    "actually relevant to prediction\n",
    "\n",
    "- Generally require interpretable models. It is not enough to simply produce predictions. It is also desirable to\n",
    "have information providing qualitative understanding of the relationship between joint values of the input variables and the resulting predicted response value."
   ]
  },
  {
   "cell_type": "markdown",
   "metadata": {},
   "source": [
    "> **Off-the-Shelf**\n",
    ">\n",
    "> These requirements of speed, interpretability and the messy nature of\n",
    "> the data sharply limit the usefulness of most learning procedures as off-\n",
    "> the-shelf methods for data mining. An “off-the-shelf” method is one that\n",
    "> can be directly applied to the data without requiring a great deal of time-consuming data preprocessing or careful tuning of the learning procedure"
   ]
  },
  {
   "cell_type": "markdown",
   "metadata": {},
   "source": [
    "*Decision trees* come closest to meeting the requirements for serving as an\n",
    " off-the-shelf procedure for data mining\n",
    "\n",
    " They are relatively fast to construct and they produce interpretable\n",
    "models (if the trees are small). As discussed in Section 9.2, they naturally\n",
    "incorporate mixtures of numeric and categorical predictor variables and\n",
    "missing values. They are invariant under (strictly monotone) transformations of the individual predictors. As a result, scaling and/or more general\n",
    "transformations are not an issue, and they are immune to the effects of predictor outliers. They perform internal feature selection as an integral part\n",
    "of the procedure. They are thereby resistant, if not completely immune,\n",
    "to the inclusion of many irrelevant predictor variables. These properties of\n",
    "decision trees are largely the reason that they have emerged as the most\n",
    "popular learning method for data mining"
   ]
  },
  {
   "cell_type": "markdown",
   "metadata": {},
   "source": [
    "The main disandantage is *inaccuracy* and the boosting methods help to improves their accuracy, but reduce speed, interpretability,"
   ]
  },
  {
   "attachments": {},
   "cell_type": "markdown",
   "metadata": {},
   "source": [
    "### Gradient Boosting Regression"
   ]
  },
  {
   "cell_type": "markdown",
   "metadata": {},
   "source": [
    "A gradient boosted model (GBM) is a generalization of tree boosting so it produces an accurate and effective off-the-shelf procedure"
   ]
  },
  {
   "attachments": {},
   "cell_type": "markdown",
   "metadata": {},
   "source": [
    "We can use *Gradient Boosting* to optimize .\n",
    "\n",
    "The only requirement is any *differenciable loss function*"
   ]
  },
  {
   "attachments": {},
   "cell_type": "markdown",
   "metadata": {},
   "source": [
    "*Gradient Boost* builds fixed sized trees based on the previous tree's error.\n",
    "\n",
    "*Gradient Boost* build trees until reach the max number of trees or fail to improve  "
   ]
  },
  {
   "attachments": {},
   "cell_type": "markdown",
   "metadata": {},
   "source": [
    "$y - f(X)$"
   ]
  },
  {
   "attachments": {},
   "cell_type": "markdown",
   "metadata": {},
   "source": [
    "Given the first tree prediction \n",
    "\n",
    "$ \\epsilon = \\bar{y} - \\gamma$\n",
    "\n",
    "It predicts the residual $\\epsilon$ in each iteration "
   ]
  },
  {
   "attachments": {},
   "cell_type": "markdown",
   "metadata": {},
   "source": [
    "> Jerome Friendman shows that taking lots of small steps in the right direction results in better *predictions* with testing datasets. e.g. low variance. \n",
    "> \n",
    "> In a iteration the error is reduced we are taking a step a right direction.\n",
    "> \n",
    "> The variables that a tree is included in each iteration can be different.\n",
    "> \n",
    "> Gradient boost create a large number of trees until it reachs the maximun specified or adding additional trees doesn't reduce the error.  "
   ]
  },
  {
   "attachments": {},
   "cell_type": "markdown",
   "metadata": {},
   "source": [
    "Algorithm"
   ]
  },
  {
   "attachments": {},
   "cell_type": "markdown",
   "metadata": {},
   "source": [
    "**Input:** Data $\\{(x_n, y_n) \\}^{N}_{n=1}$ and a differentiable Loss Function $L(y_n, F(x_n))$\n",
    "\n",
    "$\\{(x_n, y_n) \\}^{N}_{n=1}$ refer to training dataset \n",
    "\n",
    "The most common Loss function for regression is $L(y, F(x)) = \\frac{(y - F(x))^{2}}{2}$ and the differentiable version is $\\frac{\\partial L}{\\partial F} = -(y - F(x)) $. For this Loss function, the $\\text{error} = y-F(X)$ es similiar to $\\text{error} = F(X) - y$, both have the same weights\n",
    "\n",
    "**Step 1:** Initialize model with a constant value: $F_0(x) = \\arg\\min_{\\gamma} \\sum_{n=1}^{N} L(y_n, \\gamma)$. \n",
    "\n",
    "We can solve it using derivative  $\\frac{\\partial \\sum_{n=1}^{N} L(y_n, \\gamma)}{\\partial \\gamma} = -\\sum_{n = 1}^{N}(y_n - \\gamma) = 0$ $\\rightarrow$ $\\gamma  = \\frac{\\sum_{n = 1}^{N} y_n}{N}  = F_0(x)$."
   ]
  },
  {
   "attachments": {},
   "cell_type": "markdown",
   "metadata": {},
   "source": [
    "**Step 2:** For $m$ to $M$:\n",
    "\n",
    "- Compute $r_{nm} = - [\\frac{\\partial L(y_n, F(x_n))}{\\partial F(x_n)}]_{F(x)=F_{m-1}(x)} = -[-(y_n - F_{m - 1}(x_n))] = [y_n - F_{m - 1}(x_n)]  $ for $n$ to $N$\n",
    "- Fit a regression tree to the $r_{nm}$ values and create terminal regions $R_{jm}$ for $j=1,...J_m$. Using this regions we can compute the next step\n",
    "- For $j = 1, ... J_m$ compute $\\gamma_{jm} = \\arg\\min_{\\gamma} \\sum_{x_n \\in R_{jm}} L(y_n, F_{m-1}(x_{n}) + \\gamma)$ . The ouput is  $\\gamma_{jm} = \\frac{\\sum_{x_n \\in R_{jm}} [y_n - F_{0}(x_n)]}{\\sum I({x_n \\in R_{jm} })}$. In actually, this is the average of $r_{nm}$ in each region. \n",
    "\n",
    "- Update $F_m(x) = F_{m-1}(x) + \\alpha \\sum_{j = 1}^{Jm} \\gamma_{jm} I(x_n \\in R_{jm})$. Here $\\alpha$ is the *learning rate*, and is a value between 1 and 0.\n",
    "<!-- That is, we predict $r$ instead $y$. -->\n",
    "\n",
    "**Step 3:** Output $F_M(x)$"
   ]
  },
  {
   "cell_type": "code",
   "execution_count": 67,
   "metadata": {},
   "outputs": [],
   "source": [
    "import pandas as pd\n",
    "from sklearn.ensemble import GradientBoostingRegressor\n",
    "from sklearn.model_selection import train_test_split\n",
    "from sklearn.metrics import mean_absolute_error, mean_absolute_percentage_error"
   ]
  },
  {
   "cell_type": "code",
   "execution_count": 125,
   "metadata": {},
   "outputs": [],
   "source": [
    "model = Pipeline([('preprocessor', preprocessor),\n",
    "                 ('adaboost', TransformedTargetRegressor(\n",
    "                     regressor=GradientBoostingRegressor(n_estimators=100, random_state=1234),\n",
    "                     func=lambda x:np.log(x),\n",
    "                     inverse_func=lambda x:np.exp(x)))\n",
    "                     ])"
   ]
  },
  {
   "cell_type": "code",
   "execution_count": 126,
   "metadata": {},
   "outputs": [
    {
     "data": {
      "text/html": [
       "<style>#sk-container-id-13 {color: black;background-color: white;}#sk-container-id-13 pre{padding: 0;}#sk-container-id-13 div.sk-toggleable {background-color: white;}#sk-container-id-13 label.sk-toggleable__label {cursor: pointer;display: block;width: 100%;margin-bottom: 0;padding: 0.3em;box-sizing: border-box;text-align: center;}#sk-container-id-13 label.sk-toggleable__label-arrow:before {content: \"▸\";float: left;margin-right: 0.25em;color: #696969;}#sk-container-id-13 label.sk-toggleable__label-arrow:hover:before {color: black;}#sk-container-id-13 div.sk-estimator:hover label.sk-toggleable__label-arrow:before {color: black;}#sk-container-id-13 div.sk-toggleable__content {max-height: 0;max-width: 0;overflow: hidden;text-align: left;background-color: #f0f8ff;}#sk-container-id-13 div.sk-toggleable__content pre {margin: 0.2em;color: black;border-radius: 0.25em;background-color: #f0f8ff;}#sk-container-id-13 input.sk-toggleable__control:checked~div.sk-toggleable__content {max-height: 200px;max-width: 100%;overflow: auto;}#sk-container-id-13 input.sk-toggleable__control:checked~label.sk-toggleable__label-arrow:before {content: \"▾\";}#sk-container-id-13 div.sk-estimator input.sk-toggleable__control:checked~label.sk-toggleable__label {background-color: #d4ebff;}#sk-container-id-13 div.sk-label input.sk-toggleable__control:checked~label.sk-toggleable__label {background-color: #d4ebff;}#sk-container-id-13 input.sk-hidden--visually {border: 0;clip: rect(1px 1px 1px 1px);clip: rect(1px, 1px, 1px, 1px);height: 1px;margin: -1px;overflow: hidden;padding: 0;position: absolute;width: 1px;}#sk-container-id-13 div.sk-estimator {font-family: monospace;background-color: #f0f8ff;border: 1px dotted black;border-radius: 0.25em;box-sizing: border-box;margin-bottom: 0.5em;}#sk-container-id-13 div.sk-estimator:hover {background-color: #d4ebff;}#sk-container-id-13 div.sk-parallel-item::after {content: \"\";width: 100%;border-bottom: 1px solid gray;flex-grow: 1;}#sk-container-id-13 div.sk-label:hover label.sk-toggleable__label {background-color: #d4ebff;}#sk-container-id-13 div.sk-serial::before {content: \"\";position: absolute;border-left: 1px solid gray;box-sizing: border-box;top: 0;bottom: 0;left: 50%;z-index: 0;}#sk-container-id-13 div.sk-serial {display: flex;flex-direction: column;align-items: center;background-color: white;padding-right: 0.2em;padding-left: 0.2em;position: relative;}#sk-container-id-13 div.sk-item {position: relative;z-index: 1;}#sk-container-id-13 div.sk-parallel {display: flex;align-items: stretch;justify-content: center;background-color: white;position: relative;}#sk-container-id-13 div.sk-item::before, #sk-container-id-13 div.sk-parallel-item::before {content: \"\";position: absolute;border-left: 1px solid gray;box-sizing: border-box;top: 0;bottom: 0;left: 50%;z-index: -1;}#sk-container-id-13 div.sk-parallel-item {display: flex;flex-direction: column;z-index: 1;position: relative;background-color: white;}#sk-container-id-13 div.sk-parallel-item:first-child::after {align-self: flex-end;width: 50%;}#sk-container-id-13 div.sk-parallel-item:last-child::after {align-self: flex-start;width: 50%;}#sk-container-id-13 div.sk-parallel-item:only-child::after {width: 0;}#sk-container-id-13 div.sk-dashed-wrapped {border: 1px dashed gray;margin: 0 0.4em 0.5em 0.4em;box-sizing: border-box;padding-bottom: 0.4em;background-color: white;}#sk-container-id-13 div.sk-label label {font-family: monospace;font-weight: bold;display: inline-block;line-height: 1.2em;}#sk-container-id-13 div.sk-label-container {text-align: center;}#sk-container-id-13 div.sk-container {/* jupyter's `normalize.less` sets `[hidden] { display: none; }` but bootstrap.min.css set `[hidden] { display: none !important; }` so we also need the `!important` here to be able to override the default hidden behavior on the sphinx rendered scikit-learn.org. See: https://github.com/scikit-learn/scikit-learn/issues/21755 */display: inline-block !important;position: relative;}#sk-container-id-13 div.sk-text-repr-fallback {display: none;}</style><div id=\"sk-container-id-13\" class=\"sk-top-container\"><div class=\"sk-text-repr-fallback\"><pre>Pipeline(steps=[(&#x27;preprocessor&#x27;,\n",
       "                 ColumnTransformer(transformers=[(&#x27;standar_budget&#x27;,\n",
       "                                                  StandardScaler(),\n",
       "                                                  [&#x27;BUDGET&#x27;]),\n",
       "                                                 (&#x27;standar_soon&#x27;,\n",
       "                                                  StandardScaler(),\n",
       "                                                  [&#x27;CMNGSOON&#x27;]),\n",
       "                                                 (&#x27;standar_dango&#x27;,\n",
       "                                                  StandardScaler(),\n",
       "                                                  [&#x27;FANDANGO&#x27;]),\n",
       "                                                 (&#x27;standar_wait&#x27;,\n",
       "                                                  StandardScaler(),\n",
       "                                                  [&#x27;CNTWAIT3&#x27;])])),\n",
       "                (&#x27;adaboost&#x27;,\n",
       "                 TransformedTargetRegressor(func=&lt;function &lt;lambda&gt; at 0x0000013934B25300&gt;,\n",
       "                                            inverse_func=&lt;function &lt;lambda&gt; at 0x0000013934AD9BC0&gt;,\n",
       "                                            regressor=GradientBoostingRegressor(random_state=1234)))])</pre><b>In a Jupyter environment, please rerun this cell to show the HTML representation or trust the notebook. <br />On GitHub, the HTML representation is unable to render, please try loading this page with nbviewer.org.</b></div><div class=\"sk-container\" hidden><div class=\"sk-item sk-dashed-wrapped\"><div class=\"sk-label-container\"><div class=\"sk-label sk-toggleable\"><input class=\"sk-toggleable__control sk-hidden--visually\" id=\"sk-estimator-id-157\" type=\"checkbox\" ><label for=\"sk-estimator-id-157\" class=\"sk-toggleable__label sk-toggleable__label-arrow\">Pipeline</label><div class=\"sk-toggleable__content\"><pre>Pipeline(steps=[(&#x27;preprocessor&#x27;,\n",
       "                 ColumnTransformer(transformers=[(&#x27;standar_budget&#x27;,\n",
       "                                                  StandardScaler(),\n",
       "                                                  [&#x27;BUDGET&#x27;]),\n",
       "                                                 (&#x27;standar_soon&#x27;,\n",
       "                                                  StandardScaler(),\n",
       "                                                  [&#x27;CMNGSOON&#x27;]),\n",
       "                                                 (&#x27;standar_dango&#x27;,\n",
       "                                                  StandardScaler(),\n",
       "                                                  [&#x27;FANDANGO&#x27;]),\n",
       "                                                 (&#x27;standar_wait&#x27;,\n",
       "                                                  StandardScaler(),\n",
       "                                                  [&#x27;CNTWAIT3&#x27;])])),\n",
       "                (&#x27;adaboost&#x27;,\n",
       "                 TransformedTargetRegressor(func=&lt;function &lt;lambda&gt; at 0x0000013934B25300&gt;,\n",
       "                                            inverse_func=&lt;function &lt;lambda&gt; at 0x0000013934AD9BC0&gt;,\n",
       "                                            regressor=GradientBoostingRegressor(random_state=1234)))])</pre></div></div></div><div class=\"sk-serial\"><div class=\"sk-item sk-dashed-wrapped\"><div class=\"sk-label-container\"><div class=\"sk-label sk-toggleable\"><input class=\"sk-toggleable__control sk-hidden--visually\" id=\"sk-estimator-id-158\" type=\"checkbox\" ><label for=\"sk-estimator-id-158\" class=\"sk-toggleable__label sk-toggleable__label-arrow\">preprocessor: ColumnTransformer</label><div class=\"sk-toggleable__content\"><pre>ColumnTransformer(transformers=[(&#x27;standar_budget&#x27;, StandardScaler(),\n",
       "                                 [&#x27;BUDGET&#x27;]),\n",
       "                                (&#x27;standar_soon&#x27;, StandardScaler(),\n",
       "                                 [&#x27;CMNGSOON&#x27;]),\n",
       "                                (&#x27;standar_dango&#x27;, StandardScaler(),\n",
       "                                 [&#x27;FANDANGO&#x27;]),\n",
       "                                (&#x27;standar_wait&#x27;, StandardScaler(),\n",
       "                                 [&#x27;CNTWAIT3&#x27;])])</pre></div></div></div><div class=\"sk-parallel\"><div class=\"sk-parallel-item\"><div class=\"sk-item\"><div class=\"sk-label-container\"><div class=\"sk-label sk-toggleable\"><input class=\"sk-toggleable__control sk-hidden--visually\" id=\"sk-estimator-id-159\" type=\"checkbox\" ><label for=\"sk-estimator-id-159\" class=\"sk-toggleable__label sk-toggleable__label-arrow\">standar_budget</label><div class=\"sk-toggleable__content\"><pre>[&#x27;BUDGET&#x27;]</pre></div></div></div><div class=\"sk-serial\"><div class=\"sk-item\"><div class=\"sk-estimator sk-toggleable\"><input class=\"sk-toggleable__control sk-hidden--visually\" id=\"sk-estimator-id-160\" type=\"checkbox\" ><label for=\"sk-estimator-id-160\" class=\"sk-toggleable__label sk-toggleable__label-arrow\">StandardScaler</label><div class=\"sk-toggleable__content\"><pre>StandardScaler()</pre></div></div></div></div></div></div><div class=\"sk-parallel-item\"><div class=\"sk-item\"><div class=\"sk-label-container\"><div class=\"sk-label sk-toggleable\"><input class=\"sk-toggleable__control sk-hidden--visually\" id=\"sk-estimator-id-161\" type=\"checkbox\" ><label for=\"sk-estimator-id-161\" class=\"sk-toggleable__label sk-toggleable__label-arrow\">standar_soon</label><div class=\"sk-toggleable__content\"><pre>[&#x27;CMNGSOON&#x27;]</pre></div></div></div><div class=\"sk-serial\"><div class=\"sk-item\"><div class=\"sk-estimator sk-toggleable\"><input class=\"sk-toggleable__control sk-hidden--visually\" id=\"sk-estimator-id-162\" type=\"checkbox\" ><label for=\"sk-estimator-id-162\" class=\"sk-toggleable__label sk-toggleable__label-arrow\">StandardScaler</label><div class=\"sk-toggleable__content\"><pre>StandardScaler()</pre></div></div></div></div></div></div><div class=\"sk-parallel-item\"><div class=\"sk-item\"><div class=\"sk-label-container\"><div class=\"sk-label sk-toggleable\"><input class=\"sk-toggleable__control sk-hidden--visually\" id=\"sk-estimator-id-163\" type=\"checkbox\" ><label for=\"sk-estimator-id-163\" class=\"sk-toggleable__label sk-toggleable__label-arrow\">standar_dango</label><div class=\"sk-toggleable__content\"><pre>[&#x27;FANDANGO&#x27;]</pre></div></div></div><div class=\"sk-serial\"><div class=\"sk-item\"><div class=\"sk-estimator sk-toggleable\"><input class=\"sk-toggleable__control sk-hidden--visually\" id=\"sk-estimator-id-164\" type=\"checkbox\" ><label for=\"sk-estimator-id-164\" class=\"sk-toggleable__label sk-toggleable__label-arrow\">StandardScaler</label><div class=\"sk-toggleable__content\"><pre>StandardScaler()</pre></div></div></div></div></div></div><div class=\"sk-parallel-item\"><div class=\"sk-item\"><div class=\"sk-label-container\"><div class=\"sk-label sk-toggleable\"><input class=\"sk-toggleable__control sk-hidden--visually\" id=\"sk-estimator-id-165\" type=\"checkbox\" ><label for=\"sk-estimator-id-165\" class=\"sk-toggleable__label sk-toggleable__label-arrow\">standar_wait</label><div class=\"sk-toggleable__content\"><pre>[&#x27;CNTWAIT3&#x27;]</pre></div></div></div><div class=\"sk-serial\"><div class=\"sk-item\"><div class=\"sk-estimator sk-toggleable\"><input class=\"sk-toggleable__control sk-hidden--visually\" id=\"sk-estimator-id-166\" type=\"checkbox\" ><label for=\"sk-estimator-id-166\" class=\"sk-toggleable__label sk-toggleable__label-arrow\">StandardScaler</label><div class=\"sk-toggleable__content\"><pre>StandardScaler()</pre></div></div></div></div></div></div></div></div><div class=\"sk-item sk-dashed-wrapped\"><div class=\"sk-label-container\"><div class=\"sk-label sk-toggleable\"><input class=\"sk-toggleable__control sk-hidden--visually\" id=\"sk-estimator-id-167\" type=\"checkbox\" ><label for=\"sk-estimator-id-167\" class=\"sk-toggleable__label sk-toggleable__label-arrow\">adaboost: TransformedTargetRegressor</label><div class=\"sk-toggleable__content\"><pre>TransformedTargetRegressor(func=&lt;function &lt;lambda&gt; at 0x0000013934B25300&gt;,\n",
       "                           inverse_func=&lt;function &lt;lambda&gt; at 0x0000013934AD9BC0&gt;,\n",
       "                           regressor=GradientBoostingRegressor(random_state=1234))</pre></div></div></div><div class=\"sk-parallel\"><div class=\"sk-parallel-item\"><div class=\"sk-item\"><div class=\"sk-label-container\"><div class=\"sk-label sk-toggleable\"><input class=\"sk-toggleable__control sk-hidden--visually\" id=\"sk-estimator-id-168\" type=\"checkbox\" ><label for=\"sk-estimator-id-168\" class=\"sk-toggleable__label sk-toggleable__label-arrow\">regressor: GradientBoostingRegressor</label><div class=\"sk-toggleable__content\"><pre>GradientBoostingRegressor(random_state=1234)</pre></div></div></div><div class=\"sk-serial\"><div class=\"sk-item\"><div class=\"sk-estimator sk-toggleable\"><input class=\"sk-toggleable__control sk-hidden--visually\" id=\"sk-estimator-id-169\" type=\"checkbox\" ><label for=\"sk-estimator-id-169\" class=\"sk-toggleable__label sk-toggleable__label-arrow\">GradientBoostingRegressor</label><div class=\"sk-toggleable__content\"><pre>GradientBoostingRegressor(random_state=1234)</pre></div></div></div></div></div></div></div></div></div></div></div></div>"
      ],
      "text/plain": [
       "Pipeline(steps=[('preprocessor',\n",
       "                 ColumnTransformer(transformers=[('standar_budget',\n",
       "                                                  StandardScaler(),\n",
       "                                                  ['BUDGET']),\n",
       "                                                 ('standar_soon',\n",
       "                                                  StandardScaler(),\n",
       "                                                  ['CMNGSOON']),\n",
       "                                                 ('standar_dango',\n",
       "                                                  StandardScaler(),\n",
       "                                                  ['FANDANGO']),\n",
       "                                                 ('standar_wait',\n",
       "                                                  StandardScaler(),\n",
       "                                                  ['CNTWAIT3'])])),\n",
       "                ('adaboost',\n",
       "                 TransformedTargetRegressor(func=<function <lambda> at 0x0000013934B25300>,\n",
       "                                            inverse_func=<function <lambda> at 0x0000013934AD9BC0>,\n",
       "                                            regressor=GradientBoostingRegressor(random_state=1234)))])"
      ]
     },
     "execution_count": 126,
     "metadata": {},
     "output_type": "execute_result"
    }
   ],
   "source": [
    "model.fit(X_train, y_train)"
   ]
  },
  {
   "cell_type": "code",
   "execution_count": 124,
   "metadata": {},
   "outputs": [
    {
     "name": "stdout",
     "output_type": "stream",
     "text": [
      "Mean Absolute Error: $9,478\n",
      "Mean Absolute Percentage Error: 79.97%\n"
     ]
    }
   ],
   "source": [
    "y_predict = model.predict(X_test)\n",
    "print(\"Mean Absolute Error: ${:,.0f}\".format(\n",
    "    mean_absolute_error(y_test, y_predict))\n",
    "    )\n",
    "print(\"Mean Absolute Percentage Error: {:.2%}\".format(\n",
    "    mean_absolute_percentage_error(y_test, y_predict)))"
   ]
  },
  {
   "cell_type": "code",
   "execution_count": 71,
   "metadata": {},
   "outputs": [],
   "source": [
    "pipeline = Pipeline([('preprocessor', preprocessor),\n",
    "                 ('gradient', GradientBoostingRegressor(n_estimators=100, random_state=1234))])\n",
    "\n",
    "transformed = TransformedTargetRegressor(\n",
    "    regressor=pipeline,\n",
    "    func=lambda x:np.log(x),\n",
    "    inverse_func=lambda x:np.exp(x))                 "
   ]
  },
  {
   "cell_type": "code",
   "execution_count": 93,
   "metadata": {},
   "outputs": [],
   "source": [
    "param_distributions = {\n",
    "    \"regressor__gradient__n_estimators\":stats.randint(100, 400), \n",
    "    \"regressor__gradient__learning_rate\": stats.uniform(scale=1, loc =0),\n",
    "    'regressor__gradient__max_depth': stats.randint(5, 20),\n",
    "    'regressor__gradient__min_samples_split': stats.randint(1, 10),\n",
    "    'regressor__gradient__min_samples_leaf': stats.randint(1, 10),\n",
    "    'regressor__gradient__subsample': stats.uniform(scale=1, loc =0)\n",
    "}\n",
    "\n",
    "grid_search = RandomizedSearchCV(\n",
    "    transformed, param_distributions=param_distributions, scoring='neg_mean_absolute_error', n_iter=100\n",
    ")"
   ]
  },
  {
   "cell_type": "code",
   "execution_count": 94,
   "metadata": {},
   "outputs": [
    {
     "data": {
      "text/html": [
       "<style>#sk-container-id-4 {color: black;background-color: white;}#sk-container-id-4 pre{padding: 0;}#sk-container-id-4 div.sk-toggleable {background-color: white;}#sk-container-id-4 label.sk-toggleable__label {cursor: pointer;display: block;width: 100%;margin-bottom: 0;padding: 0.3em;box-sizing: border-box;text-align: center;}#sk-container-id-4 label.sk-toggleable__label-arrow:before {content: \"▸\";float: left;margin-right: 0.25em;color: #696969;}#sk-container-id-4 label.sk-toggleable__label-arrow:hover:before {color: black;}#sk-container-id-4 div.sk-estimator:hover label.sk-toggleable__label-arrow:before {color: black;}#sk-container-id-4 div.sk-toggleable__content {max-height: 0;max-width: 0;overflow: hidden;text-align: left;background-color: #f0f8ff;}#sk-container-id-4 div.sk-toggleable__content pre {margin: 0.2em;color: black;border-radius: 0.25em;background-color: #f0f8ff;}#sk-container-id-4 input.sk-toggleable__control:checked~div.sk-toggleable__content {max-height: 200px;max-width: 100%;overflow: auto;}#sk-container-id-4 input.sk-toggleable__control:checked~label.sk-toggleable__label-arrow:before {content: \"▾\";}#sk-container-id-4 div.sk-estimator input.sk-toggleable__control:checked~label.sk-toggleable__label {background-color: #d4ebff;}#sk-container-id-4 div.sk-label input.sk-toggleable__control:checked~label.sk-toggleable__label {background-color: #d4ebff;}#sk-container-id-4 input.sk-hidden--visually {border: 0;clip: rect(1px 1px 1px 1px);clip: rect(1px, 1px, 1px, 1px);height: 1px;margin: -1px;overflow: hidden;padding: 0;position: absolute;width: 1px;}#sk-container-id-4 div.sk-estimator {font-family: monospace;background-color: #f0f8ff;border: 1px dotted black;border-radius: 0.25em;box-sizing: border-box;margin-bottom: 0.5em;}#sk-container-id-4 div.sk-estimator:hover {background-color: #d4ebff;}#sk-container-id-4 div.sk-parallel-item::after {content: \"\";width: 100%;border-bottom: 1px solid gray;flex-grow: 1;}#sk-container-id-4 div.sk-label:hover label.sk-toggleable__label {background-color: #d4ebff;}#sk-container-id-4 div.sk-serial::before {content: \"\";position: absolute;border-left: 1px solid gray;box-sizing: border-box;top: 0;bottom: 0;left: 50%;z-index: 0;}#sk-container-id-4 div.sk-serial {display: flex;flex-direction: column;align-items: center;background-color: white;padding-right: 0.2em;padding-left: 0.2em;position: relative;}#sk-container-id-4 div.sk-item {position: relative;z-index: 1;}#sk-container-id-4 div.sk-parallel {display: flex;align-items: stretch;justify-content: center;background-color: white;position: relative;}#sk-container-id-4 div.sk-item::before, #sk-container-id-4 div.sk-parallel-item::before {content: \"\";position: absolute;border-left: 1px solid gray;box-sizing: border-box;top: 0;bottom: 0;left: 50%;z-index: -1;}#sk-container-id-4 div.sk-parallel-item {display: flex;flex-direction: column;z-index: 1;position: relative;background-color: white;}#sk-container-id-4 div.sk-parallel-item:first-child::after {align-self: flex-end;width: 50%;}#sk-container-id-4 div.sk-parallel-item:last-child::after {align-self: flex-start;width: 50%;}#sk-container-id-4 div.sk-parallel-item:only-child::after {width: 0;}#sk-container-id-4 div.sk-dashed-wrapped {border: 1px dashed gray;margin: 0 0.4em 0.5em 0.4em;box-sizing: border-box;padding-bottom: 0.4em;background-color: white;}#sk-container-id-4 div.sk-label label {font-family: monospace;font-weight: bold;display: inline-block;line-height: 1.2em;}#sk-container-id-4 div.sk-label-container {text-align: center;}#sk-container-id-4 div.sk-container {/* jupyter's `normalize.less` sets `[hidden] { display: none; }` but bootstrap.min.css set `[hidden] { display: none !important; }` so we also need the `!important` here to be able to override the default hidden behavior on the sphinx rendered scikit-learn.org. See: https://github.com/scikit-learn/scikit-learn/issues/21755 */display: inline-block !important;position: relative;}#sk-container-id-4 div.sk-text-repr-fallback {display: none;}</style><div id=\"sk-container-id-4\" class=\"sk-top-container\"><div class=\"sk-text-repr-fallback\"><pre>RandomizedSearchCV(estimator=TransformedTargetRegressor(func=&lt;function &lt;lambda&gt; at 0x0000013931F92A20&gt;,\n",
       "                                                        inverse_func=&lt;function &lt;lambda&gt; at 0x0000013931F91440&gt;,\n",
       "                                                        regressor=Pipeline(steps=[(&#x27;preprocessor&#x27;,\n",
       "                                                                                   ColumnTransformer(transformers=[(&#x27;standar_budget&#x27;,\n",
       "                                                                                                                    StandardScaler(),\n",
       "                                                                                                                    [&#x27;BUDGET&#x27;]),\n",
       "                                                                                                                   (&#x27;standar_soon&#x27;,\n",
       "                                                                                                                    StandardScaler(),\n",
       "                                                                                                                    [&#x27;CMNGSOON&#x27;]),\n",
       "                                                                                                                   (&#x27;standar_dango&#x27;,\n",
       "                                                                                                                    StandardScale...\n",
       "                                        &#x27;regressor__gradient__min_samples_split&#x27;: &lt;scipy.stats._distn_infrastructure.rv_discrete_frozen object at 0x0000013931FC2690&gt;,\n",
       "                                        &#x27;regressor__gradient__n_estimators&#x27;: &lt;scipy.stats._distn_infrastructure.rv_discrete_frozen object at 0x0000013931FB3CD0&gt;,\n",
       "                                        &#x27;regressor__gradient__subsample&#x27;: &lt;scipy.stats._distn_infrastructure.rv_continuous_frozen object at 0x0000013934949690&gt;},\n",
       "                   scoring=&#x27;neg_mean_absolute_error&#x27;)</pre><b>In a Jupyter environment, please rerun this cell to show the HTML representation or trust the notebook. <br />On GitHub, the HTML representation is unable to render, please try loading this page with nbviewer.org.</b></div><div class=\"sk-container\" hidden><div class=\"sk-item sk-dashed-wrapped\"><div class=\"sk-label-container\"><div class=\"sk-label sk-toggleable\"><input class=\"sk-toggleable__control sk-hidden--visually\" id=\"sk-estimator-id-40\" type=\"checkbox\" ><label for=\"sk-estimator-id-40\" class=\"sk-toggleable__label sk-toggleable__label-arrow\">RandomizedSearchCV</label><div class=\"sk-toggleable__content\"><pre>RandomizedSearchCV(estimator=TransformedTargetRegressor(func=&lt;function &lt;lambda&gt; at 0x0000013931F92A20&gt;,\n",
       "                                                        inverse_func=&lt;function &lt;lambda&gt; at 0x0000013931F91440&gt;,\n",
       "                                                        regressor=Pipeline(steps=[(&#x27;preprocessor&#x27;,\n",
       "                                                                                   ColumnTransformer(transformers=[(&#x27;standar_budget&#x27;,\n",
       "                                                                                                                    StandardScaler(),\n",
       "                                                                                                                    [&#x27;BUDGET&#x27;]),\n",
       "                                                                                                                   (&#x27;standar_soon&#x27;,\n",
       "                                                                                                                    StandardScaler(),\n",
       "                                                                                                                    [&#x27;CMNGSOON&#x27;]),\n",
       "                                                                                                                   (&#x27;standar_dango&#x27;,\n",
       "                                                                                                                    StandardScale...\n",
       "                                        &#x27;regressor__gradient__min_samples_split&#x27;: &lt;scipy.stats._distn_infrastructure.rv_discrete_frozen object at 0x0000013931FC2690&gt;,\n",
       "                                        &#x27;regressor__gradient__n_estimators&#x27;: &lt;scipy.stats._distn_infrastructure.rv_discrete_frozen object at 0x0000013931FB3CD0&gt;,\n",
       "                                        &#x27;regressor__gradient__subsample&#x27;: &lt;scipy.stats._distn_infrastructure.rv_continuous_frozen object at 0x0000013934949690&gt;},\n",
       "                   scoring=&#x27;neg_mean_absolute_error&#x27;)</pre></div></div></div><div class=\"sk-parallel\"><div class=\"sk-parallel-item\"><div class=\"sk-item\"><div class=\"sk-label-container\"><div class=\"sk-label sk-toggleable\"><input class=\"sk-toggleable__control sk-hidden--visually\" id=\"sk-estimator-id-41\" type=\"checkbox\" ><label for=\"sk-estimator-id-41\" class=\"sk-toggleable__label sk-toggleable__label-arrow\">estimator: TransformedTargetRegressor</label><div class=\"sk-toggleable__content\"><pre>TransformedTargetRegressor(func=&lt;function &lt;lambda&gt; at 0x0000013931F92A20&gt;,\n",
       "                           inverse_func=&lt;function &lt;lambda&gt; at 0x0000013931F91440&gt;,\n",
       "                           regressor=Pipeline(steps=[(&#x27;preprocessor&#x27;,\n",
       "                                                      ColumnTransformer(transformers=[(&#x27;standar_budget&#x27;,\n",
       "                                                                                       StandardScaler(),\n",
       "                                                                                       [&#x27;BUDGET&#x27;]),\n",
       "                                                                                      (&#x27;standar_soon&#x27;,\n",
       "                                                                                       StandardScaler(),\n",
       "                                                                                       [&#x27;CMNGSOON&#x27;]),\n",
       "                                                                                      (&#x27;standar_dango&#x27;,\n",
       "                                                                                       StandardScaler(),\n",
       "                                                                                       [&#x27;FANDANGO&#x27;]),\n",
       "                                                                                      (&#x27;standar_wait&#x27;,\n",
       "                                                                                       StandardScaler(),\n",
       "                                                                                       [&#x27;CNTWAIT3&#x27;])])),\n",
       "                                                     (&#x27;gradient&#x27;,\n",
       "                                                      GradientBoostingRegressor(random_state=1234))]))</pre></div></div></div><div class=\"sk-serial\"><div class=\"sk-item sk-dashed-wrapped\"><div class=\"sk-parallel\"><div class=\"sk-parallel-item\"><div class=\"sk-item\"><div class=\"sk-label-container\"><div class=\"sk-label sk-toggleable\"><input class=\"sk-toggleable__control sk-hidden--visually\" id=\"sk-estimator-id-42\" type=\"checkbox\" ><label for=\"sk-estimator-id-42\" class=\"sk-toggleable__label sk-toggleable__label-arrow\">regressor: Pipeline</label><div class=\"sk-toggleable__content\"><pre>Pipeline(steps=[(&#x27;preprocessor&#x27;,\n",
       "                 ColumnTransformer(transformers=[(&#x27;standar_budget&#x27;,\n",
       "                                                  StandardScaler(),\n",
       "                                                  [&#x27;BUDGET&#x27;]),\n",
       "                                                 (&#x27;standar_soon&#x27;,\n",
       "                                                  StandardScaler(),\n",
       "                                                  [&#x27;CMNGSOON&#x27;]),\n",
       "                                                 (&#x27;standar_dango&#x27;,\n",
       "                                                  StandardScaler(),\n",
       "                                                  [&#x27;FANDANGO&#x27;]),\n",
       "                                                 (&#x27;standar_wait&#x27;,\n",
       "                                                  StandardScaler(),\n",
       "                                                  [&#x27;CNTWAIT3&#x27;])])),\n",
       "                (&#x27;gradient&#x27;, GradientBoostingRegressor(random_state=1234))])</pre></div></div></div><div class=\"sk-serial\"><div class=\"sk-item\"><div class=\"sk-serial\"><div class=\"sk-item sk-dashed-wrapped\"><div class=\"sk-label-container\"><div class=\"sk-label sk-toggleable\"><input class=\"sk-toggleable__control sk-hidden--visually\" id=\"sk-estimator-id-43\" type=\"checkbox\" ><label for=\"sk-estimator-id-43\" class=\"sk-toggleable__label sk-toggleable__label-arrow\">preprocessor: ColumnTransformer</label><div class=\"sk-toggleable__content\"><pre>ColumnTransformer(transformers=[(&#x27;standar_budget&#x27;, StandardScaler(),\n",
       "                                 [&#x27;BUDGET&#x27;]),\n",
       "                                (&#x27;standar_soon&#x27;, StandardScaler(),\n",
       "                                 [&#x27;CMNGSOON&#x27;]),\n",
       "                                (&#x27;standar_dango&#x27;, StandardScaler(),\n",
       "                                 [&#x27;FANDANGO&#x27;]),\n",
       "                                (&#x27;standar_wait&#x27;, StandardScaler(),\n",
       "                                 [&#x27;CNTWAIT3&#x27;])])</pre></div></div></div><div class=\"sk-parallel\"><div class=\"sk-parallel-item\"><div class=\"sk-item\"><div class=\"sk-label-container\"><div class=\"sk-label sk-toggleable\"><input class=\"sk-toggleable__control sk-hidden--visually\" id=\"sk-estimator-id-44\" type=\"checkbox\" ><label for=\"sk-estimator-id-44\" class=\"sk-toggleable__label sk-toggleable__label-arrow\">standar_budget</label><div class=\"sk-toggleable__content\"><pre>[&#x27;BUDGET&#x27;]</pre></div></div></div><div class=\"sk-serial\"><div class=\"sk-item\"><div class=\"sk-estimator sk-toggleable\"><input class=\"sk-toggleable__control sk-hidden--visually\" id=\"sk-estimator-id-45\" type=\"checkbox\" ><label for=\"sk-estimator-id-45\" class=\"sk-toggleable__label sk-toggleable__label-arrow\">StandardScaler</label><div class=\"sk-toggleable__content\"><pre>StandardScaler()</pre></div></div></div></div></div></div><div class=\"sk-parallel-item\"><div class=\"sk-item\"><div class=\"sk-label-container\"><div class=\"sk-label sk-toggleable\"><input class=\"sk-toggleable__control sk-hidden--visually\" id=\"sk-estimator-id-46\" type=\"checkbox\" ><label for=\"sk-estimator-id-46\" class=\"sk-toggleable__label sk-toggleable__label-arrow\">standar_soon</label><div class=\"sk-toggleable__content\"><pre>[&#x27;CMNGSOON&#x27;]</pre></div></div></div><div class=\"sk-serial\"><div class=\"sk-item\"><div class=\"sk-estimator sk-toggleable\"><input class=\"sk-toggleable__control sk-hidden--visually\" id=\"sk-estimator-id-47\" type=\"checkbox\" ><label for=\"sk-estimator-id-47\" class=\"sk-toggleable__label sk-toggleable__label-arrow\">StandardScaler</label><div class=\"sk-toggleable__content\"><pre>StandardScaler()</pre></div></div></div></div></div></div><div class=\"sk-parallel-item\"><div class=\"sk-item\"><div class=\"sk-label-container\"><div class=\"sk-label sk-toggleable\"><input class=\"sk-toggleable__control sk-hidden--visually\" id=\"sk-estimator-id-48\" type=\"checkbox\" ><label for=\"sk-estimator-id-48\" class=\"sk-toggleable__label sk-toggleable__label-arrow\">standar_dango</label><div class=\"sk-toggleable__content\"><pre>[&#x27;FANDANGO&#x27;]</pre></div></div></div><div class=\"sk-serial\"><div class=\"sk-item\"><div class=\"sk-estimator sk-toggleable\"><input class=\"sk-toggleable__control sk-hidden--visually\" id=\"sk-estimator-id-49\" type=\"checkbox\" ><label for=\"sk-estimator-id-49\" class=\"sk-toggleable__label sk-toggleable__label-arrow\">StandardScaler</label><div class=\"sk-toggleable__content\"><pre>StandardScaler()</pre></div></div></div></div></div></div><div class=\"sk-parallel-item\"><div class=\"sk-item\"><div class=\"sk-label-container\"><div class=\"sk-label sk-toggleable\"><input class=\"sk-toggleable__control sk-hidden--visually\" id=\"sk-estimator-id-50\" type=\"checkbox\" ><label for=\"sk-estimator-id-50\" class=\"sk-toggleable__label sk-toggleable__label-arrow\">standar_wait</label><div class=\"sk-toggleable__content\"><pre>[&#x27;CNTWAIT3&#x27;]</pre></div></div></div><div class=\"sk-serial\"><div class=\"sk-item\"><div class=\"sk-estimator sk-toggleable\"><input class=\"sk-toggleable__control sk-hidden--visually\" id=\"sk-estimator-id-51\" type=\"checkbox\" ><label for=\"sk-estimator-id-51\" class=\"sk-toggleable__label sk-toggleable__label-arrow\">StandardScaler</label><div class=\"sk-toggleable__content\"><pre>StandardScaler()</pre></div></div></div></div></div></div></div></div><div class=\"sk-item\"><div class=\"sk-estimator sk-toggleable\"><input class=\"sk-toggleable__control sk-hidden--visually\" id=\"sk-estimator-id-52\" type=\"checkbox\" ><label for=\"sk-estimator-id-52\" class=\"sk-toggleable__label sk-toggleable__label-arrow\">GradientBoostingRegressor</label><div class=\"sk-toggleable__content\"><pre>GradientBoostingRegressor(random_state=1234)</pre></div></div></div></div></div></div></div></div></div></div></div></div></div></div></div></div></div>"
      ],
      "text/plain": [
       "RandomizedSearchCV(estimator=TransformedTargetRegressor(func=<function <lambda> at 0x0000013931F92A20>,\n",
       "                                                        inverse_func=<function <lambda> at 0x0000013931F91440>,\n",
       "                                                        regressor=Pipeline(steps=[('preprocessor',\n",
       "                                                                                   ColumnTransformer(transformers=[('standar_budget',\n",
       "                                                                                                                    StandardScaler(),\n",
       "                                                                                                                    ['BUDGET']),\n",
       "                                                                                                                   ('standar_soon',\n",
       "                                                                                                                    StandardScaler(),\n",
       "                                                                                                                    ['CMNGSOON']),\n",
       "                                                                                                                   ('standar_dango',\n",
       "                                                                                                                    StandardScale...\n",
       "                                        'regressor__gradient__min_samples_split': <scipy.stats._distn_infrastructure.rv_discrete_frozen object at 0x0000013931FC2690>,\n",
       "                                        'regressor__gradient__n_estimators': <scipy.stats._distn_infrastructure.rv_discrete_frozen object at 0x0000013931FB3CD0>,\n",
       "                                        'regressor__gradient__subsample': <scipy.stats._distn_infrastructure.rv_continuous_frozen object at 0x0000013934949690>},\n",
       "                   scoring='neg_mean_absolute_error')"
      ]
     },
     "execution_count": 94,
     "metadata": {},
     "output_type": "execute_result"
    }
   ],
   "source": [
    "grid_search.fit(X_train, y_train)"
   ]
  },
  {
   "cell_type": "code",
   "execution_count": 95,
   "metadata": {},
   "outputs": [
    {
     "name": "stdout",
     "output_type": "stream",
     "text": [
      "Best parameters found:  {'regressor__gradient__learning_rate': 0.33201489445202026, 'regressor__gradient__max_depth': 5, 'regressor__gradient__min_samples_leaf': 2, 'regressor__gradient__min_samples_split': 8, 'regressor__gradient__n_estimators': 398, 'regressor__gradient__subsample': 0.5225701969992871}\n",
      "Best cross-validation score:  -9889.08986007464\n"
     ]
    }
   ],
   "source": [
    "print(\"Best parameters found: \", grid_search.best_params_)\n",
    "print(\"Best cross-validation score: \", grid_search.best_score_)\n",
    "best_model = grid_search.best_estimator_"
   ]
  },
  {
   "cell_type": "code",
   "execution_count": 96,
   "metadata": {},
   "outputs": [
    {
     "name": "stdout",
     "output_type": "stream",
     "text": [
      "Mean Absolute Error: $6,824\n",
      "Mean Absolute Percentage Error: 71.41%\n"
     ]
    }
   ],
   "source": [
    "y_predict_best = best_model.predict(X_test)\n",
    "print(\"Mean Absolute Error: ${:,.0f}\".format(\n",
    "    mean_absolute_error(y_test, y_predict_best))\n",
    "    )\n",
    "print(\"Mean Absolute Percentage Error: {:.2%}\".format(\n",
    "    mean_absolute_percentage_error(y_test, y_predict_best)))"
   ]
  },
  {
   "cell_type": "markdown",
   "metadata": {},
   "source": [
    "Setting:\n",
    "1. *# Estimator*: number of trees\n",
    "2. *Learning Rate*: Rate at which the prediction is updated\n",
    "3. *Maximun Depth*: The depth of a node is the number of edges from the root node to that specific node.\n",
    "4. *Minimun Samples to Split*: The minimum number of samples required to split an internal node\n",
    "5. *Minimun Samples by Leaf*:The minimum number of samples required to be at a leaf node\n",
    "6. *Subsample*: The fraction of samples to be used for fitting the individual base learners"
   ]
  },
  {
   "attachments": {},
   "cell_type": "markdown",
   "metadata": {},
   "source": [
    "### Gradient Boosting Classifier"
   ]
  },
  {
   "attachments": {},
   "cell_type": "markdown",
   "metadata": {},
   "source": [
    "**Input** Data $\\{x_i, y_i\\}_{i=1}^{n}$ and a differentiable **Loss Function** $L(y_i, F(x))$\n",
    "\n",
    "The most common *loss function* used in classification problem is negative *log likelihood* of the $i^{th}$ observed data given the prediction. Here the $\\text{r.v.}$ is Bernoulli. \n",
    "\n",
    "- $L(y_i, p_i) = -[y_i \\log(p_i) + (1 - y_i) \\log(1 - p_i)]$\n",
    "\n",
    "In term of *log(odds)*, $odds = \\frac{p}{(1 - p)}$\n",
    "\n",
    "- $L (y_i, \\log(odds))= -y_i \\log(odds) + log(1 + e^{\\log(odds)} )$ and its derivative $\\frac{\\partial L}{\\partial log(odds)} = -y_i + \\frac{e^{log(odds)}}{ 1 + e^{log(odds)}}$. Recall,  $ \\frac{e^{log(odds)}}{ 1 + e^{log(odds)}} = p$, so the derivative can be rewritten like $\\frac{\\partial(L (y_i, \\log(odds)))}{\\partial \\log(odds)} =-y_i  + p_i$\n",
    "\n",
    "\n",
    "*Steps*\n",
    "\n",
    "- **Step 1**: Initialize model with a constant value: $F_0(x) = \\arg\\min_{\\gamma} \\sum_{i = 1}^{n} L(y_i, \\gamma)$. \n",
    "The loss function that we will use is in term of *log(odds)*. That means $\\gamma = log(p/1-p)$. \n",
    "So minimizing the *loss function* in term *log(odds)* we find the $p = \\frac{\\sum_{i=1}^{n} y_i}{n}$.\n",
    "\n",
    "<!-- So $F_0(x)$ is in term of *log(odds)*.  -->\n",
    "\n",
    "- **Step 2** for $m = 1$ to $M$:\n",
    "  - (A) Compute $r_{i,m} = -[\\frac{\\partial L(y_i, F(x_i))}{\\partial F(x_i)}]_{F(x) = F_{m-1}(x)}$ for $i = 1, ..., n$. \n",
    "  In actually, here the $r_{i,m} = y_i - p_{i,{m-1}}$. \n",
    "  This $p_{i,m-1}$ is compute using $F_{m-1}(x_i)$. \n",
    "  Recall $F_{m-1}(x_i)$ is term of *log(odds)*. \n",
    "  So the only we need is $ p_{i,m-1} = \\frac{ e^{F_{m-1}(x_i)}}{ 1 + e^{F_{m-1}(x_i)}}$\n",
    "  \n",
    "  - (B) Fit a regression tree to the $r_{im}$ values and create terminal regions $R_{jm}$ for $j=1,...,J_{m}$\n",
    "  - (C) For $j = 1, ... J_{m}$  compute $\\upsilon_{jm} = \\argmin_{\\upsilon}\\sum_{x_i \\in R_{ij}} L(y_i, F_{m-1}(x_i) + \\upsilon)$. \n",
    "  Here $\\upsilon$ handle what we need to improve the predictions. \n",
    "  $F_{m-1}(x_i)$ is given from the early iteration. \n",
    "  The derivative of $L(y_i, F_{m-1}(x_i) + \\upsilon)$ respect to $\\upsilon$. \n",
    "  Since is so difficult take the derivative of $L(y_i, F_{m-1}(x_i) + \\upsilon)$ respect to  $\\upsilon$ we take the aproximation of Taylor.\n",
    "  To use this aproximation we need to transform the default aproximation Taylor. The only change $x=z + a$.\n",
    "\n",
    "  $${\\displaystyle f(z+a)=f(a)+f'(a)(z)+{\\frac {f''(a)}{2!}}(z)^{2}+\\cdots +{\\frac {f^{(k)}(a)}{k!}}(z)^{k}+h_{k}(z+a)(z)^{k},}$$\n",
    "\n",
    "  The partial derivative $f'$ is respect to $z+a$\n",
    "  \n",
    "  The Taylor approximation used is of 2nd order and $f=L$, $a = F_{m-1}(x_i)$ and $z=\\upsilon$. \n",
    "  \n",
    "  $L(y_i, F_{m-1}(x_i) + \\upsilon) \\sim L(y_i, F_{m-1}(x_i)) +  L'(y_i, F_{m-1}(x_i)) \\upsilon +  L''(y_i, F_{m-1}(x_i)) \\upsilon^{2}/2$. \n",
    "  Taking the derivative respect to  $v$ we obtain $\\upsilon_{j,m} =  \\frac{-L'(y_i, F_{m-1}(x_i))}{L''(y_i, F_{m-1}(x_i))}$, $\\upsilon_{j,m} = \\frac{r_{im}}{p_{i}(1-p_{i})}$. If the terminal node would have one value ($i$ for example), this would be the actual value of $\\upsilon_{j,m} $, but terminal node usually have several values so in general, $\\upsilon_{j,m} = \\frac{ \\sum_{x_i \\in R_{jm}} r_{im}}{\\sum_{x_i \\in R_{jm}} (p_{i}(1-p_{i}))}$\n",
    "\n",
    "  - (D) Update $F_m(x_i) = F_{m-1}(x_i) + \\alpha \\sum_{j=1}^{J_m} \\upsilon_{j,m} \\: I(x_i \\in R_{jm})$  for $i = 1, ..., n$. \n",
    "- **Step 3**: Output $F_{M}(x)$\n"
   ]
  },
  {
   "cell_type": "markdown",
   "metadata": {},
   "source": [
    "<blockquote style=\"padding-right:2em; padding-left:1.5em; padding-bottom:0.5em; padding-top:0.5em; border:1px solid; font-family:Georgia,serif; border-color: #49768C; background-color: #FFFFFF; color: #000000\">\n",
    "<p><b>Teorema de Taylor.</b><sup id=\"cite_ref-2\" class=\"reference separada\"><a href=\"#cite_note-2\"><span class=\"corchete-llamada\">[</span>2<span class=\"corchete-llamada\">]</span></a></sup>​<sup id=\"cite_ref-3\" class=\"reference separada\"><a href=\"#cite_note-3\"><span class=\"corchete-llamada\">[</span>3<span class=\"corchete-llamada\">]</span></a></sup>​<sup id=\"cite_ref-4\" class=\"reference separada\"><a href=\"#cite_note-4\"><span class=\"corchete-llamada\">[</span>4<span class=\"corchete-llamada\">]</span></a></sup>​ Sea <span class=\"mwe-math-element\"><span class=\"mwe-math-mathml-inline mwe-math-mathml-a11y\" style=\"display: none;\"><math xmlns=\"http://www.w3.org/1998/Math/MathML\" alttext=\"{\\displaystyle k\\in \\mathbb {N} }\">\n",
    "  <semantics>\n",
    "    <mrow class=\"MJX-TeXAtom-ORD\">\n",
    "      <mstyle displaystyle=\"true\" scriptlevel=\"0\">\n",
    "        <mi>k</mi>\n",
    "        <mo>∈<!-- ∈ --></mo>\n",
    "        <mrow class=\"MJX-TeXAtom-ORD\">\n",
    "          <mi mathvariant=\"double-struck\">N</mi>\n",
    "        </mrow>\n",
    "      </mstyle>\n",
    "    </mrow>\n",
    "    <annotation encoding=\"application/x-tex\">{\\displaystyle k\\in \\mathbb {N} }</annotation>\n",
    "  </semantics>\n",
    "</math></span><img src=\"https://wikimedia.org/api/rest_v1/media/math/render/svg/2a5bc4b7383031ba693b7433198ead7170954c1d\" class=\"mwe-math-fallback-image-inline mw-invert\" aria-hidden=\"true\" style=\"vertical-align: -0.338ex; width:5.73ex; height:2.176ex;\" alt=\"{\\displaystyle k\\in \\mathbb {N} }\"></span> y sea  <span class=\"mwe-math-element\"><span class=\"mwe-math-mathml-inline mwe-math-mathml-a11y\" style=\"display: none;\"><math xmlns=\"http://www.w3.org/1998/Math/MathML\" alttext=\"{\\displaystyle f:\\mathbb {R} \\rightarrow \\mathbb {R} }\">\n",
    "  <semantics>\n",
    "    <mrow class=\"MJX-TeXAtom-ORD\">\n",
    "      <mstyle displaystyle=\"true\" scriptlevel=\"0\">\n",
    "        <mi>f</mi>\n",
    "        <mo>:</mo>\n",
    "        <mrow class=\"MJX-TeXAtom-ORD\">\n",
    "          <mi mathvariant=\"double-struck\">R</mi>\n",
    "        </mrow>\n",
    "        <mo stretchy=\"false\">→<!-- → --></mo>\n",
    "        <mrow class=\"MJX-TeXAtom-ORD\">\n",
    "          <mi mathvariant=\"double-struck\">R</mi>\n",
    "        </mrow>\n",
    "      </mstyle>\n",
    "    </mrow>\n",
    "    <annotation encoding=\"application/x-tex\">{\\displaystyle f:\\mathbb {R} \\rightarrow \\mathbb {R} }</annotation>\n",
    "  </semantics>\n",
    "</math></span><img src=\"https://wikimedia.org/api/rest_v1/media/math/render/svg/85e6e186aabef9e51814bbce62e625dc67e825f2\" class=\"mwe-math-fallback-image-inline mw-invert\" aria-hidden=\"true\" style=\"vertical-align: -0.671ex; width:10.186ex; height:2.509ex;\" alt=\"{\\displaystyle f:\\mathbb {R} \\rightarrow \\mathbb {R} }\"></span> una <a href=\"/wiki/Funci%C3%B3n_diferenciable\" title=\"Función diferenciable\">función diferenciable</a> <span class=\"mwe-math-element\"><span class=\"mwe-math-mathml-inline mwe-math-mathml-a11y\" style=\"display: none;\"><math xmlns=\"http://www.w3.org/1998/Math/MathML\" alttext=\"{\\displaystyle k}\">\n",
    "  <semantics>\n",
    "    <mrow class=\"MJX-TeXAtom-ORD\">\n",
    "      <mstyle displaystyle=\"true\" scriptlevel=\"0\">\n",
    "        <mi>k</mi>\n",
    "      </mstyle>\n",
    "    </mrow>\n",
    "    <annotation encoding=\"application/x-tex\">{\\displaystyle k}</annotation>\n",
    "  </semantics>\n",
    "</math></span><img src=\"https://wikimedia.org/api/rest_v1/media/math/render/svg/c3c9a2c7b599b37105512c5d570edc034056dd40\" class=\"mwe-math-fallback-image-inline mw-invert\" aria-hidden=\"true\" style=\"vertical-align: -0.338ex; width:1.211ex; height:2.176ex;\" alt=\"k\"></span> veces en el punto <span class=\"mwe-math-element\"><span class=\"mwe-math-mathml-inline mwe-math-mathml-a11y\" style=\"display: none;\"><math xmlns=\"http://www.w3.org/1998/Math/MathML\" alttext=\"{\\displaystyle a\\in \\mathbb {R} }\">\n",
    "  <semantics>\n",
    "    <mrow class=\"MJX-TeXAtom-ORD\">\n",
    "      <mstyle displaystyle=\"true\" scriptlevel=\"0\">\n",
    "        <mi>a</mi>\n",
    "        <mo>∈<!-- ∈ --></mo>\n",
    "        <mrow class=\"MJX-TeXAtom-ORD\">\n",
    "          <mi mathvariant=\"double-struck\">R</mi>\n",
    "        </mrow>\n",
    "      </mstyle>\n",
    "    </mrow>\n",
    "    <annotation encoding=\"application/x-tex\">{\\displaystyle a\\in \\mathbb {R} }</annotation>\n",
    "  </semantics>\n",
    "</math></span><img src=\"https://wikimedia.org/api/rest_v1/media/math/render/svg/b044c60e01b54c7116ee355431f37ed846badc53\" class=\"mwe-math-fallback-image-inline mw-invert\" aria-hidden=\"true\" style=\"vertical-align: -0.338ex; width:5.749ex; height:2.176ex;\" alt=\"{\\displaystyle a\\in \\mathbb {R} }\"></span>. Entonces existe una función <span class=\"mwe-math-element\"><span class=\"mwe-math-mathml-inline mwe-math-mathml-a11y\" style=\"display: none;\"><math xmlns=\"http://www.w3.org/1998/Math/MathML\" alttext=\"{\\displaystyle h_{k}:\\mathbb {R} \\rightarrow \\mathbb {R} }\">\n",
    "  <semantics>\n",
    "    <mrow class=\"MJX-TeXAtom-ORD\">\n",
    "      <mstyle displaystyle=\"true\" scriptlevel=\"0\">\n",
    "        <msub>\n",
    "          <mi>h</mi>\n",
    "          <mrow class=\"MJX-TeXAtom-ORD\">\n",
    "            <mi>k</mi>\n",
    "          </mrow>\n",
    "        </msub>\n",
    "        <mo>:</mo>\n",
    "        <mrow class=\"MJX-TeXAtom-ORD\">\n",
    "          <mi mathvariant=\"double-struck\">R</mi>\n",
    "        </mrow>\n",
    "        <mo stretchy=\"false\">→<!-- → --></mo>\n",
    "        <mrow class=\"MJX-TeXAtom-ORD\">\n",
    "          <mi mathvariant=\"double-struck\">R</mi>\n",
    "        </mrow>\n",
    "      </mstyle>\n",
    "    </mrow>\n",
    "    <annotation encoding=\"application/x-tex\">{\\displaystyle h_{k}:\\mathbb {R} \\rightarrow \\mathbb {R} }</annotation>\n",
    "  </semantics>\n",
    "</math></span><img src=\"https://wikimedia.org/api/rest_v1/media/math/render/svg/4047591d5605931df61d6a6b3df3c562d4855ad1\" class=\"mwe-math-fallback-image-inline mw-invert\" aria-hidden=\"true\" style=\"vertical-align: -0.671ex; width:11.335ex; height:2.509ex;\" alt=\"{\\displaystyle h_{k}:\\mathbb {R} \\rightarrow \\mathbb {R} }\"></span> tal que\n",
    "</p>\n",
    "<blockquote style=\"padding: 5px 10px; background-color: white; color: black; text-align: left; margin-left:30px; margin-bottom: 0.4em; margin-top:0.2em; min-width:50%;\">\n",
    "<p><span style=\"float: right; width: 10%; text-align: right;\">(<cite id=\"Equation_1\" style=\"font-style: normal;\"><a href=\"#Eqnref_1\">1</a></cite>)</span><span class=\"mwe-math-element\"><span class=\"mwe-math-mathml-inline mwe-math-mathml-a11y\" style=\"display: none;\"><math xmlns=\"http://www.w3.org/1998/Math/MathML\" alttext=\"{\\displaystyle f(x)=f(a)+f'(a)(x-a)+{\\frac {f''(a)}{2!}}(x-a)^{2}+\\cdots +{\\frac {f^{(k)}(a)}{k!}}(x-a)^{k}+h_{k}(x)(x-a)^{k},}\">\n",
    "  <semantics>\n",
    "    <mrow class=\"MJX-TeXAtom-ORD\">\n",
    "      <mstyle displaystyle=\"true\" scriptlevel=\"0\">\n",
    "        <mi>f</mi>\n",
    "        <mo stretchy=\"false\">(</mo>\n",
    "        <mi>x</mi>\n",
    "        <mo stretchy=\"false\">)</mo>\n",
    "        <mo>=</mo>\n",
    "        <mi>f</mi>\n",
    "        <mo stretchy=\"false\">(</mo>\n",
    "        <mi>a</mi>\n",
    "        <mo stretchy=\"false\">)</mo>\n",
    "        <mo>+</mo>\n",
    "        <msup>\n",
    "          <mi>f</mi>\n",
    "          <mo>′</mo>\n",
    "        </msup>\n",
    "        <mo stretchy=\"false\">(</mo>\n",
    "        <mi>a</mi>\n",
    "        <mo stretchy=\"false\">)</mo>\n",
    "        <mo stretchy=\"false\">(</mo>\n",
    "        <mi>x</mi>\n",
    "        <mo>−<!-- − --></mo>\n",
    "        <mi>a</mi>\n",
    "        <mo stretchy=\"false\">)</mo>\n",
    "        <mo>+</mo>\n",
    "        <mrow class=\"MJX-TeXAtom-ORD\">\n",
    "          <mfrac>\n",
    "            <mrow>\n",
    "              <msup>\n",
    "                <mi>f</mi>\n",
    "                <mo>″</mo>\n",
    "              </msup>\n",
    "              <mo stretchy=\"false\">(</mo>\n",
    "              <mi>a</mi>\n",
    "              <mo stretchy=\"false\">)</mo>\n",
    "            </mrow>\n",
    "            <mrow>\n",
    "              <mn>2</mn>\n",
    "              <mo>!</mo>\n",
    "            </mrow>\n",
    "          </mfrac>\n",
    "        </mrow>\n",
    "        <mo stretchy=\"false\">(</mo>\n",
    "        <mi>x</mi>\n",
    "        <mo>−<!-- − --></mo>\n",
    "        <mi>a</mi>\n",
    "        <msup>\n",
    "          <mo stretchy=\"false\">)</mo>\n",
    "          <mrow class=\"MJX-TeXAtom-ORD\">\n",
    "            <mn>2</mn>\n",
    "          </mrow>\n",
    "        </msup>\n",
    "        <mo>+</mo>\n",
    "        <mo>⋯<!-- ⋯ --></mo>\n",
    "        <mo>+</mo>\n",
    "        <mrow class=\"MJX-TeXAtom-ORD\">\n",
    "          <mfrac>\n",
    "            <mrow>\n",
    "              <msup>\n",
    "                <mi>f</mi>\n",
    "                <mrow class=\"MJX-TeXAtom-ORD\">\n",
    "                  <mo stretchy=\"false\">(</mo>\n",
    "                  <mi>k</mi>\n",
    "                  <mo stretchy=\"false\">)</mo>\n",
    "                </mrow>\n",
    "              </msup>\n",
    "              <mo stretchy=\"false\">(</mo>\n",
    "              <mi>a</mi>\n",
    "              <mo stretchy=\"false\">)</mo>\n",
    "            </mrow>\n",
    "            <mrow>\n",
    "              <mi>k</mi>\n",
    "              <mo>!</mo>\n",
    "            </mrow>\n",
    "          </mfrac>\n",
    "        </mrow>\n",
    "        <mo stretchy=\"false\">(</mo>\n",
    "        <mi>x</mi>\n",
    "        <mo>−<!-- − --></mo>\n",
    "        <mi>a</mi>\n",
    "        <msup>\n",
    "          <mo stretchy=\"false\">)</mo>\n",
    "          <mrow class=\"MJX-TeXAtom-ORD\">\n",
    "            <mi>k</mi>\n",
    "          </mrow>\n",
    "        </msup>\n",
    "        <mo>+</mo>\n",
    "        <msub>\n",
    "          <mi>h</mi>\n",
    "          <mrow class=\"MJX-TeXAtom-ORD\">\n",
    "            <mi>k</mi>\n",
    "          </mrow>\n",
    "        </msub>\n",
    "        <mo stretchy=\"false\">(</mo>\n",
    "        <mi>x</mi>\n",
    "        <mo stretchy=\"false\">)</mo>\n",
    "        <mo stretchy=\"false\">(</mo>\n",
    "        <mi>x</mi>\n",
    "        <mo>−<!-- − --></mo>\n",
    "        <mi>a</mi>\n",
    "        <msup>\n",
    "          <mo stretchy=\"false\">)</mo>\n",
    "          <mrow class=\"MJX-TeXAtom-ORD\">\n",
    "            <mi>k</mi>\n",
    "          </mrow>\n",
    "        </msup>\n",
    "        <mo>,</mo>\n",
    "      </mstyle>\n",
    "    </mrow>\n",
    "    <annotation encoding=\"application/x-tex\">{\\displaystyle f(x)=f(a)+f'(a)(x-a)+{\\frac {f''(a)}{2!}}(x-a)^{2}+\\cdots +{\\frac {f^{(k)}(a)}{k!}}(x-a)^{k}+h_{k}(x)(x-a)^{k},}</annotation>\n",
    "  </semantics>\n",
    "</math></span><img src=\"https://wikimedia.org/api/rest_v1/media/math/render/svg/f389ed8528adae7d53c2b9621b5aed2470f4c846\" class=\"mwe-math-fallback-image-inline mw-invert\" aria-hidden=\"true\" style=\"vertical-align: -2.005ex; width:85.982ex; height:6.176ex;\" alt=\"{\\displaystyle f(x)=f(a)+f'(a)(x-a)+{\\frac {f''(a)}{2!}}(x-a)^{2}+\\cdots +{\\frac {f^{(k)}(a)}{k!}}(x-a)^{k}+h_{k}(x)(x-a)^{k},}\"></span>\n",
    "</p>\n",
    "</blockquote>\n",
    "<p>con <span class=\"mwe-math-element\"><span class=\"mwe-math-mathml-inline mwe-math-mathml-a11y\" style=\"display: none;\"><math xmlns=\"http://www.w3.org/1998/Math/MathML\" alttext=\"{\\displaystyle \\quad \\lim _{x\\to a}h_{k}(x)=0}\">\n",
    "  <semantics>\n",
    "    <mrow class=\"MJX-TeXAtom-ORD\">\n",
    "      <mstyle displaystyle=\"true\" scriptlevel=\"0\">\n",
    "        <mspace width=\"1em\"></mspace>\n",
    "        <munder>\n",
    "          <mo movablelimits=\"true\" form=\"prefix\">lim</mo>\n",
    "          <mrow class=\"MJX-TeXAtom-ORD\">\n",
    "            <mi>x</mi>\n",
    "            <mo stretchy=\"false\">→<!-- → --></mo>\n",
    "            <mi>a</mi>\n",
    "          </mrow>\n",
    "        </munder>\n",
    "        <msub>\n",
    "          <mi>h</mi>\n",
    "          <mrow class=\"MJX-TeXAtom-ORD\">\n",
    "            <mi>k</mi>\n",
    "          </mrow>\n",
    "        </msub>\n",
    "        <mo stretchy=\"false\">(</mo>\n",
    "        <mi>x</mi>\n",
    "        <mo stretchy=\"false\">)</mo>\n",
    "        <mo>=</mo>\n",
    "        <mn>0</mn>\n",
    "      </mstyle>\n",
    "    </mrow>\n",
    "    <annotation encoding=\"application/x-tex\">{\\displaystyle \\quad \\lim _{x\\to a}h_{k}(x)=0}</annotation>\n",
    "  </semantics>\n",
    "</math></span><img src=\"https://wikimedia.org/api/rest_v1/media/math/render/svg/5276392f9a6df2eba8f9f839e7db7b74aec2b348\" class=\"mwe-math-fallback-image-inline mw-invert\" aria-hidden=\"true\" style=\"vertical-align: -1.838ex; width:15.99ex; height:3.843ex;\" alt=\"{\\displaystyle \\quad \\lim _{x\\to a}h_{k}(x)=0}\"></span>. Esta es la llamada <b>forma de <a href=\"/wiki/Peano\" class=\"mw-redirect\" title=\"Peano\">Peano</a> del resto</b>.\n",
    "</p>\n",
    "<p><br></p><div style=\"margin-top:-1em; text-align:right;\">Brook Taylor</div></blockquote>\n",
    "\n",
    "Source: https://es.wikipedia.org/wiki/Teorema_de_Taylor"
   ]
  },
  {
   "cell_type": "code",
   "execution_count": null,
   "metadata": {},
   "outputs": [],
   "source": []
  },
  {
   "cell_type": "code",
   "execution_count": null,
   "metadata": {},
   "outputs": [],
   "source": []
  },
  {
   "attachments": {},
   "cell_type": "markdown",
   "metadata": {},
   "source": [
    "### XGBoost"
   ]
  },
  {
   "cell_type": "markdown",
   "metadata": {},
   "source": [
    "Extreme Gradient Boost "
   ]
  },
  {
   "cell_type": "markdown",
   "metadata": {},
   "source": [
    "The default depth is 6 leves\n",
    "\n",
    "Prune:\n",
    "\n",
    "- if $\\text{Gain} - \\gamma$, the prunning go from leaves to root"
   ]
  },
  {
   "cell_type": "markdown",
   "metadata": {},
   "source": [
    "- The success of `XGBoost` is its scalability in all scenarios\n",
    "- 10x more faster and scale to billion of examples in distibuted memory or memory-limited."
   ]
  },
  {
   "cell_type": "markdown",
   "metadata": {},
   "source": [
    "Algorithm"
   ]
  },
  {
   "cell_type": "markdown",
   "metadata": {},
   "source": [
    "**Input:** Data $\\{(x_n, y_n) \\}^{N}_{n=1}$ and a differentiable Loss Function $l(F(x_n))$, where $\\{(x_n, y_n) \\}^{N}_{n=1}$ refer to training dataset. \n",
    "\n",
    "The most common *Loss function* for regression is $l(F(x)) = \\frac{(y - F(x))^{2}}{2} $ and the differentiable version is $\\frac{\\partial l}{\\partial F} = -(y - F(x)) $."
   ]
  },
  {
   "cell_type": "markdown",
   "metadata": {},
   "source": [
    "**Step 1:** Initialize model with a constant value: $F_0(x) = \\arg\\min_{\\gamma} \\sum_{n=1}^{N} L(y_n, \\gamma)$. \n",
    "\n",
    "We can solve it using derivative  $\\frac{\\partial \\sum_{n=1}^{N} L(y_n, \\gamma)}{\\partial \\gamma} = -\\sum_{n = 1}^{N}(y_n - \\gamma) = 0$ $\\rightarrow$ $\\gamma  = \\frac{\\sum_{n = 1}^{N} y_n}{N}  = F_0(x)$."
   ]
  },
  {
   "cell_type": "markdown",
   "metadata": {},
   "source": [
    "**Step 2:** For $m$ to $M$:\n",
    "\n",
    "<!-- - Compute $r_{nm} = - [\\frac{\\partial L(y_n, F(x_n))}{\\partial F(x_n)}]_{F(x)=F_{m-1}(x)} = -[-(y_n - F_{m - 1}(x_n))] = [y_n - F_{m - 1}(x_n)]  $ for $n$ to $N$ -->\n",
    "<!-- - Fit a regression tree to the $r_{nm}$ values and create terminal regions $R_{jm}$ for $j=1,...J_m$. Using this regions we can compute the next step -->\n",
    "- *The variable chosen and its split point must solve*: \n",
    "  $$ \\min\\sum_{n=1}^{N} l(F_{m-1}(x_n) + \\upsilon )  + \\alpha T_m + \\frac{1}{2}\\lambda ||\\upsilon||^2 $$\n",
    "  <!-- \\upsilon_{m}^{*} = \\argmin_{\\upsilon} -->\n",
    "  \n",
    "   `[1]`.\n",
    "   Where $T_m$ (the number of leaves in the nodes of the tree *m*) restrict the growth of the tree and $\\frac{1}{2}\\lambda ||\\upsilon||^2$ soft the predictions $\\upsilon$ in order to avoid the overfitting. To minimize the this regularized loss function we need to use the Taylor approximation. \n",
    "    <!-- .  For $j = 1, ... T_m$.  -->\n",
    "    <!-- L(F_{m - 1}(x) + \\upsilon) -->\n",
    "    <!-- \\frac{[y - (F_{m-1} (x) + \\upsilon)]^2}{2} -->\n",
    "   \n",
    "   > To use this aproximation we need to transform the default aproximation Taylor. The only change $x=z + a$.\n",
    "   > $${\\displaystyle f(z+a)=f(a)+f'(a)(z)+{\\frac {f''(a)}{2!}}(z)^{2}+\\cdots +{\\frac {f^{(k)}(a)}{k!}}(z)^{k}+h_{k}(z+a)(z)^{k},}$$\n",
    "   >\n",
    "   > The partial derivative $f'$ is respect to $z+a$\n",
    "   > \n",
    "   > The Taylor approximation used is of 2nd order and $f=l$, $a = F_{m-1}(x_n)$ and $z=\\upsilon$. \n",
    "   > \n",
    "   > $l(y_n, F_{m-1}(x_n) + \\upsilon) \\sim l(y_n, F_{m-1}(x_n)) +  l'(y_n, F_{m-1}(x_n)) \\upsilon +  l''(y_n, F_{m-1}(x_n)) \\upsilon^{2}/2$ `[2]`. \n",
    "   \n",
    "   A tree split the features space into $T_m$ *regions* (leaves or terminal nodes), for $m$ iteration. $R_1, R_2, ... R_{T_m}$. The shrinkage  $\\frac{1}{2}\\lambda v^{2}$ at level of terminal nodes, so, $\\frac{1}{2}\\lambda ||\\upsilon||^2$ convert to $\\sum_{j=1}^{T_m}\\frac{1}{2}\\lambda \\upsilon^2$. \n",
    "\n",
    "   So $\\sum_{n=1}^{N} l(F_{m-1}(x_n) + \\upsilon)$ can be written like $\\sum_{j=1}^{T_m}[ \\sum_{x_n \\in R_j} l(F_{m-1}(x_n) + \\upsilon_{jm} )]$\n",
    "\n",
    "   $$ \\min \\sum_{j=1}^{T_m}[ \\sum_{x_n \\in R_{jm}} l(F_{m-1}(x_n) + \\upsilon_{jm} )]  + \\alpha T_m + \\sum_{j=1}^{T_m}\\frac{1}{2}\\lambda \\upsilon_{jm}^2$$\n",
    "\n",
    "   $$ \\min \\sum_{j=1}^{T_m}[ \\sum_{x_n \\in R_{jm}} l(F_{m-1}(x_n) + \\upsilon_{jm} ) + \\frac{1}{2}\\lambda \\upsilon_{jm}^2]  + \\alpha T_m $$\n",
    "\n",
    "   The minimization at level of region assure the minimization at level of tree (under specific structure)\n",
    "   \n",
    "   If we plug the approximation here and take the derivative respect to  $v$ we obtain $\\upsilon_{j,m} =  \\frac{\\sum_{x_n \\in R_{jm}} -l'(y_n, F_{m-1}(x_n))}{[\\sum_{x_n \\in R_{jm}} l''(y_n, F_{m-1}(x_n))] + \\lambda}$ \n",
    "\n",
    "   $l'(y_n, F_{m-1}(x_n)) = \\frac{\\partial l(y_n, F_{m-1}(x_n))}{ \\partial F_{m-1}+ \\upsilon } = \\frac{\\frac{\\partial l(y_n, F_{m-1}(x_n))}{ \\partial F_{m-1}(x_n)}}{ \\frac{\\partial F_{m-1} (x_n)+ \\upsilon}{\\partial F_{m-1}(x_n) } } = \\frac{\\partial l(y_n, F_{m-1}(x_n))}{ \\partial F_{m-1} } = - (y_n - F_{m-1}(x_n))$, and $l''(y_n, F_{m-1}(x_n)) = 1$, $\\upsilon_{j,m} =  \\frac{y_n - F_{m-1}(x_n)}{1 + \\lambda}$\n",
    "\n",
    "   If was $\\lambda = 0$, the ouput is in actually, the average of $y_n - F_{m-1}(x_n) $ in each region. \n",
    "\n",
    "   The scoring function to measure the quality of an specific tree is \n",
    "   $$ - \\frac{1}{2}  \\sum_{j=1}^{T_m}  \\frac{(\\sum_{x_n \\in R_{jm}} -l'(y_n, F_{m-1}(x_n)))^{2}}{[\\sum_{x_n \\in R_{jm}} l''(y_n, F_{m-1}(x_n))] + \\lambda} + \\gamma T_m$$  \n",
    "<!--  $\\upsilon_{jm} = \\frac{\\sum_{x_n \\in R_{jm}} [y_n - F_{0}(x_n)]}{\\sum I({x_n \\in R_{jm} })}$.  -->\n",
    "\n",
    "- Update $F_m(x_n) = F_{m-1}(x_n) + \\alpha \\upsilon_{jm_{(x_n \\in R_{jm})}}$. Here $\\alpha$ is the *learning rate*, and is a value between 1 and 0.\n",
    "<!-- That is, we predict $r$ instead $y$. -->\n",
    "\n",
    "**Step 3:** Output $F_M(x)$"
   ]
  },
  {
   "cell_type": "markdown",
   "metadata": {},
   "source": [
    "Since is so hard to Normally it is impossible to enumerate all the possible tree structures, xboots uses `greedy strategy`. It starts from a single leaf and iteratively adds branches to the tree. Assume that $I_L$ and $I_R$ where $R = I_L \\cap I_R$"
   ]
  },
  {
   "cell_type": "markdown",
   "metadata": {},
   "source": [
    "$$ - \\frac{1}{2} [\\frac{(\\sum_{x_n \\in I_L} -l'(y_n, F_{m-1}(x_n)))^{2}}{[\\sum_{x_n \\in I_L} l''(y_n, F_{m-1}(x_n))] + \\lambda} + \\frac{(\\sum_{x_n \\in I_R} -l'(y_n, F_{m-1}(x_n)))^{2}}{[\\sum_{x_n \\in I_R} l''(y_n, F_{m-1}(x_n))] + \\lambda} - \\frac{(\\sum_{x_n \\in R} -l'(y_n, F_{m-1}(x_n)))^{2}}{[\\sum_{x_n \\in R} l''(y_n, F_{m-1}(x_n))] + \\lambda}] - \\gamma$$"
   ]
  },
  {
   "cell_type": "markdown",
   "metadata": {},
   "source": [
    "According to user feedback, using column sub-sampling prevents over-fitting even more so than the traditional row sub-sampling "
   ]
  },
  {
   "cell_type": "markdown",
   "metadata": {},
   "source": [
    "$r_n = y_n - F(X_n)$\n",
    "\n",
    "$\\text{Similarity Score} = \\frac{ (\\sum_{n}^{N} r_n)^2 }{ N + \\lambda}$ for each node (parent or terminal)\n",
    "\n",
    "$\\lambda$ is a parameter \n",
    "\n",
    "$\\text{Gain} = (\\text{Left}_\\text{Similarity}  + \\text{Right}_\\text{Similarity}) - \\text{root}_\\text{Similarity}$. It is the gain of spliting a node. Each time a node going to split we need to compute the gain of this spliting  "
   ]
  },
  {
   "cell_type": "markdown",
   "metadata": {},
   "source": [
    "$ \\text{Gain} -  \\gamma$\n",
    "\n",
    "$\\gamma$ is another parameter to prune the tree, this is evaluate to $\\text{Gain}$. If the $ (\\text{Gain} -  \\gamma) \\gt 0$ the split keep in the tree."
   ]
  },
  {
   "cell_type": "code",
   "execution_count": 1,
   "metadata": {},
   "outputs": [],
   "source": [
    "from xgboost import XGBClassifier,  XGBRegressor\n",
    "from sklearn.datasets import load_iris\n",
    "from sklearn.model_selection import train_test_split\n",
    "import numpy as np"
   ]
  },
  {
   "cell_type": "code",
   "execution_count": 2,
   "metadata": {},
   "outputs": [],
   "source": [
    "data = load_iris()\n",
    "X_train, X_test, y_train, y_test = train_test_split(data['data'], data['target'], test_size=.2)"
   ]
  },
  {
   "cell_type": "code",
   "execution_count": 6,
   "metadata": {},
   "outputs": [],
   "source": [
    "# create model instance\n",
    "bst = XGBClassifier(n_estimators=2, max_depth=2, learning_rate=1, objective='binary:logistic')"
   ]
  },
  {
   "cell_type": "code",
   "execution_count": 7,
   "metadata": {},
   "outputs": [
    {
     "data": {
      "text/html": [
       "<style>#sk-container-id-1 {color: black;background-color: white;}#sk-container-id-1 pre{padding: 0;}#sk-container-id-1 div.sk-toggleable {background-color: white;}#sk-container-id-1 label.sk-toggleable__label {cursor: pointer;display: block;width: 100%;margin-bottom: 0;padding: 0.3em;box-sizing: border-box;text-align: center;}#sk-container-id-1 label.sk-toggleable__label-arrow:before {content: \"▸\";float: left;margin-right: 0.25em;color: #696969;}#sk-container-id-1 label.sk-toggleable__label-arrow:hover:before {color: black;}#sk-container-id-1 div.sk-estimator:hover label.sk-toggleable__label-arrow:before {color: black;}#sk-container-id-1 div.sk-toggleable__content {max-height: 0;max-width: 0;overflow: hidden;text-align: left;background-color: #f0f8ff;}#sk-container-id-1 div.sk-toggleable__content pre {margin: 0.2em;color: black;border-radius: 0.25em;background-color: #f0f8ff;}#sk-container-id-1 input.sk-toggleable__control:checked~div.sk-toggleable__content {max-height: 200px;max-width: 100%;overflow: auto;}#sk-container-id-1 input.sk-toggleable__control:checked~label.sk-toggleable__label-arrow:before {content: \"▾\";}#sk-container-id-1 div.sk-estimator input.sk-toggleable__control:checked~label.sk-toggleable__label {background-color: #d4ebff;}#sk-container-id-1 div.sk-label input.sk-toggleable__control:checked~label.sk-toggleable__label {background-color: #d4ebff;}#sk-container-id-1 input.sk-hidden--visually {border: 0;clip: rect(1px 1px 1px 1px);clip: rect(1px, 1px, 1px, 1px);height: 1px;margin: -1px;overflow: hidden;padding: 0;position: absolute;width: 1px;}#sk-container-id-1 div.sk-estimator {font-family: monospace;background-color: #f0f8ff;border: 1px dotted black;border-radius: 0.25em;box-sizing: border-box;margin-bottom: 0.5em;}#sk-container-id-1 div.sk-estimator:hover {background-color: #d4ebff;}#sk-container-id-1 div.sk-parallel-item::after {content: \"\";width: 100%;border-bottom: 1px solid gray;flex-grow: 1;}#sk-container-id-1 div.sk-label:hover label.sk-toggleable__label {background-color: #d4ebff;}#sk-container-id-1 div.sk-serial::before {content: \"\";position: absolute;border-left: 1px solid gray;box-sizing: border-box;top: 0;bottom: 0;left: 50%;z-index: 0;}#sk-container-id-1 div.sk-serial {display: flex;flex-direction: column;align-items: center;background-color: white;padding-right: 0.2em;padding-left: 0.2em;position: relative;}#sk-container-id-1 div.sk-item {position: relative;z-index: 1;}#sk-container-id-1 div.sk-parallel {display: flex;align-items: stretch;justify-content: center;background-color: white;position: relative;}#sk-container-id-1 div.sk-item::before, #sk-container-id-1 div.sk-parallel-item::before {content: \"\";position: absolute;border-left: 1px solid gray;box-sizing: border-box;top: 0;bottom: 0;left: 50%;z-index: -1;}#sk-container-id-1 div.sk-parallel-item {display: flex;flex-direction: column;z-index: 1;position: relative;background-color: white;}#sk-container-id-1 div.sk-parallel-item:first-child::after {align-self: flex-end;width: 50%;}#sk-container-id-1 div.sk-parallel-item:last-child::after {align-self: flex-start;width: 50%;}#sk-container-id-1 div.sk-parallel-item:only-child::after {width: 0;}#sk-container-id-1 div.sk-dashed-wrapped {border: 1px dashed gray;margin: 0 0.4em 0.5em 0.4em;box-sizing: border-box;padding-bottom: 0.4em;background-color: white;}#sk-container-id-1 div.sk-label label {font-family: monospace;font-weight: bold;display: inline-block;line-height: 1.2em;}#sk-container-id-1 div.sk-label-container {text-align: center;}#sk-container-id-1 div.sk-container {/* jupyter's `normalize.less` sets `[hidden] { display: none; }` but bootstrap.min.css set `[hidden] { display: none !important; }` so we also need the `!important` here to be able to override the default hidden behavior on the sphinx rendered scikit-learn.org. See: https://github.com/scikit-learn/scikit-learn/issues/21755 */display: inline-block !important;position: relative;}#sk-container-id-1 div.sk-text-repr-fallback {display: none;}</style><div id=\"sk-container-id-1\" class=\"sk-top-container\"><div class=\"sk-text-repr-fallback\"><pre>XGBClassifier(base_score=None, booster=None, callbacks=None,\n",
       "              colsample_bylevel=None, colsample_bynode=None,\n",
       "              colsample_bytree=None, device=None, early_stopping_rounds=None,\n",
       "              enable_categorical=False, eval_metric=None, feature_types=None,\n",
       "              gamma=None, grow_policy=None, importance_type=None,\n",
       "              interaction_constraints=None, learning_rate=1, max_bin=None,\n",
       "              max_cat_threshold=None, max_cat_to_onehot=None,\n",
       "              max_delta_step=None, max_depth=2, max_leaves=None,\n",
       "              min_child_weight=None, missing=nan, monotone_constraints=None,\n",
       "              multi_strategy=None, n_estimators=2, n_jobs=None,\n",
       "              num_parallel_tree=None, objective=&#x27;multi:softprob&#x27;, ...)</pre><b>In a Jupyter environment, please rerun this cell to show the HTML representation or trust the notebook. <br />On GitHub, the HTML representation is unable to render, please try loading this page with nbviewer.org.</b></div><div class=\"sk-container\" hidden><div class=\"sk-item\"><div class=\"sk-estimator sk-toggleable\"><input class=\"sk-toggleable__control sk-hidden--visually\" id=\"sk-estimator-id-1\" type=\"checkbox\" checked><label for=\"sk-estimator-id-1\" class=\"sk-toggleable__label sk-toggleable__label-arrow\">XGBClassifier</label><div class=\"sk-toggleable__content\"><pre>XGBClassifier(base_score=None, booster=None, callbacks=None,\n",
       "              colsample_bylevel=None, colsample_bynode=None,\n",
       "              colsample_bytree=None, device=None, early_stopping_rounds=None,\n",
       "              enable_categorical=False, eval_metric=None, feature_types=None,\n",
       "              gamma=None, grow_policy=None, importance_type=None,\n",
       "              interaction_constraints=None, learning_rate=1, max_bin=None,\n",
       "              max_cat_threshold=None, max_cat_to_onehot=None,\n",
       "              max_delta_step=None, max_depth=2, max_leaves=None,\n",
       "              min_child_weight=None, missing=nan, monotone_constraints=None,\n",
       "              multi_strategy=None, n_estimators=2, n_jobs=None,\n",
       "              num_parallel_tree=None, objective=&#x27;multi:softprob&#x27;, ...)</pre></div></div></div></div></div>"
      ],
      "text/plain": [
       "XGBClassifier(base_score=None, booster=None, callbacks=None,\n",
       "              colsample_bylevel=None, colsample_bynode=None,\n",
       "              colsample_bytree=None, device=None, early_stopping_rounds=None,\n",
       "              enable_categorical=False, eval_metric=None, feature_types=None,\n",
       "              gamma=None, grow_policy=None, importance_type=None,\n",
       "              interaction_constraints=None, learning_rate=1, max_bin=None,\n",
       "              max_cat_threshold=None, max_cat_to_onehot=None,\n",
       "              max_delta_step=None, max_depth=2, max_leaves=None,\n",
       "              min_child_weight=None, missing=nan, monotone_constraints=None,\n",
       "              multi_strategy=None, n_estimators=2, n_jobs=None,\n",
       "              num_parallel_tree=None, objective='multi:softprob', ...)"
      ]
     },
     "execution_count": 7,
     "metadata": {},
     "output_type": "execute_result"
    }
   ],
   "source": [
    "# fit model\n",
    "bst.fit(X_train, y_train)"
   ]
  },
  {
   "cell_type": "code",
   "execution_count": 8,
   "metadata": {},
   "outputs": [],
   "source": [
    "# make predictions\n",
    "preds = bst.predict(X_test)"
   ]
  },
  {
   "cell_type": "code",
   "execution_count": 16,
   "metadata": {},
   "outputs": [
    {
     "data": {
      "text/plain": [
       "array([ True, False,  True,  True,  True,  True,  True,  True,  True,\n",
       "        True,  True, False,  True,  True,  True,  True,  True,  True,\n",
       "        True,  True,  True,  True,  True,  True,  True,  True,  True,\n",
       "        True,  True,  True])"
      ]
     },
     "execution_count": 16,
     "metadata": {},
     "output_type": "execute_result"
    }
   ],
   "source": [
    "(preds == y_test)"
   ]
  },
  {
   "cell_type": "code",
   "execution_count": null,
   "metadata": {},
   "outputs": [],
   "source": []
  },
  {
   "cell_type": "markdown",
   "metadata": {},
   "source": [
    "## Bagging"
   ]
  },
  {
   "attachments": {},
   "cell_type": "markdown",
   "metadata": {},
   "source": [
    "### Random Forest\n",
    "\n",
    "Random forests (Breiman, 2001) is a substantial modification of bagging that builds a large collection of *de-correlated trees* (trees which the correlation between them are reduced or eliminated), and then averages them.\n",
    "\n",
    "On many problems the performance of random forests is very similar to boosting, and they are simpler to train and tune."
   ]
  },
  {
   "attachments": {},
   "cell_type": "markdown",
   "metadata": {},
   "source": [
    "* The essential idea in *bagging* is to average many noisy but approximately unbiased models. The average reduce the variance. \n",
    "\n",
    "* Trees are ideal candidates for bagging, since they can capture complex interaction structures in the data, and if grown sufficiently deep, have relatively low bias. \n",
    "\n",
    "* Moreover, since each tree generated in bagging, that is, the tree are fitted using the data generate using bootstrap procedure the expectation of an average of $B$ such trees (of the predictions) is the same as the expectation of any one of them (of the predictions). $E[\\bar{X}] = E[X] = \\mu $\n",
    "\n",
    "* This means the bias of bagged trees is the same as that of the individual trees, and the only hope of improvement is through variance reduction. \n",
    "\n",
    "* An average of $B$ i.i.d. rvs, each with variance $σ^2$, has variance $\\frac{1}{B}σ^2$. \n",
    "\n",
    "* If the variables are simply i.d. (identically distributed, but not necessarily independent) with positive pairwise correlation $ρ$, the variance\n",
    "of the average is \n",
    "\n",
    "$$ρ\\sigma^2 + \\frac{(1 - ρ)}{B}\\sigma^2$$\n",
    "\n",
    "* Supposing all $\\text{Var}$ and pairwise $\\text{Cov}$ is the same for all rvs i.d.\n",
    "\n",
    "* As $B$ increases, the second term disappears, but the first remains, and hence the size of the correlation of pairs of bagged trees limits the benefits\n",
    "of averaging\n",
    "\n",
    "* Random forests improve the variance reduction of bagging when reducing the correlation between the trees, without increasing the variance too much. \n",
    "\n",
    "* This is **achieved** in the tree-growing process **through random selection of the input variables**.\n",
    "\n",
    "* Specifically, when growing a tree on a `bootstrapped dataset`:\n",
    "\n",
    "<center>\n",
    "\n",
    "\n",
    "**Before each split, select m ≤ p of the input variables at random as candidates for splitting.**\n",
    "\n",
    "\n",
    "</center>\n",
    "\n",
    "* Typically values for $m$ are $\\sqrt{p}$ or even as low as $1$.\n",
    "* Recall, regression and classification trees partition the space of all joint predictor variable values into disjoint regions $R_j, j = 1, 2, . . . , J$, as represented by the terminal nodes of the tree.\n",
    "\n",
    "* A constant $γ_j$ is assigned to each such region and the predictive rule is\n",
    "\n",
    "$$x ∈ R_j ⇒ f(x) = γ_j$$\n",
    "\n",
    "* Thus a tree can be formally expressed as\n",
    "\n",
    "$$ T(x; Θ) = \\sum_{j=1}^{J} γ_j I(x ∈ R_j) $$ \n",
    "\n",
    "* with parameters $Θ = \\{R_j, γ_j\\}^J$ . $J$ is usually treated as a meta-parameter.\n",
    "* After B such trees $B$ are grown,  the random forest (regression) predictor is:\n",
    "\n",
    "$$\\hat{f}_{\\text{rf}}^{B}(x) = \\frac{1}{B} \\sum_{b = 1}^{B} T(x; Θ)$$"
   ]
  },
  {
   "attachments": {},
   "cell_type": "markdown",
   "metadata": {},
   "source": [
    "* $Θ_b$ characterizes the bth random forest tree in terms of split variables, cutpoints at each node, and terminal-node values.\n",
    "\n",
    "* Intuitively, reducing $m$ will reduce the correlation between any pair of trees in the ensemble, and hence reduce the variance of the average.\n",
    "\n",
    "* In generally, gradient boosting is better than random forest\n",
    "\n",
    "* `Out the bag` sample is the dataset that were not used to fit the $B$ models, almost alway is 1/3 of the original data.\n",
    "\n",
    "* This data are used to evaluate the predictions of random forest model $\\hat{f}_{\\text{rf}}^{B}(x)$.\n",
    "\n",
    "* It pass this dataset on the fitten model by bostraping dataset and compute **Out of the Bag error** `OOBE`\n",
    "\n",
    "* Then, refit the models using differents $\\text{m} + 1$  columns (features) instead $\\text{m}$ and compare the `OOBE` of the models \n",
    "\n",
    "* The process is iterative, and the best model is choosen\n",
    "\n"
   ]
  },
  {
   "cell_type": "markdown",
   "metadata": {},
   "source": [
    "The implementation of random forest is in `sklearn.ensemble.RandomForestRegressor` and this by default support multiple outputs."
   ]
  },
  {
   "cell_type": "code",
   "execution_count": null,
   "metadata": {},
   "outputs": [],
   "source": [
    "import numpy as np\n",
    "import pandas as pd\n",
    "from sklearn.tree import DecisionTreeRegressor\n",
    "from sklearn.utils import resample\n",
    "from sklearn.ensemble import RandomForestClassifier, RandomForestRegressor"
   ]
  },
  {
   "cell_type": "code",
   "execution_count": 1,
   "metadata": {},
   "outputs": [
    {
     "name": "stdout",
     "output_type": "stream",
     "text": [
      "Expectation of any one tree's prediction: 0.244511\n",
      "Expectation of the average prediction of all trees: 0.244511\n",
      "The expectations are approximately equal, as expected.\n"
     ]
    }
   ],
   "source": [
    "\n",
    "# Step 1: Generate synthetic data\n",
    "np.random.seed(42)\n",
    "X = np.random.rand(100, 1) * 10  # 100 samples, 1 feature\n",
    "y = np.sin(X).ravel() + np.random.normal(0, 0.1, X.shape[0])  # Sinusoidal data with noise\n",
    "\n",
    "# Step 2: Train multiple Decision Trees using Bagging\n",
    "n_trees = 100\n",
    "trees = []\n",
    "predictions = np.zeros((n_trees, X.shape[0]))\n",
    "\n",
    "for i in range(n_trees):\n",
    "    # Bootstrap sample\n",
    "    X_resampled, y_resampled = resample(X, y)\n",
    "    \n",
    "    # Train a decision tree on the bootstrap sample\n",
    "    tree = DecisionTreeRegressor()\n",
    "    tree.fit(X_resampled, y_resampled)\n",
    "    \n",
    "    # Store the tree and its predictions\n",
    "    trees.append(tree)\n",
    "    predictions[i] = tree.predict(X)\n",
    "\n",
    "# Step 3: Compute the expectation (mean prediction)\n",
    "# Mean prediction for each tree\n",
    "mean_predictions_each_tree = np.mean(predictions, axis=1)\n",
    "\n",
    "# Mean prediction of the average of all trees\n",
    "mean_prediction_ensemble = np.mean(np.mean(predictions, axis=0))\n",
    "\n",
    "# Step 4: Compare the expectations\n",
    "print(f\"Expectation of any one tree's prediction: {np.mean(mean_predictions_each_tree):.6f}\")\n",
    "print(f\"Expectation of the average prediction of all trees: {mean_prediction_ensemble:.6f}\")\n",
    "\n",
    "# Verify that they are approximately equal\n",
    "assert np.isclose(np.mean(mean_predictions_each_tree), mean_prediction_ensemble), \"Expectations are not equal!\"\n",
    "print(\"The expectations are approximately equal, as expected.\")"
   ]
  },
  {
   "cell_type": "markdown",
   "metadata": {},
   "source": [
    "#### Apply on same Movie Buzz Data"
   ]
  },
  {
   "cell_type": "code",
   "execution_count": 116,
   "metadata": {},
   "outputs": [],
   "source": [
    "rf_model = Pipeline([('preprocessor', preprocessor),\n",
    "                 ('adaboost', TransformedTargetRegressor(\n",
    "                     regressor=RandomForestRegressor(n_estimators=400, random_state=1234, min_samples_leaf=5, min_samples_split=5),\n",
    "                     func=lambda x:np.log(x),\n",
    "                     inverse_func=lambda x:np.exp(x)))\n",
    "                     ])"
   ]
  },
  {
   "cell_type": "code",
   "execution_count": 117,
   "metadata": {},
   "outputs": [
    {
     "data": {
      "text/html": [
       "<style>#sk-container-id-10 {color: black;background-color: white;}#sk-container-id-10 pre{padding: 0;}#sk-container-id-10 div.sk-toggleable {background-color: white;}#sk-container-id-10 label.sk-toggleable__label {cursor: pointer;display: block;width: 100%;margin-bottom: 0;padding: 0.3em;box-sizing: border-box;text-align: center;}#sk-container-id-10 label.sk-toggleable__label-arrow:before {content: \"▸\";float: left;margin-right: 0.25em;color: #696969;}#sk-container-id-10 label.sk-toggleable__label-arrow:hover:before {color: black;}#sk-container-id-10 div.sk-estimator:hover label.sk-toggleable__label-arrow:before {color: black;}#sk-container-id-10 div.sk-toggleable__content {max-height: 0;max-width: 0;overflow: hidden;text-align: left;background-color: #f0f8ff;}#sk-container-id-10 div.sk-toggleable__content pre {margin: 0.2em;color: black;border-radius: 0.25em;background-color: #f0f8ff;}#sk-container-id-10 input.sk-toggleable__control:checked~div.sk-toggleable__content {max-height: 200px;max-width: 100%;overflow: auto;}#sk-container-id-10 input.sk-toggleable__control:checked~label.sk-toggleable__label-arrow:before {content: \"▾\";}#sk-container-id-10 div.sk-estimator input.sk-toggleable__control:checked~label.sk-toggleable__label {background-color: #d4ebff;}#sk-container-id-10 div.sk-label input.sk-toggleable__control:checked~label.sk-toggleable__label {background-color: #d4ebff;}#sk-container-id-10 input.sk-hidden--visually {border: 0;clip: rect(1px 1px 1px 1px);clip: rect(1px, 1px, 1px, 1px);height: 1px;margin: -1px;overflow: hidden;padding: 0;position: absolute;width: 1px;}#sk-container-id-10 div.sk-estimator {font-family: monospace;background-color: #f0f8ff;border: 1px dotted black;border-radius: 0.25em;box-sizing: border-box;margin-bottom: 0.5em;}#sk-container-id-10 div.sk-estimator:hover {background-color: #d4ebff;}#sk-container-id-10 div.sk-parallel-item::after {content: \"\";width: 100%;border-bottom: 1px solid gray;flex-grow: 1;}#sk-container-id-10 div.sk-label:hover label.sk-toggleable__label {background-color: #d4ebff;}#sk-container-id-10 div.sk-serial::before {content: \"\";position: absolute;border-left: 1px solid gray;box-sizing: border-box;top: 0;bottom: 0;left: 50%;z-index: 0;}#sk-container-id-10 div.sk-serial {display: flex;flex-direction: column;align-items: center;background-color: white;padding-right: 0.2em;padding-left: 0.2em;position: relative;}#sk-container-id-10 div.sk-item {position: relative;z-index: 1;}#sk-container-id-10 div.sk-parallel {display: flex;align-items: stretch;justify-content: center;background-color: white;position: relative;}#sk-container-id-10 div.sk-item::before, #sk-container-id-10 div.sk-parallel-item::before {content: \"\";position: absolute;border-left: 1px solid gray;box-sizing: border-box;top: 0;bottom: 0;left: 50%;z-index: -1;}#sk-container-id-10 div.sk-parallel-item {display: flex;flex-direction: column;z-index: 1;position: relative;background-color: white;}#sk-container-id-10 div.sk-parallel-item:first-child::after {align-self: flex-end;width: 50%;}#sk-container-id-10 div.sk-parallel-item:last-child::after {align-self: flex-start;width: 50%;}#sk-container-id-10 div.sk-parallel-item:only-child::after {width: 0;}#sk-container-id-10 div.sk-dashed-wrapped {border: 1px dashed gray;margin: 0 0.4em 0.5em 0.4em;box-sizing: border-box;padding-bottom: 0.4em;background-color: white;}#sk-container-id-10 div.sk-label label {font-family: monospace;font-weight: bold;display: inline-block;line-height: 1.2em;}#sk-container-id-10 div.sk-label-container {text-align: center;}#sk-container-id-10 div.sk-container {/* jupyter's `normalize.less` sets `[hidden] { display: none; }` but bootstrap.min.css set `[hidden] { display: none !important; }` so we also need the `!important` here to be able to override the default hidden behavior on the sphinx rendered scikit-learn.org. See: https://github.com/scikit-learn/scikit-learn/issues/21755 */display: inline-block !important;position: relative;}#sk-container-id-10 div.sk-text-repr-fallback {display: none;}</style><div id=\"sk-container-id-10\" class=\"sk-top-container\"><div class=\"sk-text-repr-fallback\"><pre>Pipeline(steps=[(&#x27;preprocessor&#x27;,\n",
       "                 ColumnTransformer(transformers=[(&#x27;standar_budget&#x27;,\n",
       "                                                  StandardScaler(),\n",
       "                                                  [&#x27;BUDGET&#x27;]),\n",
       "                                                 (&#x27;standar_soon&#x27;,\n",
       "                                                  StandardScaler(),\n",
       "                                                  [&#x27;CMNGSOON&#x27;]),\n",
       "                                                 (&#x27;standar_dango&#x27;,\n",
       "                                                  StandardScaler(),\n",
       "                                                  [&#x27;FANDANGO&#x27;]),\n",
       "                                                 (&#x27;standar_wait&#x27;,\n",
       "                                                  StandardScaler(),\n",
       "                                                  [&#x27;CNTWAIT3&#x27;])])),\n",
       "                (&#x27;adaboost&#x27;,\n",
       "                 TransformedTargetRegressor(func=&lt;function &lt;lambda&gt; at 0x0000013934AD9260&gt;,\n",
       "                                            inverse_func=&lt;function &lt;lambda&gt; at 0x0000013934AD9A80&gt;,\n",
       "                                            regressor=RandomForestRegressor(min_samples_leaf=5,\n",
       "                                                                            min_samples_split=5,\n",
       "                                                                            n_estimators=400,\n",
       "                                                                            random_state=1234)))])</pre><b>In a Jupyter environment, please rerun this cell to show the HTML representation or trust the notebook. <br />On GitHub, the HTML representation is unable to render, please try loading this page with nbviewer.org.</b></div><div class=\"sk-container\" hidden><div class=\"sk-item sk-dashed-wrapped\"><div class=\"sk-label-container\"><div class=\"sk-label sk-toggleable\"><input class=\"sk-toggleable__control sk-hidden--visually\" id=\"sk-estimator-id-118\" type=\"checkbox\" ><label for=\"sk-estimator-id-118\" class=\"sk-toggleable__label sk-toggleable__label-arrow\">Pipeline</label><div class=\"sk-toggleable__content\"><pre>Pipeline(steps=[(&#x27;preprocessor&#x27;,\n",
       "                 ColumnTransformer(transformers=[(&#x27;standar_budget&#x27;,\n",
       "                                                  StandardScaler(),\n",
       "                                                  [&#x27;BUDGET&#x27;]),\n",
       "                                                 (&#x27;standar_soon&#x27;,\n",
       "                                                  StandardScaler(),\n",
       "                                                  [&#x27;CMNGSOON&#x27;]),\n",
       "                                                 (&#x27;standar_dango&#x27;,\n",
       "                                                  StandardScaler(),\n",
       "                                                  [&#x27;FANDANGO&#x27;]),\n",
       "                                                 (&#x27;standar_wait&#x27;,\n",
       "                                                  StandardScaler(),\n",
       "                                                  [&#x27;CNTWAIT3&#x27;])])),\n",
       "                (&#x27;adaboost&#x27;,\n",
       "                 TransformedTargetRegressor(func=&lt;function &lt;lambda&gt; at 0x0000013934AD9260&gt;,\n",
       "                                            inverse_func=&lt;function &lt;lambda&gt; at 0x0000013934AD9A80&gt;,\n",
       "                                            regressor=RandomForestRegressor(min_samples_leaf=5,\n",
       "                                                                            min_samples_split=5,\n",
       "                                                                            n_estimators=400,\n",
       "                                                                            random_state=1234)))])</pre></div></div></div><div class=\"sk-serial\"><div class=\"sk-item sk-dashed-wrapped\"><div class=\"sk-label-container\"><div class=\"sk-label sk-toggleable\"><input class=\"sk-toggleable__control sk-hidden--visually\" id=\"sk-estimator-id-119\" type=\"checkbox\" ><label for=\"sk-estimator-id-119\" class=\"sk-toggleable__label sk-toggleable__label-arrow\">preprocessor: ColumnTransformer</label><div class=\"sk-toggleable__content\"><pre>ColumnTransformer(transformers=[(&#x27;standar_budget&#x27;, StandardScaler(),\n",
       "                                 [&#x27;BUDGET&#x27;]),\n",
       "                                (&#x27;standar_soon&#x27;, StandardScaler(),\n",
       "                                 [&#x27;CMNGSOON&#x27;]),\n",
       "                                (&#x27;standar_dango&#x27;, StandardScaler(),\n",
       "                                 [&#x27;FANDANGO&#x27;]),\n",
       "                                (&#x27;standar_wait&#x27;, StandardScaler(),\n",
       "                                 [&#x27;CNTWAIT3&#x27;])])</pre></div></div></div><div class=\"sk-parallel\"><div class=\"sk-parallel-item\"><div class=\"sk-item\"><div class=\"sk-label-container\"><div class=\"sk-label sk-toggleable\"><input class=\"sk-toggleable__control sk-hidden--visually\" id=\"sk-estimator-id-120\" type=\"checkbox\" ><label for=\"sk-estimator-id-120\" class=\"sk-toggleable__label sk-toggleable__label-arrow\">standar_budget</label><div class=\"sk-toggleable__content\"><pre>[&#x27;BUDGET&#x27;]</pre></div></div></div><div class=\"sk-serial\"><div class=\"sk-item\"><div class=\"sk-estimator sk-toggleable\"><input class=\"sk-toggleable__control sk-hidden--visually\" id=\"sk-estimator-id-121\" type=\"checkbox\" ><label for=\"sk-estimator-id-121\" class=\"sk-toggleable__label sk-toggleable__label-arrow\">StandardScaler</label><div class=\"sk-toggleable__content\"><pre>StandardScaler()</pre></div></div></div></div></div></div><div class=\"sk-parallel-item\"><div class=\"sk-item\"><div class=\"sk-label-container\"><div class=\"sk-label sk-toggleable\"><input class=\"sk-toggleable__control sk-hidden--visually\" id=\"sk-estimator-id-122\" type=\"checkbox\" ><label for=\"sk-estimator-id-122\" class=\"sk-toggleable__label sk-toggleable__label-arrow\">standar_soon</label><div class=\"sk-toggleable__content\"><pre>[&#x27;CMNGSOON&#x27;]</pre></div></div></div><div class=\"sk-serial\"><div class=\"sk-item\"><div class=\"sk-estimator sk-toggleable\"><input class=\"sk-toggleable__control sk-hidden--visually\" id=\"sk-estimator-id-123\" type=\"checkbox\" ><label for=\"sk-estimator-id-123\" class=\"sk-toggleable__label sk-toggleable__label-arrow\">StandardScaler</label><div class=\"sk-toggleable__content\"><pre>StandardScaler()</pre></div></div></div></div></div></div><div class=\"sk-parallel-item\"><div class=\"sk-item\"><div class=\"sk-label-container\"><div class=\"sk-label sk-toggleable\"><input class=\"sk-toggleable__control sk-hidden--visually\" id=\"sk-estimator-id-124\" type=\"checkbox\" ><label for=\"sk-estimator-id-124\" class=\"sk-toggleable__label sk-toggleable__label-arrow\">standar_dango</label><div class=\"sk-toggleable__content\"><pre>[&#x27;FANDANGO&#x27;]</pre></div></div></div><div class=\"sk-serial\"><div class=\"sk-item\"><div class=\"sk-estimator sk-toggleable\"><input class=\"sk-toggleable__control sk-hidden--visually\" id=\"sk-estimator-id-125\" type=\"checkbox\" ><label for=\"sk-estimator-id-125\" class=\"sk-toggleable__label sk-toggleable__label-arrow\">StandardScaler</label><div class=\"sk-toggleable__content\"><pre>StandardScaler()</pre></div></div></div></div></div></div><div class=\"sk-parallel-item\"><div class=\"sk-item\"><div class=\"sk-label-container\"><div class=\"sk-label sk-toggleable\"><input class=\"sk-toggleable__control sk-hidden--visually\" id=\"sk-estimator-id-126\" type=\"checkbox\" ><label for=\"sk-estimator-id-126\" class=\"sk-toggleable__label sk-toggleable__label-arrow\">standar_wait</label><div class=\"sk-toggleable__content\"><pre>[&#x27;CNTWAIT3&#x27;]</pre></div></div></div><div class=\"sk-serial\"><div class=\"sk-item\"><div class=\"sk-estimator sk-toggleable\"><input class=\"sk-toggleable__control sk-hidden--visually\" id=\"sk-estimator-id-127\" type=\"checkbox\" ><label for=\"sk-estimator-id-127\" class=\"sk-toggleable__label sk-toggleable__label-arrow\">StandardScaler</label><div class=\"sk-toggleable__content\"><pre>StandardScaler()</pre></div></div></div></div></div></div></div></div><div class=\"sk-item sk-dashed-wrapped\"><div class=\"sk-label-container\"><div class=\"sk-label sk-toggleable\"><input class=\"sk-toggleable__control sk-hidden--visually\" id=\"sk-estimator-id-128\" type=\"checkbox\" ><label for=\"sk-estimator-id-128\" class=\"sk-toggleable__label sk-toggleable__label-arrow\">adaboost: TransformedTargetRegressor</label><div class=\"sk-toggleable__content\"><pre>TransformedTargetRegressor(func=&lt;function &lt;lambda&gt; at 0x0000013934AD9260&gt;,\n",
       "                           inverse_func=&lt;function &lt;lambda&gt; at 0x0000013934AD9A80&gt;,\n",
       "                           regressor=RandomForestRegressor(min_samples_leaf=5,\n",
       "                                                           min_samples_split=5,\n",
       "                                                           n_estimators=400,\n",
       "                                                           random_state=1234))</pre></div></div></div><div class=\"sk-parallel\"><div class=\"sk-parallel-item\"><div class=\"sk-item\"><div class=\"sk-label-container\"><div class=\"sk-label sk-toggleable\"><input class=\"sk-toggleable__control sk-hidden--visually\" id=\"sk-estimator-id-129\" type=\"checkbox\" ><label for=\"sk-estimator-id-129\" class=\"sk-toggleable__label sk-toggleable__label-arrow\">regressor: RandomForestRegressor</label><div class=\"sk-toggleable__content\"><pre>RandomForestRegressor(min_samples_leaf=5, min_samples_split=5, n_estimators=400,\n",
       "                      random_state=1234)</pre></div></div></div><div class=\"sk-serial\"><div class=\"sk-item\"><div class=\"sk-estimator sk-toggleable\"><input class=\"sk-toggleable__control sk-hidden--visually\" id=\"sk-estimator-id-130\" type=\"checkbox\" ><label for=\"sk-estimator-id-130\" class=\"sk-toggleable__label sk-toggleable__label-arrow\">RandomForestRegressor</label><div class=\"sk-toggleable__content\"><pre>RandomForestRegressor(min_samples_leaf=5, min_samples_split=5, n_estimators=400,\n",
       "                      random_state=1234)</pre></div></div></div></div></div></div></div></div></div></div></div></div>"
      ],
      "text/plain": [
       "Pipeline(steps=[('preprocessor',\n",
       "                 ColumnTransformer(transformers=[('standar_budget',\n",
       "                                                  StandardScaler(),\n",
       "                                                  ['BUDGET']),\n",
       "                                                 ('standar_soon',\n",
       "                                                  StandardScaler(),\n",
       "                                                  ['CMNGSOON']),\n",
       "                                                 ('standar_dango',\n",
       "                                                  StandardScaler(),\n",
       "                                                  ['FANDANGO']),\n",
       "                                                 ('standar_wait',\n",
       "                                                  StandardScaler(),\n",
       "                                                  ['CNTWAIT3'])])),\n",
       "                ('adaboost',\n",
       "                 TransformedTargetRegressor(func=<function <lambda> at 0x0000013934AD9260>,\n",
       "                                            inverse_func=<function <lambda> at 0x0000013934AD9A80>,\n",
       "                                            regressor=RandomForestRegressor(min_samples_leaf=5,\n",
       "                                                                            min_samples_split=5,\n",
       "                                                                            n_estimators=400,\n",
       "                                                                            random_state=1234)))])"
      ]
     },
     "execution_count": 117,
     "metadata": {},
     "output_type": "execute_result"
    }
   ],
   "source": [
    "rf_model.fit(X_train, y_train)"
   ]
  },
  {
   "cell_type": "markdown",
   "metadata": {},
   "source": [
    "Here summarize the steps:\n",
    "\n",
    "1. To these features we will apply *Standar Scaler*:\n",
    "   - [Budget $,# Views of Trailer, # Comments, # \"Can't wait\" in Fandango.com, % \"Can't wait\" in Fandango.com].\n",
    "2. To [Sequel, Action, Comedy, Animated, Horror] already are converted to 0-1 so we won't apply any transformation\n",
    "\n",
    "3. The target [Box $] is transformated using log and back using exp.\n",
    "\n",
    "4. We set 400 as number of estimator or trees"
   ]
  },
  {
   "cell_type": "code",
   "execution_count": 118,
   "metadata": {},
   "outputs": [
    {
     "name": "stdout",
     "output_type": "stream",
     "text": [
      "Mean Absolute Error: $4,267\n",
      "Mean Absolute Percentage Error: 31.71%\n"
     ]
    }
   ],
   "source": [
    "y_predict_rf = rf_model.predict(X_test)\n",
    "print(\"Mean Absolute Error: ${:,.0f}\".format(\n",
    "    mean_absolute_error(y_test, y_predict_rf))\n",
    "    )\n",
    "print(\"Mean Absolute Percentage Error: {:.2%}\".format(\n",
    "    mean_absolute_percentage_error(y_test, y_predict_rf)))"
   ]
  },
  {
   "cell_type": "code",
   "execution_count": 127,
   "metadata": {},
   "outputs": [],
   "source": [
    "pipeline_rf = Pipeline([('preprocessor', preprocessor),\n",
    "                 ('rf', RandomForestRegressor(n_estimators=400, random_state=1234))])\n",
    "\n",
    "transformed_rf = TransformedTargetRegressor(\n",
    "    regressor=pipeline_rf,\n",
    "    func=lambda x:np.log(x),\n",
    "    inverse_func=lambda x:np.exp(x))                 "
   ]
  },
  {
   "cell_type": "code",
   "execution_count": 128,
   "metadata": {},
   "outputs": [],
   "source": [
    "param_distributions = {\n",
    "    \"regressor__rf__n_estimators\":stats.randint(100, 400), \n",
    "    'regressor__rf__max_depth': stats.randint(5, 20),\n",
    "    'regressor__rf__min_samples_split': stats.randint(1, 10),\n",
    "    'regressor__rf__min_samples_leaf': stats.randint(1, 10),\n",
    "}\n",
    "\n",
    "random_search_rf = RandomizedSearchCV(\n",
    "    transformed_rf, param_distributions=param_distributions, \n",
    "    scoring='neg_mean_absolute_error', \n",
    "    n_iter=100\n",
    ")"
   ]
  },
  {
   "cell_type": "code",
   "execution_count": 129,
   "metadata": {},
   "outputs": [
    {
     "data": {
      "text/html": [
       "<style>#sk-container-id-14 {color: black;background-color: white;}#sk-container-id-14 pre{padding: 0;}#sk-container-id-14 div.sk-toggleable {background-color: white;}#sk-container-id-14 label.sk-toggleable__label {cursor: pointer;display: block;width: 100%;margin-bottom: 0;padding: 0.3em;box-sizing: border-box;text-align: center;}#sk-container-id-14 label.sk-toggleable__label-arrow:before {content: \"▸\";float: left;margin-right: 0.25em;color: #696969;}#sk-container-id-14 label.sk-toggleable__label-arrow:hover:before {color: black;}#sk-container-id-14 div.sk-estimator:hover label.sk-toggleable__label-arrow:before {color: black;}#sk-container-id-14 div.sk-toggleable__content {max-height: 0;max-width: 0;overflow: hidden;text-align: left;background-color: #f0f8ff;}#sk-container-id-14 div.sk-toggleable__content pre {margin: 0.2em;color: black;border-radius: 0.25em;background-color: #f0f8ff;}#sk-container-id-14 input.sk-toggleable__control:checked~div.sk-toggleable__content {max-height: 200px;max-width: 100%;overflow: auto;}#sk-container-id-14 input.sk-toggleable__control:checked~label.sk-toggleable__label-arrow:before {content: \"▾\";}#sk-container-id-14 div.sk-estimator input.sk-toggleable__control:checked~label.sk-toggleable__label {background-color: #d4ebff;}#sk-container-id-14 div.sk-label input.sk-toggleable__control:checked~label.sk-toggleable__label {background-color: #d4ebff;}#sk-container-id-14 input.sk-hidden--visually {border: 0;clip: rect(1px 1px 1px 1px);clip: rect(1px, 1px, 1px, 1px);height: 1px;margin: -1px;overflow: hidden;padding: 0;position: absolute;width: 1px;}#sk-container-id-14 div.sk-estimator {font-family: monospace;background-color: #f0f8ff;border: 1px dotted black;border-radius: 0.25em;box-sizing: border-box;margin-bottom: 0.5em;}#sk-container-id-14 div.sk-estimator:hover {background-color: #d4ebff;}#sk-container-id-14 div.sk-parallel-item::after {content: \"\";width: 100%;border-bottom: 1px solid gray;flex-grow: 1;}#sk-container-id-14 div.sk-label:hover label.sk-toggleable__label {background-color: #d4ebff;}#sk-container-id-14 div.sk-serial::before {content: \"\";position: absolute;border-left: 1px solid gray;box-sizing: border-box;top: 0;bottom: 0;left: 50%;z-index: 0;}#sk-container-id-14 div.sk-serial {display: flex;flex-direction: column;align-items: center;background-color: white;padding-right: 0.2em;padding-left: 0.2em;position: relative;}#sk-container-id-14 div.sk-item {position: relative;z-index: 1;}#sk-container-id-14 div.sk-parallel {display: flex;align-items: stretch;justify-content: center;background-color: white;position: relative;}#sk-container-id-14 div.sk-item::before, #sk-container-id-14 div.sk-parallel-item::before {content: \"\";position: absolute;border-left: 1px solid gray;box-sizing: border-box;top: 0;bottom: 0;left: 50%;z-index: -1;}#sk-container-id-14 div.sk-parallel-item {display: flex;flex-direction: column;z-index: 1;position: relative;background-color: white;}#sk-container-id-14 div.sk-parallel-item:first-child::after {align-self: flex-end;width: 50%;}#sk-container-id-14 div.sk-parallel-item:last-child::after {align-self: flex-start;width: 50%;}#sk-container-id-14 div.sk-parallel-item:only-child::after {width: 0;}#sk-container-id-14 div.sk-dashed-wrapped {border: 1px dashed gray;margin: 0 0.4em 0.5em 0.4em;box-sizing: border-box;padding-bottom: 0.4em;background-color: white;}#sk-container-id-14 div.sk-label label {font-family: monospace;font-weight: bold;display: inline-block;line-height: 1.2em;}#sk-container-id-14 div.sk-label-container {text-align: center;}#sk-container-id-14 div.sk-container {/* jupyter's `normalize.less` sets `[hidden] { display: none; }` but bootstrap.min.css set `[hidden] { display: none !important; }` so we also need the `!important` here to be able to override the default hidden behavior on the sphinx rendered scikit-learn.org. See: https://github.com/scikit-learn/scikit-learn/issues/21755 */display: inline-block !important;position: relative;}#sk-container-id-14 div.sk-text-repr-fallback {display: none;}</style><div id=\"sk-container-id-14\" class=\"sk-top-container\"><div class=\"sk-text-repr-fallback\"><pre>RandomizedSearchCV(estimator=TransformedTargetRegressor(func=&lt;function &lt;lambda&gt; at 0x0000013934B5CFE0&gt;,\n",
       "                                                        inverse_func=&lt;function &lt;lambda&gt; at 0x0000013934B5D080&gt;,\n",
       "                                                        regressor=Pipeline(steps=[(&#x27;preprocessor&#x27;,\n",
       "                                                                                   ColumnTransformer(transformers=[(&#x27;standar_budget&#x27;,\n",
       "                                                                                                                    StandardScaler(),\n",
       "                                                                                                                    [&#x27;BUDGET&#x27;]),\n",
       "                                                                                                                   (&#x27;standar_soon&#x27;,\n",
       "                                                                                                                    StandardScaler(),\n",
       "                                                                                                                    [&#x27;CMNGSOON&#x27;]),\n",
       "                                                                                                                   (&#x27;standar_dango&#x27;,\n",
       "                                                                                                                    StandardScale...\n",
       "                                        &#x27;regressor__rf__min_samples_leaf&#x27;: &lt;scipy.stats._distn_infrastructure.rv_discrete_frozen object at 0x0000013934B56D10&gt;,\n",
       "                                        &#x27;regressor__rf__min_samples_split&#x27;: &lt;scipy.stats._distn_infrastructure.rv_discrete_frozen object at 0x0000013934B56C10&gt;,\n",
       "                                        &#x27;regressor__rf__n_estimators&#x27;: &lt;scipy.stats._distn_infrastructure.rv_discrete_frozen object at 0x0000013934A6BCD0&gt;},\n",
       "                   scoring=&#x27;neg_mean_absolute_error&#x27;)</pre><b>In a Jupyter environment, please rerun this cell to show the HTML representation or trust the notebook. <br />On GitHub, the HTML representation is unable to render, please try loading this page with nbviewer.org.</b></div><div class=\"sk-container\" hidden><div class=\"sk-item sk-dashed-wrapped\"><div class=\"sk-label-container\"><div class=\"sk-label sk-toggleable\"><input class=\"sk-toggleable__control sk-hidden--visually\" id=\"sk-estimator-id-170\" type=\"checkbox\" ><label for=\"sk-estimator-id-170\" class=\"sk-toggleable__label sk-toggleable__label-arrow\">RandomizedSearchCV</label><div class=\"sk-toggleable__content\"><pre>RandomizedSearchCV(estimator=TransformedTargetRegressor(func=&lt;function &lt;lambda&gt; at 0x0000013934B5CFE0&gt;,\n",
       "                                                        inverse_func=&lt;function &lt;lambda&gt; at 0x0000013934B5D080&gt;,\n",
       "                                                        regressor=Pipeline(steps=[(&#x27;preprocessor&#x27;,\n",
       "                                                                                   ColumnTransformer(transformers=[(&#x27;standar_budget&#x27;,\n",
       "                                                                                                                    StandardScaler(),\n",
       "                                                                                                                    [&#x27;BUDGET&#x27;]),\n",
       "                                                                                                                   (&#x27;standar_soon&#x27;,\n",
       "                                                                                                                    StandardScaler(),\n",
       "                                                                                                                    [&#x27;CMNGSOON&#x27;]),\n",
       "                                                                                                                   (&#x27;standar_dango&#x27;,\n",
       "                                                                                                                    StandardScale...\n",
       "                                        &#x27;regressor__rf__min_samples_leaf&#x27;: &lt;scipy.stats._distn_infrastructure.rv_discrete_frozen object at 0x0000013934B56D10&gt;,\n",
       "                                        &#x27;regressor__rf__min_samples_split&#x27;: &lt;scipy.stats._distn_infrastructure.rv_discrete_frozen object at 0x0000013934B56C10&gt;,\n",
       "                                        &#x27;regressor__rf__n_estimators&#x27;: &lt;scipy.stats._distn_infrastructure.rv_discrete_frozen object at 0x0000013934A6BCD0&gt;},\n",
       "                   scoring=&#x27;neg_mean_absolute_error&#x27;)</pre></div></div></div><div class=\"sk-parallel\"><div class=\"sk-parallel-item\"><div class=\"sk-item\"><div class=\"sk-label-container\"><div class=\"sk-label sk-toggleable\"><input class=\"sk-toggleable__control sk-hidden--visually\" id=\"sk-estimator-id-171\" type=\"checkbox\" ><label for=\"sk-estimator-id-171\" class=\"sk-toggleable__label sk-toggleable__label-arrow\">estimator: TransformedTargetRegressor</label><div class=\"sk-toggleable__content\"><pre>TransformedTargetRegressor(func=&lt;function &lt;lambda&gt; at 0x0000013934B5CFE0&gt;,\n",
       "                           inverse_func=&lt;function &lt;lambda&gt; at 0x0000013934B5D080&gt;,\n",
       "                           regressor=Pipeline(steps=[(&#x27;preprocessor&#x27;,\n",
       "                                                      ColumnTransformer(transformers=[(&#x27;standar_budget&#x27;,\n",
       "                                                                                       StandardScaler(),\n",
       "                                                                                       [&#x27;BUDGET&#x27;]),\n",
       "                                                                                      (&#x27;standar_soon&#x27;,\n",
       "                                                                                       StandardScaler(),\n",
       "                                                                                       [&#x27;CMNGSOON&#x27;]),\n",
       "                                                                                      (&#x27;standar_dango&#x27;,\n",
       "                                                                                       StandardScaler(),\n",
       "                                                                                       [&#x27;FANDANGO&#x27;]),\n",
       "                                                                                      (&#x27;standar_wait&#x27;,\n",
       "                                                                                       StandardScaler(),\n",
       "                                                                                       [&#x27;CNTWAIT3&#x27;])])),\n",
       "                                                     (&#x27;rf&#x27;,\n",
       "                                                      RandomForestRegressor(n_estimators=400,\n",
       "                                                                            random_state=1234))]))</pre></div></div></div><div class=\"sk-serial\"><div class=\"sk-item sk-dashed-wrapped\"><div class=\"sk-parallel\"><div class=\"sk-parallel-item\"><div class=\"sk-item\"><div class=\"sk-label-container\"><div class=\"sk-label sk-toggleable\"><input class=\"sk-toggleable__control sk-hidden--visually\" id=\"sk-estimator-id-172\" type=\"checkbox\" ><label for=\"sk-estimator-id-172\" class=\"sk-toggleable__label sk-toggleable__label-arrow\">regressor: Pipeline</label><div class=\"sk-toggleable__content\"><pre>Pipeline(steps=[(&#x27;preprocessor&#x27;,\n",
       "                 ColumnTransformer(transformers=[(&#x27;standar_budget&#x27;,\n",
       "                                                  StandardScaler(),\n",
       "                                                  [&#x27;BUDGET&#x27;]),\n",
       "                                                 (&#x27;standar_soon&#x27;,\n",
       "                                                  StandardScaler(),\n",
       "                                                  [&#x27;CMNGSOON&#x27;]),\n",
       "                                                 (&#x27;standar_dango&#x27;,\n",
       "                                                  StandardScaler(),\n",
       "                                                  [&#x27;FANDANGO&#x27;]),\n",
       "                                                 (&#x27;standar_wait&#x27;,\n",
       "                                                  StandardScaler(),\n",
       "                                                  [&#x27;CNTWAIT3&#x27;])])),\n",
       "                (&#x27;rf&#x27;,\n",
       "                 RandomForestRegressor(n_estimators=400, random_state=1234))])</pre></div></div></div><div class=\"sk-serial\"><div class=\"sk-item\"><div class=\"sk-serial\"><div class=\"sk-item sk-dashed-wrapped\"><div class=\"sk-label-container\"><div class=\"sk-label sk-toggleable\"><input class=\"sk-toggleable__control sk-hidden--visually\" id=\"sk-estimator-id-173\" type=\"checkbox\" ><label for=\"sk-estimator-id-173\" class=\"sk-toggleable__label sk-toggleable__label-arrow\">preprocessor: ColumnTransformer</label><div class=\"sk-toggleable__content\"><pre>ColumnTransformer(transformers=[(&#x27;standar_budget&#x27;, StandardScaler(),\n",
       "                                 [&#x27;BUDGET&#x27;]),\n",
       "                                (&#x27;standar_soon&#x27;, StandardScaler(),\n",
       "                                 [&#x27;CMNGSOON&#x27;]),\n",
       "                                (&#x27;standar_dango&#x27;, StandardScaler(),\n",
       "                                 [&#x27;FANDANGO&#x27;]),\n",
       "                                (&#x27;standar_wait&#x27;, StandardScaler(),\n",
       "                                 [&#x27;CNTWAIT3&#x27;])])</pre></div></div></div><div class=\"sk-parallel\"><div class=\"sk-parallel-item\"><div class=\"sk-item\"><div class=\"sk-label-container\"><div class=\"sk-label sk-toggleable\"><input class=\"sk-toggleable__control sk-hidden--visually\" id=\"sk-estimator-id-174\" type=\"checkbox\" ><label for=\"sk-estimator-id-174\" class=\"sk-toggleable__label sk-toggleable__label-arrow\">standar_budget</label><div class=\"sk-toggleable__content\"><pre>[&#x27;BUDGET&#x27;]</pre></div></div></div><div class=\"sk-serial\"><div class=\"sk-item\"><div class=\"sk-estimator sk-toggleable\"><input class=\"sk-toggleable__control sk-hidden--visually\" id=\"sk-estimator-id-175\" type=\"checkbox\" ><label for=\"sk-estimator-id-175\" class=\"sk-toggleable__label sk-toggleable__label-arrow\">StandardScaler</label><div class=\"sk-toggleable__content\"><pre>StandardScaler()</pre></div></div></div></div></div></div><div class=\"sk-parallel-item\"><div class=\"sk-item\"><div class=\"sk-label-container\"><div class=\"sk-label sk-toggleable\"><input class=\"sk-toggleable__control sk-hidden--visually\" id=\"sk-estimator-id-176\" type=\"checkbox\" ><label for=\"sk-estimator-id-176\" class=\"sk-toggleable__label sk-toggleable__label-arrow\">standar_soon</label><div class=\"sk-toggleable__content\"><pre>[&#x27;CMNGSOON&#x27;]</pre></div></div></div><div class=\"sk-serial\"><div class=\"sk-item\"><div class=\"sk-estimator sk-toggleable\"><input class=\"sk-toggleable__control sk-hidden--visually\" id=\"sk-estimator-id-177\" type=\"checkbox\" ><label for=\"sk-estimator-id-177\" class=\"sk-toggleable__label sk-toggleable__label-arrow\">StandardScaler</label><div class=\"sk-toggleable__content\"><pre>StandardScaler()</pre></div></div></div></div></div></div><div class=\"sk-parallel-item\"><div class=\"sk-item\"><div class=\"sk-label-container\"><div class=\"sk-label sk-toggleable\"><input class=\"sk-toggleable__control sk-hidden--visually\" id=\"sk-estimator-id-178\" type=\"checkbox\" ><label for=\"sk-estimator-id-178\" class=\"sk-toggleable__label sk-toggleable__label-arrow\">standar_dango</label><div class=\"sk-toggleable__content\"><pre>[&#x27;FANDANGO&#x27;]</pre></div></div></div><div class=\"sk-serial\"><div class=\"sk-item\"><div class=\"sk-estimator sk-toggleable\"><input class=\"sk-toggleable__control sk-hidden--visually\" id=\"sk-estimator-id-179\" type=\"checkbox\" ><label for=\"sk-estimator-id-179\" class=\"sk-toggleable__label sk-toggleable__label-arrow\">StandardScaler</label><div class=\"sk-toggleable__content\"><pre>StandardScaler()</pre></div></div></div></div></div></div><div class=\"sk-parallel-item\"><div class=\"sk-item\"><div class=\"sk-label-container\"><div class=\"sk-label sk-toggleable\"><input class=\"sk-toggleable__control sk-hidden--visually\" id=\"sk-estimator-id-180\" type=\"checkbox\" ><label for=\"sk-estimator-id-180\" class=\"sk-toggleable__label sk-toggleable__label-arrow\">standar_wait</label><div class=\"sk-toggleable__content\"><pre>[&#x27;CNTWAIT3&#x27;]</pre></div></div></div><div class=\"sk-serial\"><div class=\"sk-item\"><div class=\"sk-estimator sk-toggleable\"><input class=\"sk-toggleable__control sk-hidden--visually\" id=\"sk-estimator-id-181\" type=\"checkbox\" ><label for=\"sk-estimator-id-181\" class=\"sk-toggleable__label sk-toggleable__label-arrow\">StandardScaler</label><div class=\"sk-toggleable__content\"><pre>StandardScaler()</pre></div></div></div></div></div></div></div></div><div class=\"sk-item\"><div class=\"sk-estimator sk-toggleable\"><input class=\"sk-toggleable__control sk-hidden--visually\" id=\"sk-estimator-id-182\" type=\"checkbox\" ><label for=\"sk-estimator-id-182\" class=\"sk-toggleable__label sk-toggleable__label-arrow\">RandomForestRegressor</label><div class=\"sk-toggleable__content\"><pre>RandomForestRegressor(n_estimators=400, random_state=1234)</pre></div></div></div></div></div></div></div></div></div></div></div></div></div></div></div></div></div>"
      ],
      "text/plain": [
       "RandomizedSearchCV(estimator=TransformedTargetRegressor(func=<function <lambda> at 0x0000013934B5CFE0>,\n",
       "                                                        inverse_func=<function <lambda> at 0x0000013934B5D080>,\n",
       "                                                        regressor=Pipeline(steps=[('preprocessor',\n",
       "                                                                                   ColumnTransformer(transformers=[('standar_budget',\n",
       "                                                                                                                    StandardScaler(),\n",
       "                                                                                                                    ['BUDGET']),\n",
       "                                                                                                                   ('standar_soon',\n",
       "                                                                                                                    StandardScaler(),\n",
       "                                                                                                                    ['CMNGSOON']),\n",
       "                                                                                                                   ('standar_dango',\n",
       "                                                                                                                    StandardScale...\n",
       "                                        'regressor__rf__min_samples_leaf': <scipy.stats._distn_infrastructure.rv_discrete_frozen object at 0x0000013934B56D10>,\n",
       "                                        'regressor__rf__min_samples_split': <scipy.stats._distn_infrastructure.rv_discrete_frozen object at 0x0000013934B56C10>,\n",
       "                                        'regressor__rf__n_estimators': <scipy.stats._distn_infrastructure.rv_discrete_frozen object at 0x0000013934A6BCD0>},\n",
       "                   scoring='neg_mean_absolute_error')"
      ]
     },
     "execution_count": 129,
     "metadata": {},
     "output_type": "execute_result"
    }
   ],
   "source": [
    "random_search_rf.fit(X_train, y_train)"
   ]
  },
  {
   "cell_type": "code",
   "execution_count": 130,
   "metadata": {},
   "outputs": [
    {
     "name": "stdout",
     "output_type": "stream",
     "text": [
      "Best parameters found:  {'regressor__rf__max_depth': 9, 'regressor__rf__min_samples_leaf': 2, 'regressor__rf__min_samples_split': 4, 'regressor__rf__n_estimators': 382}\n",
      "Best cross-validation score:  -10506.230041856857\n"
     ]
    }
   ],
   "source": [
    "print(\"Best parameters found: \", random_search_rf.best_params_)\n",
    "print(\"Best cross-validation score: \", random_search_rf.best_score_)\n",
    "best_model_rf = random_search_rf.best_estimator_"
   ]
  },
  {
   "cell_type": "code",
   "execution_count": 131,
   "metadata": {},
   "outputs": [
    {
     "name": "stdout",
     "output_type": "stream",
     "text": [
      "Mean Absolute Error: $4,387\n",
      "Mean Absolute Percentage Error: 34.88%\n"
     ]
    }
   ],
   "source": [
    "y_predict_best_rf = best_model_rf.predict(X_test)\n",
    "print(\"Mean Absolute Error: ${:,.0f}\".format(\n",
    "    mean_absolute_error(y_test, y_predict_best_rf))\n",
    "    )\n",
    "print(\"Mean Absolute Percentage Error: {:.2%}\".format(\n",
    "    mean_absolute_percentage_error(y_test, y_predict_best_rf)))"
   ]
  },
  {
   "cell_type": "code",
   "execution_count": null,
   "metadata": {},
   "outputs": [],
   "source": []
  },
  {
   "cell_type": "code",
   "execution_count": null,
   "metadata": {},
   "outputs": [],
   "source": []
  },
  {
   "cell_type": "markdown",
   "metadata": {},
   "source": [
    "* Consider the *regression problem*. \n",
    "* Suppose we fit a model to our training data $Z = \\{(x_1, y_1), (x_2, y_2), . . . , (x_N , y_N )\\}$, obtaining the prediction $\\hat{f}(x)$ at input $x$\n",
    "\n",
    "* Bootstrap aggregation or bagging averages this prediction over a collection of bootstrap samples, thereby reducing its variance\n",
    "\n",
    "* For each bootstrap sample $Z^{∗b}, b = 1, 2, . . . , B$, we fit our model, giving prediction $\\hat{f}^{∗b}$\n",
    "\n",
    "$$ {f_{\\text{bag}}}(x) = \\frac{1}{B} \\sum_{b = 1}^{B} \\hat{f^{*b}}(x)$$\n",
    "\n",
    "\n",
    "Denote by $\\hat{P}$ the empirical distribution putting equal probability $1/N$ on each of the data points $(x_i, y_i)$\n",
    "\n",
    "In fact the `true` bagging estimate is defined by $E_P[\\hat{f}^{∗}(x)]$, where $Z^∗ = {(x^{∗}_1, y^{∗}_1), (x^{∗}_2, y^{∗}_2), . . . , (x^{∗}_N , y^{∗}_N )}$ and each $(x_i^{*} , y_i^{∗}) ∼ \\hat{P}$. \n",
    "\n",
    "Expression is a Monte Carlo estimate of the true bagging estimate, approaching it as $B → ∞$\n",
    "\n",
    "For Regression tree where $\\hat{f}(x)$ denotes the tree’s prediction at input vector $x$ \n",
    "\n",
    "The bagged estimate is the average prediction at $x$ from these $B$ trees"
   ]
  },
  {
   "cell_type": "code",
   "execution_count": null,
   "metadata": {},
   "outputs": [],
   "source": [
    "from sklearn.tree import DecisionTreeRegressor, DecisionTreeClassifier\n",
    "import numpy as np\n",
    "import matplotlib.pyplot as plt\n",
    "import pandas as pd\n",
    "from sklearn import model_selection"
   ]
  },
  {
   "cell_type": "code",
   "execution_count": null,
   "metadata": {},
   "outputs": [],
   "source": [
    "# Data Simulation\n",
    "x = np.random.randn(1_000, 1)\n",
    "f = 9*np.sin(x)\n",
    "e = 3*np.random.randn(1_000)\n",
    "y = f.flatten() + e\n",
    "\n",
    "# split data\n",
    "x_train, x_test, y_train, y_test = model_selection.train_test_split(\n",
    "    x, y, random_state=123, test_size=0.25)\n",
    "# fitting a model tree for each bag"
   ]
  },
  {
   "cell_type": "code",
   "execution_count": null,
   "metadata": {},
   "outputs": [],
   "source": [
    "# np.random.choice(x_train, size=10, replace=True)\n",
    "indices = np.indices((x_train.shape[0],))\n",
    "indices = indices.flatten()"
   ]
  },
  {
   "cell_type": "code",
   "execution_count": null,
   "metadata": {},
   "outputs": [],
   "source": [
    "bagging_indices = np.random.choice(indices, size=x_train.shape[0], replace=True)"
   ]
  },
  {
   "cell_type": "code",
   "execution_count": null,
   "metadata": {},
   "outputs": [],
   "source": [
    "trees_predicts = []\n",
    "b = 20\n",
    "while b >=1:\n",
    "    bagging_indices = np.random.choice(indices, size=x_train.shape[0], replace=True)\n",
    "    x_bagging = x_train[bagging_indices, :]\n",
    "    y_bagging = y_train[bagging_indices]\n",
    "    tree = DecisionTreeRegressor() \n",
    "    tree.fit(x_bagging, y_bagging)\n",
    "    # Predicts using the tree model\n",
    "    x_predict_bagging = tree.predict(x_test)\n",
    "    # reshape in order to concatenate for data test\n",
    "    trees_predicts.append(np.reshape(x_predict_bagging,  (-1, 1)))\n",
    "    b-=1\n",
    "    \n",
    "# compute the mean of the prediction\n",
    "trees_predicts_df=pd.DataFrame(np.hstack(trees_predicts))\n",
    "predict_bagging = np.hstack(trees_predicts).mean(axis=1)"
   ]
  },
  {
   "cell_type": "code",
   "execution_count": null,
   "metadata": {},
   "outputs": [
    {
     "data": {
      "image/png": "[encoded data removed]",
      "text/plain": [
       "<Figure size 1000x600 with 1 Axes>"
      ]
     },
     "metadata": {},
     "output_type": "display_data"
    }
   ],
   "source": [
    "fig, ax= plt.subplots(figsize = (10, 6))\n",
    "\n",
    "labels = ['True values', 'Predict Bagging']\n",
    "colors = [(197/255, 196/255, 196/255), (197/255, 67/255, 67/255)]\n",
    "variables = [y_test, predict_bagging]\n",
    "\n",
    "for label, color, variable in zip(labels, colors, variables):\n",
    "    ax.scatter(x_test.flatten(), variable, alpha = 0.7, label = label, color=color)\n",
    "\n",
    "# --> Plot the maximun and minimun \n",
    "# 1. Get Max an Min of the predicts (quantile(0) is the minimun and quantile(1) is the maximun)\n",
    "quantiles = trees_predicts_df.quantile([0,  1], axis=1).T\n",
    "# 2. The outcome values is passed like index\n",
    "quantiles.index = x_test.flatten()\n",
    "# 3. Sort the by index, that is (by outcome values)\n",
    "quantiles.sort_index(axis=0, ascending=True, inplace=True)\n",
    "# 4. plot the maximun and minimun values by the outcomes \n",
    "ax.plot(quantiles.index, quantiles[0], 'b--', alpha = 0.4)\n",
    "ax.plot(quantiles.index, quantiles[1],  'b--', alpha = 0.4)\n",
    "ax.legend();"
   ]
  },
  {
   "cell_type": "markdown",
   "metadata": {},
   "source": [
    "Now suppose our tree produces a classifier $\\hat{G}(x)$ for a $K$-class response. \n",
    "\n",
    "Here it is useful to consider an underlying indicator-vector function $\\hat{f}(x)$, with value a single one and $K − 1$ zeroes, such that $\\hat{G}(x) = \\arg\\max_k \\hat{f}(x)$. \n",
    "\n",
    "Then the bagged estimate $\\hat{f}_{\\text{bag}}(x)$ is a $K$-vector $[p_1(x), p_2(x), . . . , p_K(x)]$, with $p_k(x)$ equal to the proportion of trees predicting class $k$ at x. \n",
    "\n",
    "The bagged classifier selects the class with the most “votes” from the B trees, $\\hat{G}_{\\text{bag}}(x) = \\arg\\max_k \\hat{f}_{\\text{bag}}(x) $"
   ]
  },
  {
   "cell_type": "code",
   "execution_count": null,
   "metadata": {},
   "outputs": [],
   "source": [
    "# Load the data\n",
    "data_crime = pd.read_stata(r'data_dta/CRIME1.dta')\n",
    "\n",
    "# Generate the variable arr86, where a person is labeled equal to 0, if he has not committed a crime in 1986\n",
    "# otherwise 1.\n",
    "data_crime['arr86'] = np.where(data_crime.narr86>0,1, 0 )\n",
    "\n",
    "# Selecting the features and target\n",
    "features= ['pcnv', 'avgsen', 'tottime', 'ptime86', 'qemp86']\n",
    "target = 'arr86'\n",
    "\n",
    "# split data\n",
    "data_crime_train, data_crime_test = model_selection.train_test_split(data_crime, random_state=123, test_size=0.25)\n",
    "\n",
    "# fitting a model tree for each bag \n",
    "trees = []\n",
    "class_votes = np.zeros(shape=(data_crime_test.shape[0], 2))\n",
    "size_bag = b = 200\n",
    "while b>=0:\n",
    "    bag = data_crime_train.sample(n = data_crime_train.shape[0], replace=True)\n",
    "    tree = DecisionTreeClassifier() \n",
    "    # trees.append(tree.fit(bag[features], bag[target]))\n",
    "    tree.fit(bag[features], bag[target])\n",
    "    #   [0, 1]\n",
    "    tree_predict = tree.predict_proba(data_crime_test[features])\n",
    "    predicts = np.where(tree_predict>=0.5, 1, 0)\n",
    "    class_votes += predicts\n",
    "    b-=1"
   ]
  },
  {
   "cell_type": "code",
   "execution_count": null,
   "metadata": {},
   "outputs": [],
   "source": [
    "# class_votes is vector with 2 shape\n",
    "# Recall, predicts_proba are like [0.01, 2.1]\n",
    "# argmax choose the index thta have the max value between the two,\n",
    "# The index coincide match with the class\n",
    "y_predicts = np.argmax(class_votes/size_bag, axis=1) "
   ]
  },
  {
   "cell_type": "code",
   "execution_count": null,
   "metadata": {},
   "outputs": [
    {
     "data": {
      "text/plain": [
       "0.7228739002932552"
      ]
     },
     "metadata": {},
     "output_type": "display_data"
    }
   ],
   "source": [
    "np.mean(y_predicts == data_crime_test[target].values)"
   ]
  },
  {
   "attachments": {},
   "cell_type": "markdown",
   "metadata": {},
   "source": [
    "# References\n",
    "\n",
    "  1. Trevor Hastie, Robert Tibshirani, Jerome Friedman - The Elements of Statistical Learning Data Mining, Inference, and Prediction\n",
    "\n",
    "  2. Robert V. Hogg -  Introduction to Mathematical Statistics\n",
    "\n",
    "  3. [StatQuest with Josh Starmer -> YouTube](https://www.youtube.com/watch?v=sQ870aTKqiM)\n",
    "\n",
    "  4. [AdaBoost, Clearly Explained](https://www.youtube.com/watch?v=LsK-xG1cLYA)\n"
   ]
  }
 ],
 "metadata": {
  "kernelspec": {
   "display_name": "Python 3 (ipykernel)",
   "language": "python",
   "name": "python3"
  },
  "language_info": {
   "codemirror_mode": {
    "name": "ipython",
    "version": 3
   },
   "file_extension": ".py",
   "mimetype": "text/x-python",
   "name": "python",
   "nbconvert_exporter": "python",
   "pygments_lexer": "ipython3",
   "version": "3.11.7"
  },
  "vscode": {
   "interpreter": {
    "hash": "369f2c481f4da34e4445cda3fffd2e751bd1c4d706f27375911949ba6bb62e1c"
   }
  }
 },
 "nbformat": 4,
 "nbformat_minor": 2
}
